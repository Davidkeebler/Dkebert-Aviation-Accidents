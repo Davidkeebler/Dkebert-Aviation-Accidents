{
 "cells": [
  {
   "cell_type": "code",
   "execution_count": 1,
   "metadata": {},
   "outputs": [],
   "source": [
    "### import packages\n",
    "import pandas as pd\n",
    "import seaborn as sns\n",
    "import matplotlib.pyplot as plt\n",
    "%matplotlib inline"
   ]
  },
  {
   "cell_type": "code",
   "execution_count": 2,
   "metadata": {},
   "outputs": [],
   "source": [
    "### load csv into dataframe\n",
    "df = pd.read_csv('data/Aviation_Data.csv', low_memory=False)"
   ]
  },
  {
   "cell_type": "code",
   "execution_count": 3,
   "metadata": {},
   "outputs": [
    {
     "data": {
      "text/html": [
       "<div>\n",
       "<style scoped>\n",
       "    .dataframe tbody tr th:only-of-type {\n",
       "        vertical-align: middle;\n",
       "    }\n",
       "\n",
       "    .dataframe tbody tr th {\n",
       "        vertical-align: top;\n",
       "    }\n",
       "\n",
       "    .dataframe thead th {\n",
       "        text-align: right;\n",
       "    }\n",
       "</style>\n",
       "<table border=\"1\" class=\"dataframe\">\n",
       "  <thead>\n",
       "    <tr style=\"text-align: right;\">\n",
       "      <th></th>\n",
       "      <th>Event.Id</th>\n",
       "      <th>Investigation.Type</th>\n",
       "      <th>Accident.Number</th>\n",
       "      <th>Event.Date</th>\n",
       "      <th>Location</th>\n",
       "      <th>Country</th>\n",
       "      <th>Latitude</th>\n",
       "      <th>Longitude</th>\n",
       "      <th>Airport.Code</th>\n",
       "      <th>Airport.Name</th>\n",
       "      <th>...</th>\n",
       "      <th>Purpose.of.flight</th>\n",
       "      <th>Air.carrier</th>\n",
       "      <th>Total.Fatal.Injuries</th>\n",
       "      <th>Total.Serious.Injuries</th>\n",
       "      <th>Total.Minor.Injuries</th>\n",
       "      <th>Total.Uninjured</th>\n",
       "      <th>Weather.Condition</th>\n",
       "      <th>Broad.phase.of.flight</th>\n",
       "      <th>Report.Status</th>\n",
       "      <th>Publication.Date</th>\n",
       "    </tr>\n",
       "  </thead>\n",
       "  <tbody>\n",
       "    <tr>\n",
       "      <th>0</th>\n",
       "      <td>20001218X45444</td>\n",
       "      <td>Accident</td>\n",
       "      <td>SEA87LA080</td>\n",
       "      <td>1948-10-24</td>\n",
       "      <td>MOOSE CREEK, ID</td>\n",
       "      <td>United States</td>\n",
       "      <td>NaN</td>\n",
       "      <td>NaN</td>\n",
       "      <td>NaN</td>\n",
       "      <td>NaN</td>\n",
       "      <td>...</td>\n",
       "      <td>Personal</td>\n",
       "      <td>NaN</td>\n",
       "      <td>2.0</td>\n",
       "      <td>0.0</td>\n",
       "      <td>0.0</td>\n",
       "      <td>0.0</td>\n",
       "      <td>UNK</td>\n",
       "      <td>Cruise</td>\n",
       "      <td>Probable Cause</td>\n",
       "      <td>NaN</td>\n",
       "    </tr>\n",
       "    <tr>\n",
       "      <th>1</th>\n",
       "      <td>20001218X45447</td>\n",
       "      <td>Accident</td>\n",
       "      <td>LAX94LA336</td>\n",
       "      <td>1962-07-19</td>\n",
       "      <td>BRIDGEPORT, CA</td>\n",
       "      <td>United States</td>\n",
       "      <td>NaN</td>\n",
       "      <td>NaN</td>\n",
       "      <td>NaN</td>\n",
       "      <td>NaN</td>\n",
       "      <td>...</td>\n",
       "      <td>Personal</td>\n",
       "      <td>NaN</td>\n",
       "      <td>4.0</td>\n",
       "      <td>0.0</td>\n",
       "      <td>0.0</td>\n",
       "      <td>0.0</td>\n",
       "      <td>UNK</td>\n",
       "      <td>Unknown</td>\n",
       "      <td>Probable Cause</td>\n",
       "      <td>19-09-1996</td>\n",
       "    </tr>\n",
       "    <tr>\n",
       "      <th>2</th>\n",
       "      <td>20061025X01555</td>\n",
       "      <td>Accident</td>\n",
       "      <td>NYC07LA005</td>\n",
       "      <td>1974-08-30</td>\n",
       "      <td>Saltville, VA</td>\n",
       "      <td>United States</td>\n",
       "      <td>36.922223</td>\n",
       "      <td>-81.878056</td>\n",
       "      <td>NaN</td>\n",
       "      <td>NaN</td>\n",
       "      <td>...</td>\n",
       "      <td>Personal</td>\n",
       "      <td>NaN</td>\n",
       "      <td>3.0</td>\n",
       "      <td>NaN</td>\n",
       "      <td>NaN</td>\n",
       "      <td>NaN</td>\n",
       "      <td>IMC</td>\n",
       "      <td>Cruise</td>\n",
       "      <td>Probable Cause</td>\n",
       "      <td>26-02-2007</td>\n",
       "    </tr>\n",
       "    <tr>\n",
       "      <th>3</th>\n",
       "      <td>20001218X45448</td>\n",
       "      <td>Accident</td>\n",
       "      <td>LAX96LA321</td>\n",
       "      <td>1977-06-19</td>\n",
       "      <td>EUREKA, CA</td>\n",
       "      <td>United States</td>\n",
       "      <td>NaN</td>\n",
       "      <td>NaN</td>\n",
       "      <td>NaN</td>\n",
       "      <td>NaN</td>\n",
       "      <td>...</td>\n",
       "      <td>Personal</td>\n",
       "      <td>NaN</td>\n",
       "      <td>2.0</td>\n",
       "      <td>0.0</td>\n",
       "      <td>0.0</td>\n",
       "      <td>0.0</td>\n",
       "      <td>IMC</td>\n",
       "      <td>Cruise</td>\n",
       "      <td>Probable Cause</td>\n",
       "      <td>12-09-2000</td>\n",
       "    </tr>\n",
       "    <tr>\n",
       "      <th>4</th>\n",
       "      <td>20041105X01764</td>\n",
       "      <td>Accident</td>\n",
       "      <td>CHI79FA064</td>\n",
       "      <td>1979-08-02</td>\n",
       "      <td>Canton, OH</td>\n",
       "      <td>United States</td>\n",
       "      <td>NaN</td>\n",
       "      <td>NaN</td>\n",
       "      <td>NaN</td>\n",
       "      <td>NaN</td>\n",
       "      <td>...</td>\n",
       "      <td>Personal</td>\n",
       "      <td>NaN</td>\n",
       "      <td>1.0</td>\n",
       "      <td>2.0</td>\n",
       "      <td>NaN</td>\n",
       "      <td>0.0</td>\n",
       "      <td>VMC</td>\n",
       "      <td>Approach</td>\n",
       "      <td>Probable Cause</td>\n",
       "      <td>16-04-1980</td>\n",
       "    </tr>\n",
       "    <tr>\n",
       "      <th>...</th>\n",
       "      <td>...</td>\n",
       "      <td>...</td>\n",
       "      <td>...</td>\n",
       "      <td>...</td>\n",
       "      <td>...</td>\n",
       "      <td>...</td>\n",
       "      <td>...</td>\n",
       "      <td>...</td>\n",
       "      <td>...</td>\n",
       "      <td>...</td>\n",
       "      <td>...</td>\n",
       "      <td>...</td>\n",
       "      <td>...</td>\n",
       "      <td>...</td>\n",
       "      <td>...</td>\n",
       "      <td>...</td>\n",
       "      <td>...</td>\n",
       "      <td>...</td>\n",
       "      <td>...</td>\n",
       "      <td>...</td>\n",
       "      <td>...</td>\n",
       "    </tr>\n",
       "    <tr>\n",
       "      <th>90343</th>\n",
       "      <td>20221227106491</td>\n",
       "      <td>Accident</td>\n",
       "      <td>ERA23LA093</td>\n",
       "      <td>2022-12-26</td>\n",
       "      <td>Annapolis, MD</td>\n",
       "      <td>United States</td>\n",
       "      <td>NaN</td>\n",
       "      <td>NaN</td>\n",
       "      <td>NaN</td>\n",
       "      <td>NaN</td>\n",
       "      <td>...</td>\n",
       "      <td>Personal</td>\n",
       "      <td>NaN</td>\n",
       "      <td>0.0</td>\n",
       "      <td>1.0</td>\n",
       "      <td>0.0</td>\n",
       "      <td>0.0</td>\n",
       "      <td>NaN</td>\n",
       "      <td>NaN</td>\n",
       "      <td>NaN</td>\n",
       "      <td>29-12-2022</td>\n",
       "    </tr>\n",
       "    <tr>\n",
       "      <th>90344</th>\n",
       "      <td>20221227106494</td>\n",
       "      <td>Accident</td>\n",
       "      <td>ERA23LA095</td>\n",
       "      <td>2022-12-26</td>\n",
       "      <td>Hampton, NH</td>\n",
       "      <td>United States</td>\n",
       "      <td>NaN</td>\n",
       "      <td>NaN</td>\n",
       "      <td>NaN</td>\n",
       "      <td>NaN</td>\n",
       "      <td>...</td>\n",
       "      <td>NaN</td>\n",
       "      <td>NaN</td>\n",
       "      <td>0.0</td>\n",
       "      <td>0.0</td>\n",
       "      <td>0.0</td>\n",
       "      <td>0.0</td>\n",
       "      <td>NaN</td>\n",
       "      <td>NaN</td>\n",
       "      <td>NaN</td>\n",
       "      <td>NaN</td>\n",
       "    </tr>\n",
       "    <tr>\n",
       "      <th>90345</th>\n",
       "      <td>20221227106497</td>\n",
       "      <td>Accident</td>\n",
       "      <td>WPR23LA075</td>\n",
       "      <td>2022-12-26</td>\n",
       "      <td>Payson, AZ</td>\n",
       "      <td>United States</td>\n",
       "      <td>341525N</td>\n",
       "      <td>1112021W</td>\n",
       "      <td>PAN</td>\n",
       "      <td>PAYSON</td>\n",
       "      <td>...</td>\n",
       "      <td>Personal</td>\n",
       "      <td>NaN</td>\n",
       "      <td>0.0</td>\n",
       "      <td>0.0</td>\n",
       "      <td>0.0</td>\n",
       "      <td>1.0</td>\n",
       "      <td>VMC</td>\n",
       "      <td>NaN</td>\n",
       "      <td>NaN</td>\n",
       "      <td>27-12-2022</td>\n",
       "    </tr>\n",
       "    <tr>\n",
       "      <th>90346</th>\n",
       "      <td>20221227106498</td>\n",
       "      <td>Accident</td>\n",
       "      <td>WPR23LA076</td>\n",
       "      <td>2022-12-26</td>\n",
       "      <td>Morgan, UT</td>\n",
       "      <td>United States</td>\n",
       "      <td>NaN</td>\n",
       "      <td>NaN</td>\n",
       "      <td>NaN</td>\n",
       "      <td>NaN</td>\n",
       "      <td>...</td>\n",
       "      <td>Personal</td>\n",
       "      <td>MC CESSNA 210N LLC</td>\n",
       "      <td>0.0</td>\n",
       "      <td>0.0</td>\n",
       "      <td>0.0</td>\n",
       "      <td>0.0</td>\n",
       "      <td>NaN</td>\n",
       "      <td>NaN</td>\n",
       "      <td>NaN</td>\n",
       "      <td>NaN</td>\n",
       "    </tr>\n",
       "    <tr>\n",
       "      <th>90347</th>\n",
       "      <td>20221230106513</td>\n",
       "      <td>Accident</td>\n",
       "      <td>ERA23LA097</td>\n",
       "      <td>2022-12-29</td>\n",
       "      <td>Athens, GA</td>\n",
       "      <td>United States</td>\n",
       "      <td>NaN</td>\n",
       "      <td>NaN</td>\n",
       "      <td>NaN</td>\n",
       "      <td>NaN</td>\n",
       "      <td>...</td>\n",
       "      <td>Personal</td>\n",
       "      <td>NaN</td>\n",
       "      <td>0.0</td>\n",
       "      <td>1.0</td>\n",
       "      <td>0.0</td>\n",
       "      <td>1.0</td>\n",
       "      <td>NaN</td>\n",
       "      <td>NaN</td>\n",
       "      <td>NaN</td>\n",
       "      <td>30-12-2022</td>\n",
       "    </tr>\n",
       "  </tbody>\n",
       "</table>\n",
       "<p>90348 rows × 31 columns</p>\n",
       "</div>"
      ],
      "text/plain": [
       "             Event.Id Investigation.Type Accident.Number  Event.Date  \\\n",
       "0      20001218X45444           Accident      SEA87LA080  1948-10-24   \n",
       "1      20001218X45447           Accident      LAX94LA336  1962-07-19   \n",
       "2      20061025X01555           Accident      NYC07LA005  1974-08-30   \n",
       "3      20001218X45448           Accident      LAX96LA321  1977-06-19   \n",
       "4      20041105X01764           Accident      CHI79FA064  1979-08-02   \n",
       "...               ...                ...             ...         ...   \n",
       "90343  20221227106491           Accident      ERA23LA093  2022-12-26   \n",
       "90344  20221227106494           Accident      ERA23LA095  2022-12-26   \n",
       "90345  20221227106497           Accident      WPR23LA075  2022-12-26   \n",
       "90346  20221227106498           Accident      WPR23LA076  2022-12-26   \n",
       "90347  20221230106513           Accident      ERA23LA097  2022-12-29   \n",
       "\n",
       "              Location        Country   Latitude   Longitude Airport.Code  \\\n",
       "0      MOOSE CREEK, ID  United States        NaN         NaN          NaN   \n",
       "1       BRIDGEPORT, CA  United States        NaN         NaN          NaN   \n",
       "2        Saltville, VA  United States  36.922223  -81.878056          NaN   \n",
       "3           EUREKA, CA  United States        NaN         NaN          NaN   \n",
       "4           Canton, OH  United States        NaN         NaN          NaN   \n",
       "...                ...            ...        ...         ...          ...   \n",
       "90343    Annapolis, MD  United States        NaN         NaN          NaN   \n",
       "90344      Hampton, NH  United States        NaN         NaN          NaN   \n",
       "90345       Payson, AZ  United States    341525N    1112021W          PAN   \n",
       "90346       Morgan, UT  United States        NaN         NaN          NaN   \n",
       "90347       Athens, GA  United States        NaN         NaN          NaN   \n",
       "\n",
       "      Airport.Name  ... Purpose.of.flight         Air.carrier  \\\n",
       "0              NaN  ...          Personal                 NaN   \n",
       "1              NaN  ...          Personal                 NaN   \n",
       "2              NaN  ...          Personal                 NaN   \n",
       "3              NaN  ...          Personal                 NaN   \n",
       "4              NaN  ...          Personal                 NaN   \n",
       "...            ...  ...               ...                 ...   \n",
       "90343          NaN  ...          Personal                 NaN   \n",
       "90344          NaN  ...               NaN                 NaN   \n",
       "90345       PAYSON  ...          Personal                 NaN   \n",
       "90346          NaN  ...          Personal  MC CESSNA 210N LLC   \n",
       "90347          NaN  ...          Personal                 NaN   \n",
       "\n",
       "      Total.Fatal.Injuries Total.Serious.Injuries Total.Minor.Injuries  \\\n",
       "0                      2.0                    0.0                  0.0   \n",
       "1                      4.0                    0.0                  0.0   \n",
       "2                      3.0                    NaN                  NaN   \n",
       "3                      2.0                    0.0                  0.0   \n",
       "4                      1.0                    2.0                  NaN   \n",
       "...                    ...                    ...                  ...   \n",
       "90343                  0.0                    1.0                  0.0   \n",
       "90344                  0.0                    0.0                  0.0   \n",
       "90345                  0.0                    0.0                  0.0   \n",
       "90346                  0.0                    0.0                  0.0   \n",
       "90347                  0.0                    1.0                  0.0   \n",
       "\n",
       "      Total.Uninjured Weather.Condition  Broad.phase.of.flight  \\\n",
       "0                 0.0               UNK                 Cruise   \n",
       "1                 0.0               UNK                Unknown   \n",
       "2                 NaN               IMC                 Cruise   \n",
       "3                 0.0               IMC                 Cruise   \n",
       "4                 0.0               VMC               Approach   \n",
       "...               ...               ...                    ...   \n",
       "90343             0.0               NaN                    NaN   \n",
       "90344             0.0               NaN                    NaN   \n",
       "90345             1.0               VMC                    NaN   \n",
       "90346             0.0               NaN                    NaN   \n",
       "90347             1.0               NaN                    NaN   \n",
       "\n",
       "        Report.Status Publication.Date  \n",
       "0      Probable Cause              NaN  \n",
       "1      Probable Cause       19-09-1996  \n",
       "2      Probable Cause       26-02-2007  \n",
       "3      Probable Cause       12-09-2000  \n",
       "4      Probable Cause       16-04-1980  \n",
       "...               ...              ...  \n",
       "90343             NaN       29-12-2022  \n",
       "90344             NaN              NaN  \n",
       "90345             NaN       27-12-2022  \n",
       "90346             NaN              NaN  \n",
       "90347             NaN       30-12-2022  \n",
       "\n",
       "[90348 rows x 31 columns]"
      ]
     },
     "execution_count": 3,
     "metadata": {},
     "output_type": "execute_result"
    }
   ],
   "source": [
    "df"
   ]
  },
  {
   "cell_type": "code",
   "execution_count": 4,
   "metadata": {},
   "outputs": [
    {
     "data": {
      "text/plain": [
       "Event.Id                   1459\n",
       "Investigation.Type            0\n",
       "Accident.Number            1459\n",
       "Event.Date                 1459\n",
       "Location                   1511\n",
       "Country                    1685\n",
       "Latitude                  55966\n",
       "Longitude                 55975\n",
       "Airport.Code              40099\n",
       "Airport.Name              37558\n",
       "Injury.Severity            2459\n",
       "Aircraft.damage            4653\n",
       "Aircraft.Category         58061\n",
       "Registration.Number        2776\n",
       "Make                       1522\n",
       "Model                      1551\n",
       "Amateur.Built              1561\n",
       "Number.of.Engines          7543\n",
       "Engine.Type                8536\n",
       "FAR.Description           58325\n",
       "Schedule                  77766\n",
       "Purpose.of.flight          7651\n",
       "Air.carrier               73700\n",
       "Total.Fatal.Injuries      12860\n",
       "Total.Serious.Injuries    13969\n",
       "Total.Minor.Injuries      13392\n",
       "Total.Uninjured            7371\n",
       "Weather.Condition          5951\n",
       "Broad.phase.of.flight     28624\n",
       "Report.Status              7840\n",
       "Publication.Date          16689\n",
       "dtype: int64"
      ]
     },
     "execution_count": 4,
     "metadata": {},
     "output_type": "execute_result"
    }
   ],
   "source": [
    "### find total number of NaN entries in each column\n",
    "df.isna().sum()"
   ]
  },
  {
   "cell_type": "code",
   "execution_count": 5,
   "metadata": {},
   "outputs": [
    {
     "data": {
      "text/plain": [
       "False    88958\n",
       "True      1390\n",
       "dtype: int64"
      ]
     },
     "execution_count": 5,
     "metadata": {},
     "output_type": "execute_result"
    }
   ],
   "source": [
    "### find total number of duplicate rows\n",
    "df.duplicated().value_counts()"
   ]
  },
  {
   "cell_type": "code",
   "execution_count": 6,
   "metadata": {},
   "outputs": [
    {
     "data": {
      "text/plain": [
       "False    88958\n",
       "dtype: int64"
      ]
     },
     "execution_count": 6,
     "metadata": {},
     "output_type": "execute_result"
    }
   ],
   "source": [
    "### drop all duplicate rows and confirm there are no more duplicates\n",
    "df = df.drop_duplicates()\n",
    "df.duplicated().value_counts()"
   ]
  },
  {
   "cell_type": "code",
   "execution_count": 7,
   "metadata": {},
   "outputs": [
    {
     "data": {
      "text/html": [
       "<div>\n",
       "<style scoped>\n",
       "    .dataframe tbody tr th:only-of-type {\n",
       "        vertical-align: middle;\n",
       "    }\n",
       "\n",
       "    .dataframe tbody tr th {\n",
       "        vertical-align: top;\n",
       "    }\n",
       "\n",
       "    .dataframe thead th {\n",
       "        text-align: right;\n",
       "    }\n",
       "</style>\n",
       "<table border=\"1\" class=\"dataframe\">\n",
       "  <thead>\n",
       "    <tr style=\"text-align: right;\">\n",
       "      <th></th>\n",
       "      <th>Event.Id</th>\n",
       "      <th>Investigation.Type</th>\n",
       "      <th>Accident.Number</th>\n",
       "      <th>Event.Date</th>\n",
       "      <th>Location</th>\n",
       "      <th>Country</th>\n",
       "      <th>Latitude</th>\n",
       "      <th>Longitude</th>\n",
       "      <th>Airport.Code</th>\n",
       "      <th>Airport.Name</th>\n",
       "      <th>...</th>\n",
       "      <th>Purpose.of.flight</th>\n",
       "      <th>Air.carrier</th>\n",
       "      <th>Total.Fatal.Injuries</th>\n",
       "      <th>Total.Serious.Injuries</th>\n",
       "      <th>Total.Minor.Injuries</th>\n",
       "      <th>Total.Uninjured</th>\n",
       "      <th>Weather.Condition</th>\n",
       "      <th>Broad.phase.of.flight</th>\n",
       "      <th>Report.Status</th>\n",
       "      <th>Publication.Date</th>\n",
       "    </tr>\n",
       "  </thead>\n",
       "  <tbody>\n",
       "    <tr>\n",
       "      <th>64030</th>\n",
       "      <td>NaN</td>\n",
       "      <td>25-09-2020</td>\n",
       "      <td>NaN</td>\n",
       "      <td>NaN</td>\n",
       "      <td>NaN</td>\n",
       "      <td>NaN</td>\n",
       "      <td>NaN</td>\n",
       "      <td>NaN</td>\n",
       "      <td>NaN</td>\n",
       "      <td>NaN</td>\n",
       "      <td>...</td>\n",
       "      <td>NaN</td>\n",
       "      <td>NaN</td>\n",
       "      <td>NaN</td>\n",
       "      <td>NaN</td>\n",
       "      <td>NaN</td>\n",
       "      <td>NaN</td>\n",
       "      <td>NaN</td>\n",
       "      <td>NaN</td>\n",
       "      <td>NaN</td>\n",
       "      <td>NaN</td>\n",
       "    </tr>\n",
       "    <tr>\n",
       "      <th>69843</th>\n",
       "      <td>NaN</td>\n",
       "      <td>14-06-2021</td>\n",
       "      <td>NaN</td>\n",
       "      <td>NaN</td>\n",
       "      <td>NaN</td>\n",
       "      <td>NaN</td>\n",
       "      <td>NaN</td>\n",
       "      <td>NaN</td>\n",
       "      <td>NaN</td>\n",
       "      <td>NaN</td>\n",
       "      <td>...</td>\n",
       "      <td>NaN</td>\n",
       "      <td>NaN</td>\n",
       "      <td>NaN</td>\n",
       "      <td>NaN</td>\n",
       "      <td>NaN</td>\n",
       "      <td>NaN</td>\n",
       "      <td>NaN</td>\n",
       "      <td>NaN</td>\n",
       "      <td>NaN</td>\n",
       "      <td>NaN</td>\n",
       "    </tr>\n",
       "    <tr>\n",
       "      <th>74420</th>\n",
       "      <td>NaN</td>\n",
       "      <td>03-11-2020</td>\n",
       "      <td>NaN</td>\n",
       "      <td>NaN</td>\n",
       "      <td>NaN</td>\n",
       "      <td>NaN</td>\n",
       "      <td>NaN</td>\n",
       "      <td>NaN</td>\n",
       "      <td>NaN</td>\n",
       "      <td>NaN</td>\n",
       "      <td>...</td>\n",
       "      <td>NaN</td>\n",
       "      <td>NaN</td>\n",
       "      <td>NaN</td>\n",
       "      <td>NaN</td>\n",
       "      <td>NaN</td>\n",
       "      <td>NaN</td>\n",
       "      <td>NaN</td>\n",
       "      <td>NaN</td>\n",
       "      <td>NaN</td>\n",
       "      <td>NaN</td>\n",
       "    </tr>\n",
       "    <tr>\n",
       "      <th>74946</th>\n",
       "      <td>NaN</td>\n",
       "      <td>24-02-2021</td>\n",
       "      <td>NaN</td>\n",
       "      <td>NaN</td>\n",
       "      <td>NaN</td>\n",
       "      <td>NaN</td>\n",
       "      <td>NaN</td>\n",
       "      <td>NaN</td>\n",
       "      <td>NaN</td>\n",
       "      <td>NaN</td>\n",
       "      <td>...</td>\n",
       "      <td>NaN</td>\n",
       "      <td>NaN</td>\n",
       "      <td>NaN</td>\n",
       "      <td>NaN</td>\n",
       "      <td>NaN</td>\n",
       "      <td>NaN</td>\n",
       "      <td>NaN</td>\n",
       "      <td>NaN</td>\n",
       "      <td>NaN</td>\n",
       "      <td>NaN</td>\n",
       "    </tr>\n",
       "    <tr>\n",
       "      <th>75894</th>\n",
       "      <td>NaN</td>\n",
       "      <td>02-02-2021</td>\n",
       "      <td>NaN</td>\n",
       "      <td>NaN</td>\n",
       "      <td>NaN</td>\n",
       "      <td>NaN</td>\n",
       "      <td>NaN</td>\n",
       "      <td>NaN</td>\n",
       "      <td>NaN</td>\n",
       "      <td>NaN</td>\n",
       "      <td>...</td>\n",
       "      <td>NaN</td>\n",
       "      <td>NaN</td>\n",
       "      <td>NaN</td>\n",
       "      <td>NaN</td>\n",
       "      <td>NaN</td>\n",
       "      <td>NaN</td>\n",
       "      <td>NaN</td>\n",
       "      <td>NaN</td>\n",
       "      <td>NaN</td>\n",
       "      <td>NaN</td>\n",
       "    </tr>\n",
       "    <tr>\n",
       "      <th>...</th>\n",
       "      <td>...</td>\n",
       "      <td>...</td>\n",
       "      <td>...</td>\n",
       "      <td>...</td>\n",
       "      <td>...</td>\n",
       "      <td>...</td>\n",
       "      <td>...</td>\n",
       "      <td>...</td>\n",
       "      <td>...</td>\n",
       "      <td>...</td>\n",
       "      <td>...</td>\n",
       "      <td>...</td>\n",
       "      <td>...</td>\n",
       "      <td>...</td>\n",
       "      <td>...</td>\n",
       "      <td>...</td>\n",
       "      <td>...</td>\n",
       "      <td>...</td>\n",
       "      <td>...</td>\n",
       "      <td>...</td>\n",
       "      <td>...</td>\n",
       "    </tr>\n",
       "    <tr>\n",
       "      <th>89440</th>\n",
       "      <td>NaN</td>\n",
       "      <td>02-12-2022</td>\n",
       "      <td>NaN</td>\n",
       "      <td>NaN</td>\n",
       "      <td>NaN</td>\n",
       "      <td>NaN</td>\n",
       "      <td>NaN</td>\n",
       "      <td>NaN</td>\n",
       "      <td>NaN</td>\n",
       "      <td>NaN</td>\n",
       "      <td>...</td>\n",
       "      <td>NaN</td>\n",
       "      <td>NaN</td>\n",
       "      <td>NaN</td>\n",
       "      <td>NaN</td>\n",
       "      <td>NaN</td>\n",
       "      <td>NaN</td>\n",
       "      <td>NaN</td>\n",
       "      <td>NaN</td>\n",
       "      <td>NaN</td>\n",
       "      <td>NaN</td>\n",
       "    </tr>\n",
       "    <tr>\n",
       "      <th>89492</th>\n",
       "      <td>NaN</td>\n",
       "      <td>05-08-2022</td>\n",
       "      <td>NaN</td>\n",
       "      <td>NaN</td>\n",
       "      <td>NaN</td>\n",
       "      <td>NaN</td>\n",
       "      <td>NaN</td>\n",
       "      <td>NaN</td>\n",
       "      <td>NaN</td>\n",
       "      <td>NaN</td>\n",
       "      <td>...</td>\n",
       "      <td>NaN</td>\n",
       "      <td>NaN</td>\n",
       "      <td>NaN</td>\n",
       "      <td>NaN</td>\n",
       "      <td>NaN</td>\n",
       "      <td>NaN</td>\n",
       "      <td>NaN</td>\n",
       "      <td>NaN</td>\n",
       "      <td>NaN</td>\n",
       "      <td>NaN</td>\n",
       "    </tr>\n",
       "    <tr>\n",
       "      <th>89763</th>\n",
       "      <td>NaN</td>\n",
       "      <td>08-12-2022</td>\n",
       "      <td>NaN</td>\n",
       "      <td>NaN</td>\n",
       "      <td>NaN</td>\n",
       "      <td>NaN</td>\n",
       "      <td>NaN</td>\n",
       "      <td>NaN</td>\n",
       "      <td>NaN</td>\n",
       "      <td>NaN</td>\n",
       "      <td>...</td>\n",
       "      <td>NaN</td>\n",
       "      <td>NaN</td>\n",
       "      <td>NaN</td>\n",
       "      <td>NaN</td>\n",
       "      <td>NaN</td>\n",
       "      <td>NaN</td>\n",
       "      <td>NaN</td>\n",
       "      <td>NaN</td>\n",
       "      <td>NaN</td>\n",
       "      <td>NaN</td>\n",
       "    </tr>\n",
       "    <tr>\n",
       "      <th>89943</th>\n",
       "      <td>NaN</td>\n",
       "      <td>15-12-2022</td>\n",
       "      <td>NaN</td>\n",
       "      <td>NaN</td>\n",
       "      <td>NaN</td>\n",
       "      <td>NaN</td>\n",
       "      <td>NaN</td>\n",
       "      <td>NaN</td>\n",
       "      <td>NaN</td>\n",
       "      <td>NaN</td>\n",
       "      <td>...</td>\n",
       "      <td>NaN</td>\n",
       "      <td>NaN</td>\n",
       "      <td>NaN</td>\n",
       "      <td>NaN</td>\n",
       "      <td>NaN</td>\n",
       "      <td>NaN</td>\n",
       "      <td>NaN</td>\n",
       "      <td>NaN</td>\n",
       "      <td>NaN</td>\n",
       "      <td>NaN</td>\n",
       "    </tr>\n",
       "    <tr>\n",
       "      <th>90090</th>\n",
       "      <td>NaN</td>\n",
       "      <td>20-12-2022</td>\n",
       "      <td>NaN</td>\n",
       "      <td>NaN</td>\n",
       "      <td>NaN</td>\n",
       "      <td>NaN</td>\n",
       "      <td>NaN</td>\n",
       "      <td>NaN</td>\n",
       "      <td>NaN</td>\n",
       "      <td>NaN</td>\n",
       "      <td>...</td>\n",
       "      <td>NaN</td>\n",
       "      <td>NaN</td>\n",
       "      <td>NaN</td>\n",
       "      <td>NaN</td>\n",
       "      <td>NaN</td>\n",
       "      <td>NaN</td>\n",
       "      <td>NaN</td>\n",
       "      <td>NaN</td>\n",
       "      <td>NaN</td>\n",
       "      <td>NaN</td>\n",
       "    </tr>\n",
       "  </tbody>\n",
       "</table>\n",
       "<p>69 rows × 31 columns</p>\n",
       "</div>"
      ],
      "text/plain": [
       "      Event.Id Investigation.Type Accident.Number Event.Date Location Country  \\\n",
       "64030      NaN         25-09-2020             NaN        NaN      NaN     NaN   \n",
       "69843      NaN         14-06-2021             NaN        NaN      NaN     NaN   \n",
       "74420      NaN         03-11-2020             NaN        NaN      NaN     NaN   \n",
       "74946      NaN         24-02-2021             NaN        NaN      NaN     NaN   \n",
       "75894      NaN         02-02-2021             NaN        NaN      NaN     NaN   \n",
       "...        ...                ...             ...        ...      ...     ...   \n",
       "89440      NaN         02-12-2022             NaN        NaN      NaN     NaN   \n",
       "89492      NaN         05-08-2022             NaN        NaN      NaN     NaN   \n",
       "89763      NaN         08-12-2022             NaN        NaN      NaN     NaN   \n",
       "89943      NaN         15-12-2022             NaN        NaN      NaN     NaN   \n",
       "90090      NaN         20-12-2022             NaN        NaN      NaN     NaN   \n",
       "\n",
       "      Latitude Longitude Airport.Code Airport.Name  ... Purpose.of.flight  \\\n",
       "64030      NaN       NaN          NaN          NaN  ...               NaN   \n",
       "69843      NaN       NaN          NaN          NaN  ...               NaN   \n",
       "74420      NaN       NaN          NaN          NaN  ...               NaN   \n",
       "74946      NaN       NaN          NaN          NaN  ...               NaN   \n",
       "75894      NaN       NaN          NaN          NaN  ...               NaN   \n",
       "...        ...       ...          ...          ...  ...               ...   \n",
       "89440      NaN       NaN          NaN          NaN  ...               NaN   \n",
       "89492      NaN       NaN          NaN          NaN  ...               NaN   \n",
       "89763      NaN       NaN          NaN          NaN  ...               NaN   \n",
       "89943      NaN       NaN          NaN          NaN  ...               NaN   \n",
       "90090      NaN       NaN          NaN          NaN  ...               NaN   \n",
       "\n",
       "      Air.carrier Total.Fatal.Injuries Total.Serious.Injuries  \\\n",
       "64030         NaN                  NaN                    NaN   \n",
       "69843         NaN                  NaN                    NaN   \n",
       "74420         NaN                  NaN                    NaN   \n",
       "74946         NaN                  NaN                    NaN   \n",
       "75894         NaN                  NaN                    NaN   \n",
       "...           ...                  ...                    ...   \n",
       "89440         NaN                  NaN                    NaN   \n",
       "89492         NaN                  NaN                    NaN   \n",
       "89763         NaN                  NaN                    NaN   \n",
       "89943         NaN                  NaN                    NaN   \n",
       "90090         NaN                  NaN                    NaN   \n",
       "\n",
       "      Total.Minor.Injuries Total.Uninjured Weather.Condition  \\\n",
       "64030                  NaN             NaN               NaN   \n",
       "69843                  NaN             NaN               NaN   \n",
       "74420                  NaN             NaN               NaN   \n",
       "74946                  NaN             NaN               NaN   \n",
       "75894                  NaN             NaN               NaN   \n",
       "...                    ...             ...               ...   \n",
       "89440                  NaN             NaN               NaN   \n",
       "89492                  NaN             NaN               NaN   \n",
       "89763                  NaN             NaN               NaN   \n",
       "89943                  NaN             NaN               NaN   \n",
       "90090                  NaN             NaN               NaN   \n",
       "\n",
       "       Broad.phase.of.flight Report.Status Publication.Date  \n",
       "64030                    NaN           NaN              NaN  \n",
       "69843                    NaN           NaN              NaN  \n",
       "74420                    NaN           NaN              NaN  \n",
       "74946                    NaN           NaN              NaN  \n",
       "75894                    NaN           NaN              NaN  \n",
       "...                      ...           ...              ...  \n",
       "89440                    NaN           NaN              NaN  \n",
       "89492                    NaN           NaN              NaN  \n",
       "89763                    NaN           NaN              NaN  \n",
       "89943                    NaN           NaN              NaN  \n",
       "90090                    NaN           NaN              NaN  \n",
       "\n",
       "[69 rows x 31 columns]"
      ]
     },
     "execution_count": 7,
     "metadata": {},
     "output_type": "execute_result"
    }
   ],
   "source": [
    "### focusing in on event.id column. It seems like the NaN entries in this column are lacking all data other than the\n",
    "### investigation type, so there isn't really a reason to keep any of them.\n",
    "df[df['Event.Id'].isna()]"
   ]
  },
  {
   "cell_type": "code",
   "execution_count": 8,
   "metadata": {},
   "outputs": [
    {
     "data": {
      "text/html": [
       "<div>\n",
       "<style scoped>\n",
       "    .dataframe tbody tr th:only-of-type {\n",
       "        vertical-align: middle;\n",
       "    }\n",
       "\n",
       "    .dataframe tbody tr th {\n",
       "        vertical-align: top;\n",
       "    }\n",
       "\n",
       "    .dataframe thead th {\n",
       "        text-align: right;\n",
       "    }\n",
       "</style>\n",
       "<table border=\"1\" class=\"dataframe\">\n",
       "  <thead>\n",
       "    <tr style=\"text-align: right;\">\n",
       "      <th></th>\n",
       "      <th>Event.Id</th>\n",
       "      <th>Investigation.Type</th>\n",
       "      <th>Accident.Number</th>\n",
       "      <th>Event.Date</th>\n",
       "      <th>Location</th>\n",
       "      <th>Country</th>\n",
       "      <th>Latitude</th>\n",
       "      <th>Longitude</th>\n",
       "      <th>Airport.Code</th>\n",
       "      <th>Airport.Name</th>\n",
       "      <th>...</th>\n",
       "      <th>Purpose.of.flight</th>\n",
       "      <th>Air.carrier</th>\n",
       "      <th>Total.Fatal.Injuries</th>\n",
       "      <th>Total.Serious.Injuries</th>\n",
       "      <th>Total.Minor.Injuries</th>\n",
       "      <th>Total.Uninjured</th>\n",
       "      <th>Weather.Condition</th>\n",
       "      <th>Broad.phase.of.flight</th>\n",
       "      <th>Report.Status</th>\n",
       "      <th>Publication.Date</th>\n",
       "    </tr>\n",
       "  </thead>\n",
       "  <tbody>\n",
       "  </tbody>\n",
       "</table>\n",
       "<p>0 rows × 31 columns</p>\n",
       "</div>"
      ],
      "text/plain": [
       "Empty DataFrame\n",
       "Columns: [Event.Id, Investigation.Type, Accident.Number, Event.Date, Location, Country, Latitude, Longitude, Airport.Code, Airport.Name, Injury.Severity, Aircraft.damage, Aircraft.Category, Registration.Number, Make, Model, Amateur.Built, Number.of.Engines, Engine.Type, FAR.Description, Schedule, Purpose.of.flight, Air.carrier, Total.Fatal.Injuries, Total.Serious.Injuries, Total.Minor.Injuries, Total.Uninjured, Weather.Condition, Broad.phase.of.flight, Report.Status, Publication.Date]\n",
       "Index: []\n",
       "\n",
       "[0 rows x 31 columns]"
      ]
     },
     "execution_count": 8,
     "metadata": {},
     "output_type": "execute_result"
    }
   ],
   "source": [
    "df=df.dropna(subset=['Event.Id'])\n",
    "df[df['Event.Id'].isna()]"
   ]
  },
  {
   "cell_type": "code",
   "execution_count": 9,
   "metadata": {},
   "outputs": [
    {
     "data": {
      "text/plain": [
       "Event.Id                      0\n",
       "Investigation.Type            0\n",
       "Accident.Number               0\n",
       "Event.Date                    0\n",
       "Location                     52\n",
       "Country                     226\n",
       "Latitude                  54507\n",
       "Longitude                 54516\n",
       "Airport.Code              38640\n",
       "Airport.Name              36099\n",
       "Injury.Severity            1000\n",
       "Aircraft.damage            3194\n",
       "Aircraft.Category         56602\n",
       "Registration.Number        1317\n",
       "Make                         63\n",
       "Model                        92\n",
       "Amateur.Built               102\n",
       "Number.of.Engines          6084\n",
       "Engine.Type                7077\n",
       "FAR.Description           56866\n",
       "Schedule                  76307\n",
       "Purpose.of.flight          6192\n",
       "Air.carrier               72241\n",
       "Total.Fatal.Injuries      11401\n",
       "Total.Serious.Injuries    12510\n",
       "Total.Minor.Injuries      11933\n",
       "Total.Uninjured            5912\n",
       "Weather.Condition          4492\n",
       "Broad.phase.of.flight     27165\n",
       "Report.Status              6381\n",
       "Publication.Date          15230\n",
       "dtype: int64"
      ]
     },
     "execution_count": 9,
     "metadata": {},
     "output_type": "execute_result"
    }
   ],
   "source": [
    "### confirming we got rid of the event.id NaN entries. It looks like the NaN entries in accdient.number and event.date just\n",
    "### happened to be cleared out by the last operation as well.\n",
    "df.isna().sum()"
   ]
  },
  {
   "cell_type": "code",
   "execution_count": 10,
   "metadata": {},
   "outputs": [
    {
     "data": {
      "text/plain": [
       "ANCHORAGE, AK       434\n",
       "MIAMI, FL           200\n",
       "ALBUQUERQUE, NM     196\n",
       "HOUSTON, TX         193\n",
       "CHICAGO, IL         184\n",
       "                   ... \n",
       "WIS. RAPIDS, WI       1\n",
       "COLLINWOOD, TN        1\n",
       "CAMPECHE, Mexico      1\n",
       "Hagerman, ID          1\n",
       "STEBENSVILLE, PA      1\n",
       "Name: Location, Length: 27758, dtype: int64"
      ]
     },
     "execution_count": 10,
     "metadata": {},
     "output_type": "execute_result"
    }
   ],
   "source": [
    "### location seems to be a categorical variable with less than 1% of values as NaN. In this case, I think it makes a lot more \n",
    "### sense to just remove these NaN values.\n",
    "df['Location'].value_counts()"
   ]
  },
  {
   "cell_type": "code",
   "execution_count": 11,
   "metadata": {},
   "outputs": [
    {
     "data": {
      "text/plain": [
       "0"
      ]
     },
     "execution_count": 11,
     "metadata": {},
     "output_type": "execute_result"
    }
   ],
   "source": [
    "df=df.dropna(subset=['Location'])\n",
    "df['Location'].isna().sum()"
   ]
  },
  {
   "cell_type": "code",
   "execution_count": 12,
   "metadata": {},
   "outputs": [
    {
     "data": {
      "text/plain": [
       "Event.Id                      0\n",
       "Investigation.Type            0\n",
       "Accident.Number               0\n",
       "Event.Date                    0\n",
       "Location                      0\n",
       "Country                     225\n",
       "Latitude                  54460\n",
       "Longitude                 54469\n",
       "Airport.Code              38590\n",
       "Airport.Name              36049\n",
       "Injury.Severity            1000\n",
       "Aircraft.damage            3187\n",
       "Aircraft.Category         56559\n",
       "Registration.Number        1295\n",
       "Make                         63\n",
       "Model                        92\n",
       "Amateur.Built                98\n",
       "Number.of.Engines          6055\n",
       "Engine.Type                7071\n",
       "FAR.Description           56823\n",
       "Schedule                  76288\n",
       "Purpose.of.flight          6182\n",
       "Air.carrier               72192\n",
       "Total.Fatal.Injuries      11387\n",
       "Total.Serious.Injuries    12492\n",
       "Total.Minor.Injuries      11914\n",
       "Total.Uninjured            5901\n",
       "Weather.Condition          4487\n",
       "Broad.phase.of.flight     27127\n",
       "Report.Status              6381\n",
       "Publication.Date          15218\n",
       "dtype: int64"
      ]
     },
     "execution_count": 12,
     "metadata": {},
     "output_type": "execute_result"
    }
   ],
   "source": [
    "### time to check how that last operation affected the overall data!\n",
    "df.isna().sum()"
   ]
  },
  {
   "cell_type": "code",
   "execution_count": 13,
   "metadata": {},
   "outputs": [
    {
     "data": {
      "text/plain": [
       "United States     82237\n",
       "Brazil              373\n",
       "Canada              359\n",
       "Mexico              358\n",
       "United Kingdom      344\n",
       "Australia           298\n",
       "France              233\n",
       "Spain               226\n",
       "Bahamas             216\n",
       "Germany             215\n",
       "Colombia            193\n",
       "South Africa        129\n",
       "Japan               126\n",
       "Venezuela           121\n",
       "Italy               114\n",
       "Argentina           111\n",
       "Indonesia           109\n",
       "India                96\n",
       "Peru                 93\n",
       "Russia               91\n",
       "Name: Country, dtype: int64"
      ]
     },
     "execution_count": 13,
     "metadata": {},
     "output_type": "execute_result"
    }
   ],
   "source": [
    "df['Country'].value_counts().head(20)"
   ]
  },
  {
   "cell_type": "code",
   "execution_count": 14,
   "metadata": {},
   "outputs": [
    {
     "data": {
      "text/plain": [
       "Event.Id                      0\n",
       "Investigation.Type            0\n",
       "Accident.Number               0\n",
       "Event.Date                    0\n",
       "Location                      0\n",
       "Country                       0\n",
       "Latitude                  54236\n",
       "Longitude                 54245\n",
       "Airport.Code              38432\n",
       "Airport.Name              35903\n",
       "Injury.Severity            1000\n",
       "Aircraft.damage            3171\n",
       "Aircraft.Category         56346\n",
       "Registration.Number        1290\n",
       "Make                         62\n",
       "Model                        91\n",
       "Amateur.Built                98\n",
       "Number.of.Engines          6048\n",
       "Engine.Type                7065\n",
       "FAR.Description           56610\n",
       "Schedule                  76156\n",
       "Purpose.of.flight          6175\n",
       "Air.carrier               72022\n",
       "Total.Fatal.Injuries      11376\n",
       "Total.Serious.Injuries    12482\n",
       "Total.Minor.Injuries      11904\n",
       "Total.Uninjured            5892\n",
       "Weather.Condition          4482\n",
       "Broad.phase.of.flight     27117\n",
       "Report.Status              6381\n",
       "Publication.Date          15161\n",
       "dtype: int64"
      ]
     },
     "execution_count": 14,
     "metadata": {},
     "output_type": "execute_result"
    }
   ],
   "source": [
    "### the country column contains categorical data and is only missing less than 1% of values. It makes the most sense to just\n",
    "### drop the values here again.\n",
    "df=df.dropna(subset=['Country'])\n",
    "df.isna().sum()"
   ]
  },
  {
   "cell_type": "code",
   "execution_count": 15,
   "metadata": {},
   "outputs": [
    {
     "data": {
      "text/plain": [
       "Non-Fatal      67195\n",
       "Fatal(1)        6137\n",
       "Fatal           5262\n",
       "Fatal(2)        3689\n",
       "Incident        2187\n",
       "Fatal(3)        1136\n",
       "Fatal(4)         806\n",
       "Fatal(5)         231\n",
       "Minor            218\n",
       "Serious          173\n",
       "Fatal(6)         161\n",
       "Unavailable       92\n",
       "Fatal(7)          55\n",
       "Fatal(8)          51\n",
       "Fatal(10)         31\n",
       "Fatal(9)          17\n",
       "Fatal(14)         11\n",
       "Fatal(11)         10\n",
       "Fatal(13)          9\n",
       "Fatal(12)          8\n",
       "Name: Injury.Severity, dtype: int64"
      ]
     },
     "execution_count": 15,
     "metadata": {},
     "output_type": "execute_result"
    }
   ],
   "source": [
    "### The next four columns contain massive amounts of missing entries. However, I want to use the information they contain in \n",
    "### part of my analysis later. I am going to skip over them for now, and once I have cleaned the rest of the data, I will\n",
    "### create two dataframes, one which has the coordinates and airport data with the missing entries removed, and one in which \n",
    "### these columns have been dropped. Instead, I will move on to the injury.severity column.\n",
    "\n",
    "df['Injury.Severity'].value_counts().head(20)"
   ]
  },
  {
   "cell_type": "code",
   "execution_count": 16,
   "metadata": {},
   "outputs": [
    {
     "data": {
      "text/plain": [
       "Non-Fatal    69773\n",
       "Fatal(1)      6137\n",
       "Fatal         5262\n",
       "Fatal(2)      3689\n",
       "Fatal(3)      1136\n",
       "Fatal(4)       806\n",
       "Fatal(5)       231\n",
       "Fatal(6)       161\n",
       "Fatal(7)        55\n",
       "Fatal(8)        51\n",
       "Fatal(10)       31\n",
       "Fatal(9)        17\n",
       "Fatal(14)       11\n",
       "Fatal(11)       10\n",
       "Fatal(13)        9\n",
       "Fatal(12)        8\n",
       "Fatal(18)        5\n",
       "Fatal(20)        5\n",
       "Fatal(23)        4\n",
       "Fatal(25)        4\n",
       "Name: Injury.Severity, dtype: int64"
      ]
     },
     "execution_count": 16,
     "metadata": {},
     "output_type": "execute_result"
    }
   ],
   "source": [
    "### I've noticed there seem to be several different buckets in this column that are extraneous for the purpose of this \n",
    "### analysis. It does not seem like it would be worth differentiating between the severities of different types of non-fatal \n",
    "### injury, so I am going to lump them all in with the non-fatal category. While I'm doing this, I will drop the rows that \n",
    "### contain \"unavailable\", since they are a small subset of total values and are a placeholder value.\n",
    "\n",
    "df['Injury.Severity'] = df['Injury.Severity'].replace(to_replace=['Incident', 'Minor', 'Serious'], value='Non-Fatal')\n",
    "df = df.drop(df[df['Injury.Severity'] == 'Unavailable'].index)\n",
    "df.dropna(axis=0, subset=['Injury.Severity'], inplace=True)\n",
    "df['Injury.Severity'].value_counts().head(20)"
   ]
  },
  {
   "cell_type": "code",
   "execution_count": 17,
   "metadata": {},
   "outputs": [],
   "source": [
    "### The existence of numbered fatal entries in this column is redundant because of the other columns dedicated to this statistic.\n",
    "### I think it makes sense to turn this column into a simple dichotomy between fatal and non-fatal.\n",
    "\n",
    "df['Injury.Severity'] = df['Injury.Severity'].map(lambda x: 'Fatal' if x[:5]=='Fatal' else x)"
   ]
  },
  {
   "cell_type": "code",
   "execution_count": 18,
   "metadata": {},
   "outputs": [
    {
     "data": {
      "text/plain": [
       "Non-Fatal    69773\n",
       "Fatal        17747\n",
       "Name: Injury.Severity, dtype: int64"
      ]
     },
     "execution_count": 18,
     "metadata": {},
     "output_type": "execute_result"
    }
   ],
   "source": [
    "df['Injury.Severity'].value_counts().head(20)"
   ]
  },
  {
   "cell_type": "code",
   "execution_count": 19,
   "metadata": {},
   "outputs": [
    {
     "data": {
      "text/plain": [
       "Substantial    63779\n",
       "Destroyed      18430\n",
       "Minor           2560\n",
       "Unknown           92\n",
       "Name: Aircraft.damage, dtype: int64"
      ]
     },
     "execution_count": 19,
     "metadata": {},
     "output_type": "execute_result"
    }
   ],
   "source": [
    "df['Aircraft.damage'].value_counts().head(4)"
   ]
  },
  {
   "cell_type": "code",
   "execution_count": 20,
   "metadata": {},
   "outputs": [
    {
     "data": {
      "text/plain": [
       "Substantial    63779\n",
       "Destroyed      18430\n",
       "Minor           2560\n",
       "Name: Aircraft.damage, dtype: int64"
      ]
     },
     "execution_count": 20,
     "metadata": {},
     "output_type": "execute_result"
    }
   ],
   "source": [
    "### This column seems to be lacking any special cases, and I think I can just deal with it the way I dealt with the previous\n",
    "### column since we are still at less than 5% of total values as placeholders or NaN. I will drop the NaN values and remove\n",
    "### the rows with 'Unknown'.\n",
    "df = df.drop(df[df['Aircraft.damage'] == 'Unknown'].index)\n",
    "df.dropna(axis=0, subset=['Aircraft.damage'], inplace=True)\n",
    "df['Aircraft.damage'].value_counts().head(20)"
   ]
  },
  {
   "cell_type": "code",
   "execution_count": 21,
   "metadata": {},
   "outputs": [
    {
     "data": {
      "text/plain": [
       "Airplane             25830\n",
       "Helicopter            3292\n",
       "Glider                 503\n",
       "Gyrocraft              173\n",
       "Weight-Shift           160\n",
       "Balloon                135\n",
       "Powered Parachute       88\n",
       "Ultralight              29\n",
       "Unknown                 11\n",
       "WSFT                     9\n",
       "Powered-Lift             4\n",
       "Blimp                    4\n",
       "Rocket                   1\n",
       "ULTR                     1\n",
       "Name: Aircraft.Category, dtype: int64"
      ]
     },
     "execution_count": 21,
     "metadata": {},
     "output_type": "execute_result"
    }
   ],
   "source": [
    "### Time for the next column on the list. Let's take a look at the aircraft category and carefully consider what to do with it,\n",
    "### since it seems to be missing values for half of all entries.\n",
    "df['Aircraft.Category'].value_counts().head(20)"
   ]
  },
  {
   "cell_type": "code",
   "execution_count": 22,
   "metadata": {},
   "outputs": [],
   "source": [
    "### Just looking at the values that are contained within that column, I've made a realization. Is the majority of the data in\n",
    "### my dataset not even related to actual airplanes? I need to take some time to really consider if it is worth keeping ANY\n",
    "### of the rows where I can't confirm that the individual data points I'm working with are not airplanes, since they are not\n",
    "### at all relevant to the business analysis I have been tasked with doing.\n",
    "\n",
    "### For now, I have decided to just drop this column. I will revisit it later if I can figure out a way to use this data.\n",
    "\n",
    "df=df.drop(axis=1, labels='Aircraft.Category')"
   ]
  },
  {
   "cell_type": "code",
   "execution_count": 23,
   "metadata": {},
   "outputs": [
    {
     "data": {
      "text/plain": [
       "Cessna         22021\n",
       "Piper          11916\n",
       "CESSNA          4719\n",
       "Beech           4265\n",
       "PIPER           2756\n",
       "Bell            2012\n",
       "Mooney          1084\n",
       "Grumman         1083\n",
       "Boeing          1013\n",
       "BEECH           1001\n",
       "Robinson         933\n",
       "Bellanca         882\n",
       "Hughes           780\n",
       "Schweizer        621\n",
       "Air Tractor      593\n",
       "BELL             547\n",
       "Aeronca          483\n",
       "Maule            443\n",
       "Champion         426\n",
       "BOEING           390\n",
       "Name: Make, dtype: int64"
      ]
     },
     "execution_count": 23,
     "metadata": {},
     "output_type": "execute_result"
    }
   ],
   "source": [
    "df['Make'].value_counts().head(20)"
   ]
  },
  {
   "cell_type": "code",
   "execution_count": 24,
   "metadata": {},
   "outputs": [],
   "source": [
    "df.dropna(axis=0, subset=['Make'], inplace=True)"
   ]
  },
  {
   "cell_type": "code",
   "execution_count": 25,
   "metadata": {
    "scrolled": true
   },
   "outputs": [
    {
     "data": {
      "text/plain": [
       "152          2346\n",
       "172          1717\n",
       "172N         1147\n",
       "PA-28-140     925\n",
       "150           817\n",
       "172M          791\n",
       "172P          684\n",
       "182           650\n",
       "180           620\n",
       "150M          583\n",
       "PA-18         577\n",
       "PA-18-150     576\n",
       "PA-28-180     569\n",
       "PA-28-161     564\n",
       "PA-28-181     524\n",
       "206B          500\n",
       "PA-38-112     464\n",
       "G-164A        459\n",
       "150L          454\n",
       "A36           443\n",
       "Name: Model, dtype: int64"
      ]
     },
     "execution_count": 25,
     "metadata": {},
     "output_type": "execute_result"
    }
   ],
   "source": [
    "df['Model'].value_counts().head(20)"
   ]
  },
  {
   "cell_type": "code",
   "execution_count": 26,
   "metadata": {},
   "outputs": [],
   "source": [
    "df.dropna(axis=0, subset=['Model'], inplace=True)"
   ]
  },
  {
   "cell_type": "code",
   "execution_count": 27,
   "metadata": {},
   "outputs": [],
   "source": [
    "### Considering the above two columns, I believe that the aircraft category column does not contain very good information, and \n",
    "### I think it would be absurd for only a minority of these data points to represent planes, considering the 'make' data entries."
   ]
  },
  {
   "cell_type": "code",
   "execution_count": 28,
   "metadata": {},
   "outputs": [
    {
     "data": {
      "text/plain": [
       "NONE      333\n",
       "UNREG     121\n",
       "None       64\n",
       "N20752      7\n",
       "N53893      6\n",
       "N5408Y      6\n",
       "N8402K      6\n",
       "N11VH       6\n",
       "N121CC      6\n",
       "N4101E      6\n",
       "UNK         6\n",
       "N8653Y      5\n",
       "N3125N      5\n",
       "N9957J      5\n",
       "N75LE       5\n",
       "N3331R      5\n",
       "N8597D      5\n",
       "N420SB      5\n",
       "N5246E      5\n",
       "N93067      5\n",
       "Name: Registration.Number, dtype: int64"
      ]
     },
     "execution_count": 28,
     "metadata": {},
     "output_type": "execute_result"
    }
   ],
   "source": [
    "df['Registration.Number'].value_counts().head(20)"
   ]
  },
  {
   "cell_type": "code",
   "execution_count": 29,
   "metadata": {},
   "outputs": [],
   "source": [
    "### Now this is interesting. Aircraft registration numbers are supposed to be unique, but it seems like many of these numbers\n",
    "### have been involved in numerous incidents. There are also three different bins for reports with no registration numbers\n",
    "### when there really only needs to be one."
   ]
  },
  {
   "cell_type": "code",
   "execution_count": 30,
   "metadata": {},
   "outputs": [
    {
     "data": {
      "text/plain": [
       "NONE      518\n",
       "N20752      7\n",
       "N121CC      6\n",
       "N4101E      6\n",
       "N8402K      6\n",
       "N5408Y      6\n",
       "N53893      6\n",
       "UNK         6\n",
       "N11VH       6\n",
       "N420SB      5\n",
       "N75LE       5\n",
       "N93067      5\n",
       "N5246E      5\n",
       "N3125N      5\n",
       "N8597D      5\n",
       "N8653Y      5\n",
       "N99HV       5\n",
       "N3331R      5\n",
       "N9957J      5\n",
       "N5291G      4\n",
       "Name: Registration.Number, dtype: int64"
      ]
     },
     "execution_count": 30,
     "metadata": {},
     "output_type": "execute_result"
    }
   ],
   "source": [
    "df['Registration.Number'] = df['Registration.Number'].replace(to_replace=['UNREG', 'None'], value='NONE')\n",
    "df.dropna(subset=['Registration.Number'], inplace=True)\n",
    "df['Registration.Number'].value_counts().head(20)"
   ]
  },
  {
   "cell_type": "code",
   "execution_count": 31,
   "metadata": {
    "scrolled": true
   },
   "outputs": [
    {
     "data": {
      "text/plain": [
       "Event.Id                      0\n",
       "Investigation.Type            0\n",
       "Accident.Number               0\n",
       "Event.Date                    0\n",
       "Location                      0\n",
       "Country                       0\n",
       "Latitude                  50809\n",
       "Longitude                 50819\n",
       "Airport.Code              34803\n",
       "Airport.Name              32318\n",
       "Injury.Severity               0\n",
       "Aircraft.damage               0\n",
       "Registration.Number           0\n",
       "Make                          0\n",
       "Model                         0\n",
       "Amateur.Built                26\n",
       "Number.of.Engines          3445\n",
       "Engine.Type                4572\n",
       "FAR.Description           53899\n",
       "Schedule                  73896\n",
       "Purpose.of.flight          3628\n",
       "Air.carrier               68905\n",
       "Total.Fatal.Injuries      10481\n",
       "Total.Serious.Injuries    11421\n",
       "Total.Minor.Injuries      10649\n",
       "Total.Uninjured            5107\n",
       "Weather.Condition          2536\n",
       "Broad.phase.of.flight     23664\n",
       "Report.Status              4774\n",
       "Publication.Date          14197\n",
       "dtype: int64"
      ]
     },
     "execution_count": 31,
     "metadata": {},
     "output_type": "execute_result"
    }
   ],
   "source": [
    "df.isna().sum()"
   ]
  },
  {
   "cell_type": "code",
   "execution_count": 32,
   "metadata": {},
   "outputs": [
    {
     "data": {
      "text/plain": [
       "No     75277\n",
       "Yes     8365\n",
       "Name: Amateur.Built, dtype: int64"
      ]
     },
     "execution_count": 32,
     "metadata": {},
     "output_type": "execute_result"
    }
   ],
   "source": [
    "df['Amateur.Built'].value_counts().head()"
   ]
  },
  {
   "cell_type": "code",
   "execution_count": 33,
   "metadata": {},
   "outputs": [
    {
     "data": {
      "text/plain": [
       "False    75277\n",
       "True      8365\n",
       "Name: Amateur.Built, dtype: int64"
      ]
     },
     "execution_count": 33,
     "metadata": {},
     "output_type": "execute_result"
    }
   ],
   "source": [
    "### I think it makes more sense for this column to be boolean type data, since there are only two options. While I'm at it, \n",
    "### I'll just drop the NaNs.\n",
    "df.dropna(subset=['Amateur.Built'], inplace=True)\n",
    "df['Amateur.Built'] = df['Amateur.Built'].map(lambda x: True if x=='Yes' else False)\n",
    "df['Amateur.Built'].value_counts().head()"
   ]
  },
  {
   "cell_type": "code",
   "execution_count": 34,
   "metadata": {},
   "outputs": [
    {
     "data": {
      "text/plain": [
       "1.0    68889\n",
       "2.0     9655\n",
       "0.0     1046\n",
       "3.0      317\n",
       "4.0      297\n",
       "8.0        2\n",
       "6.0        1\n",
       "Name: Number.of.Engines, dtype: int64"
      ]
     },
     "execution_count": 34,
     "metadata": {},
     "output_type": "execute_result"
    }
   ],
   "source": [
    "df['Number.of.Engines'].value_counts().head(10)"
   ]
  },
  {
   "cell_type": "code",
   "execution_count": 35,
   "metadata": {},
   "outputs": [
    {
     "data": {
      "text/plain": [
       "Event.Id                      0\n",
       "Investigation.Type            0\n",
       "Accident.Number               0\n",
       "Event.Date                    0\n",
       "Location                      0\n",
       "Country                       0\n",
       "Latitude                  48966\n",
       "Longitude                 48976\n",
       "Airport.Code              32416\n",
       "Airport.Name              29952\n",
       "Injury.Severity               0\n",
       "Aircraft.damage               0\n",
       "Registration.Number           0\n",
       "Make                          0\n",
       "Model                         0\n",
       "Amateur.Built                 0\n",
       "Number.of.Engines             0\n",
       "Engine.Type                2634\n",
       "FAR.Description           52540\n",
       "Schedule                  70886\n",
       "Purpose.of.flight          2334\n",
       "Air.carrier               66384\n",
       "Total.Fatal.Injuries      10238\n",
       "Total.Serious.Injuries    11126\n",
       "Total.Minor.Injuries      10356\n",
       "Total.Uninjured            4950\n",
       "Weather.Condition          1141\n",
       "Broad.phase.of.flight     20965\n",
       "Report.Status              3125\n",
       "Publication.Date          13674\n",
       "dtype: int64"
      ]
     },
     "execution_count": 35,
     "metadata": {},
     "output_type": "execute_result"
    }
   ],
   "source": [
    "### for the number of engines, I am also just going to drop the NaNs because it is still below 5% of the data. This is a \n",
    "### case where I think it wouldn't be a bad idea to just fill in the missing entries with 1.0, but I want to maintain the\n",
    "### consistency of my technique, and I don't think I'm losing too much accuracy here by dropping.\n",
    "\n",
    "df.dropna(subset=['Number.of.Engines'], inplace=True)\n",
    "df.isna().sum()"
   ]
  },
  {
   "cell_type": "code",
   "execution_count": 36,
   "metadata": {},
   "outputs": [
    {
     "data": {
      "text/plain": [
       "Reciprocating    68484\n",
       "Turbo Shaft       3352\n",
       "Turbo Prop        3065\n",
       "Turbo Fan         1481\n",
       "Unknown            640\n",
       "Turbo Jet          525\n",
       "None                13\n",
       "Electric             7\n",
       "NONE                 2\n",
       "Hybrid Rocket        1\n",
       "Name: Engine.Type, dtype: int64"
      ]
     },
     "execution_count": 36,
     "metadata": {},
     "output_type": "execute_result"
    }
   ],
   "source": [
    "df['Engine.Type'].value_counts().head(10)"
   ]
  },
  {
   "cell_type": "code",
   "execution_count": 37,
   "metadata": {},
   "outputs": [
    {
     "data": {
      "text/plain": [
       "Event.Id                      0\n",
       "Investigation.Type            0\n",
       "Accident.Number               0\n",
       "Event.Date                    0\n",
       "Location                      0\n",
       "Country                       0\n",
       "Latitude                  48966\n",
       "Longitude                 48976\n",
       "Airport.Code              32416\n",
       "Airport.Name              29952\n",
       "Injury.Severity               0\n",
       "Aircraft.damage               0\n",
       "Registration.Number           0\n",
       "Make                          0\n",
       "Model                         0\n",
       "Amateur.Built                 0\n",
       "Number.of.Engines             0\n",
       "Engine.Type                   0\n",
       "FAR.Description           52540\n",
       "Schedule                  70886\n",
       "Purpose.of.flight          2334\n",
       "Air.carrier               66384\n",
       "Total.Fatal.Injuries      10238\n",
       "Total.Serious.Injuries    11126\n",
       "Total.Minor.Injuries      10356\n",
       "Total.Uninjured            4950\n",
       "Weather.Condition          1141\n",
       "Broad.phase.of.flight     20965\n",
       "Report.Status              3125\n",
       "Publication.Date          13674\n",
       "dtype: int64"
      ]
     },
     "execution_count": 37,
     "metadata": {},
     "output_type": "execute_result"
    }
   ],
   "source": [
    "### Since this column already contains an unknown bin, I will fill the NaNs with unknown while I standardize the data.\n",
    "\n",
    "df['Engine.Type'].fillna(value='Unknown', inplace=True)\n",
    "df['Engine.Type'] = df['Engine.Type'].replace(to_replace=['NONE', 'None'], value='Unknown')\n",
    "df.isna().sum()"
   ]
  },
  {
   "cell_type": "code",
   "execution_count": 38,
   "metadata": {},
   "outputs": [
    {
     "data": {
      "text/plain": [
       "091                              17294\n",
       "Part 91: General Aviation         6348\n",
       "137                                949\n",
       "135                                680\n",
       "NUSN                               574\n",
       "Part 137: Agricultural             433\n",
       "Part 135: Air Taxi & Commuter      284\n",
       "121                                259\n",
       "PUBU                               235\n",
       "NUSC                               187\n",
       "Name: FAR.Description, dtype: int64"
      ]
     },
     "execution_count": 38,
     "metadata": {},
     "output_type": "execute_result"
    }
   ],
   "source": [
    "df['FAR.Description'].value_counts().head(10)"
   ]
  },
  {
   "cell_type": "code",
   "execution_count": 39,
   "metadata": {},
   "outputs": [
    {
     "data": {
      "text/plain": [
       "UNK     3822\n",
       "NSCH    3670\n",
       "SCHD    1829\n",
       "Name: Schedule, dtype: int64"
      ]
     },
     "execution_count": 39,
     "metadata": {},
     "output_type": "execute_result"
    }
   ],
   "source": [
    "### I'm skipping that column for now because I don't know what it represents or if it will be useful to me.\n",
    "\n",
    "df['Schedule'].value_counts().head(10)"
   ]
  },
  {
   "cell_type": "code",
   "execution_count": 40,
   "metadata": {},
   "outputs": [],
   "source": [
    "### These values stand for unkown, not scheduled, and scheduled. While I think this data would be useful to my analysis, we \n",
    "### only have values in it for a minority of the rows. I'm just going to drop this column.\n",
    "\n",
    "df=df.drop(axis=1, labels='Schedule')"
   ]
  },
  {
   "cell_type": "code",
   "execution_count": 41,
   "metadata": {},
   "outputs": [
    {
     "data": {
      "text/plain": [
       "Personal                     47547\n",
       "Instructional                10235\n",
       "Unknown                       5261\n",
       "Aerial Application            4582\n",
       "Business                      3772\n",
       "Positioning                   1530\n",
       "Other Work Use                1136\n",
       "Ferry                          766\n",
       "Aerial Observation             709\n",
       "Public Aircraft                648\n",
       "Executive/corporate            491\n",
       "Flight Test                    372\n",
       "Skydiving                      173\n",
       "External Load                  104\n",
       "Banner Tow                      99\n",
       "Public Aircraft - Federal       94\n",
       "Air Race show                   73\n",
       "Public Aircraft - Local         69\n",
       "Public Aircraft - State         59\n",
       "Air Race/show                   54\n",
       "Name: Purpose.of.flight, dtype: int64"
      ]
     },
     "execution_count": 41,
     "metadata": {},
     "output_type": "execute_result"
    }
   ],
   "source": [
    "df['Purpose.of.flight'].value_counts().head(20)"
   ]
  },
  {
   "cell_type": "code",
   "execution_count": 42,
   "metadata": {},
   "outputs": [
    {
     "data": {
      "text/plain": [
       "Personal                     47547\n",
       "Instructional                10235\n",
       "Unknown                       7595\n",
       "Aerial Application            4582\n",
       "Business                      3772\n",
       "Positioning                   1530\n",
       "Other Work Use                1136\n",
       "Ferry                          766\n",
       "Aerial Observation             709\n",
       "Public Aircraft                648\n",
       "Executive/corporate            491\n",
       "Flight Test                    372\n",
       "Skydiving                      173\n",
       "External Load                  104\n",
       "Banner Tow                      99\n",
       "Public Aircraft - Federal       94\n",
       "Air Race show                   73\n",
       "Public Aircraft - Local         69\n",
       "Public Aircraft - State         59\n",
       "Air Race/show                   54\n",
       "Name: Purpose.of.flight, dtype: int64"
      ]
     },
     "execution_count": 42,
     "metadata": {},
     "output_type": "execute_result"
    }
   ],
   "source": [
    "### This column is useful to me and contains an unknown bin, so I will fill the NaNs will Unknown.\n",
    "\n",
    "df['Purpose.of.flight'].fillna(inplace=True, value='Unknown')\n",
    "df['Purpose.of.flight'].value_counts().head(20)"
   ]
  },
  {
   "cell_type": "code",
   "execution_count": 43,
   "metadata": {},
   "outputs": [
    {
     "data": {
      "text/plain": [
       "Event.Id                      0\n",
       "Investigation.Type            0\n",
       "Accident.Number               0\n",
       "Event.Date                    0\n",
       "Location                      0\n",
       "Country                       0\n",
       "Latitude                  48966\n",
       "Longitude                 48976\n",
       "Airport.Code              32416\n",
       "Airport.Name              29952\n",
       "Injury.Severity               0\n",
       "Aircraft.damage               0\n",
       "Registration.Number           0\n",
       "Make                          0\n",
       "Model                         0\n",
       "Amateur.Built                 0\n",
       "Number.of.Engines             0\n",
       "Engine.Type                   0\n",
       "FAR.Description           52540\n",
       "Purpose.of.flight             0\n",
       "Total.Fatal.Injuries      10238\n",
       "Total.Serious.Injuries    11126\n",
       "Total.Minor.Injuries      10356\n",
       "Total.Uninjured            4950\n",
       "Weather.Condition          1141\n",
       "Broad.phase.of.flight     20965\n",
       "Report.Status              3125\n",
       "Publication.Date          13674\n",
       "dtype: int64"
      ]
     },
     "execution_count": 43,
     "metadata": {},
     "output_type": "execute_result"
    }
   ],
   "source": [
    "### The air carrier column is not useful to my analysis, so I am going to drop it from the data.\n",
    "\n",
    "df=df.drop(axis=1, labels='Air.carrier')\n",
    "df.isna().sum()"
   ]
  },
  {
   "cell_type": "code",
   "execution_count": 56,
   "metadata": {},
   "outputs": [
    {
     "data": {
      "text/plain": [
       "270.0"
      ]
     },
     "execution_count": 56,
     "metadata": {},
     "output_type": "execute_result"
    }
   ],
   "source": [
    "df['Total.Fatal.Injuries'].value_counts()"
   ]
  },
  {
   "cell_type": "code",
   "execution_count": 55,
   "metadata": {},
   "outputs": [
    {
     "data": {
      "text/plain": [
       "137.0"
      ]
     },
     "execution_count": 55,
     "metadata": {},
     "output_type": "execute_result"
    }
   ],
   "source": [
    "df['Total.Serious.Injuries'].value_counts()"
   ]
  },
  {
   "cell_type": "code",
   "execution_count": 46,
   "metadata": {},
   "outputs": [
    {
     "data": {
      "text/plain": [
       "Event.Id                      0\n",
       "Investigation.Type            0\n",
       "Accident.Number               0\n",
       "Event.Date                    0\n",
       "Location                      0\n",
       "Country                       0\n",
       "Latitude                  48966\n",
       "Longitude                 48976\n",
       "Airport.Code              32416\n",
       "Airport.Name              29952\n",
       "Injury.Severity               0\n",
       "Aircraft.damage               0\n",
       "Registration.Number           0\n",
       "Make                          0\n",
       "Model                         0\n",
       "Amateur.Built                 0\n",
       "Number.of.Engines             0\n",
       "Engine.Type                   0\n",
       "FAR.Description           52540\n",
       "Purpose.of.flight             0\n",
       "Total.Fatal.Injuries      10238\n",
       "Total.Serious.Injuries    11126\n",
       "Total.Minor.Injuries      10356\n",
       "Total.Uninjured            4950\n",
       "Weather.Condition          1141\n",
       "Broad.phase.of.flight     20965\n",
       "Report.Status              3125\n",
       "Publication.Date          13674\n",
       "dtype: int64"
      ]
     },
     "execution_count": 46,
     "metadata": {},
     "output_type": "execute_result"
    }
   ],
   "source": [
    "df.isna().sum()"
   ]
  },
  {
   "cell_type": "code",
   "execution_count": 57,
   "metadata": {},
   "outputs": [
    {
     "data": {
      "text/plain": [
       "<AxesSubplot:ylabel='Frequency'>"
      ]
     },
     "execution_count": 57,
     "metadata": {},
     "output_type": "execute_result"
    },
    {
     "data": {
      "image/png": "[encoded data removed]",
      "text/plain": [
       "<Figure size 432x288 with 1 Axes>"
      ]
     },
     "metadata": {
      "needs_background": "light"
     },
     "output_type": "display_data"
    }
   ],
   "source": [
    "def statscheck(df):\n",
    "    print(f'')"
   ]
  },
  {
   "cell_type": "code",
   "execution_count": null,
   "metadata": {},
   "outputs": [],
   "source": []
  }
 ],
 "metadata": {
  "kernelspec": {
   "display_name": "Python 3",
   "language": "python",
   "name": "python3"
  },
  "language_info": {
   "codemirror_mode": {
    "name": "ipython",
    "version": 3
   },
   "file_extension": ".py",
   "mimetype": "text/x-python",
   "name": "python",
   "nbconvert_exporter": "python",
   "pygments_lexer": "ipython3",
   "version": "3.8.5"
  }
 },
 "nbformat": 4,
 "nbformat_minor": 5
}
