{
 "cells": [
  {
   "cell_type": "markdown",
   "metadata": {},
   "source": [
    "# Introduction"
   ]
  },
  {
   "cell_type": "markdown",
   "metadata": {},
   "source": [
    "The purpose of this project is to determine which aircraft make and models are the most likely to suffer safety incidents in order to inform the purchasing decisions of aviation stakeholders. The project will make recommendations about which aircraft are likely to be unsafe, but will also make recommendations about which aircraft are the least likely to suffer a safety incident."
   ]
  },
  {
   "cell_type": "markdown",
   "metadata": {},
   "source": [
    "# Step 1: import packages and read the CSV into memory"
   ]
  },
  {
   "cell_type": "markdown",
   "metadata": {},
   "source": [
    "First things first, let's set the stage for the analysis. We'll need to import all the packages we intend to use, and load our data into the memory of the notebook as a pandas dataframe. I've done all of this and also displayed a preview of the data in the cell below."
   ]
  },
  {
   "cell_type": "code",
   "execution_count": 1,
   "metadata": {
    "scrolled": false
   },
   "outputs": [
    {
     "data": {
      "text/html": [
       "<div>\n",
       "<style scoped>\n",
       "    .dataframe tbody tr th:only-of-type {\n",
       "        vertical-align: middle;\n",
       "    }\n",
       "\n",
       "    .dataframe tbody tr th {\n",
       "        vertical-align: top;\n",
       "    }\n",
       "\n",
       "    .dataframe thead th {\n",
       "        text-align: right;\n",
       "    }\n",
       "</style>\n",
       "<table border=\"1\" class=\"dataframe\">\n",
       "  <thead>\n",
       "    <tr style=\"text-align: right;\">\n",
       "      <th></th>\n",
       "      <th>Event.Id</th>\n",
       "      <th>Investigation.Type</th>\n",
       "      <th>Accident.Number</th>\n",
       "      <th>Event.Date</th>\n",
       "      <th>Location</th>\n",
       "      <th>Country</th>\n",
       "      <th>Latitude</th>\n",
       "      <th>Longitude</th>\n",
       "      <th>Airport.Code</th>\n",
       "      <th>Airport.Name</th>\n",
       "      <th>...</th>\n",
       "      <th>Purpose.of.flight</th>\n",
       "      <th>Air.carrier</th>\n",
       "      <th>Total.Fatal.Injuries</th>\n",
       "      <th>Total.Serious.Injuries</th>\n",
       "      <th>Total.Minor.Injuries</th>\n",
       "      <th>Total.Uninjured</th>\n",
       "      <th>Weather.Condition</th>\n",
       "      <th>Broad.phase.of.flight</th>\n",
       "      <th>Report.Status</th>\n",
       "      <th>Publication.Date</th>\n",
       "    </tr>\n",
       "  </thead>\n",
       "  <tbody>\n",
       "    <tr>\n",
       "      <th>0</th>\n",
       "      <td>20001218X45444</td>\n",
       "      <td>Accident</td>\n",
       "      <td>SEA87LA080</td>\n",
       "      <td>1948-10-24</td>\n",
       "      <td>MOOSE CREEK, ID</td>\n",
       "      <td>United States</td>\n",
       "      <td>NaN</td>\n",
       "      <td>NaN</td>\n",
       "      <td>NaN</td>\n",
       "      <td>NaN</td>\n",
       "      <td>...</td>\n",
       "      <td>Personal</td>\n",
       "      <td>NaN</td>\n",
       "      <td>2.0</td>\n",
       "      <td>0.0</td>\n",
       "      <td>0.0</td>\n",
       "      <td>0.0</td>\n",
       "      <td>UNK</td>\n",
       "      <td>Cruise</td>\n",
       "      <td>Probable Cause</td>\n",
       "      <td>NaN</td>\n",
       "    </tr>\n",
       "    <tr>\n",
       "      <th>1</th>\n",
       "      <td>20001218X45447</td>\n",
       "      <td>Accident</td>\n",
       "      <td>LAX94LA336</td>\n",
       "      <td>1962-07-19</td>\n",
       "      <td>BRIDGEPORT, CA</td>\n",
       "      <td>United States</td>\n",
       "      <td>NaN</td>\n",
       "      <td>NaN</td>\n",
       "      <td>NaN</td>\n",
       "      <td>NaN</td>\n",
       "      <td>...</td>\n",
       "      <td>Personal</td>\n",
       "      <td>NaN</td>\n",
       "      <td>4.0</td>\n",
       "      <td>0.0</td>\n",
       "      <td>0.0</td>\n",
       "      <td>0.0</td>\n",
       "      <td>UNK</td>\n",
       "      <td>Unknown</td>\n",
       "      <td>Probable Cause</td>\n",
       "      <td>19-09-1996</td>\n",
       "    </tr>\n",
       "    <tr>\n",
       "      <th>2</th>\n",
       "      <td>20061025X01555</td>\n",
       "      <td>Accident</td>\n",
       "      <td>NYC07LA005</td>\n",
       "      <td>1974-08-30</td>\n",
       "      <td>Saltville, VA</td>\n",
       "      <td>United States</td>\n",
       "      <td>36.922223</td>\n",
       "      <td>-81.878056</td>\n",
       "      <td>NaN</td>\n",
       "      <td>NaN</td>\n",
       "      <td>...</td>\n",
       "      <td>Personal</td>\n",
       "      <td>NaN</td>\n",
       "      <td>3.0</td>\n",
       "      <td>NaN</td>\n",
       "      <td>NaN</td>\n",
       "      <td>NaN</td>\n",
       "      <td>IMC</td>\n",
       "      <td>Cruise</td>\n",
       "      <td>Probable Cause</td>\n",
       "      <td>26-02-2007</td>\n",
       "    </tr>\n",
       "    <tr>\n",
       "      <th>3</th>\n",
       "      <td>20001218X45448</td>\n",
       "      <td>Accident</td>\n",
       "      <td>LAX96LA321</td>\n",
       "      <td>1977-06-19</td>\n",
       "      <td>EUREKA, CA</td>\n",
       "      <td>United States</td>\n",
       "      <td>NaN</td>\n",
       "      <td>NaN</td>\n",
       "      <td>NaN</td>\n",
       "      <td>NaN</td>\n",
       "      <td>...</td>\n",
       "      <td>Personal</td>\n",
       "      <td>NaN</td>\n",
       "      <td>2.0</td>\n",
       "      <td>0.0</td>\n",
       "      <td>0.0</td>\n",
       "      <td>0.0</td>\n",
       "      <td>IMC</td>\n",
       "      <td>Cruise</td>\n",
       "      <td>Probable Cause</td>\n",
       "      <td>12-09-2000</td>\n",
       "    </tr>\n",
       "    <tr>\n",
       "      <th>4</th>\n",
       "      <td>20041105X01764</td>\n",
       "      <td>Accident</td>\n",
       "      <td>CHI79FA064</td>\n",
       "      <td>1979-08-02</td>\n",
       "      <td>Canton, OH</td>\n",
       "      <td>United States</td>\n",
       "      <td>NaN</td>\n",
       "      <td>NaN</td>\n",
       "      <td>NaN</td>\n",
       "      <td>NaN</td>\n",
       "      <td>...</td>\n",
       "      <td>Personal</td>\n",
       "      <td>NaN</td>\n",
       "      <td>1.0</td>\n",
       "      <td>2.0</td>\n",
       "      <td>NaN</td>\n",
       "      <td>0.0</td>\n",
       "      <td>VMC</td>\n",
       "      <td>Approach</td>\n",
       "      <td>Probable Cause</td>\n",
       "      <td>16-04-1980</td>\n",
       "    </tr>\n",
       "  </tbody>\n",
       "</table>\n",
       "<p>5 rows × 31 columns</p>\n",
       "</div>"
      ],
      "text/plain": [
       "         Event.Id Investigation.Type Accident.Number  Event.Date  \\\n",
       "0  20001218X45444           Accident      SEA87LA080  1948-10-24   \n",
       "1  20001218X45447           Accident      LAX94LA336  1962-07-19   \n",
       "2  20061025X01555           Accident      NYC07LA005  1974-08-30   \n",
       "3  20001218X45448           Accident      LAX96LA321  1977-06-19   \n",
       "4  20041105X01764           Accident      CHI79FA064  1979-08-02   \n",
       "\n",
       "          Location        Country   Latitude   Longitude Airport.Code  \\\n",
       "0  MOOSE CREEK, ID  United States        NaN         NaN          NaN   \n",
       "1   BRIDGEPORT, CA  United States        NaN         NaN          NaN   \n",
       "2    Saltville, VA  United States  36.922223  -81.878056          NaN   \n",
       "3       EUREKA, CA  United States        NaN         NaN          NaN   \n",
       "4       Canton, OH  United States        NaN         NaN          NaN   \n",
       "\n",
       "  Airport.Name  ... Purpose.of.flight Air.carrier Total.Fatal.Injuries  \\\n",
       "0          NaN  ...          Personal         NaN                  2.0   \n",
       "1          NaN  ...          Personal         NaN                  4.0   \n",
       "2          NaN  ...          Personal         NaN                  3.0   \n",
       "3          NaN  ...          Personal         NaN                  2.0   \n",
       "4          NaN  ...          Personal         NaN                  1.0   \n",
       "\n",
       "  Total.Serious.Injuries Total.Minor.Injuries Total.Uninjured  \\\n",
       "0                    0.0                  0.0             0.0   \n",
       "1                    0.0                  0.0             0.0   \n",
       "2                    NaN                  NaN             NaN   \n",
       "3                    0.0                  0.0             0.0   \n",
       "4                    2.0                  NaN             0.0   \n",
       "\n",
       "  Weather.Condition  Broad.phase.of.flight   Report.Status Publication.Date  \n",
       "0               UNK                 Cruise  Probable Cause              NaN  \n",
       "1               UNK                Unknown  Probable Cause       19-09-1996  \n",
       "2               IMC                 Cruise  Probable Cause       26-02-2007  \n",
       "3               IMC                 Cruise  Probable Cause       12-09-2000  \n",
       "4               VMC               Approach  Probable Cause       16-04-1980  \n",
       "\n",
       "[5 rows x 31 columns]"
      ]
     },
     "execution_count": 1,
     "metadata": {},
     "output_type": "execute_result"
    }
   ],
   "source": [
    "#import packages\n",
    "import pandas as pd\n",
    "import seaborn as sns\n",
    "import matplotlib.pyplot as plt\n",
    "import numpy as np\n",
    "%matplotlib inline\n",
    "#load csv as dataframe and display preview\n",
    "df = pd.read_csv('data/Aviation_Data.csv', low_memory=False)\n",
    "df.head()"
   ]
  },
  {
   "cell_type": "markdown",
   "metadata": {},
   "source": [
    "# Step 2: remove as many uncessary columns as possible"
   ]
  },
  {
   "cell_type": "markdown",
   "metadata": {},
   "source": [
    "Next, we need to narrow the scope of our analysis to only what is relevant to the core business question. I did extensive exploration of the data before making a decision about which variables are relevant to my analysis, so it's most efficient for me to just drop the columns I don't plan to use right off the bat."
   ]
  },
  {
   "cell_type": "code",
   "execution_count": 2,
   "metadata": {
    "scrolled": true
   },
   "outputs": [],
   "source": [
    "#drop all of the columns I do not plan to use in my analysis\n",
    "df=df.drop(axis=1, labels=\n",
    "        ['Investigation.Type', 'Accident.Number', 'Location', 'Country', 'Latitude', 'Longitude', 'Airport.Code', 'Airport.Name', 'Aircraft.Category', 'Registration.Number', 'FAR.Description', 'Schedule', 'Purpose.of.flight', 'Air.carrier', 'Broad.phase.of.flight', 'Publication.Date', 'Report.Status']\n",
    "       )"
   ]
  },
  {
   "cell_type": "markdown",
   "metadata": {},
   "source": [
    "Now, let's get a general summary of the missing and duplicate values in the data."
   ]
  },
  {
   "cell_type": "code",
   "execution_count": 3,
   "metadata": {
    "scrolled": false
   },
   "outputs": [
    {
     "data": {
      "text/plain": [
       "Event.Id                   1459\n",
       "Event.Date                 1459\n",
       "Injury.Severity            2459\n",
       "Aircraft.damage            4653\n",
       "Make                       1522\n",
       "Model                      1551\n",
       "Amateur.Built              1561\n",
       "Number.of.Engines          7543\n",
       "Engine.Type                8536\n",
       "Total.Fatal.Injuries      12860\n",
       "Total.Serious.Injuries    13969\n",
       "Total.Minor.Injuries      13392\n",
       "Total.Uninjured            7371\n",
       "Weather.Condition          5951\n",
       "dtype: int64"
      ]
     },
     "execution_count": 3,
     "metadata": {},
     "output_type": "execute_result"
    }
   ],
   "source": [
    "#Display the total number of NaN entires in each column.\n",
    "df.isna().sum()"
   ]
  },
  {
   "cell_type": "code",
   "execution_count": 4,
   "metadata": {
    "scrolled": true
   },
   "outputs": [
    {
     "data": {
      "text/plain": [
       "False    88846\n",
       "True      1502\n",
       "dtype: int64"
      ]
     },
     "execution_count": 4,
     "metadata": {},
     "output_type": "execute_result"
    }
   ],
   "source": [
    "### find total number of duplicate rows\n",
    "df.duplicated().value_counts()"
   ]
  },
  {
   "cell_type": "markdown",
   "metadata": {},
   "source": [
    "# Step 3: Clean the data"
   ]
  },
  {
   "cell_type": "markdown",
   "metadata": {},
   "source": [
    "## Dropping Duplicates\n",
    "First, let's just remove all the duplicated records. This will be nice and easy!"
   ]
  },
  {
   "cell_type": "code",
   "execution_count": 5,
   "metadata": {
    "scrolled": false
   },
   "outputs": [
    {
     "data": {
      "text/plain": [
       "False    88846\n",
       "dtype: int64"
      ]
     },
     "execution_count": 5,
     "metadata": {},
     "output_type": "execute_result"
    }
   ],
   "source": [
    "#drop all duplicate rows and confirm there are no more duplicates\n",
    "df = df.drop_duplicates()\n",
    "df.duplicated().value_counts()"
   ]
  },
  {
   "cell_type": "markdown",
   "metadata": {},
   "source": [
    "## Placeholders and Missing Values"
   ]
  },
  {
   "cell_type": "markdown",
   "metadata": {},
   "source": [
    "### Event ID\n",
    "Now, we need to remove or fill in the missing and placeholder values. I've determined that the best way to do this will be to just go column-by-column and decide on the best solution for each one individually. I'll start with the Event Id column because it is the first."
   ]
  },
  {
   "cell_type": "code",
   "execution_count": 6,
   "metadata": {
    "scrolled": true
   },
   "outputs": [],
   "source": [
    "#Remove all NaNs from Event Id\n",
    "df=df.dropna(subset=['Event.Id'])"
   ]
  },
  {
   "cell_type": "markdown",
   "metadata": {},
   "source": [
    "### Injury Severity\n",
    "Next, I will work with the injury severity column. The data in this column is extremely irregular and redundant with other columns in the dataframe, but I think a simple fatal or non-fatal distinction is useful to me, so I will simplify it to that."
   ]
  },
  {
   "cell_type": "code",
   "execution_count": 7,
   "metadata": {
    "scrolled": false
   },
   "outputs": [
    {
     "data": {
      "text/plain": [
       "Non-Fatal      67336\n",
       "Fatal(1)        6165\n",
       "Fatal           5262\n",
       "Fatal(2)        3705\n",
       "Incident        2211\n",
       "Fatal(3)        1146\n",
       "Fatal(4)         808\n",
       "Fatal(5)         235\n",
       "Minor            217\n",
       "Serious          173\n",
       "Fatal(6)         161\n",
       "Unavailable       96\n",
       "Fatal(7)          56\n",
       "Fatal(8)          51\n",
       "Fatal(10)         32\n",
       "Fatal(9)          18\n",
       "Fatal(14)         11\n",
       "Fatal(11)         10\n",
       "Fatal(13)          9\n",
       "Fatal(12)          8\n",
       "Name: Injury.Severity, dtype: int64"
      ]
     },
     "execution_count": 7,
     "metadata": {},
     "output_type": "execute_result"
    }
   ],
   "source": [
    "#Show the irregular data contained in this column\n",
    "df['Injury.Severity'].value_counts().head(20)"
   ]
  },
  {
   "cell_type": "code",
   "execution_count": 8,
   "metadata": {
    "scrolled": false
   },
   "outputs": [
    {
     "data": {
      "text/plain": [
       "Non-Fatal    69937\n",
       "Fatal(1)      6165\n",
       "Fatal         5262\n",
       "Fatal(2)      3705\n",
       "Fatal(3)      1146\n",
       "Fatal(4)       808\n",
       "Fatal(5)       235\n",
       "Fatal(6)       161\n",
       "Fatal(7)        56\n",
       "Fatal(8)        51\n",
       "Fatal(10)       32\n",
       "Fatal(9)        18\n",
       "Fatal(14)       11\n",
       "Fatal(11)       10\n",
       "Fatal(13)        9\n",
       "Fatal(12)        8\n",
       "Fatal(20)        5\n",
       "Fatal(15)        5\n",
       "Fatal(18)        5\n",
       "Fatal(23)        4\n",
       "Name: Injury.Severity, dtype: int64"
      ]
     },
     "execution_count": 8,
     "metadata": {},
     "output_type": "execute_result"
    }
   ],
   "source": [
    "#This cell standardizes the non-fatal values and drops unkowns/NaNs.\n",
    "df['Injury.Severity'] = df['Injury.Severity'].replace(to_replace=['Incident', 'Minor', 'Serious'], value='Non-Fatal')\n",
    "df = df.drop(df[df['Injury.Severity'] == 'Unavailable'].index)\n",
    "df.dropna(axis=0, subset=['Injury.Severity'], inplace=True)\n",
    "df['Injury.Severity'].value_counts().head(20)"
   ]
  },
  {
   "cell_type": "code",
   "execution_count": 9,
   "metadata": {
    "scrolled": true
   },
   "outputs": [],
   "source": [
    "#This cell standardizes the Fatal entries based on their length. Anything longer than 5 characters is just set to 'Fatal'.\n",
    "df['Injury.Severity'] = df['Injury.Severity'].map(lambda x: 'Fatal' if x[:5]=='Fatal' else x)"
   ]
  },
  {
   "cell_type": "code",
   "execution_count": 10,
   "metadata": {
    "scrolled": true
   },
   "outputs": [
    {
     "data": {
      "text/plain": [
       "Non-Fatal    69937\n",
       "Fatal        17813\n",
       "Name: Injury.Severity, dtype: int64"
      ]
     },
     "execution_count": 10,
     "metadata": {},
     "output_type": "execute_result"
    }
   ],
   "source": [
    "#Display the cleaned column\n",
    "df['Injury.Severity'].value_counts()"
   ]
  },
  {
   "cell_type": "markdown",
   "metadata": {},
   "source": [
    "### Make and Model\n",
    "The next two columns are the most important in the dataset. They will enable my analysis by allowing me to track the individual makes and models of the planes in the data, so that I can determine which ones are the most dangerous."
   ]
  },
  {
   "cell_type": "code",
   "execution_count": 11,
   "metadata": {
    "scrolled": false
   },
   "outputs": [
    {
     "data": {
      "text/plain": [
       "Cessna               22201\n",
       "Piper                12016\n",
       "CESSNA                4841\n",
       "Beech                 4326\n",
       "PIPER                 2814\n",
       "Bell                  2116\n",
       "Boeing                1530\n",
       "Mooney                1092\n",
       "Grumman               1091\n",
       "BEECH                 1025\n",
       "Robinson               941\n",
       "Bellanca               886\n",
       "Hughes                 794\n",
       "BOEING                 720\n",
       "Schweizer              627\n",
       "Air Tractor            595\n",
       "BELL                   570\n",
       "Mcdonnell Douglas      515\n",
       "Aeronca                486\n",
       "Maule                  445\n",
       "Name: Make, dtype: int64"
      ]
     },
     "execution_count": 11,
     "metadata": {},
     "output_type": "execute_result"
    }
   ],
   "source": [
    "#Now I need to handle the make and model columns. They are both categorical, do not have placeholder values, and only have a \n",
    "#small amount of missing values, which it will be convenient for me to just drop.\n",
    "\n",
    "df['Make'].value_counts().head(20)"
   ]
  },
  {
   "cell_type": "code",
   "execution_count": 12,
   "metadata": {
    "scrolled": true
   },
   "outputs": [],
   "source": [
    "df.dropna(axis=0, subset=['Make'], inplace=True)"
   ]
  },
  {
   "cell_type": "code",
   "execution_count": 13,
   "metadata": {
    "scrolled": false
   },
   "outputs": [
    {
     "data": {
      "text/plain": [
       "152          2357\n",
       "172          1742\n",
       "172N         1161\n",
       "PA-28-140     930\n",
       "150           825\n",
       "172M          797\n",
       "172P          685\n",
       "182           656\n",
       "180           622\n",
       "150M          585\n",
       "PA-18         579\n",
       "PA-18-150     578\n",
       "PA-28-180     572\n",
       "PA-28-161     569\n",
       "PA-28-181     530\n",
       "206B          521\n",
       "PA-38-112     467\n",
       "150L          461\n",
       "G-164A        460\n",
       "A36           450\n",
       "Name: Model, dtype: int64"
      ]
     },
     "execution_count": 13,
     "metadata": {},
     "output_type": "execute_result"
    }
   ],
   "source": [
    "df['Model'].value_counts().head(20)"
   ]
  },
  {
   "cell_type": "code",
   "execution_count": 14,
   "metadata": {
    "scrolled": true
   },
   "outputs": [],
   "source": [
    "df.dropna(axis=0, subset=['Model'], inplace=True)"
   ]
  },
  {
   "cell_type": "markdown",
   "metadata": {},
   "source": [
    "### Amateur Built\n",
    "Now for the Amateur Built column. This column is currently categorical with string values, but I don't really see a reason for this to be in a format other than true/false boolean, so I'm going to convert it to that."
   ]
  },
  {
   "cell_type": "code",
   "execution_count": 15,
   "metadata": {
    "scrolled": true
   },
   "outputs": [
    {
     "data": {
      "text/plain": [
       "No     79143\n",
       "Yes     8428\n",
       "Name: Amateur.Built, dtype: int64"
      ]
     },
     "execution_count": 15,
     "metadata": {},
     "output_type": "execute_result"
    }
   ],
   "source": [
    "df['Amateur.Built'].value_counts().head()"
   ]
  },
  {
   "cell_type": "code",
   "execution_count": 16,
   "metadata": {
    "scrolled": true
   },
   "outputs": [
    {
     "data": {
      "text/plain": [
       "False    79143\n",
       "True      8428\n",
       "Name: Amateur.Built, dtype: int64"
      ]
     },
     "execution_count": 16,
     "metadata": {},
     "output_type": "execute_result"
    }
   ],
   "source": [
    "#This code drops the NaN values and manipulates it into boolean format by mapping 'yes' to true and anything else to false.\n",
    "df.dropna(subset=['Amateur.Built'], inplace=True)\n",
    "df['Amateur.Built'] = df['Amateur.Built'].map(lambda x: True if x=='Yes' else False)\n",
    "df['Amateur.Built'].value_counts().head()"
   ]
  },
  {
   "cell_type": "markdown",
   "metadata": {},
   "source": [
    "### Number of Engines\n",
    "The number of engines will feature at some point in my analysis since it is a great measure of the size of an airplane, but it is not the most critically important statistic to my analysis. I do not think it will be a big deal if I cause a change in its summary statistics, so I will just fill with the median value, since the mean would be a decimal, which is inconsistent with the rest of the data."
   ]
  },
  {
   "cell_type": "code",
   "execution_count": 17,
   "metadata": {
    "scrolled": true
   },
   "outputs": [
    {
     "name": "stdout",
     "output_type": "stream",
     "text": [
      "1.0    69448\n",
      "2.0    10839\n",
      "0.0     1205\n",
      "3.0      482\n",
      "4.0      411\n",
      "8.0        3\n",
      "6.0        1\n",
      "Name: Number.of.Engines, dtype: int64\n",
      "1.143914843000886\n"
     ]
    }
   ],
   "source": [
    "print(df['Number.of.Engines'].value_counts().head(10))\n",
    "print(df['Number.of.Engines'].mean())"
   ]
  },
  {
   "cell_type": "code",
   "execution_count": 18,
   "metadata": {
    "scrolled": false
   },
   "outputs": [],
   "source": [
    "#fillna with the median of the column\n",
    "df['Number.of.Engines'].fillna(df['Number.of.Engines'].median(), inplace=True)"
   ]
  },
  {
   "cell_type": "markdown",
   "metadata": {},
   "source": [
    "Now I need to check to see how that operation affected the data. It looks like it very slightly lowered the mean value by assuming all the NaNs were planes with 1 engine. This should be perfectly fine for my analysis, since I am working under the assumption that my stakeholders want to buy larger planes anyway, and most of these fabricated values will be ignored."
   ]
  },
  {
   "cell_type": "code",
   "execution_count": 19,
   "metadata": {
    "scrolled": true
   },
   "outputs": [
    {
     "name": "stdout",
     "output_type": "stream",
     "text": [
      "1.0    74630\n",
      "2.0    10839\n",
      "0.0     1205\n",
      "3.0      482\n",
      "4.0      411\n",
      "8.0        3\n",
      "6.0        1\n",
      "Name: Number.of.Engines, dtype: int64\n",
      "1.1353987050507588\n"
     ]
    }
   ],
   "source": [
    "#print the value counts and mean of the data\n",
    "print(df['Number.of.Engines'].value_counts().head(10))\n",
    "print(df['Number.of.Engines'].mean())"
   ]
  },
  {
   "cell_type": "markdown",
   "metadata": {},
   "source": [
    "### Engine Type\n",
    "Now it's time for something more difficult. The engine type column is categorical and has several different placeholder values which need to be dealt with. I cannot just drop them or fill with the mean or median, so I'm going to have to do something just a little bit more creative."
   ]
  },
  {
   "cell_type": "code",
   "execution_count": 20,
   "metadata": {
    "scrolled": true
   },
   "outputs": [
    {
     "name": "stdout",
     "output_type": "stream",
     "text": [
      "Reciprocating    0.852271\n",
      "Turbo Shaft      0.044144\n",
      "Turbo Prop       0.041333\n",
      "Turbo Fan        0.028799\n",
      "Unknown          0.024478\n",
      "Turbo Jet        0.008556\n",
      "None             0.000233\n",
      "Electric         0.000098\n",
      "LR               0.000025\n",
      "NONE             0.000025\n",
      "Name: Engine.Type, dtype: float64\n"
     ]
    }
   ],
   "source": [
    "print(df['Engine.Type'].value_counts(normalize=True).head(10))"
   ]
  },
  {
   "cell_type": "code",
   "execution_count": 21,
   "metadata": {
    "scrolled": false
   },
   "outputs": [
    {
     "data": {
      "text/plain": [
       "Reciprocating      69426\n",
       "Turbo Shaft         3596\n",
       "Turbo Prop          3367\n",
       "Turbo Fan           2346\n",
       "Unknown             1994\n",
       "Turbo Jet            697\n",
       "None                  19\n",
       "Electric               8\n",
       "LR                     2\n",
       "NONE                   2\n",
       "Geared Turbofan        1\n",
       "Hybrid Rocket          1\n",
       "UNK                    1\n",
       "Name: Engine.Type, dtype: int64"
      ]
     },
     "execution_count": 21,
     "metadata": {},
     "output_type": "execute_result"
    }
   ],
   "source": [
    "df['Engine.Type'].value_counts()"
   ]
  },
  {
   "cell_type": "markdown",
   "metadata": {},
   "source": [
    "First, I will simply drop the none values, since they are such a small subset of the total. Then, I will fill the NaNs with the 'unknown' placeholder value to simplify the following steps. Then, I am going to employ a trick that I learned from the solution branch of the DSC dealing missing data lab solution branch. It has a function that calculates the normal distribution of the values in a column, converts them each into a percentage of the total, and then feeds those percentages to a numpy choose function in order to assign random values to the placeholders according to the normal distribution of the data. I like this method since it tends to have a very small effect on the summary statistics of the data."
   ]
  },
  {
   "cell_type": "code",
   "execution_count": 22,
   "metadata": {
    "scrolled": false
   },
   "outputs": [
    {
     "data": {
      "text/plain": [
       "Reciprocating      0.792797\n",
       "Unknown            0.092793\n",
       "Turbo Shaft        0.041064\n",
       "Turbo Prop         0.038449\n",
       "Turbo Fan          0.026790\n",
       "Turbo Jet          0.007959\n",
       "Electric           0.000091\n",
       "LR                 0.000023\n",
       "Geared Turbofan    0.000011\n",
       "Hybrid Rocket      0.000011\n",
       "UNK                0.000011\n",
       "Name: Engine.Type, dtype: float64"
      ]
     },
     "execution_count": 22,
     "metadata": {},
     "output_type": "execute_result"
    }
   ],
   "source": [
    "#Standardize placeholder values\n",
    "df['Engine.Type'] = df['Engine.Type'].loc[df['Engine.Type'] != 'NONE']\n",
    "df['Engine.Type'] = df['Engine.Type'].loc[df['Engine.Type'] != 'None']\n",
    "df['Engine.Type'].fillna(value='Unknown', inplace=True)\n",
    "df['Engine.Type'].value_counts(normalize=True) "
   ]
  },
  {
   "cell_type": "markdown",
   "metadata": {},
   "source": [
    "Before anything else, it is highly important to set the numpy random seed for reproducability, since there is a random element to how the data will be distributed with the method I am using. I want to make sure the result is exactly the same every time this notebook is run, so I set the random seed in the cell below."
   ]
  },
  {
   "cell_type": "code",
   "execution_count": 23,
   "metadata": {},
   "outputs": [],
   "source": [
    "np.random.seed(42)"
   ]
  },
  {
   "cell_type": "markdown",
   "metadata": {},
   "source": [
    "Next, I need to start defining functions, since I will be using this method again later in my data cleaning. The first function needs to take a df and column as input. I also want to optionally be able to include a list of values to ignore/not calculate normals for so that I can exclude placeholders and outliers."
   ]
  },
  {
   "cell_type": "code",
   "execution_count": 24,
   "metadata": {
    "scrolled": true
   },
   "outputs": [],
   "source": [
    "def get_norms(df, column, ignore=[]):\n",
    "    '''\n",
    "    Returns normalized value counts of the specified column in df. Ignore is a list of values to exclude from this calculation.\n",
    "    '''\n",
    "    c = dict(df[column].value_counts(normalize=True))\n",
    "    for key in ignore:\n",
    "        del c[key]\n",
    "    return list(c.values())"
   ]
  },
  {
   "cell_type": "code",
   "execution_count": 25,
   "metadata": {
    "scrolled": true
   },
   "outputs": [
    {
     "data": {
      "text/plain": [
       "[0.792796702104578,\n",
       " 0.04106382249831565,\n",
       " 0.0384488015438901,\n",
       " 0.026789690651014605,\n",
       " 0.007959255918055064]"
      ]
     },
     "execution_count": 25,
     "metadata": {},
     "output_type": "execute_result"
    }
   ],
   "source": [
    "remove_list = ['Unknown', 'Electric', 'LR', 'UNK', 'Geared Turbofan', 'Hybrid Rocket']\n",
    "norms = get_norms(df, 'Engine.Type', remove_list)\n",
    "norms"
   ]
  },
  {
   "cell_type": "markdown",
   "metadata": {},
   "source": [
    "Perfect, that works exactly how I want it to. I can give my function a dataframe and the column I want the normal distribution of, and it will return a list of the values. I can even give it a list of values I want it to exclude! As a consequence of me using that to exclude the placeholder values I plan to replace, I need to re-normalize these values so they can be used as percentage chances."
   ]
  },
  {
   "cell_type": "code",
   "execution_count": 26,
   "metadata": {
    "scrolled": false
   },
   "outputs": [],
   "source": [
    "def get_probs(normal_list):\n",
    "    '''\n",
    "    Takes a list as an argument and returns normalized values.\n",
    "    '''\n",
    "    probabilities = []\n",
    "    for number in normal_list:\n",
    "        probabilities.append(number/sum(normal_list))\n",
    "    return probabilities"
   ]
  },
  {
   "cell_type": "code",
   "execution_count": 27,
   "metadata": {},
   "outputs": [
    {
     "data": {
      "text/plain": [
       "[0.8740306173834225,\n",
       " 0.04527142713264176,\n",
       " 0.04238845805217041,\n",
       " 0.029534696344042707,\n",
       " 0.008774801087722835]"
      ]
     },
     "execution_count": 27,
     "metadata": {},
     "output_type": "execute_result"
    }
   ],
   "source": [
    "norms = get_probs(norms)\n",
    "norms"
   ]
  },
  {
   "cell_type": "markdown",
   "metadata": {},
   "source": [
    "Now, I need to write the function that fills in the placeholder values according to this distribution. "
   ]
  },
  {
   "cell_type": "code",
   "execution_count": 28,
   "metadata": {},
   "outputs": [],
   "source": [
    "def impute(value, choices, chances):\n",
    "    '''\n",
    "    If a given value is unknown, replace it with one of the choices given according to the probabilities given.\n",
    "    '''\n",
    "    if value == 'Unknown':\n",
    "        return np.random.choice(choices, p=chances)\n",
    "    else:\n",
    "        return value"
   ]
  },
  {
   "cell_type": "markdown",
   "metadata": {},
   "source": [
    "Now, I just need to map this function to each value in the engine type column using a lambda function, while feeding it the list of valid options for it to choose from ordered the same as their probabilities."
   ]
  },
  {
   "cell_type": "code",
   "execution_count": 29,
   "metadata": {},
   "outputs": [],
   "source": [
    "choice_list = ['Reciprocating', 'Turbo Shaft', 'Turbo Prop', 'Turbo Fan', 'Turbo Jet'] #hard-coded list of values\n",
    "\n",
    "df['Engine.Type'] = df['Engine.Type'].map(lambda x: impute(x, choice_list, norms))"
   ]
  },
  {
   "cell_type": "code",
   "execution_count": 30,
   "metadata": {},
   "outputs": [
    {
     "data": {
      "text/plain": [
       "Reciprocating      0.874171\n",
       "Turbo Shaft        0.045061\n",
       "Turbo Prop         0.042366\n",
       "Turbo Fan          0.029587\n",
       "Turbo Jet          0.008667\n",
       "Electric           0.000091\n",
       "LR                 0.000023\n",
       "Geared Turbofan    0.000011\n",
       "Hybrid Rocket      0.000011\n",
       "UNK                0.000011\n",
       "Name: Engine.Type, dtype: float64"
      ]
     },
     "execution_count": 30,
     "metadata": {},
     "output_type": "execute_result"
    }
   ],
   "source": [
    "df['Engine.Type'].value_counts(normalize=True)"
   ]
  },
  {
   "cell_type": "markdown",
   "metadata": {
    "scrolled": true
   },
   "source": [
    "It looks like that worked exactly how I wanted it to! This definitely has an affect on the summary statistics of this\n",
    "column, but it's a more acceptable effect than just dropping over 5% of the values would be. Next, I'll be making heavy usage of those functions I just defined to standardize the next four columns."
   ]
  },
  {
   "cell_type": "markdown",
   "metadata": {},
   "source": [
    "My plan for the injury totals is to fill all NaN values with 'Unknown', and then apply the functions I just wrote to them in the same way to preserve the summary statistics while filling in the missing values."
   ]
  },
  {
   "cell_type": "markdown",
   "metadata": {},
   "source": [
    "### Total Fatal Injuries\n",
    "For this column, I am going to ignore everything other than the top 5 most common values to avoid inflating outliers."
   ]
  },
  {
   "cell_type": "code",
   "execution_count": 31,
   "metadata": {},
   "outputs": [
    {
     "name": "stdout",
     "output_type": "stream",
     "text": [
      "4.0    0.014372\n",
      "3.0    0.020673\n",
      "2.0    0.067470\n",
      "1.0    0.116009\n",
      "0.0    0.767667\n",
      "Name: Total.Fatal.Injuries, dtype: float64\n"
     ]
    }
   ],
   "source": [
    "#This cell displays the five most common values in this column. I plan to only fill the NaNs in to these five buckets.\n",
    "print(df['Total.Fatal.Injuries'].value_counts(normalize=True).sort_values().tail())"
   ]
  },
  {
   "cell_type": "code",
   "execution_count": 32,
   "metadata": {},
   "outputs": [
    {
     "data": {
      "text/plain": [
       "[0.767666710336696,\n",
       " 0.11600943272631993,\n",
       " 0.06747019520503078,\n",
       " 0.02067339185117254,\n",
       " 0.014371806629110442]"
      ]
     },
     "execution_count": 32,
     "metadata": {},
     "output_type": "execute_result"
    }
   ],
   "source": [
    "#I've shot myself in the foot by not also including an option in this function to only keep the first x number of values.\n",
    "#Instead, I will manually delete everything after the first 5.\n",
    "norms = get_norms(df, 'Total.Fatal.Injuries')\n",
    "del norms[5:]\n",
    "norms"
   ]
  },
  {
   "cell_type": "code",
   "execution_count": 33,
   "metadata": {},
   "outputs": [
    {
     "data": {
      "text/plain": [
       "10.0    0.000502\n",
       "8.0     0.000777\n",
       "7.0     0.001153\n",
       "6.0     0.002467\n",
       "5.0     0.003940\n",
       "4.0     0.014571\n",
       "3.0     0.020578\n",
       "2.0     0.067557\n",
       "1.0     0.116534\n",
       "0.0     0.768725\n",
       "Name: Total.Fatal.Injuries, dtype: float64"
      ]
     },
     "execution_count": 33,
     "metadata": {},
     "output_type": "execute_result"
    }
   ],
   "source": [
    "choice_list = [0.0, 1.0, 2.0, 3.0, 4.0]\n",
    "df['Total.Fatal.Injuries'].fillna(value='Unknown', inplace=True)\n",
    "df['Total.Fatal.Injuries'] = df['Total.Fatal.Injuries'].map(lambda x: impute(x, choice_list, get_probs(norms)))\n",
    "df['Total.Fatal.Injuries'].value_counts(normalize=True).sort_values().tail(10)"
   ]
  },
  {
   "cell_type": "markdown",
   "metadata": {},
   "source": [
    "Perfect, it looks like that went off without a hitch, and had a minimal effect on summary statistics! I need to make sure there are not any NaN values left after that, and then I will repeat the same process for the next three columns."
   ]
  },
  {
   "cell_type": "code",
   "execution_count": 34,
   "metadata": {
    "scrolled": true
   },
   "outputs": [
    {
     "data": {
      "text/plain": [
       "False"
      ]
     },
     "execution_count": 34,
     "metadata": {},
     "output_type": "execute_result"
    }
   ],
   "source": [
    "df['Total.Fatal.Injuries'].isna().any()"
   ]
  },
  {
   "cell_type": "markdown",
   "metadata": {},
   "source": [
    "### Total Serious Injuries"
   ]
  },
  {
   "cell_type": "code",
   "execution_count": 35,
   "metadata": {
    "scrolled": true
   },
   "outputs": [
    {
     "name": "stdout",
     "output_type": "stream",
     "text": [
      "4.0    0.003402\n",
      "3.0    0.008345\n",
      "2.0    0.037340\n",
      "1.0    0.121097\n",
      "0.0    0.826375\n",
      "Name: Total.Serious.Injuries, dtype: float64\n"
     ]
    }
   ],
   "source": [
    "print(df['Total.Serious.Injuries'].value_counts(normalize=True).sort_values().tail())"
   ]
  },
  {
   "cell_type": "code",
   "execution_count": 36,
   "metadata": {},
   "outputs": [
    {
     "data": {
      "text/plain": [
       "[0.8263746777579929,\n",
       " 0.12109655300714912,\n",
       " 0.03734020782948415,\n",
       " 0.008345071358333112,\n",
       " 0.0034018125282377016]"
      ]
     },
     "execution_count": 36,
     "metadata": {},
     "output_type": "execute_result"
    }
   ],
   "source": [
    "norms = get_norms(df, 'Total.Serious.Injuries')\n",
    "del norms[5:]\n",
    "norms"
   ]
  },
  {
   "cell_type": "code",
   "execution_count": 37,
   "metadata": {},
   "outputs": [
    {
     "data": {
      "text/plain": [
       "8.0    0.000148\n",
       "9.0    0.000171\n",
       "7.0    0.000308\n",
       "6.0    0.000457\n",
       "5.0    0.000879\n",
       "4.0    0.003551\n",
       "3.0    0.008222\n",
       "2.0    0.037478\n",
       "1.0    0.120576\n",
       "0.0    0.827214\n",
       "Name: Total.Serious.Injuries, dtype: float64"
      ]
     },
     "execution_count": 37,
     "metadata": {},
     "output_type": "execute_result"
    }
   ],
   "source": [
    "choice_list = [0.0, 1.0, 2.0, 3.0, 4.0]\n",
    "df['Total.Serious.Injuries'].fillna(value='Unknown', inplace=True)\n",
    "df['Total.Serious.Injuries'] = df['Total.Serious.Injuries'].map(lambda x: impute(x, choice_list, get_probs(norms)))\n",
    "df['Total.Serious.Injuries'].value_counts(normalize=True).sort_values().tail(10)"
   ]
  },
  {
   "cell_type": "markdown",
   "metadata": {},
   "source": [
    "### Total Minor Injuries"
   ]
  },
  {
   "cell_type": "code",
   "execution_count": 38,
   "metadata": {},
   "outputs": [
    {
     "name": "stdout",
     "output_type": "stream",
     "text": [
      "4.0    0.004866\n",
      "3.0    0.010338\n",
      "2.0    0.047116\n",
      "1.0    0.135942\n",
      "0.0    0.795844\n",
      "Name: Total.Minor.Injuries, dtype: float64\n"
     ]
    }
   ],
   "source": [
    "print(df['Total.Minor.Injuries'].value_counts(normalize=True).sort_values().tail())"
   ]
  },
  {
   "cell_type": "code",
   "execution_count": 39,
   "metadata": {},
   "outputs": [
    {
     "data": {
      "text/plain": [
       "[0.7958435530237097,\n",
       " 0.13594166205132263,\n",
       " 0.0471160693092808,\n",
       " 0.01033837065168658,\n",
       " 0.004865891288867791]"
      ]
     },
     "execution_count": 39,
     "metadata": {},
     "output_type": "execute_result"
    }
   ],
   "source": [
    "norms = get_norms(df, 'Total.Minor.Injuries')\n",
    "del norms[5:]\n",
    "norms"
   ]
  },
  {
   "cell_type": "code",
   "execution_count": 40,
   "metadata": {},
   "outputs": [
    {
     "data": {
      "text/plain": [
       "8.0    0.000228\n",
       "9.0    0.000251\n",
       "7.0    0.000662\n",
       "6.0    0.000754\n",
       "5.0    0.001462\n",
       "4.0    0.004899\n",
       "3.0    0.010563\n",
       "2.0    0.046534\n",
       "1.0    0.136232\n",
       "0.0    0.796668\n",
       "Name: Total.Minor.Injuries, dtype: float64"
      ]
     },
     "execution_count": 40,
     "metadata": {},
     "output_type": "execute_result"
    }
   ],
   "source": [
    "choice_list = [0.0, 1.0, 2.0, 3.0, 4.0]\n",
    "df['Total.Minor.Injuries'].fillna(value='Unknown', inplace=True)\n",
    "df['Total.Minor.Injuries'] = df['Total.Minor.Injuries'].map(lambda x: impute(x, choice_list, get_probs(norms)))\n",
    "df['Total.Minor.Injuries'].value_counts(normalize=True).sort_values().tail(10)"
   ]
  },
  {
   "cell_type": "markdown",
   "metadata": {},
   "source": [
    "### Total Uninjured"
   ]
  },
  {
   "cell_type": "code",
   "execution_count": 41,
   "metadata": {},
   "outputs": [
    {
     "name": "stdout",
     "output_type": "stream",
     "text": [
      "9.0    0.001564\n",
      "8.0    0.001968\n",
      "7.0    0.003398\n",
      "6.0    0.006099\n",
      "5.0    0.010829\n",
      "4.0    0.032486\n",
      "3.0    0.052603\n",
      "2.0    0.195048\n",
      "1.0    0.306511\n",
      "0.0    0.352208\n",
      "Name: Total.Uninjured, dtype: float64\n"
     ]
    }
   ],
   "source": [
    "print(df['Total.Uninjured'].value_counts(normalize=True).sort_values().tail(10))"
   ]
  },
  {
   "cell_type": "markdown",
   "metadata": {},
   "source": [
    "This column has a wider distribution of values than the previous 3, so I have decided to distribute the NaNs across the top 7 values instead of top 5."
   ]
  },
  {
   "cell_type": "code",
   "execution_count": 42,
   "metadata": {},
   "outputs": [
    {
     "data": {
      "text/plain": [
       "[0.35220786839564416,\n",
       " 0.3065105535253786,\n",
       " 0.1950477261338776,\n",
       " 0.05260263257598905,\n",
       " 0.032485547720022975,\n",
       " 0.010828515906674326,\n",
       " 0.0060986788232849755]"
      ]
     },
     "execution_count": 42,
     "metadata": {},
     "output_type": "execute_result"
    }
   ],
   "source": [
    "norms = get_norms(df, 'Total.Uninjured')\n",
    "del norms[7:]\n",
    "norms"
   ]
  },
  {
   "cell_type": "code",
   "execution_count": 43,
   "metadata": {},
   "outputs": [
    {
     "data": {
      "text/plain": [
       "9.0    0.001462\n",
       "8.0    0.001839\n",
       "7.0    0.003175\n",
       "6.0    0.006041\n",
       "5.0    0.010974\n",
       "4.0    0.032408\n",
       "3.0    0.052826\n",
       "2.0    0.195567\n",
       "1.0    0.306483\n",
       "0.0    0.354387\n",
       "Name: Total.Uninjured, dtype: float64"
      ]
     },
     "execution_count": 43,
     "metadata": {},
     "output_type": "execute_result"
    }
   ],
   "source": [
    "choice_list = [0.0, 1.0, 2.0, 3.0, 4.0, 5.0, 6.0]\n",
    "df['Total.Uninjured'].fillna(value='Unknown', inplace=True)\n",
    "df['Total.Uninjured'] = df['Total.Uninjured'].map(lambda x: impute(x, choice_list, get_probs(norms)))\n",
    "df['Total.Uninjured'].value_counts(normalize=True).sort_values().tail(10)"
   ]
  },
  {
   "cell_type": "markdown",
   "metadata": {},
   "source": [
    "That was admittedly a little bit messy, and I could have made another pair of functions instead of copy-pasting those two cells over and over with minor differences. Either way, I have acomplished my goal of cleaning these four columns without dropping data or majorly affecting summary statistics."
   ]
  },
  {
   "cell_type": "markdown",
   "metadata": {},
   "source": [
    "### Aircraft Damage\n",
    "\n",
    "I need another way of judging the severity of a crash that is not just the number of people injured, so I will also be considering the damage to the airplane. "
   ]
  },
  {
   "cell_type": "code",
   "execution_count": 44,
   "metadata": {},
   "outputs": [],
   "source": [
    "df['Aircraft.damage'].value_counts(normalize=True)\n",
    "df['Aircraft.damage'].fillna(value='Unknown', inplace=True)"
   ]
  },
  {
   "cell_type": "code",
   "execution_count": 45,
   "metadata": {},
   "outputs": [
    {
     "data": {
      "text/plain": [
       "[0.7287115597629352, 0.21088031425928674, 0.029084971052060614]"
      ]
     },
     "execution_count": 45,
     "metadata": {},
     "output_type": "execute_result"
    }
   ],
   "source": [
    "remove_list = ['Unknown']\n",
    "norms = get_norms(df, 'Aircraft.damage', remove_list)\n",
    "norms"
   ]
  },
  {
   "cell_type": "code",
   "execution_count": 46,
   "metadata": {},
   "outputs": [
    {
     "data": {
      "text/plain": [
       "Substantial    0.752475\n",
       "Destroyed      0.217595\n",
       "Minor          0.029930\n",
       "Name: Aircraft.damage, dtype: float64"
      ]
     },
     "execution_count": 46,
     "metadata": {},
     "output_type": "execute_result"
    }
   ],
   "source": [
    "choice_list = ['Substantial', 'Destroyed', 'Minor']\n",
    "df['Aircraft.damage'] = df['Aircraft.damage'].map(lambda x: impute(x, choice_list, get_probs(norms)))\n",
    "df['Aircraft.damage'].value_counts(normalize=True)"
   ]
  },
  {
   "cell_type": "markdown",
   "metadata": {},
   "source": [
    "### Total Passengers Column\n",
    "\n",
    "Now, I want to add a new column to the dataframe to help my analysis: a sum of all the different injury type columns and the uninjured column that represents the total number of passengers on each plane at the time of the incident.\n",
    "\n",
    "This is particularly important for my analysis, because I am working with the assumption that incidents are bound to happen. The safest plane is the one that has the smallest amount of casualties in the event of a safety incident."
   ]
  },
  {
   "cell_type": "code",
   "execution_count": 47,
   "metadata": {},
   "outputs": [],
   "source": [
    "#Simply adding all four columns together on every row\n",
    "df['Total.Passengers'] = df['Total.Fatal.Injuries'] + df['Total.Serious.Injuries'] + df['Total.Minor.Injuries'] + df['Total.Uninjured']"
   ]
  },
  {
   "cell_type": "markdown",
   "metadata": {},
   "source": [
    "### Total Injuries Column"
   ]
  },
  {
   "cell_type": "code",
   "execution_count": 48,
   "metadata": {},
   "outputs": [],
   "source": [
    "#Exactly the same as above but without uninjured passengers\n",
    "df['Total.Injuries'] = df['Total.Fatal.Injuries'] + df['Total.Serious.Injuries'] + df['Total.Minor.Injuries']"
   ]
  },
  {
   "cell_type": "markdown",
   "metadata": {},
   "source": [
    "### Weather Condition\n",
    "The weather condition column has information I want to include in my visualizations, but it also has placeholder and missing values. I've already invested so much effort in the functions I used above, I think it makes a lot of sense to reuse them here again."
   ]
  },
  {
   "cell_type": "code",
   "execution_count": 49,
   "metadata": {
    "scrolled": false
   },
   "outputs": [
    {
     "data": {
      "text/plain": [
       "VMC    0.916630\n",
       "IMC    0.070708\n",
       "UNK    0.009845\n",
       "Unk    0.002818\n",
       "Name: Weather.Condition, dtype: float64"
      ]
     },
     "execution_count": 49,
     "metadata": {},
     "output_type": "execute_result"
    }
   ],
   "source": [
    "df['Weather.Condition'].value_counts(normalize=True)"
   ]
  },
  {
   "cell_type": "markdown",
   "metadata": {},
   "source": [
    "I plan to use this column in my analysis, so I want to make sure the data is accurate. I will re-distribute the placeholder and NaN values according to the ratio of VMC/IMC in order to preserve the summary statistics as much as possible."
   ]
  },
  {
   "cell_type": "code",
   "execution_count": 50,
   "metadata": {
    "scrolled": true
   },
   "outputs": [
    {
     "data": {
      "text/plain": [
       "VMC        0.880371\n",
       "IMC        0.067911\n",
       "Unknown    0.051718\n",
       "Name: Weather.Condition, dtype: float64"
      ]
     },
     "execution_count": 50,
     "metadata": {},
     "output_type": "execute_result"
    }
   ],
   "source": [
    "df['Weather.Condition'].fillna(value='Unknown', inplace=True)\n",
    "df.loc[df['Weather.Condition'] == 'UNK', 'Weather.Condition'] = 'Unknown'\n",
    "df.loc[df['Weather.Condition'] == 'Unk', 'Weather.Condition'] = 'Unknown'\n",
    "df['Weather.Condition'].value_counts(normalize=True)"
   ]
  },
  {
   "cell_type": "code",
   "execution_count": 51,
   "metadata": {},
   "outputs": [
    {
     "data": {
      "text/plain": [
       "[0.8803713558141394, 0.06791060967671946]"
      ]
     },
     "execution_count": 51,
     "metadata": {},
     "output_type": "execute_result"
    }
   ],
   "source": [
    "norms = get_norms(df, 'Weather.Condition', remove_list)\n",
    "norms"
   ]
  },
  {
   "cell_type": "code",
   "execution_count": 52,
   "metadata": {},
   "outputs": [
    {
     "data": {
      "text/plain": [
       "VMC    0.928492\n",
       "IMC    0.071508\n",
       "Name: Weather.Condition, dtype: float64"
      ]
     },
     "execution_count": 52,
     "metadata": {},
     "output_type": "execute_result"
    }
   ],
   "source": [
    "choice_list = ['VMC', 'IMC']\n",
    "df['Weather.Condition'] = df['Weather.Condition'].map(lambda x: impute(x, choice_list, get_probs(norms)))\n",
    "df['Weather.Condition'].value_counts(normalize=True)"
   ]
  },
  {
   "cell_type": "markdown",
   "metadata": {},
   "source": [
    "Perfect! That was the last column I needed to clean, so all that's left to do before we start the analysis is a little bit of housekeeping."
   ]
  },
  {
   "cell_type": "code",
   "execution_count": 53,
   "metadata": {},
   "outputs": [],
   "source": [
    "# Add a new column that combined make and model to simplify the code I will use in my analysis\n",
    "df['Make&Model'] = df['Make'] + ' ' + df['Model']"
   ]
  },
  {
   "cell_type": "code",
   "execution_count": 54,
   "metadata": {},
   "outputs": [
    {
     "data": {
      "text/plain": [
       "0.000000    67227\n",
       "1.000000    12666\n",
       "0.500000     2636\n",
       "0.333333     1224\n",
       "0.666667      783\n",
       "            ...  \n",
       "0.684211        1\n",
       "0.172932        1\n",
       "0.011494        1\n",
       "0.695652        1\n",
       "0.010526        1\n",
       "Name: Fatality.Ratio, Length: 286, dtype: int64"
      ]
     },
     "execution_count": 54,
     "metadata": {},
     "output_type": "execute_result"
    }
   ],
   "source": [
    "# Add a new column that calculates the ratio of the mean of total fatal injuries per make and model to total passengers\n",
    "df['Fatality.Ratio'] = df['Total.Fatal.Injuries']/df['Total.Passengers']\n",
    "df['Fatality.Ratio'].value_counts()"
   ]
  },
  {
   "cell_type": "markdown",
   "metadata": {},
   "source": [
    "## Step 4: statistical analysis\n",
    "\n",
    "My goal in this project is to give three concrete recommendations to stakeholders about which makes/models of plane are the best investment from a safety perspective. The three recommendations I am setting out to give will be in the form of:\n",
    "1. The top 5 large, commercial-grade planes that have the lowest average rates of fatalities and injuries in the event of an accident.\n",
    "2. Of the 5 aircraft found by the previous analysis, which one performs the best in IMC flight conditions?\n",
    "3. Of those top 5 aircraft, which plane sustained the least amount of damage during their crashes, on average?"
   ]
  },
  {
   "cell_type": "markdown",
   "metadata": {},
   "source": [
    "### 1. Lowest fatality and injury rate among large planes\n",
    "\n",
    "The dataset has two major challenges that I need to address before I can give advice tailored to the specific business needs of the shareholders:\n",
    "1. A large amount of the makes/models in the dataset are consumer grade aircraft that are simply not relevant to the business needs of the shareholders. Some makes/models are actually helicopters, which are completely irrelevant to my analysis.\n",
    "2. Many makes/models in the dataset have only 1-5 records. This may be because they are safer, or it may be because there are less of them. \n",
    "\n",
    "I have come up with a way to address both of these issues that I think is reasonable.\n",
    "1. Commercial aircraft typically have two or more engines; in fact, according to [simpleflying.com](https://simpleflying.com/why-single-jet-commercial-aircraft-arent-just-around-the-corner/#:~:text=One%20smaller%20aircraft%20designer%20has,by%20a%20Williams%20FJ33%20turbofan.), the only single engine commericial passenger aircraft on the market is the The Cirrus Vision SF50, certified in 2016. For this reason, it will be easiest for me to just group by number of engines and exclude all makes and models that have less than two.\n",
    "2. To ensure that I am not making assumptions based on extremely small amounts of records, I will exclude all makes and models whoose number of records is less than 10."
   ]
  },
  {
   "cell_type": "markdown",
   "metadata": {},
   "source": [
    "This piece of code generates the average number of fatalities for each plane and displays it."
   ]
  },
  {
   "cell_type": "code",
   "execution_count": 55,
   "metadata": {
    "scrolled": true
   },
   "outputs": [
    {
     "data": {
      "text/html": [
       "<div>\n",
       "<style scoped>\n",
       "    .dataframe tbody tr th:only-of-type {\n",
       "        vertical-align: middle;\n",
       "    }\n",
       "\n",
       "    .dataframe tbody tr th {\n",
       "        vertical-align: top;\n",
       "    }\n",
       "\n",
       "    .dataframe thead th {\n",
       "        text-align: right;\n",
       "    }\n",
       "</style>\n",
       "<table border=\"1\" class=\"dataframe\">\n",
       "  <thead>\n",
       "    <tr style=\"text-align: right;\">\n",
       "      <th></th>\n",
       "      <th>Make&amp;Model</th>\n",
       "      <th>Number.of.Engines</th>\n",
       "      <th>Total.Fatal.Injuries</th>\n",
       "    </tr>\n",
       "  </thead>\n",
       "  <tbody>\n",
       "    <tr>\n",
       "      <th>0</th>\n",
       "      <td>107.5 Flying Corporation One Design DR 107</td>\n",
       "      <td>1.0</td>\n",
       "      <td>1.0</td>\n",
       "    </tr>\n",
       "    <tr>\n",
       "      <th>1</th>\n",
       "      <td>1200 G103</td>\n",
       "      <td>0.0</td>\n",
       "      <td>0.0</td>\n",
       "    </tr>\n",
       "    <tr>\n",
       "      <th>2</th>\n",
       "      <td>177MF LLC PITTS MODEL 12</td>\n",
       "      <td>1.0</td>\n",
       "      <td>0.0</td>\n",
       "    </tr>\n",
       "    <tr>\n",
       "      <th>3</th>\n",
       "      <td>1977 Colfer-chan STEEN SKYBOLT</td>\n",
       "      <td>1.0</td>\n",
       "      <td>0.0</td>\n",
       "    </tr>\n",
       "    <tr>\n",
       "      <th>4</th>\n",
       "      <td>1st Ftr Gp FOCKE-WULF 190</td>\n",
       "      <td>1.0</td>\n",
       "      <td>1.0</td>\n",
       "    </tr>\n",
       "    <tr>\n",
       "      <th>...</th>\n",
       "      <td>...</td>\n",
       "      <td>...</td>\n",
       "      <td>...</td>\n",
       "    </tr>\n",
       "    <tr>\n",
       "      <th>20707</th>\n",
       "      <td>de Havilland DHC-2 MK I</td>\n",
       "      <td>1.0</td>\n",
       "      <td>2.0</td>\n",
       "    </tr>\n",
       "    <tr>\n",
       "      <th>20708</th>\n",
       "      <td>de Havilland DHC-3</td>\n",
       "      <td>1.0</td>\n",
       "      <td>0.0</td>\n",
       "    </tr>\n",
       "    <tr>\n",
       "      <th>20709</th>\n",
       "      <td>de Havilland DHC-6-200</td>\n",
       "      <td>2.0</td>\n",
       "      <td>0.0</td>\n",
       "    </tr>\n",
       "    <tr>\n",
       "      <th>20710</th>\n",
       "      <td>de Havilland DHC-8-202</td>\n",
       "      <td>2.0</td>\n",
       "      <td>0.0</td>\n",
       "    </tr>\n",
       "    <tr>\n",
       "      <th>20711</th>\n",
       "      <td>unknown kit</td>\n",
       "      <td>1.0</td>\n",
       "      <td>0.0</td>\n",
       "    </tr>\n",
       "  </tbody>\n",
       "</table>\n",
       "<p>20712 rows × 3 columns</p>\n",
       "</div>"
      ],
      "text/plain": [
       "                                       Make&Model  Number.of.Engines  \\\n",
       "0      107.5 Flying Corporation One Design DR 107                1.0   \n",
       "1                                       1200 G103                0.0   \n",
       "2                        177MF LLC PITTS MODEL 12                1.0   \n",
       "3                  1977 Colfer-chan STEEN SKYBOLT                1.0   \n",
       "4                       1st Ftr Gp FOCKE-WULF 190                1.0   \n",
       "...                                           ...                ...   \n",
       "20707                     de Havilland DHC-2 MK I                1.0   \n",
       "20708                          de Havilland DHC-3                1.0   \n",
       "20709                      de Havilland DHC-6-200                2.0   \n",
       "20710                      de Havilland DHC-8-202                2.0   \n",
       "20711                                 unknown kit                1.0   \n",
       "\n",
       "       Total.Fatal.Injuries  \n",
       "0                       1.0  \n",
       "1                       0.0  \n",
       "2                       0.0  \n",
       "3                       0.0  \n",
       "4                       1.0  \n",
       "...                     ...  \n",
       "20707                   2.0  \n",
       "20708                   0.0  \n",
       "20709                   0.0  \n",
       "20710                   0.0  \n",
       "20711                   0.0  \n",
       "\n",
       "[20712 rows x 3 columns]"
      ]
     },
     "execution_count": 55,
     "metadata": {},
     "output_type": "execute_result"
    }
   ],
   "source": [
    "# Group dataframe by make&model and number of engines, then calculate the mean number of fatalities for each. \n",
    "avg_fatalities = df.groupby(['Make&Model', 'Number.of.Engines'])['Total.Fatal.Injuries'].mean()\n",
    "# Reset index to change object back to a dataframe\n",
    "avg_fatalities = avg_fatalities.reset_index()\n",
    "avg_fatalities"
   ]
  },
  {
   "cell_type": "markdown",
   "metadata": {},
   "source": [
    "This piece of code calculates the average total number of injuries per incident for each aircraft."
   ]
  },
  {
   "cell_type": "code",
   "execution_count": 56,
   "metadata": {},
   "outputs": [
    {
     "data": {
      "text/html": [
       "<div>\n",
       "<style scoped>\n",
       "    .dataframe tbody tr th:only-of-type {\n",
       "        vertical-align: middle;\n",
       "    }\n",
       "\n",
       "    .dataframe tbody tr th {\n",
       "        vertical-align: top;\n",
       "    }\n",
       "\n",
       "    .dataframe thead th {\n",
       "        text-align: right;\n",
       "    }\n",
       "</style>\n",
       "<table border=\"1\" class=\"dataframe\">\n",
       "  <thead>\n",
       "    <tr style=\"text-align: right;\">\n",
       "      <th></th>\n",
       "      <th>Make&amp;Model</th>\n",
       "      <th>Number.of.Engines</th>\n",
       "      <th>Total.Injuries</th>\n",
       "    </tr>\n",
       "  </thead>\n",
       "  <tbody>\n",
       "    <tr>\n",
       "      <th>0</th>\n",
       "      <td>107.5 Flying Corporation One Design DR 107</td>\n",
       "      <td>1.0</td>\n",
       "      <td>1.0</td>\n",
       "    </tr>\n",
       "    <tr>\n",
       "      <th>1</th>\n",
       "      <td>1200 G103</td>\n",
       "      <td>0.0</td>\n",
       "      <td>1.0</td>\n",
       "    </tr>\n",
       "    <tr>\n",
       "      <th>2</th>\n",
       "      <td>177MF LLC PITTS MODEL 12</td>\n",
       "      <td>1.0</td>\n",
       "      <td>2.0</td>\n",
       "    </tr>\n",
       "    <tr>\n",
       "      <th>3</th>\n",
       "      <td>1977 Colfer-chan STEEN SKYBOLT</td>\n",
       "      <td>1.0</td>\n",
       "      <td>2.0</td>\n",
       "    </tr>\n",
       "    <tr>\n",
       "      <th>4</th>\n",
       "      <td>1st Ftr Gp FOCKE-WULF 190</td>\n",
       "      <td>1.0</td>\n",
       "      <td>1.0</td>\n",
       "    </tr>\n",
       "    <tr>\n",
       "      <th>...</th>\n",
       "      <td>...</td>\n",
       "      <td>...</td>\n",
       "      <td>...</td>\n",
       "    </tr>\n",
       "    <tr>\n",
       "      <th>20707</th>\n",
       "      <td>de Havilland DHC-2 MK I</td>\n",
       "      <td>1.0</td>\n",
       "      <td>5.0</td>\n",
       "    </tr>\n",
       "    <tr>\n",
       "      <th>20708</th>\n",
       "      <td>de Havilland DHC-3</td>\n",
       "      <td>1.0</td>\n",
       "      <td>0.0</td>\n",
       "    </tr>\n",
       "    <tr>\n",
       "      <th>20709</th>\n",
       "      <td>de Havilland DHC-6-200</td>\n",
       "      <td>2.0</td>\n",
       "      <td>0.0</td>\n",
       "    </tr>\n",
       "    <tr>\n",
       "      <th>20710</th>\n",
       "      <td>de Havilland DHC-8-202</td>\n",
       "      <td>2.0</td>\n",
       "      <td>2.0</td>\n",
       "    </tr>\n",
       "    <tr>\n",
       "      <th>20711</th>\n",
       "      <td>unknown kit</td>\n",
       "      <td>1.0</td>\n",
       "      <td>1.0</td>\n",
       "    </tr>\n",
       "  </tbody>\n",
       "</table>\n",
       "<p>20712 rows × 3 columns</p>\n",
       "</div>"
      ],
      "text/plain": [
       "                                       Make&Model  Number.of.Engines  \\\n",
       "0      107.5 Flying Corporation One Design DR 107                1.0   \n",
       "1                                       1200 G103                0.0   \n",
       "2                        177MF LLC PITTS MODEL 12                1.0   \n",
       "3                  1977 Colfer-chan STEEN SKYBOLT                1.0   \n",
       "4                       1st Ftr Gp FOCKE-WULF 190                1.0   \n",
       "...                                           ...                ...   \n",
       "20707                     de Havilland DHC-2 MK I                1.0   \n",
       "20708                          de Havilland DHC-3                1.0   \n",
       "20709                      de Havilland DHC-6-200                2.0   \n",
       "20710                      de Havilland DHC-8-202                2.0   \n",
       "20711                                 unknown kit                1.0   \n",
       "\n",
       "       Total.Injuries  \n",
       "0                 1.0  \n",
       "1                 1.0  \n",
       "2                 2.0  \n",
       "3                 2.0  \n",
       "4                 1.0  \n",
       "...               ...  \n",
       "20707             5.0  \n",
       "20708             0.0  \n",
       "20709             0.0  \n",
       "20710             2.0  \n",
       "20711             1.0  \n",
       "\n",
       "[20712 rows x 3 columns]"
      ]
     },
     "execution_count": 56,
     "metadata": {},
     "output_type": "execute_result"
    }
   ],
   "source": [
    "# Exact same code as above, but for serious injuries instead of fatal injuries\n",
    "avg_total_injuries = df.groupby(['Make&Model', 'Number.of.Engines'])['Total.Injuries'].mean()\n",
    "avg_total_injuries = avg_total_injuries.reset_index()\n",
    "avg_total_injuries"
   ]
  },
  {
   "cell_type": "markdown",
   "metadata": {},
   "source": [
    "This piece of code cacluates the total number of incidents each aircraft has been in."
   ]
  },
  {
   "cell_type": "code",
   "execution_count": 57,
   "metadata": {
    "scrolled": true
   },
   "outputs": [
    {
     "data": {
      "text/html": [
       "<div>\n",
       "<style scoped>\n",
       "    .dataframe tbody tr th:only-of-type {\n",
       "        vertical-align: middle;\n",
       "    }\n",
       "\n",
       "    .dataframe tbody tr th {\n",
       "        vertical-align: top;\n",
       "    }\n",
       "\n",
       "    .dataframe thead th {\n",
       "        text-align: right;\n",
       "    }\n",
       "</style>\n",
       "<table border=\"1\" class=\"dataframe\">\n",
       "  <thead>\n",
       "    <tr style=\"text-align: right;\">\n",
       "      <th></th>\n",
       "      <th>Make&amp;Model</th>\n",
       "      <th>Number.of.Engines</th>\n",
       "      <th>0</th>\n",
       "    </tr>\n",
       "  </thead>\n",
       "  <tbody>\n",
       "    <tr>\n",
       "      <th>0</th>\n",
       "      <td>107.5 Flying Corporation One Design DR 107</td>\n",
       "      <td>1.0</td>\n",
       "      <td>1</td>\n",
       "    </tr>\n",
       "    <tr>\n",
       "      <th>1</th>\n",
       "      <td>1200 G103</td>\n",
       "      <td>0.0</td>\n",
       "      <td>1</td>\n",
       "    </tr>\n",
       "    <tr>\n",
       "      <th>2</th>\n",
       "      <td>177MF LLC PITTS MODEL 12</td>\n",
       "      <td>1.0</td>\n",
       "      <td>1</td>\n",
       "    </tr>\n",
       "    <tr>\n",
       "      <th>3</th>\n",
       "      <td>1977 Colfer-chan STEEN SKYBOLT</td>\n",
       "      <td>1.0</td>\n",
       "      <td>1</td>\n",
       "    </tr>\n",
       "    <tr>\n",
       "      <th>4</th>\n",
       "      <td>1st Ftr Gp FOCKE-WULF 190</td>\n",
       "      <td>1.0</td>\n",
       "      <td>1</td>\n",
       "    </tr>\n",
       "    <tr>\n",
       "      <th>...</th>\n",
       "      <td>...</td>\n",
       "      <td>...</td>\n",
       "      <td>...</td>\n",
       "    </tr>\n",
       "    <tr>\n",
       "      <th>20707</th>\n",
       "      <td>de Havilland DHC-2 MK I</td>\n",
       "      <td>1.0</td>\n",
       "      <td>1</td>\n",
       "    </tr>\n",
       "    <tr>\n",
       "      <th>20708</th>\n",
       "      <td>de Havilland DHC-3</td>\n",
       "      <td>1.0</td>\n",
       "      <td>1</td>\n",
       "    </tr>\n",
       "    <tr>\n",
       "      <th>20709</th>\n",
       "      <td>de Havilland DHC-6-200</td>\n",
       "      <td>2.0</td>\n",
       "      <td>1</td>\n",
       "    </tr>\n",
       "    <tr>\n",
       "      <th>20710</th>\n",
       "      <td>de Havilland DHC-8-202</td>\n",
       "      <td>2.0</td>\n",
       "      <td>1</td>\n",
       "    </tr>\n",
       "    <tr>\n",
       "      <th>20711</th>\n",
       "      <td>unknown kit</td>\n",
       "      <td>1.0</td>\n",
       "      <td>1</td>\n",
       "    </tr>\n",
       "  </tbody>\n",
       "</table>\n",
       "<p>20712 rows × 3 columns</p>\n",
       "</div>"
      ],
      "text/plain": [
       "                                       Make&Model  Number.of.Engines  0\n",
       "0      107.5 Flying Corporation One Design DR 107                1.0  1\n",
       "1                                       1200 G103                0.0  1\n",
       "2                        177MF LLC PITTS MODEL 12                1.0  1\n",
       "3                  1977 Colfer-chan STEEN SKYBOLT                1.0  1\n",
       "4                       1st Ftr Gp FOCKE-WULF 190                1.0  1\n",
       "...                                           ...                ... ..\n",
       "20707                     de Havilland DHC-2 MK I                1.0  1\n",
       "20708                          de Havilland DHC-3                1.0  1\n",
       "20709                      de Havilland DHC-6-200                2.0  1\n",
       "20710                      de Havilland DHC-8-202                2.0  1\n",
       "20711                                 unknown kit                1.0  1\n",
       "\n",
       "[20712 rows x 3 columns]"
      ]
     },
     "execution_count": 57,
     "metadata": {},
     "output_type": "execute_result"
    }
   ],
   "source": [
    "# Find the total number of incidents for each make/model and group with the same structure.\n",
    "total_incidents = df.groupby(['Make&Model', 'Number.of.Engines']).size()\n",
    "# return object to df format\n",
    "total_incidents = total_incidents.reset_index()\n",
    "total_incidents"
   ]
  },
  {
   "cell_type": "markdown",
   "metadata": {},
   "source": [
    "Now that we have created the statistics we need to make the first recommendation, it's time to put them all together and fulfill the requirements I set out for myself."
   ]
  },
  {
   "cell_type": "code",
   "execution_count": 58,
   "metadata": {
    "scrolled": true
   },
   "outputs": [
    {
     "data": {
      "text/html": [
       "<div>\n",
       "<style scoped>\n",
       "    .dataframe tbody tr th:only-of-type {\n",
       "        vertical-align: middle;\n",
       "    }\n",
       "\n",
       "    .dataframe tbody tr th {\n",
       "        vertical-align: top;\n",
       "    }\n",
       "\n",
       "    .dataframe thead th {\n",
       "        text-align: right;\n",
       "    }\n",
       "</style>\n",
       "<table border=\"1\" class=\"dataframe\">\n",
       "  <thead>\n",
       "    <tr style=\"text-align: right;\">\n",
       "      <th></th>\n",
       "      <th>Make&amp;Model</th>\n",
       "      <th>Number.of.Engines</th>\n",
       "      <th>Total.Fatal.Injuries</th>\n",
       "      <th>Fatal.Ratio</th>\n",
       "      <th>Total.Incidents</th>\n",
       "      <th>Total.Injuries</th>\n",
       "    </tr>\n",
       "  </thead>\n",
       "  <tbody>\n",
       "    <tr>\n",
       "      <th>6238</th>\n",
       "      <td>Cessna 310B</td>\n",
       "      <td>2.0</td>\n",
       "      <td>0.000000</td>\n",
       "      <td>0.000000</td>\n",
       "      <td>11</td>\n",
       "      <td>0.000000</td>\n",
       "    </tr>\n",
       "    <tr>\n",
       "      <th>7760</th>\n",
       "      <td>De Havilland DHC-8-102</td>\n",
       "      <td>2.0</td>\n",
       "      <td>0.000000</td>\n",
       "      <td>0.000000</td>\n",
       "      <td>10</td>\n",
       "      <td>0.300000</td>\n",
       "    </tr>\n",
       "    <tr>\n",
       "      <th>2577</th>\n",
       "      <td>BOMBARDIER INC CL-600-2B19</td>\n",
       "      <td>2.0</td>\n",
       "      <td>0.000000</td>\n",
       "      <td>0.000000</td>\n",
       "      <td>15</td>\n",
       "      <td>0.333333</td>\n",
       "    </tr>\n",
       "    <tr>\n",
       "      <th>2478</th>\n",
       "      <td>BOEING 777</td>\n",
       "      <td>2.0</td>\n",
       "      <td>0.000000</td>\n",
       "      <td>0.000000</td>\n",
       "      <td>11</td>\n",
       "      <td>0.363636</td>\n",
       "    </tr>\n",
       "    <tr>\n",
       "      <th>4042</th>\n",
       "      <td>Boeing 727-100</td>\n",
       "      <td>3.0</td>\n",
       "      <td>0.000000</td>\n",
       "      <td>0.000000</td>\n",
       "      <td>11</td>\n",
       "      <td>0.363636</td>\n",
       "    </tr>\n",
       "    <tr>\n",
       "      <th>5236</th>\n",
       "      <td>CESSNA 402C</td>\n",
       "      <td>2.0</td>\n",
       "      <td>0.000000</td>\n",
       "      <td>0.000000</td>\n",
       "      <td>15</td>\n",
       "      <td>0.466667</td>\n",
       "    </tr>\n",
       "    <tr>\n",
       "      <th>4108</th>\n",
       "      <td>Boeing 737</td>\n",
       "      <td>2.0</td>\n",
       "      <td>0.000000</td>\n",
       "      <td>0.000000</td>\n",
       "      <td>31</td>\n",
       "      <td>0.709677</td>\n",
       "    </tr>\n",
       "    <tr>\n",
       "      <th>2394</th>\n",
       "      <td>BOEING 737-7H4</td>\n",
       "      <td>2.0</td>\n",
       "      <td>0.000000</td>\n",
       "      <td>0.000000</td>\n",
       "      <td>12</td>\n",
       "      <td>0.833333</td>\n",
       "    </tr>\n",
       "    <tr>\n",
       "      <th>13515</th>\n",
       "      <td>Mcdonnell Douglas MD-83</td>\n",
       "      <td>2.0</td>\n",
       "      <td>0.000000</td>\n",
       "      <td>0.000000</td>\n",
       "      <td>11</td>\n",
       "      <td>1.000000</td>\n",
       "    </tr>\n",
       "    <tr>\n",
       "      <th>8214</th>\n",
       "      <td>EMBRAER EMB-145LR</td>\n",
       "      <td>2.0</td>\n",
       "      <td>0.000000</td>\n",
       "      <td>0.000000</td>\n",
       "      <td>14</td>\n",
       "      <td>1.142857</td>\n",
       "    </tr>\n",
       "    <tr>\n",
       "      <th>4534</th>\n",
       "      <td>Bombardier CL-600-2B19</td>\n",
       "      <td>2.0</td>\n",
       "      <td>0.000000</td>\n",
       "      <td>0.000000</td>\n",
       "      <td>10</td>\n",
       "      <td>1.500000</td>\n",
       "    </tr>\n",
       "    <tr>\n",
       "      <th>4147</th>\n",
       "      <td>Boeing 737-322</td>\n",
       "      <td>2.0</td>\n",
       "      <td>0.000000</td>\n",
       "      <td>0.000000</td>\n",
       "      <td>11</td>\n",
       "      <td>1.636364</td>\n",
       "    </tr>\n",
       "    <tr>\n",
       "      <th>4061</th>\n",
       "      <td>Boeing 727-223</td>\n",
       "      <td>3.0</td>\n",
       "      <td>0.000000</td>\n",
       "      <td>0.000000</td>\n",
       "      <td>16</td>\n",
       "      <td>2.125000</td>\n",
       "    </tr>\n",
       "    <tr>\n",
       "      <th>2451</th>\n",
       "      <td>BOEING 767</td>\n",
       "      <td>2.0</td>\n",
       "      <td>0.000000</td>\n",
       "      <td>0.000000</td>\n",
       "      <td>19</td>\n",
       "      <td>2.526316</td>\n",
       "    </tr>\n",
       "    <tr>\n",
       "      <th>4261</th>\n",
       "      <td>Boeing 757-200</td>\n",
       "      <td>2.0</td>\n",
       "      <td>0.000000</td>\n",
       "      <td>0.000000</td>\n",
       "      <td>10</td>\n",
       "      <td>2.700000</td>\n",
       "    </tr>\n",
       "    <tr>\n",
       "      <th>13510</th>\n",
       "      <td>Mcdonnell Douglas MD-80</td>\n",
       "      <td>2.0</td>\n",
       "      <td>0.000000</td>\n",
       "      <td>0.000000</td>\n",
       "      <td>14</td>\n",
       "      <td>3.857143</td>\n",
       "    </tr>\n",
       "    <tr>\n",
       "      <th>4050</th>\n",
       "      <td>Boeing 727-200</td>\n",
       "      <td>3.0</td>\n",
       "      <td>0.057143</td>\n",
       "      <td>0.001633</td>\n",
       "      <td>35</td>\n",
       "      <td>1.628571</td>\n",
       "    </tr>\n",
       "    <tr>\n",
       "      <th>15477</th>\n",
       "      <td>Piper PA-23-250</td>\n",
       "      <td>2.0</td>\n",
       "      <td>0.776952</td>\n",
       "      <td>0.002888</td>\n",
       "      <td>269</td>\n",
       "      <td>1.263941</td>\n",
       "    </tr>\n",
       "    <tr>\n",
       "      <th>15614</th>\n",
       "      <td>Piper PA-31-350</td>\n",
       "      <td>2.0</td>\n",
       "      <td>0.723684</td>\n",
       "      <td>0.003174</td>\n",
       "      <td>228</td>\n",
       "      <td>1.307018</td>\n",
       "    </tr>\n",
       "    <tr>\n",
       "      <th>15693</th>\n",
       "      <td>Piper PA-34-200T</td>\n",
       "      <td>2.0</td>\n",
       "      <td>0.638418</td>\n",
       "      <td>0.003607</td>\n",
       "      <td>177</td>\n",
       "      <td>1.135593</td>\n",
       "    </tr>\n",
       "  </tbody>\n",
       "</table>\n",
       "</div>"
      ],
      "text/plain": [
       "                       Make&Model  Number.of.Engines  Total.Fatal.Injuries  \\\n",
       "6238                  Cessna 310B                2.0              0.000000   \n",
       "7760       De Havilland DHC-8-102                2.0              0.000000   \n",
       "2577   BOMBARDIER INC CL-600-2B19                2.0              0.000000   \n",
       "2478                   BOEING 777                2.0              0.000000   \n",
       "4042               Boeing 727-100                3.0              0.000000   \n",
       "5236                  CESSNA 402C                2.0              0.000000   \n",
       "4108                   Boeing 737                2.0              0.000000   \n",
       "2394               BOEING 737-7H4                2.0              0.000000   \n",
       "13515     Mcdonnell Douglas MD-83                2.0              0.000000   \n",
       "8214            EMBRAER EMB-145LR                2.0              0.000000   \n",
       "4534       Bombardier CL-600-2B19                2.0              0.000000   \n",
       "4147               Boeing 737-322                2.0              0.000000   \n",
       "4061               Boeing 727-223                3.0              0.000000   \n",
       "2451                   BOEING 767                2.0              0.000000   \n",
       "4261               Boeing 757-200                2.0              0.000000   \n",
       "13510     Mcdonnell Douglas MD-80                2.0              0.000000   \n",
       "4050               Boeing 727-200                3.0              0.057143   \n",
       "15477             Piper PA-23-250                2.0              0.776952   \n",
       "15614             Piper PA-31-350                2.0              0.723684   \n",
       "15693            Piper PA-34-200T                2.0              0.638418   \n",
       "\n",
       "       Fatal.Ratio  Total.Incidents  Total.Injuries  \n",
       "6238      0.000000               11        0.000000  \n",
       "7760      0.000000               10        0.300000  \n",
       "2577      0.000000               15        0.333333  \n",
       "2478      0.000000               11        0.363636  \n",
       "4042      0.000000               11        0.363636  \n",
       "5236      0.000000               15        0.466667  \n",
       "4108      0.000000               31        0.709677  \n",
       "2394      0.000000               12        0.833333  \n",
       "13515     0.000000               11        1.000000  \n",
       "8214      0.000000               14        1.142857  \n",
       "4534      0.000000               10        1.500000  \n",
       "4147      0.000000               11        1.636364  \n",
       "4061      0.000000               16        2.125000  \n",
       "2451      0.000000               19        2.526316  \n",
       "4261      0.000000               10        2.700000  \n",
       "13510     0.000000               14        3.857143  \n",
       "4050      0.001633               35        1.628571  \n",
       "15477     0.002888              269        1.263941  \n",
       "15614     0.003174              228        1.307018  \n",
       "15693     0.003607              177        1.135593  "
      ]
     },
     "execution_count": 58,
     "metadata": {},
     "output_type": "execute_result"
    }
   ],
   "source": [
    "# Create a new column in one of the dataframes that is the ratio of avg fatal injuries per crash to the total number of incidents\n",
    "# for each make and model.\n",
    "avg_fatalities['Fatal.Ratio'] = avg_fatalities['Total.Fatal.Injuries']/total_incidents[0]\n",
    "\n",
    "# Add the total number of incidents from the other DF to this one as a new column\n",
    "avg_fatalities['Total.Incidents'] = total_incidents[0]\n",
    "\n",
    "# Exclude all records of aircraft with less than two engines\n",
    "avg_fatalities = avg_fatalities[avg_fatalities['Number.of.Engines'] >= 2]\n",
    "\n",
    "# Move the lowest and most favorable ratios to the top of the list so it is easier to grab them\n",
    "avg_fatalities = avg_fatalities.sort_values(by='Fatal.Ratio')\n",
    "\n",
    "# Exclude every make and model combination that has less than 10 total records\n",
    "avg_fatalities = avg_fatalities[avg_fatalities['Total.Incidents'] >= 10]\n",
    "\n",
    "avg_fatalities['Total.Injuries'] = avg_total_injuries['Total.Injuries']\n",
    "\n",
    "# Display the top 20 aircraft that meet all of these criteria \n",
    "\n",
    "avg_fatalities = avg_fatalities.sort_values(by=['Fatal.Ratio', 'Total.Injuries']).head(20)\n",
    "avg_fatalities"
   ]
  },
  {
   "cell_type": "markdown",
   "metadata": {},
   "source": [
    "Great! We've cut out the irrelevant records to this analysis and re-organized them according to which ones are the safest to be in during a crash. Now, let's make a visualization of this result!"
   ]
  },
  {
   "cell_type": "code",
   "execution_count": 59,
   "metadata": {},
   "outputs": [],
   "source": [
    "avg_fatalities.drop(labels=['Number.of.Engines', 'Total.Incidents'], axis=1, inplace=True)"
   ]
  },
  {
   "cell_type": "code",
   "execution_count": 60,
   "metadata": {},
   "outputs": [
    {
     "data": {
      "image/png": "[encoded data removed]",
      "text/plain": [
       "<Figure size 1080x720 with 1 Axes>"
      ]
     },
     "metadata": {
      "needs_background": "light"
     },
     "output_type": "display_data"
    }
   ],
   "source": [
    "ax = avg_fatalities.plot.barh(y=['Total.Fatal.Injuries', 'Total.Injuries'], figsize=(15,10), ylabel='Make and Model', xlabel='Average Amount')\n",
    "ax.set_yticklabels(avg_fatalities['Make&Model']);\n",
    "ax.legend(labels=['Avg. Fatal Injuries', 'Avg. Total Injuries']);"
   ]
  },
  {
   "cell_type": "markdown",
   "metadata": {},
   "source": [
    "This graph shows a comparison of average total injuries per incident vs average fatal injuries per incident for the top 20 aircraft with the lowest values for each. The Cessna 310B has snuck in as the statistically safest aircraft by my own statistical measure, but I believe that it is not relevant to the specific business interests of the shareholders. My statistical analysis has determined that the top 5 overall safest commercial aircraft are:\n",
    "\n",
    "1.De Havilland DHC-8-102\n",
    "\n",
    "2.BOMBARDIER INC CL-600-2B19\n",
    "\n",
    "3.BOEING 777\n",
    "\n",
    "4.Boeing 727-100\n",
    "\n",
    "5.CESSNA 402C\n",
    "\n",
    "These are all excellent choices for investment due to their low likelihood of fatalities in the event of a safety incident."
   ]
  },
  {
   "cell_type": "markdown",
   "metadata": {},
   "source": [
    "### 2. Performance during poor weather conditions\n",
    "\n",
    "For the next two analyses, I will focus in on those top 5 safest planes in an attempt to determine which one is the overall safest by considering other factors. First, I will focus on their performance in poor weather conditions."
   ]
  },
  {
   "cell_type": "code",
   "execution_count": null,
   "metadata": {},
   "outputs": [],
   "source": [
    "df.pivot()"
   ]
  },
  {
   "cell_type": "code",
   "execution_count": 61,
   "metadata": {
    "scrolled": false
   },
   "outputs": [
    {
     "data": {
      "text/plain": [
       "Incident Count    415.024701\n",
       "dtype: float64"
      ]
     },
     "execution_count": 61,
     "metadata": {},
     "output_type": "execute_result"
    }
   ],
   "source": [
    "### Group by make and model, and then count up the total number of incidents for each. Turn the grouped structure back into a \n",
    "### dataframe, combine make and model labels into a new column, then delete the originals. Trim the data to the top 20 results\n",
    "### and then plot it.\n",
    "total_incidents = df.groupby(['Make&Model']).size().sort_values()\n",
    "total_incidents=total_incidents.reset_index()\n",
    "total_incidents=total_incidents.rename(columns={0:'Incident Count'})\n",
    "total_incidents = total_incidents.tail(20)\n",
    "total_incidents.std()"
   ]
  },
  {
   "cell_type": "code",
   "execution_count": 62,
   "metadata": {},
   "outputs": [
    {
     "data": {
      "image/png": "[encoded data removed]",
      "text/plain": [
       "<Figure size 1080x720 with 1 Axes>"
      ]
     },
     "metadata": {
      "needs_background": "light"
     },
     "output_type": "display_data"
    }
   ],
   "source": [
    "ax = total_incidents.plot.barh(y='Incident Count', x='Make&Model', figsize=(15,10), color='Blue', ylabel='Make and Model')\n",
    "ax.set_ylabel('Make and Model')\n",
    "ax.set_xlabel('Total Number of Incidents');"
   ]
  },
  {
   "cell_type": "markdown",
   "metadata": {},
   "source": [
    "As we can see above, the makes and models with the highest total number of incidents are Piper and Cessna airplanes, which are all low-capacity consumer grade aircraft. It makes sense that so many of the incidents would be related to these aircraft as they are typically used to train new pilots and as recreational craft by hobbyists, who do not follow the same safety requirements as professional pilots. These planes also lack many of the features of larger commercial aircraft.\n",
    "\n",
    "But which makes and models have the highest total number of fatalities attributed to them?"
   ]
  },
  {
   "cell_type": "code",
   "execution_count": 63,
   "metadata": {
    "scrolled": true
   },
   "outputs": [],
   "source": [
    "total_fatalities = df.groupby(['Make&Model'])['Total.Fatal.Injuries'].sum().sort_values()\n",
    "total_fatalities=total_fatalities.reset_index()\n",
    "total_fatalities = total_fatalities.tail(20)"
   ]
  },
  {
   "cell_type": "code",
   "execution_count": 64,
   "metadata": {
    "scrolled": false
   },
   "outputs": [
    {
     "data": {
      "image/png": "[encoded data removed]",
      "text/plain": [
       "<Figure size 1080x720 with 1 Axes>"
      ]
     },
     "metadata": {
      "needs_background": "light"
     },
     "output_type": "display_data"
    }
   ],
   "source": [
    "ax = total_fatalities.plot.barh(y='Total.Fatal.Injuries', x='Make&Model', figsize=(15,10), color='Red', ylabel='Make and Model')\n",
    "ax.set_ylabel('Make and Model')\n",
    "ax.set_xlabel('Total Number of Fatalities');"
   ]
  },
  {
   "cell_type": "code",
   "execution_count": 65,
   "metadata": {},
   "outputs": [
    {
     "data": {
      "text/plain": [
       "Make&Model\n",
       "Piper PA-23-250     295\n",
       "Piper PA-24-250     308\n",
       "Cessna 170B         309\n",
       "Cessna 140          320\n",
       "Piper PA-32-300     325\n",
       "Grumman G-164A      352\n",
       "Cessna 150L         408\n",
       "Bell 206B           417\n",
       "Piper PA-18-150     436\n",
       "Piper PA-38-112     441\n",
       "Cessna 182          462\n",
       "Piper PA-28-181     474\n",
       "CESSNA 172          487\n",
       "Cessna 180          494\n",
       "Piper PA-28-180     498\n",
       "Piper PA-28-161     499\n",
       "Cessna 150M         534\n",
       "Piper PA-18         537\n",
       "Cessna 172P         595\n",
       "Cessna 172M         665\n",
       "Cessna 150          714\n",
       "Piper PA-28-140     801\n",
       "Cessna 172N         992\n",
       "Cessna 172         1246\n",
       "Cessna 152         2159\n",
       "Name: Amateur.Built, dtype: int64"
      ]
     },
     "execution_count": 65,
     "metadata": {},
     "output_type": "execute_result"
    }
   ],
   "source": [
    "amateur_built = df.loc[df['Amateur.Built'] == False].groupby(['Make&Model'])['Amateur.Built'].size().sort_values()\n",
    "amateur_built.tail(25)"
   ]
  },
  {
   "cell_type": "code",
   "execution_count": 66,
   "metadata": {},
   "outputs": [
    {
     "data": {
      "text/plain": [
       "Make&Model\n",
       "107.5 Flying Corporation One Design DR 107    1.0\n",
       "1200 G103                                     0.0\n",
       "177MF LLC PITTS MODEL 12                      0.0\n",
       "1977 Colfer-chan STEEN SKYBOLT                0.0\n",
       "1st Ftr Gp FOCKE-WULF 190                     1.0\n",
       "                                             ... \n",
       "de Havilland DHC-2 MK I                       2.0\n",
       "de Havilland DHC-3                            0.0\n",
       "de Havilland DHC-6-200                        0.0\n",
       "de Havilland DHC-8-202                        0.0\n",
       "unknown kit                                   0.0\n",
       "Name: Total.Fatal.Injuries, Length: 19918, dtype: float64"
      ]
     },
     "execution_count": 66,
     "metadata": {},
     "output_type": "execute_result"
    }
   ],
   "source": [
    "fatalities_by_mnm = df.groupby(['Make&Model'])['Total.Fatal.Injuries'].sum()\n",
    "fatalities_by_mnm"
   ]
  },
  {
   "cell_type": "code",
   "execution_count": 67,
   "metadata": {},
   "outputs": [],
   "source": [
    "uninjured_by_mnm = df.groupby(['Make&Model'])['Total.Uninjured'].sum()\n",
    "ratio = uninjured_by_mnm/fatalities_by_mnm"
   ]
  },
  {
   "cell_type": "code",
   "execution_count": 68,
   "metadata": {},
   "outputs": [
    {
     "data": {
      "text/plain": [
       "Make&Model\n",
       "177MF LLC PITTS MODEL 12         NaN\n",
       "2001 Mcgirl QUESTAIR VENTURE     NaN\n",
       "781569 INC FX 210                NaN\n",
       "A Pair Of Jacks RV-6A            NaN\n",
       "A. Le Francois RANS S-7          NaN\n",
       "                                ... \n",
       "CALCOTE CLARENCE E Glasair RG    inf\n",
       "C.w. Smith Rans S6 Coyote II     inf\n",
       "Lake LA04                        inf\n",
       "Lake LA250                       inf\n",
       "de Havilland DHC-8-202           inf\n",
       "Length: 19918, dtype: float64"
      ]
     },
     "execution_count": 68,
     "metadata": {},
     "output_type": "execute_result"
    }
   ],
   "source": [
    "ratio.sort_values(na_position='first')"
   ]
  },
  {
   "cell_type": "markdown",
   "metadata": {},
   "source": [
    "# TO DOS:\n",
    "\n",
    "## find average amount of fatalities for each make and model by weather condition\n",
    "This is to determine which makes/models have the best performance in poor weather.\n",
    "\n",
    "## Find average number of fatalities for each make and model by amateur built true or false\n",
    "This will determine whether buying used amateur built aircraft may raise the risk of incidents.\n",
    "\n",
    "## Which makes and models have the lowest number of fatalities per incident?\n",
    "The makes and models with the lowest average number of fatalities per incident are most likely to be the safest options. Exclude all makes and models more than 1 standard deviation away from the mean (this will hopefully clear out the records of makes and models that only have one incident on record)."
   ]
  },
  {
   "cell_type": "code",
   "execution_count": 69,
   "metadata": {},
   "outputs": [
    {
     "data": {
      "text/html": [
       "<div>\n",
       "<style scoped>\n",
       "    .dataframe tbody tr th:only-of-type {\n",
       "        vertical-align: middle;\n",
       "    }\n",
       "\n",
       "    .dataframe tbody tr th {\n",
       "        vertical-align: top;\n",
       "    }\n",
       "\n",
       "    .dataframe thead th {\n",
       "        text-align: right;\n",
       "    }\n",
       "</style>\n",
       "<table border=\"1\" class=\"dataframe\">\n",
       "  <thead>\n",
       "    <tr style=\"text-align: right;\">\n",
       "      <th></th>\n",
       "      <th>Make&amp;Model</th>\n",
       "      <th>Weather.Condition</th>\n",
       "      <th>Total.Fatal.Injuries</th>\n",
       "    </tr>\n",
       "  </thead>\n",
       "  <tbody>\n",
       "    <tr>\n",
       "      <th>0</th>\n",
       "      <td>Gulfstream AA5B</td>\n",
       "      <td>VMC</td>\n",
       "      <td>0.0</td>\n",
       "    </tr>\n",
       "    <tr>\n",
       "      <th>1</th>\n",
       "      <td>Korsch Classic IV</td>\n",
       "      <td>VMC</td>\n",
       "      <td>0.0</td>\n",
       "    </tr>\n",
       "    <tr>\n",
       "      <th>2</th>\n",
       "      <td>Kosch WHITEHEAD #21</td>\n",
       "      <td>VMC</td>\n",
       "      <td>0.0</td>\n",
       "    </tr>\n",
       "    <tr>\n",
       "      <th>3</th>\n",
       "      <td>Koskella LONG EZ</td>\n",
       "      <td>VMC</td>\n",
       "      <td>0.0</td>\n",
       "    </tr>\n",
       "    <tr>\n",
       "      <th>4</th>\n",
       "      <td>Koster MURPHY REBEL</td>\n",
       "      <td>VMC</td>\n",
       "      <td>0.0</td>\n",
       "    </tr>\n",
       "    <tr>\n",
       "      <th>...</th>\n",
       "      <td>...</td>\n",
       "      <td>...</td>\n",
       "      <td>...</td>\n",
       "    </tr>\n",
       "    <tr>\n",
       "      <th>21426</th>\n",
       "      <td>Boeing 767-366-ER</td>\n",
       "      <td>VMC</td>\n",
       "      <td>217.0</td>\n",
       "    </tr>\n",
       "    <tr>\n",
       "      <th>21427</th>\n",
       "      <td>Boeing 747-300</td>\n",
       "      <td>IMC</td>\n",
       "      <td>228.0</td>\n",
       "    </tr>\n",
       "    <tr>\n",
       "      <th>21428</th>\n",
       "      <td>BOEING 777 - 206</td>\n",
       "      <td>VMC</td>\n",
       "      <td>267.0</td>\n",
       "    </tr>\n",
       "    <tr>\n",
       "      <th>21429</th>\n",
       "      <td>Tupolev TU-154</td>\n",
       "      <td>VMC</td>\n",
       "      <td>349.0</td>\n",
       "    </tr>\n",
       "    <tr>\n",
       "      <th>21430</th>\n",
       "      <td>Boeing 747-168</td>\n",
       "      <td>VMC</td>\n",
       "      <td>349.0</td>\n",
       "    </tr>\n",
       "  </tbody>\n",
       "</table>\n",
       "<p>21431 rows × 3 columns</p>\n",
       "</div>"
      ],
      "text/plain": [
       "                Make&Model Weather.Condition  Total.Fatal.Injuries\n",
       "0          Gulfstream AA5B               VMC                   0.0\n",
       "1        Korsch Classic IV               VMC                   0.0\n",
       "2      Kosch WHITEHEAD #21               VMC                   0.0\n",
       "3         Koskella LONG EZ               VMC                   0.0\n",
       "4      Koster MURPHY REBEL               VMC                   0.0\n",
       "...                    ...               ...                   ...\n",
       "21426    Boeing 767-366-ER               VMC                 217.0\n",
       "21427       Boeing 747-300               IMC                 228.0\n",
       "21428     BOEING 777 - 206               VMC                 267.0\n",
       "21429       Tupolev TU-154               VMC                 349.0\n",
       "21430       Boeing 747-168               VMC                 349.0\n",
       "\n",
       "[21431 rows x 3 columns]"
      ]
     },
     "execution_count": 69,
     "metadata": {},
     "output_type": "execute_result"
    }
   ],
   "source": [
    "avg_fatalities_weather = df.groupby(['Make&Model', 'Weather.Condition'])['Total.Fatal.Injuries'].mean().sort_values()\n",
    "avg_fatalities_weather = avg_fatalities_weather.reset_index()\n",
    "avg_fatalities_weather"
   ]
  },
  {
   "cell_type": "code",
   "execution_count": 70,
   "metadata": {},
   "outputs": [
    {
     "data": {
      "text/html": [
       "<div>\n",
       "<style scoped>\n",
       "    .dataframe tbody tr th:only-of-type {\n",
       "        vertical-align: middle;\n",
       "    }\n",
       "\n",
       "    .dataframe tbody tr th {\n",
       "        vertical-align: top;\n",
       "    }\n",
       "\n",
       "    .dataframe thead th {\n",
       "        text-align: right;\n",
       "    }\n",
       "</style>\n",
       "<table border=\"1\" class=\"dataframe\">\n",
       "  <thead>\n",
       "    <tr style=\"text-align: right;\">\n",
       "      <th>Amateur.Built</th>\n",
       "      <th>False</th>\n",
       "      <th>True</th>\n",
       "    </tr>\n",
       "    <tr>\n",
       "      <th>Make&amp;Model</th>\n",
       "      <th></th>\n",
       "      <th></th>\n",
       "    </tr>\n",
       "  </thead>\n",
       "  <tbody>\n",
       "    <tr>\n",
       "      <th>107.5 Flying Corporation One Design DR 107</th>\n",
       "      <td>NaN</td>\n",
       "      <td>1.0</td>\n",
       "    </tr>\n",
       "    <tr>\n",
       "      <th>1200 G103</th>\n",
       "      <td>0.0</td>\n",
       "      <td>NaN</td>\n",
       "    </tr>\n",
       "    <tr>\n",
       "      <th>177MF LLC PITTS MODEL 12</th>\n",
       "      <td>0.0</td>\n",
       "      <td>NaN</td>\n",
       "    </tr>\n",
       "    <tr>\n",
       "      <th>1977 Colfer-chan STEEN SKYBOLT</th>\n",
       "      <td>NaN</td>\n",
       "      <td>0.0</td>\n",
       "    </tr>\n",
       "    <tr>\n",
       "      <th>1st Ftr Gp FOCKE-WULF 190</th>\n",
       "      <td>NaN</td>\n",
       "      <td>1.0</td>\n",
       "    </tr>\n",
       "    <tr>\n",
       "      <th>...</th>\n",
       "      <td>...</td>\n",
       "      <td>...</td>\n",
       "    </tr>\n",
       "    <tr>\n",
       "      <th>de Havilland DHC-2 MK I</th>\n",
       "      <td>2.0</td>\n",
       "      <td>NaN</td>\n",
       "    </tr>\n",
       "    <tr>\n",
       "      <th>de Havilland DHC-3</th>\n",
       "      <td>0.0</td>\n",
       "      <td>NaN</td>\n",
       "    </tr>\n",
       "    <tr>\n",
       "      <th>de Havilland DHC-6-200</th>\n",
       "      <td>0.0</td>\n",
       "      <td>NaN</td>\n",
       "    </tr>\n",
       "    <tr>\n",
       "      <th>de Havilland DHC-8-202</th>\n",
       "      <td>0.0</td>\n",
       "      <td>NaN</td>\n",
       "    </tr>\n",
       "    <tr>\n",
       "      <th>unknown kit</th>\n",
       "      <td>NaN</td>\n",
       "      <td>0.0</td>\n",
       "    </tr>\n",
       "  </tbody>\n",
       "</table>\n",
       "<p>19918 rows × 2 columns</p>\n",
       "</div>"
      ],
      "text/plain": [
       "Amateur.Built                               False  True \n",
       "Make&Model                                              \n",
       "107.5 Flying Corporation One Design DR 107    NaN    1.0\n",
       "1200 G103                                     0.0    NaN\n",
       "177MF LLC PITTS MODEL 12                      0.0    NaN\n",
       "1977 Colfer-chan STEEN SKYBOLT                NaN    0.0\n",
       "1st Ftr Gp FOCKE-WULF 190                     NaN    1.0\n",
       "...                                           ...    ...\n",
       "de Havilland DHC-2 MK I                       2.0    NaN\n",
       "de Havilland DHC-3                            0.0    NaN\n",
       "de Havilland DHC-6-200                        0.0    NaN\n",
       "de Havilland DHC-8-202                        0.0    NaN\n",
       "unknown kit                                   NaN    0.0\n",
       "\n",
       "[19918 rows x 2 columns]"
      ]
     },
     "execution_count": 70,
     "metadata": {},
     "output_type": "execute_result"
    }
   ],
   "source": [
    "avg_fatalities_amateur = df.groupby(['Make&Model', 'Amateur.Built'])['Total.Fatal.Injuries'].mean().sort_values()\n",
    "avg_fatalities_amateur = avg_fatalities_amateur.reset_index()\n",
    "avg_fatalities_amateur.pivot(index='Make&Model', columns='Amateur.Built', values='Total.Fatal.Injuries')"
   ]
  },
  {
   "cell_type": "code",
   "execution_count": 71,
   "metadata": {},
   "outputs": [
    {
     "data": {
      "text/plain": [
       "Make&Model\n",
       "107.5 Flying Corporation One Design DR 107    1.0\n",
       "1200 G103                                     0.0\n",
       "177MF LLC PITTS MODEL 12                      0.0\n",
       "1977 Colfer-chan STEEN SKYBOLT                0.0\n",
       "1st Ftr Gp FOCKE-WULF 190                     1.0\n",
       "                                             ... \n",
       "de Havilland DHC-2 MK I                       2.0\n",
       "de Havilland DHC-3                            0.0\n",
       "de Havilland DHC-6-200                        0.0\n",
       "de Havilland DHC-8-202                        0.0\n",
       "unknown kit                                   0.0\n",
       "Name: Total.Fatal.Injuries, Length: 19918, dtype: float64"
      ]
     },
     "execution_count": 71,
     "metadata": {},
     "output_type": "execute_result"
    }
   ],
   "source": [
    "avg_fatalities = df.groupby(['Make&Model'])['Total.Fatal.Injuries'].mean()\n",
    "avg_fatalities"
   ]
  },
  {
   "cell_type": "code",
   "execution_count": 72,
   "metadata": {},
   "outputs": [
    {
     "data": {
      "text/plain": [
       "Make&Model\n",
       "107.5 Flying Corporation One Design DR 107    1\n",
       "1200 G103                                     1\n",
       "177MF LLC PITTS MODEL 12                      1\n",
       "1977 Colfer-chan STEEN SKYBOLT                1\n",
       "1st Ftr Gp FOCKE-WULF 190                     1\n",
       "                                             ..\n",
       "de Havilland DHC-2 MK I                       1\n",
       "de Havilland DHC-3                            1\n",
       "de Havilland DHC-6-200                        1\n",
       "de Havilland DHC-8-202                        1\n",
       "unknown kit                                   1\n",
       "Length: 19918, dtype: int64"
      ]
     },
     "execution_count": 72,
     "metadata": {},
     "output_type": "execute_result"
    }
   ],
   "source": [
    "total_incidents = df.groupby(['Make&Model']).size()\n",
    "total_incidents"
   ]
  },
  {
   "cell_type": "code",
   "execution_count": 73,
   "metadata": {},
   "outputs": [],
   "source": [
    "ratio = total_incidents/avg_fatalities"
   ]
  },
  {
   "cell_type": "code",
   "execution_count": 74,
   "metadata": {},
   "outputs": [
    {
     "data": {
      "text/plain": [
       "Make&Model\n",
       "Piper PA-18-150     1425.141791\n",
       "Piper PA18          1512.500000\n",
       "Cessna A188B        1543.320755\n",
       "Cessna 182          1594.785185\n",
       "Hiller UH-12E       1595.076923\n",
       "Rockwell S2R        1600.000000\n",
       "PIPER PA-18-150     1632.363636\n",
       "Grumman G-164B      1701.000000\n",
       "Cessna 172M         1863.680672\n",
       "Piper PA-28-140     2033.844237\n",
       "Piper PA-38-112     2044.260417\n",
       "Cessna 180          2159.610619\n",
       "Cessna 172N         2378.935252\n",
       "Piper PA-18         2403.075000\n",
       "Cessna 140          2453.357143\n",
       "Cessna 150M         2793.471154\n",
       "Grumman G-164A      3894.031250\n",
       "Cessna 150          5680.277778\n",
       "Cessna 172          5883.462406\n",
       "Cessna 152         10805.009238\n",
       "dtype: float64"
      ]
     },
     "execution_count": 74,
     "metadata": {},
     "output_type": "execute_result"
    }
   ],
   "source": [
    "ratio.replace([np.inf, -np.inf], 0, inplace=True)\n",
    "ratio.sort_values().tail(20)"
   ]
  },
  {
   "cell_type": "code",
   "execution_count": null,
   "metadata": {},
   "outputs": [],
   "source": []
  }
 ],
 "metadata": {
  "kernelspec": {
   "display_name": "Python 3",
   "language": "python",
   "name": "python3"
  },
  "language_info": {
   "codemirror_mode": {
    "name": "ipython",
    "version": 3
   },
   "file_extension": ".py",
   "mimetype": "text/x-python",
   "name": "python",
   "nbconvert_exporter": "python",
   "pygments_lexer": "ipython3",
   "version": "3.8.5"
  }
 },
 "nbformat": 4,
 "nbformat_minor": 5
}
