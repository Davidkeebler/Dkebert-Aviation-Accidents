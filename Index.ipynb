{
 "cells": [
  {
   "cell_type": "markdown",
   "metadata": {},
   "source": [
    "# Introduction"
   ]
  },
  {
   "cell_type": "markdown",
   "metadata": {},
   "source": [
    "This project is an analysis of the [Aviation Accidents dataset](https://www.kaggle.com/datasets/khsamaha/aviation-accident-database-synopses) from the National Transportation Safety Board, which contains information on Aviation Accidents from 1962-2023 over the United States and International waters. The dataset does not contain any records from aviation accdients that occured in other locations. \n",
    "\n",
    "The purpose of this project is to determine which aircraft make and models are the most likely to suffer safety incidents in order to create a list of recommended aircraft based on safety for aviation startup stakeholders. The project will make recommendations about which aircraft are the overall most safe based on total injuries and fatalities, which aircraft perform the best in poor weather conditions, and which aircraft are the most likely to survive a crash with minor damage.\n",
    "\n",
    "Now, let's get started working with the data!"
   ]
  },
  {
   "cell_type": "markdown",
   "metadata": {},
   "source": [
    "# Step 1: import packages and read the CSV into memory"
   ]
  },
  {
   "cell_type": "markdown",
   "metadata": {},
   "source": [
    "First things first, let's load up the data with pandas. We'll need to import all the packages we intend to use, and load our data into the memory of the notebook as a pandas dataframe. I've done all of this and also displayed a preview of the data in the cell below."
   ]
  },
  {
   "cell_type": "code",
   "execution_count": 1,
   "metadata": {
    "scrolled": false
   },
   "outputs": [
    {
     "data": {
      "text/html": [
       "<div>\n",
       "<style scoped>\n",
       "    .dataframe tbody tr th:only-of-type {\n",
       "        vertical-align: middle;\n",
       "    }\n",
       "\n",
       "    .dataframe tbody tr th {\n",
       "        vertical-align: top;\n",
       "    }\n",
       "\n",
       "    .dataframe thead th {\n",
       "        text-align: right;\n",
       "    }\n",
       "</style>\n",
       "<table border=\"1\" class=\"dataframe\">\n",
       "  <thead>\n",
       "    <tr style=\"text-align: right;\">\n",
       "      <th></th>\n",
       "      <th>Event.Id</th>\n",
       "      <th>Investigation.Type</th>\n",
       "      <th>Accident.Number</th>\n",
       "      <th>Event.Date</th>\n",
       "      <th>Location</th>\n",
       "      <th>Country</th>\n",
       "      <th>Latitude</th>\n",
       "      <th>Longitude</th>\n",
       "      <th>Airport.Code</th>\n",
       "      <th>Airport.Name</th>\n",
       "      <th>...</th>\n",
       "      <th>Purpose.of.flight</th>\n",
       "      <th>Air.carrier</th>\n",
       "      <th>Total.Fatal.Injuries</th>\n",
       "      <th>Total.Serious.Injuries</th>\n",
       "      <th>Total.Minor.Injuries</th>\n",
       "      <th>Total.Uninjured</th>\n",
       "      <th>Weather.Condition</th>\n",
       "      <th>Broad.phase.of.flight</th>\n",
       "      <th>Report.Status</th>\n",
       "      <th>Publication.Date</th>\n",
       "    </tr>\n",
       "  </thead>\n",
       "  <tbody>\n",
       "    <tr>\n",
       "      <th>0</th>\n",
       "      <td>20001218X45444</td>\n",
       "      <td>Accident</td>\n",
       "      <td>SEA87LA080</td>\n",
       "      <td>1948-10-24</td>\n",
       "      <td>MOOSE CREEK, ID</td>\n",
       "      <td>United States</td>\n",
       "      <td>NaN</td>\n",
       "      <td>NaN</td>\n",
       "      <td>NaN</td>\n",
       "      <td>NaN</td>\n",
       "      <td>...</td>\n",
       "      <td>Personal</td>\n",
       "      <td>NaN</td>\n",
       "      <td>2.0</td>\n",
       "      <td>0.0</td>\n",
       "      <td>0.0</td>\n",
       "      <td>0.0</td>\n",
       "      <td>UNK</td>\n",
       "      <td>Cruise</td>\n",
       "      <td>Probable Cause</td>\n",
       "      <td>NaN</td>\n",
       "    </tr>\n",
       "    <tr>\n",
       "      <th>1</th>\n",
       "      <td>20001218X45447</td>\n",
       "      <td>Accident</td>\n",
       "      <td>LAX94LA336</td>\n",
       "      <td>1962-07-19</td>\n",
       "      <td>BRIDGEPORT, CA</td>\n",
       "      <td>United States</td>\n",
       "      <td>NaN</td>\n",
       "      <td>NaN</td>\n",
       "      <td>NaN</td>\n",
       "      <td>NaN</td>\n",
       "      <td>...</td>\n",
       "      <td>Personal</td>\n",
       "      <td>NaN</td>\n",
       "      <td>4.0</td>\n",
       "      <td>0.0</td>\n",
       "      <td>0.0</td>\n",
       "      <td>0.0</td>\n",
       "      <td>UNK</td>\n",
       "      <td>Unknown</td>\n",
       "      <td>Probable Cause</td>\n",
       "      <td>19-09-1996</td>\n",
       "    </tr>\n",
       "    <tr>\n",
       "      <th>2</th>\n",
       "      <td>20061025X01555</td>\n",
       "      <td>Accident</td>\n",
       "      <td>NYC07LA005</td>\n",
       "      <td>1974-08-30</td>\n",
       "      <td>Saltville, VA</td>\n",
       "      <td>United States</td>\n",
       "      <td>36.922223</td>\n",
       "      <td>-81.878056</td>\n",
       "      <td>NaN</td>\n",
       "      <td>NaN</td>\n",
       "      <td>...</td>\n",
       "      <td>Personal</td>\n",
       "      <td>NaN</td>\n",
       "      <td>3.0</td>\n",
       "      <td>NaN</td>\n",
       "      <td>NaN</td>\n",
       "      <td>NaN</td>\n",
       "      <td>IMC</td>\n",
       "      <td>Cruise</td>\n",
       "      <td>Probable Cause</td>\n",
       "      <td>26-02-2007</td>\n",
       "    </tr>\n",
       "    <tr>\n",
       "      <th>3</th>\n",
       "      <td>20001218X45448</td>\n",
       "      <td>Accident</td>\n",
       "      <td>LAX96LA321</td>\n",
       "      <td>1977-06-19</td>\n",
       "      <td>EUREKA, CA</td>\n",
       "      <td>United States</td>\n",
       "      <td>NaN</td>\n",
       "      <td>NaN</td>\n",
       "      <td>NaN</td>\n",
       "      <td>NaN</td>\n",
       "      <td>...</td>\n",
       "      <td>Personal</td>\n",
       "      <td>NaN</td>\n",
       "      <td>2.0</td>\n",
       "      <td>0.0</td>\n",
       "      <td>0.0</td>\n",
       "      <td>0.0</td>\n",
       "      <td>IMC</td>\n",
       "      <td>Cruise</td>\n",
       "      <td>Probable Cause</td>\n",
       "      <td>12-09-2000</td>\n",
       "    </tr>\n",
       "    <tr>\n",
       "      <th>4</th>\n",
       "      <td>20041105X01764</td>\n",
       "      <td>Accident</td>\n",
       "      <td>CHI79FA064</td>\n",
       "      <td>1979-08-02</td>\n",
       "      <td>Canton, OH</td>\n",
       "      <td>United States</td>\n",
       "      <td>NaN</td>\n",
       "      <td>NaN</td>\n",
       "      <td>NaN</td>\n",
       "      <td>NaN</td>\n",
       "      <td>...</td>\n",
       "      <td>Personal</td>\n",
       "      <td>NaN</td>\n",
       "      <td>1.0</td>\n",
       "      <td>2.0</td>\n",
       "      <td>NaN</td>\n",
       "      <td>0.0</td>\n",
       "      <td>VMC</td>\n",
       "      <td>Approach</td>\n",
       "      <td>Probable Cause</td>\n",
       "      <td>16-04-1980</td>\n",
       "    </tr>\n",
       "  </tbody>\n",
       "</table>\n",
       "<p>5 rows × 31 columns</p>\n",
       "</div>"
      ],
      "text/plain": [
       "         Event.Id Investigation.Type Accident.Number  Event.Date  \\\n",
       "0  20001218X45444           Accident      SEA87LA080  1948-10-24   \n",
       "1  20001218X45447           Accident      LAX94LA336  1962-07-19   \n",
       "2  20061025X01555           Accident      NYC07LA005  1974-08-30   \n",
       "3  20001218X45448           Accident      LAX96LA321  1977-06-19   \n",
       "4  20041105X01764           Accident      CHI79FA064  1979-08-02   \n",
       "\n",
       "          Location        Country   Latitude   Longitude Airport.Code  \\\n",
       "0  MOOSE CREEK, ID  United States        NaN         NaN          NaN   \n",
       "1   BRIDGEPORT, CA  United States        NaN         NaN          NaN   \n",
       "2    Saltville, VA  United States  36.922223  -81.878056          NaN   \n",
       "3       EUREKA, CA  United States        NaN         NaN          NaN   \n",
       "4       Canton, OH  United States        NaN         NaN          NaN   \n",
       "\n",
       "  Airport.Name  ... Purpose.of.flight Air.carrier Total.Fatal.Injuries  \\\n",
       "0          NaN  ...          Personal         NaN                  2.0   \n",
       "1          NaN  ...          Personal         NaN                  4.0   \n",
       "2          NaN  ...          Personal         NaN                  3.0   \n",
       "3          NaN  ...          Personal         NaN                  2.0   \n",
       "4          NaN  ...          Personal         NaN                  1.0   \n",
       "\n",
       "  Total.Serious.Injuries Total.Minor.Injuries Total.Uninjured  \\\n",
       "0                    0.0                  0.0             0.0   \n",
       "1                    0.0                  0.0             0.0   \n",
       "2                    NaN                  NaN             NaN   \n",
       "3                    0.0                  0.0             0.0   \n",
       "4                    2.0                  NaN             0.0   \n",
       "\n",
       "  Weather.Condition  Broad.phase.of.flight   Report.Status Publication.Date  \n",
       "0               UNK                 Cruise  Probable Cause              NaN  \n",
       "1               UNK                Unknown  Probable Cause       19-09-1996  \n",
       "2               IMC                 Cruise  Probable Cause       26-02-2007  \n",
       "3               IMC                 Cruise  Probable Cause       12-09-2000  \n",
       "4               VMC               Approach  Probable Cause       16-04-1980  \n",
       "\n",
       "[5 rows x 31 columns]"
      ]
     },
     "execution_count": 1,
     "metadata": {},
     "output_type": "execute_result"
    }
   ],
   "source": [
    "#import packages\n",
    "import pandas as pd\n",
    "import seaborn as sns\n",
    "import matplotlib.pyplot as plt\n",
    "import numpy as np\n",
    "%matplotlib inline\n",
    "#load csv as dataframe and display preview\n",
    "df = pd.read_csv('data/Aviation_Data.csv', low_memory=False)\n",
    "df.head()"
   ]
  },
  {
   "cell_type": "markdown",
   "metadata": {},
   "source": [
    "# Step 2: remove as many uncessary columns as possible"
   ]
  },
  {
   "cell_type": "markdown",
   "metadata": {},
   "source": [
    "Next, we need to narrow the scope of our analysis to only what is relevant to the core business question. I did extensive exploration of the data before making a decision about which variables are relevant to my analysis, so it's most efficient for me to just drop the columns I don't plan to use right off the bat."
   ]
  },
  {
   "cell_type": "code",
   "execution_count": 2,
   "metadata": {
    "scrolled": true
   },
   "outputs": [],
   "source": [
    "#drop all of the columns I do not plan to use in my analysis\n",
    "df=df.drop(axis=1, labels=\n",
    "        ['Investigation.Type', 'Accident.Number', 'Amateur.Built', 'Location', 'Country', 'Latitude', 'Longitude', 'Airport.Code', 'Airport.Name', 'Aircraft.Category', 'Registration.Number', 'FAR.Description', 'Schedule', 'Purpose.of.flight', 'Air.carrier', 'Broad.phase.of.flight', 'Publication.Date', 'Report.Status']\n",
    "       )"
   ]
  },
  {
   "cell_type": "markdown",
   "metadata": {},
   "source": [
    "Now, let's get a general summary of the missing and duplicate values in the data."
   ]
  },
  {
   "cell_type": "code",
   "execution_count": 3,
   "metadata": {
    "scrolled": false
   },
   "outputs": [
    {
     "data": {
      "text/plain": [
       "Event.Id                   1459\n",
       "Event.Date                 1459\n",
       "Injury.Severity            2459\n",
       "Aircraft.damage            4653\n",
       "Make                       1522\n",
       "Model                      1551\n",
       "Number.of.Engines          7543\n",
       "Engine.Type                8536\n",
       "Total.Fatal.Injuries      12860\n",
       "Total.Serious.Injuries    13969\n",
       "Total.Minor.Injuries      13392\n",
       "Total.Uninjured            7371\n",
       "Weather.Condition          5951\n",
       "dtype: int64"
      ]
     },
     "execution_count": 3,
     "metadata": {},
     "output_type": "execute_result"
    }
   ],
   "source": [
    "#Display the total number of NaN entires in each column.\n",
    "df.isna().sum()"
   ]
  },
  {
   "cell_type": "code",
   "execution_count": 4,
   "metadata": {
    "scrolled": true
   },
   "outputs": [
    {
     "data": {
      "text/plain": [
       "False    88846\n",
       "True      1502\n",
       "dtype: int64"
      ]
     },
     "execution_count": 4,
     "metadata": {},
     "output_type": "execute_result"
    }
   ],
   "source": [
    "### find total number of duplicate rows\n",
    "df.duplicated().value_counts()"
   ]
  },
  {
   "cell_type": "markdown",
   "metadata": {},
   "source": [
    "# Step 3: Clean the data"
   ]
  },
  {
   "cell_type": "markdown",
   "metadata": {},
   "source": [
    "## Dropping Duplicates\n",
    "First, let's just remove all the duplicated records. This will be nice and easy!"
   ]
  },
  {
   "cell_type": "code",
   "execution_count": 5,
   "metadata": {
    "scrolled": false
   },
   "outputs": [
    {
     "data": {
      "text/plain": [
       "False    88846\n",
       "dtype: int64"
      ]
     },
     "execution_count": 5,
     "metadata": {},
     "output_type": "execute_result"
    }
   ],
   "source": [
    "#drop all duplicate rows and confirm there are no more duplicates\n",
    "df = df.drop_duplicates()\n",
    "df.duplicated().value_counts()"
   ]
  },
  {
   "cell_type": "markdown",
   "metadata": {},
   "source": [
    "## Placeholders and Missing Values"
   ]
  },
  {
   "cell_type": "markdown",
   "metadata": {},
   "source": [
    "### Event ID\n",
    "Now, we need to remove or fill in the missing and placeholder values. I've determined that the best way to do this will be to just go through the relevant columns and decide how to handle them on a case-by-case basis. I don't plan to use Event ID as much other than a unique tracker of each case, so I won't be doing anything fancy with it - instead, I'm just going to drop the missing entries and call this one done."
   ]
  },
  {
   "cell_type": "code",
   "execution_count": 6,
   "metadata": {
    "scrolled": true
   },
   "outputs": [],
   "source": [
    "#Remove all NaNs from Event Id\n",
    "df=df.dropna(subset=['Event.Id'])"
   ]
  },
  {
   "cell_type": "markdown",
   "metadata": {},
   "source": [
    "### Injury Severity\n",
    "Next, I will work with the injury severity column. The data in this column is extremely irregular and redundant with other columns in the dataframe, but I think a simple fatal or non-fatal distinction is useful to me, so I will simplify it to that."
   ]
  },
  {
   "cell_type": "code",
   "execution_count": 7,
   "metadata": {
    "scrolled": false
   },
   "outputs": [
    {
     "data": {
      "text/plain": [
       "Non-Fatal      67336\n",
       "Fatal(1)        6165\n",
       "Fatal           5262\n",
       "Fatal(2)        3705\n",
       "Incident        2211\n",
       "Fatal(3)        1146\n",
       "Fatal(4)         808\n",
       "Fatal(5)         235\n",
       "Minor            217\n",
       "Serious          173\n",
       "Fatal(6)         161\n",
       "Unavailable       96\n",
       "Fatal(7)          56\n",
       "Fatal(8)          51\n",
       "Fatal(10)         32\n",
       "Fatal(9)          18\n",
       "Fatal(14)         11\n",
       "Fatal(11)         10\n",
       "Fatal(13)          9\n",
       "Fatal(12)          8\n",
       "Name: Injury.Severity, dtype: int64"
      ]
     },
     "execution_count": 7,
     "metadata": {},
     "output_type": "execute_result"
    }
   ],
   "source": [
    "#Show the irregular data contained in this column\n",
    "df['Injury.Severity'].value_counts().head(20)"
   ]
  },
  {
   "cell_type": "code",
   "execution_count": 8,
   "metadata": {
    "scrolled": false
   },
   "outputs": [
    {
     "data": {
      "text/plain": [
       "Non-Fatal    69937\n",
       "Fatal(1)      6165\n",
       "Fatal         5262\n",
       "Fatal(2)      3705\n",
       "Fatal(3)      1146\n",
       "Fatal(4)       808\n",
       "Fatal(5)       235\n",
       "Fatal(6)       161\n",
       "Fatal(7)        56\n",
       "Fatal(8)        51\n",
       "Fatal(10)       32\n",
       "Fatal(9)        18\n",
       "Fatal(14)       11\n",
       "Fatal(11)       10\n",
       "Fatal(13)        9\n",
       "Fatal(12)        8\n",
       "Fatal(20)        5\n",
       "Fatal(15)        5\n",
       "Fatal(18)        5\n",
       "Fatal(25)        4\n",
       "Name: Injury.Severity, dtype: int64"
      ]
     },
     "execution_count": 8,
     "metadata": {},
     "output_type": "execute_result"
    }
   ],
   "source": [
    "#This cell standardizes the non-fatal values and drops unkowns/NaNs.\n",
    "df['Injury.Severity'] = df['Injury.Severity'].replace(to_replace=['Incident', 'Minor', 'Serious'], value='Non-Fatal')\n",
    "df = df.drop(df[df['Injury.Severity'] == 'Unavailable'].index)\n",
    "df.dropna(axis=0, subset=['Injury.Severity'], inplace=True)\n",
    "df['Injury.Severity'].value_counts().head(20)"
   ]
  },
  {
   "cell_type": "code",
   "execution_count": 9,
   "metadata": {
    "scrolled": true
   },
   "outputs": [],
   "source": [
    "#This cell standardizes the Fatal entries based on their length. Anything longer than 5 characters is just set to 'Fatal'.\n",
    "df['Injury.Severity'] = df['Injury.Severity'].map(lambda x: 'Fatal' if x[:5]=='Fatal' else x)"
   ]
  },
  {
   "cell_type": "code",
   "execution_count": 10,
   "metadata": {
    "scrolled": true
   },
   "outputs": [
    {
     "data": {
      "text/plain": [
       "Non-Fatal    69937\n",
       "Fatal        17813\n",
       "Name: Injury.Severity, dtype: int64"
      ]
     },
     "execution_count": 10,
     "metadata": {},
     "output_type": "execute_result"
    }
   ],
   "source": [
    "#Display the cleaned column\n",
    "df['Injury.Severity'].value_counts()"
   ]
  },
  {
   "cell_type": "markdown",
   "metadata": {},
   "source": [
    "### Make and Model\n",
    "The next two columns are the most important in the dataset. They will enable my analysis by allowing me to track the individual makes and models of the planes in the data, so that I can determine which ones are the safest."
   ]
  },
  {
   "cell_type": "code",
   "execution_count": 11,
   "metadata": {
    "scrolled": false
   },
   "outputs": [
    {
     "data": {
      "text/plain": [
       "Cessna               22201\n",
       "Piper                12016\n",
       "CESSNA                4841\n",
       "Beech                 4326\n",
       "PIPER                 2814\n",
       "Bell                  2116\n",
       "Boeing                1530\n",
       "Mooney                1092\n",
       "Grumman               1091\n",
       "BEECH                 1025\n",
       "Robinson               941\n",
       "Bellanca               886\n",
       "Hughes                 794\n",
       "BOEING                 720\n",
       "Schweizer              627\n",
       "Air Tractor            595\n",
       "BELL                   570\n",
       "Mcdonnell Douglas      515\n",
       "Aeronca                486\n",
       "Maule                  445\n",
       "Name: Make, dtype: int64"
      ]
     },
     "execution_count": 11,
     "metadata": {},
     "output_type": "execute_result"
    }
   ],
   "source": [
    "#Now I need to handle the make and model columns. They are both categorical, do not have placeholder values, and only have a \n",
    "#small amount of missing values, which it will be convenient for me to just drop.\n",
    "\n",
    "df['Make'].value_counts().head(20)"
   ]
  },
  {
   "cell_type": "code",
   "execution_count": 12,
   "metadata": {
    "scrolled": true
   },
   "outputs": [],
   "source": [
    "df.dropna(axis=0, subset=['Make'], inplace=True)"
   ]
  },
  {
   "cell_type": "code",
   "execution_count": 13,
   "metadata": {
    "scrolled": false
   },
   "outputs": [
    {
     "data": {
      "text/plain": [
       "152          2357\n",
       "172          1742\n",
       "172N         1161\n",
       "PA-28-140     930\n",
       "150           825\n",
       "172M          797\n",
       "172P          685\n",
       "182           656\n",
       "180           622\n",
       "150M          585\n",
       "PA-18         579\n",
       "PA-18-150     578\n",
       "PA-28-180     572\n",
       "PA-28-161     569\n",
       "PA-28-181     530\n",
       "206B          521\n",
       "PA-38-112     467\n",
       "150L          461\n",
       "G-164A        460\n",
       "A36           450\n",
       "Name: Model, dtype: int64"
      ]
     },
     "execution_count": 13,
     "metadata": {},
     "output_type": "execute_result"
    }
   ],
   "source": [
    "df['Model'].value_counts().head(20)"
   ]
  },
  {
   "cell_type": "code",
   "execution_count": 14,
   "metadata": {
    "scrolled": true
   },
   "outputs": [],
   "source": [
    "df.dropna(axis=0, subset=['Model'], inplace=True)"
   ]
  },
  {
   "cell_type": "markdown",
   "metadata": {},
   "source": [
    "### Number of Engines\n",
    "The number of engines will only feature in my analysis as a mechanism to guage the size of the individual airplanes. I do not think it will be a big deal if I cause a change in its summary statistics, so I will just fill with the median value, since the mean would be a decimal and inconsistent with the rest of the data."
   ]
  },
  {
   "cell_type": "code",
   "execution_count": 15,
   "metadata": {
    "scrolled": true
   },
   "outputs": [
    {
     "name": "stdout",
     "output_type": "stream",
     "text": [
      "1.0    69460\n",
      "2.0    10847\n",
      "0.0     1205\n",
      "3.0      482\n",
      "4.0      411\n",
      "8.0        3\n",
      "6.0        1\n",
      "Name: Number.of.Engines, dtype: int64\n",
      "1.143976992804184\n"
     ]
    }
   ],
   "source": [
    "print(df['Number.of.Engines'].value_counts().head(10))\n",
    "print(df['Number.of.Engines'].mean())"
   ]
  },
  {
   "cell_type": "code",
   "execution_count": 16,
   "metadata": {
    "scrolled": false
   },
   "outputs": [],
   "source": [
    "#fillna with the median of the column\n",
    "df['Number.of.Engines'].fillna(df['Number.of.Engines'].median(), inplace=True)"
   ]
  },
  {
   "cell_type": "markdown",
   "metadata": {},
   "source": [
    "Now I need to check to see how that operation affected the data. It looks like it very slightly lowered the mean value by assuming all the NaNs were planes with 1 engine. This should be perfectly fine for my analysis, since I am working under the assumption that my stakeholders want to buy larger planes anyway, and most of these fabricated values will be ignored."
   ]
  },
  {
   "cell_type": "code",
   "execution_count": 17,
   "metadata": {
    "scrolled": true
   },
   "outputs": [
    {
     "name": "stdout",
     "output_type": "stream",
     "text": [
      "1.0    74711\n",
      "2.0    10847\n",
      "0.0     1205\n",
      "3.0      482\n",
      "4.0      411\n",
      "8.0        3\n",
      "6.0        1\n",
      "Name: Number.of.Engines, dtype: int64\n",
      "1.1353524982888432\n"
     ]
    }
   ],
   "source": [
    "#print the value counts and mean of the data\n",
    "print(df['Number.of.Engines'].value_counts().head(10))\n",
    "print(df['Number.of.Engines'].mean())"
   ]
  },
  {
   "cell_type": "markdown",
   "metadata": {},
   "source": [
    "### Engine Type\n",
    "Now it's time for something more difficult. The engine type column is categorical and has several different placeholder values which need to be dealt with. I cannot just drop them or fill with the mean or median, so I'm going to have to do something just a little bit more creative."
   ]
  },
  {
   "cell_type": "code",
   "execution_count": 18,
   "metadata": {
    "scrolled": true
   },
   "outputs": [
    {
     "name": "stdout",
     "output_type": "stream",
     "text": [
      "Reciprocating    0.852199\n",
      "Turbo Shaft      0.044158\n",
      "Turbo Prop       0.041323\n",
      "Turbo Fan        0.028866\n",
      "Unknown          0.024484\n",
      "Turbo Jet        0.008554\n",
      "None             0.000233\n",
      "Electric         0.000098\n",
      "LR               0.000025\n",
      "NONE             0.000025\n",
      "Name: Engine.Type, dtype: float64\n"
     ]
    }
   ],
   "source": [
    "print(df['Engine.Type'].value_counts(normalize=True).head(10))"
   ]
  },
  {
   "cell_type": "code",
   "execution_count": 19,
   "metadata": {
    "scrolled": false
   },
   "outputs": [
    {
     "data": {
      "text/plain": [
       "Reciprocating      69438\n",
       "Turbo Shaft         3598\n",
       "Turbo Prop          3367\n",
       "Turbo Fan           2352\n",
       "Unknown             1995\n",
       "Turbo Jet            697\n",
       "None                  19\n",
       "Electric               8\n",
       "LR                     2\n",
       "NONE                   2\n",
       "Hybrid Rocket          1\n",
       "Geared Turbofan        1\n",
       "UNK                    1\n",
       "Name: Engine.Type, dtype: int64"
      ]
     },
     "execution_count": 19,
     "metadata": {},
     "output_type": "execute_result"
    }
   ],
   "source": [
    "df['Engine.Type'].value_counts()"
   ]
  },
  {
   "cell_type": "markdown",
   "metadata": {},
   "source": [
    "First, I will simply drop the none values, since they are such a small subset of the total. Then, I will fill the NaNs with the 'unknown' placeholder value to simplify the following steps. \n",
    "\n",
    "After filling in the missing values, I plan to employ a trick that I learned from the solution branch of the [DSC dealing missing data lab solution branch](https://github.com/learn-co-curriculum/dsc-dealing-missing-data-lab/tree/solution). The repository has five contributors who are all brilliant people - thank you for making this piece of programming so easy for me to find and use! It has a function that calculates the normal distribution of the values in a column, converts them each into a percentage of the total, and then feeds those percentages to a numpy random choose function in order to assign values randomly to the placeholders according to the normal distribution of the data. \n",
    "\n",
    "I like this method since it tends to have a very small effect on the summary statistics of the data. A major disadvantage of this technique which must be mitigated is its randomness; if I do not set a random seed before using these calls, my analysis will yield a different result every time."
   ]
  },
  {
   "cell_type": "code",
   "execution_count": 20,
   "metadata": {
    "scrolled": false
   },
   "outputs": [
    {
     "data": {
      "text/plain": [
       "Reciprocating      0.792129\n",
       "Unknown            0.093486\n",
       "Turbo Shaft        0.041045\n",
       "Turbo Prop         0.038410\n",
       "Turbo Fan          0.026831\n",
       "Turbo Jet          0.007951\n",
       "Electric           0.000091\n",
       "LR                 0.000023\n",
       "Hybrid Rocket      0.000011\n",
       "Geared Turbofan    0.000011\n",
       "UNK                0.000011\n",
       "Name: Engine.Type, dtype: float64"
      ]
     },
     "execution_count": 20,
     "metadata": {},
     "output_type": "execute_result"
    }
   ],
   "source": [
    "#Standardize placeholder values\n",
    "df['Engine.Type'] = df['Engine.Type'].loc[df['Engine.Type'] != 'NONE']\n",
    "df['Engine.Type'] = df['Engine.Type'].loc[df['Engine.Type'] != 'None']\n",
    "df['Engine.Type'].fillna(value='Unknown', inplace=True)\n",
    "df['Engine.Type'].value_counts(normalize=True) "
   ]
  },
  {
   "cell_type": "markdown",
   "metadata": {},
   "source": [
    "Before anything else, it is highly important to set the numpy random seed for reproducability. I want to make sure the result is exactly the same every time this notebook is run, so I set the random seed in the cell below."
   ]
  },
  {
   "cell_type": "code",
   "execution_count": 21,
   "metadata": {},
   "outputs": [],
   "source": [
    "np.random.seed(42)"
   ]
  },
  {
   "cell_type": "markdown",
   "metadata": {},
   "source": [
    "Next, I need to start defining functions so that I can easily re-use this process later. The first function needs to take a df and column as input. I also want to optionally be able to include a list of values to ignore/not calculate normals for so that I can exclude placeholders and outliers."
   ]
  },
  {
   "cell_type": "code",
   "execution_count": 22,
   "metadata": {
    "scrolled": true
   },
   "outputs": [],
   "source": [
    "def get_norms(df, column, ignore=[]):\n",
    "    '''\n",
    "    Returns normalized value counts of the specified column in df. Ignore is a list of values to exclude from this calculation.\n",
    "    '''\n",
    "    c = dict(df[column].value_counts(normalize=True))\n",
    "    for key in ignore:\n",
    "        del c[key]\n",
    "    return list(c.values())"
   ]
  },
  {
   "cell_type": "code",
   "execution_count": 23,
   "metadata": {
    "scrolled": true
   },
   "outputs": [
    {
     "data": {
      "text/plain": [
       "[0.7921286789869952,\n",
       " 0.04104494638375542,\n",
       " 0.03840976500114077,\n",
       " 0.026830937713894592,\n",
       " 0.007951174994296144]"
      ]
     },
     "execution_count": 23,
     "metadata": {},
     "output_type": "execute_result"
    }
   ],
   "source": [
    "remove_list = ['Unknown', 'Electric', 'LR', 'UNK', 'Geared Turbofan', 'Hybrid Rocket']\n",
    "norms = get_norms(df, 'Engine.Type', remove_list)\n",
    "norms"
   ]
  },
  {
   "cell_type": "markdown",
   "metadata": {},
   "source": [
    "Perfect, that works exactly how I want it to. I can give my function a dataframe and the column I want the normal distribution of, and it will return a list of the values. I can even give it a list of values I want it to exclude! As a consequence of me using that to exclude the placeholder values I plan to replace, I need to re-normalize these values so they can be used as percentage chances."
   ]
  },
  {
   "cell_type": "code",
   "execution_count": 24,
   "metadata": {
    "scrolled": false
   },
   "outputs": [],
   "source": [
    "def get_probs(normal_list):\n",
    "    '''\n",
    "    Takes a list as an argument and returns normalized values.\n",
    "    '''\n",
    "    probabilities = []\n",
    "    for number in normal_list:\n",
    "        probabilities.append(number/sum(normal_list))\n",
    "    return probabilities"
   ]
  },
  {
   "cell_type": "code",
   "execution_count": 25,
   "metadata": {},
   "outputs": [
    {
     "data": {
      "text/plain": [
       "[0.8739616372149223,\n",
       " 0.04528520364496803,\n",
       " 0.04237778784675024,\n",
       " 0.029602779036399334,\n",
       " 0.008772592256960176]"
      ]
     },
     "execution_count": 25,
     "metadata": {},
     "output_type": "execute_result"
    }
   ],
   "source": [
    "norms = get_probs(norms)\n",
    "norms"
   ]
  },
  {
   "cell_type": "markdown",
   "metadata": {},
   "source": [
    "Now, I need to write the function that fills in the placeholder values according to this distribution. "
   ]
  },
  {
   "cell_type": "code",
   "execution_count": 26,
   "metadata": {},
   "outputs": [],
   "source": [
    "def impute(value, choices, chances):\n",
    "    '''\n",
    "    If a given value is unknown, replace it with one of the choices given according to the probabilities given.\n",
    "    '''\n",
    "    if value == 'Unknown':\n",
    "        return np.random.choice(choices, p=chances)\n",
    "    else:\n",
    "        return value"
   ]
  },
  {
   "cell_type": "markdown",
   "metadata": {},
   "source": [
    "Now, I just need to map this function to each value in the engine type column using a lambda function, while feeding it the list of valid options for it to choose from ordered the same as their probabilities."
   ]
  },
  {
   "cell_type": "code",
   "execution_count": 27,
   "metadata": {},
   "outputs": [],
   "source": [
    "choice_list = ['Reciprocating', 'Turbo Shaft', 'Turbo Prop', 'Turbo Fan', 'Turbo Jet'] #hard-coded list of values\n",
    "\n",
    "df['Engine.Type'] = df['Engine.Type'].map(lambda x: impute(x, choice_list, norms))"
   ]
  },
  {
   "cell_type": "code",
   "execution_count": 28,
   "metadata": {},
   "outputs": [
    {
     "data": {
      "text/plain": [
       "Reciprocating      0.874104\n",
       "Turbo Shaft        0.045038\n",
       "Turbo Prop         0.042380\n",
       "Turbo Fan          0.029660\n",
       "Turbo Jet          0.008670\n",
       "Electric           0.000091\n",
       "LR                 0.000023\n",
       "Hybrid Rocket      0.000011\n",
       "Geared Turbofan    0.000011\n",
       "UNK                0.000011\n",
       "Name: Engine.Type, dtype: float64"
      ]
     },
     "execution_count": 28,
     "metadata": {},
     "output_type": "execute_result"
    }
   ],
   "source": [
    "df['Engine.Type'].value_counts(normalize=True)"
   ]
  },
  {
   "cell_type": "markdown",
   "metadata": {
    "scrolled": true
   },
   "source": [
    "It looks like that worked exactly how I wanted it to! This definitely has a smaller effect on the column than just dropping the 5% of values that are missing would, with the trade-off of being more random. There are definitely records in the data that represent real aircraft which I have filled in with an inaccurate engine type using this method; although this would have been a consequence of any method I used to fill in the blanks. Next, I'll be making heavy usage of those functions I just defined to standardize the next four columns."
   ]
  },
  {
   "cell_type": "markdown",
   "metadata": {},
   "source": [
    "### Total Fatal Injuries\n",
    "\n",
    "My original plan for the injury totals is to fill all NaN values with 'Unknown', and then apply the functions I just wrote to them in the same way to preserve the summary statistics while filling in the missing values. Unfortunately, upon running my analysis for the first time, I have discovered that filling the data in this way actually seems to show a larger effect in the results than the actual data. In addition to this, I was experiencing an issue where my results were not reproducible, even after setting the numpy random seed to a specific value. On reflection, I think that in order to prioritize the reproducability of my results, I need to remove this randomness from my methods. \n",
    "\n",
    "Instead, I think it's okay to just drop the missing values in this column, even though there are a whole lot of them - I would rather be missing data than recommend airplanes to investors because they won a random dice and had all of their missing entries filled with zero fatalities.\n",
    "\n",
    "For Total Fatal Injuries column, I think my best choice is legitimately to just drop the ~10% of incidents that are missing information. I really do not want to misconstrue a non-fatal crash as fatal, or the other way around."
   ]
  },
  {
   "cell_type": "code",
   "execution_count": 29,
   "metadata": {
    "scrolled": true
   },
   "outputs": [],
   "source": [
    "df=df.dropna(subset=['Total.Fatal.Injuries'])"
   ]
  },
  {
   "cell_type": "markdown",
   "metadata": {},
   "source": [
    "Perfect, it looks like that went off without a hitch, and had a minimal effect on summary statistics! I need to make sure there are not any NaN values left after that, and then I will repeat the same process for the next three columns."
   ]
  },
  {
   "cell_type": "code",
   "execution_count": 30,
   "metadata": {
    "scrolled": true
   },
   "outputs": [
    {
     "data": {
      "text/plain": [
       "False"
      ]
     },
     "execution_count": 30,
     "metadata": {},
     "output_type": "execute_result"
    }
   ],
   "source": [
    "df['Total.Fatal.Injuries'].isna().any()"
   ]
  },
  {
   "cell_type": "markdown",
   "metadata": {},
   "source": [
    "### Total Serious Injuries\n",
    "\n",
    "These next two columns are not as critically important to the safety ratings I will give to the aircraft I intend to recommend, so I will be filling their missing values with the median. This will cause a bigger change in summary statistics, but since the only way I intend to use these columns is to calculate an estimate of the total number of passengers on a given flight, I will accept that I am trading a bigger change in summary statistics in exchange for a reduction in randomness by not using the normal distribution method."
   ]
  },
  {
   "cell_type": "code",
   "execution_count": 31,
   "metadata": {},
   "outputs": [],
   "source": [
    "df['Total.Serious.Injuries'].fillna(value=df['Total.Serious.Injuries'].median(), inplace=True)"
   ]
  },
  {
   "cell_type": "markdown",
   "metadata": {},
   "source": [
    "### Total Minor Injuries\n",
    "\n",
    "I have the same intention for this column. It will not serve any function in my analysis other than to estimate the average number of passengers on a given flight for a given aircraft, so I believe it is justifiable to just fill the missing results with the median value."
   ]
  },
  {
   "cell_type": "code",
   "execution_count": 32,
   "metadata": {},
   "outputs": [],
   "source": [
    "df['Total.Minor.Injuries'].fillna(value=df['Total.Minor.Injuries'].median(), inplace=True)"
   ]
  },
  {
   "cell_type": "markdown",
   "metadata": {},
   "source": [
    "### Total Uninjured\n",
    "\n",
    "The total uninjured column is missing significantly fewer values than the other passenger totals. The addition of random noise to these records shouldn't have an affect on the end result of my analysis, so I'm going to use the numpy.random.choose function for it."
   ]
  },
  {
   "cell_type": "code",
   "execution_count": 33,
   "metadata": {},
   "outputs": [
    {
     "name": "stdout",
     "output_type": "stream",
     "text": [
      "9.0    0.001431\n",
      "8.0    0.001785\n",
      "7.0    0.003162\n",
      "6.0    0.005765\n",
      "5.0    0.010221\n",
      "4.0    0.031277\n",
      "3.0    0.049389\n",
      "2.0    0.181447\n",
      "1.0    0.288987\n",
      "0.0    0.392712\n",
      "Name: Total.Uninjured, dtype: float64\n"
     ]
    }
   ],
   "source": [
    "print(df['Total.Uninjured'].value_counts(normalize=True).sort_values().tail(10))"
   ]
  },
  {
   "cell_type": "markdown",
   "metadata": {},
   "source": [
    "This column has a wide distribution of common values, so I will distribute the NaNs across all the categories that make up at least 1% of the total. (In this case, 1-5). "
   ]
  },
  {
   "cell_type": "code",
   "execution_count": 34,
   "metadata": {},
   "outputs": [
    {
     "data": {
      "text/plain": [
       "[0.39271161263066084,\n",
       " 0.288987012279052,\n",
       " 0.18144650230998816,\n",
       " 0.0493887730487755,\n",
       " 0.03127683061449773,\n",
       " 0.010221186475326056]"
      ]
     },
     "execution_count": 34,
     "metadata": {},
     "output_type": "execute_result"
    }
   ],
   "source": [
    "norms = get_norms(df, 'Total.Uninjured')\n",
    "del norms[6:]\n",
    "norms"
   ]
  },
  {
   "cell_type": "code",
   "execution_count": 35,
   "metadata": {},
   "outputs": [
    {
     "data": {
      "text/plain": [
       "9.0    0.001375\n",
       "8.0    0.001715\n",
       "7.0    0.003038\n",
       "6.0    0.005539\n",
       "5.0    0.010123\n",
       "4.0    0.031088\n",
       "3.0    0.049579\n",
       "2.0    0.181803\n",
       "1.0    0.289996\n",
       "0.0    0.393240\n",
       "Name: Total.Uninjured, dtype: float64"
      ]
     },
     "execution_count": 35,
     "metadata": {},
     "output_type": "execute_result"
    }
   ],
   "source": [
    "choice_list = [0.0, 1.0, 2.0, 3.0, 4.0, 5.0]\n",
    "df['Total.Uninjured'].fillna(value='Unknown', inplace=True)\n",
    "df['Total.Uninjured'] = df['Total.Uninjured'].map(lambda x: impute(x, choice_list, get_probs(norms)))\n",
    "df['Total.Uninjured'].value_counts(normalize=True).sort_values().tail(10)"
   ]
  },
  {
   "cell_type": "markdown",
   "metadata": {},
   "source": [
    "I believe that I have solved my reproducability issue by reducing the random noise that I add to these columns. I also might consider making the code a little more dry by writing a function that contains the calls I ran in the previous two cells."
   ]
  },
  {
   "cell_type": "markdown",
   "metadata": {},
   "source": [
    "### Aircraft Damage\n",
    "\n",
    "I was originally re-using the numpy choice function here as well, but investigated further and found that it was changing the outcome of my analysis. There's only 4000 NaNs in this column, so on second thought, I think it would be smarter to just drop them. There are also a few placeholder values, which I am going to set to the Median of the column for a little extra cleanliness."
   ]
  },
  {
   "cell_type": "code",
   "execution_count": 36,
   "metadata": {},
   "outputs": [],
   "source": [
    "df['Aircraft.damage'].dropna(inplace=True)"
   ]
  },
  {
   "cell_type": "code",
   "execution_count": 37,
   "metadata": {},
   "outputs": [],
   "source": [
    "df.loc[df['Aircraft.damage'] == 'Unknown', 'Aircraft.damage'] = 'Substantial'"
   ]
  },
  {
   "cell_type": "code",
   "execution_count": 38,
   "metadata": {},
   "outputs": [
    {
     "data": {
      "text/plain": [
       "Substantial    54205\n",
       "Destroyed      17865\n",
       "Minor           2108\n",
       "Name: Aircraft.damage, dtype: int64"
      ]
     },
     "execution_count": 38,
     "metadata": {},
     "output_type": "execute_result"
    }
   ],
   "source": [
    "df['Aircraft.damage'].value_counts()"
   ]
  },
  {
   "cell_type": "markdown",
   "metadata": {},
   "source": [
    "### Total Passengers Column\n",
    "\n",
    "Now, I want to add a new column to the dataframe to help my analysis: a sum of all the different injury type columns and the uninjured column that represents the total number of passengers on each plane at the time of the incident.\n",
    "\n",
    "This is particularly important for my analysis, because I am working with the assumption that incidents are bound to happen. The safest plane is the one that has the smallest amount of casualties in the event of a safety incident."
   ]
  },
  {
   "cell_type": "code",
   "execution_count": 39,
   "metadata": {},
   "outputs": [],
   "source": [
    "#Simply adding all four columns together on every row\n",
    "df['Total.Passengers'] = df['Total.Fatal.Injuries'] + df['Total.Serious.Injuries'] + df['Total.Minor.Injuries'] + df['Total.Uninjured']"
   ]
  },
  {
   "cell_type": "markdown",
   "metadata": {},
   "source": [
    "### Total Injuries Column\n",
    "\n",
    "I also realized that the total number of injuries of any type would be useful to my analysis, so I create that column here."
   ]
  },
  {
   "cell_type": "code",
   "execution_count": 40,
   "metadata": {},
   "outputs": [],
   "source": [
    "#Exactly the same as above but without uninjured passengers\n",
    "df['Total.Injuries'] = df['Total.Fatal.Injuries'] + df['Total.Serious.Injuries'] + df['Total.Minor.Injuries']"
   ]
  },
  {
   "cell_type": "markdown",
   "metadata": {},
   "source": [
    "### Weather Condition\n",
    "\n",
    "This is a column I believe it is acceptable to use the random choice function to fill. I tested with multiple different seeds and found that the effect was not large enough to change the outcome of my analysis."
   ]
  },
  {
   "cell_type": "code",
   "execution_count": 41,
   "metadata": {
    "scrolled": false
   },
   "outputs": [
    {
     "data": {
      "text/plain": [
       "VMC    0.910318\n",
       "IMC    0.076226\n",
       "UNK    0.010215\n",
       "Unk    0.003241\n",
       "Name: Weather.Condition, dtype: float64"
      ]
     },
     "execution_count": 41,
     "metadata": {},
     "output_type": "execute_result"
    }
   ],
   "source": [
    "df['Weather.Condition'].value_counts(normalize=True)"
   ]
  },
  {
   "cell_type": "markdown",
   "metadata": {},
   "source": [
    "I plan to use this column in my analysis, so I want to make sure the data is accurate. I will re-distribute the placeholder and NaN values according to the ratio of VMC/IMC in order to preserve the summary statistics as much as possible."
   ]
  },
  {
   "cell_type": "code",
   "execution_count": 42,
   "metadata": {
    "scrolled": true
   },
   "outputs": [
    {
     "data": {
      "text/plain": [
       "VMC        0.871718\n",
       "IMC        0.072993\n",
       "Unknown    0.055289\n",
       "Name: Weather.Condition, dtype: float64"
      ]
     },
     "execution_count": 42,
     "metadata": {},
     "output_type": "execute_result"
    }
   ],
   "source": [
    "df['Weather.Condition'].fillna(value='Unknown', inplace=True)\n",
    "df.loc[df['Weather.Condition'] == 'UNK', 'Weather.Condition'] = 'Unknown'\n",
    "df.loc[df['Weather.Condition'] == 'Unk', 'Weather.Condition'] = 'Unknown'\n",
    "df['Weather.Condition'].value_counts(normalize=True)"
   ]
  },
  {
   "cell_type": "code",
   "execution_count": 43,
   "metadata": {},
   "outputs": [
    {
     "data": {
      "text/plain": [
       "[0.8717179786022027, 0.07299346542173565]"
      ]
     },
     "execution_count": 43,
     "metadata": {},
     "output_type": "execute_result"
    }
   ],
   "source": [
    "remove_list = ['Unknown']\n",
    "norms = get_norms(df, 'Weather.Condition', remove_list)\n",
    "norms"
   ]
  },
  {
   "cell_type": "code",
   "execution_count": 44,
   "metadata": {},
   "outputs": [
    {
     "data": {
      "text/plain": [
       "VMC    0.922476\n",
       "IMC    0.077524\n",
       "Name: Weather.Condition, dtype: float64"
      ]
     },
     "execution_count": 44,
     "metadata": {},
     "output_type": "execute_result"
    }
   ],
   "source": [
    "choice_list = ['VMC', 'IMC']\n",
    "df['Weather.Condition'] = df['Weather.Condition'].map(lambda x: impute(x, choice_list, get_probs(norms)))\n",
    "df['Weather.Condition'].value_counts(normalize=True)"
   ]
  },
  {
   "cell_type": "markdown",
   "metadata": {},
   "source": [
    "Perfect! That was the last column I needed to clean, so all that's left to do before we start the analysis is a little bit of housekeeping. I have two more columns to add which will be very important to my analysis.\n",
    "\n",
    "The first combines the make and model columns to make it easier to sort the dataframe by types of aircraft. We typically think of the individual aircraft as a combination of make and model, so it makes sense for my data to represent that. \n",
    "\n",
    "The second column is simply the total number of fatalities divied by the total number of passengers in each given incident, and it represents the chance that you would sustain a fatal injury if you were a passenger on that given flight. Later in the analysis I will take the average of this value for each aircraft to represent the general likilihood of dying on it based on the limited data in this dataset."
   ]
  },
  {
   "cell_type": "code",
   "execution_count": 45,
   "metadata": {},
   "outputs": [],
   "source": [
    "# Add a new column that combined make and model to simplify the code I will use in my analysis\n",
    "df['Make&Model'] = df['Make'] + ' ' + df['Model']"
   ]
  },
  {
   "cell_type": "code",
   "execution_count": 46,
   "metadata": {},
   "outputs": [
    {
     "data": {
      "text/plain": [
       "0.000000    58529\n",
       "1.000000    13050\n",
       "0.500000     1977\n",
       "0.333333      671\n",
       "0.666667      527\n",
       "            ...  \n",
       "0.684211        1\n",
       "0.990476        1\n",
       "0.147059        1\n",
       "0.172932        1\n",
       "0.010526        1\n",
       "Name: Fatality.Ratio, Length: 208, dtype: int64"
      ]
     },
     "execution_count": 46,
     "metadata": {},
     "output_type": "execute_result"
    }
   ],
   "source": [
    "# Add a new column that calculates the ratio of the mean of total fatal injuries per make and model to total passengers\n",
    "df['Fatality.Ratio'] = df['Total.Fatal.Injuries']/df['Total.Passengers']\n",
    "df['Fatality.Ratio'].value_counts()"
   ]
  },
  {
   "cell_type": "markdown",
   "metadata": {},
   "source": [
    "## Step 4: statistical analysis\n",
    "\n",
    "My goal in this project is to give three concrete recommendations to stakeholders about which makes/models of plane are the best investment from a safety perspective. One of the biggest issues with investing in planes are the safety risks associated with it; if a plane is destroyed in a crash, you are not only down the money you spent on the plane, but you also have an expensive disaster to clean up. It is in the best interest of the shareholder to purchase only the most safe planes to avoid these hidden costs of the investment, since safety incidents are unfortunately common. In the event that the plane you have invested in is in a crash, you want to make sure that the crash is as minor and harmless as possible to minimize the financial damage. The three questions I will answer to address this issue in my analysis are:\n",
    "1. What are the top 5 commercial-grade aircraft that have the lowest average rates of fatalities and injuries in the event of an accident?\n",
    "2. Of those top 5 aircraft, which one performs the best in IMC (instrument driven only) flight conditions?\n",
    "3. Of those top 5 aircraft, which plane tended to take the least damage during an incident?"
   ]
  },
  {
   "cell_type": "markdown",
   "metadata": {},
   "source": [
    "### 1. Lowest fatality and injury rate among large planes\n",
    "\n",
    "The dataset has two major challenges that I need to address before I can give advice tailored to the specific business needs of the shareholders:\n",
    "1. A large amount of the makes/models in the dataset are consumer grade aircraft that are simply not relevant to the business needs of the shareholders. Some makes/models are actually helicopters, which are completely irrelevant to my analysis.\n",
    "2. Many makes/models in the dataset have only 1-5 records. This may be because they are safer, or it may be because there are less of these planes in the air. They also may have experienced more crashes than are shown in this data. \n",
    "\n",
    "I have come up with a way to address both of these issues that I think is reasonable.\n",
    "1. Commercial aircraft typically have two or more engines; in fact, according to [simpleflying.com](https://simpleflying.com/why-single-jet-commercial-aircraft-arent-just-around-the-corner/#:~:text=One%20smaller%20aircraft%20designer%20has,by%20a%20Williams%20FJ33%20turbofan.), the only single engine commericial passenger aircraft on the market is the The Cirrus Vision SF50, certified in 2016. In addition, there are many records for helicoptors, hot air baloons, and other aircraft which are irrelevant to my analysis that have 0-1 engines in the data. For this reason, it will be easiest for me to just group by number of engines and exclude all makes and models that have less than two.\n",
    "2. To ensure that I am not making assumptions based on a small sample size, I will exclude all makes and models whoose number of records is less than 10. This is an arbitrary limit, and it will have a serious effect on the outcome of the analysis. However, it is my best option - Excluding outliers based on standard deviations or IQR would not be satisfactory for my needs. They would dictate that I include all aircraft with above 4 records, and I am of the opinion that 4 incidents are not enough for me to make a statistical judgement about the safety of an aircraft. For these reasons, I am confident in my arbitrary floor of 10 incidents.\n",
    "\n",
    "Another important detail to mention is that small number of incidents could mean two things: There are either not many of the aircraft/the aircraft is new and has not had enough airtime to have many incidents on record (I want to exclude these), or the aircraft is extremely safe and does not have many safety incidents (very difficult to prove). I am confident that setting this arbitrary limit to exclude these edge cases will allow me to make the overall best recommendation based on statistics."
   ]
  },
  {
   "cell_type": "markdown",
   "metadata": {},
   "source": [
    "This piece of code generates the average number of total fatalities for each make and model."
   ]
  },
  {
   "cell_type": "code",
   "execution_count": 48,
   "metadata": {
    "scrolled": false
   },
   "outputs": [
    {
     "data": {
      "text/html": [
       "<div>\n",
       "<style scoped>\n",
       "    .dataframe tbody tr th:only-of-type {\n",
       "        vertical-align: middle;\n",
       "    }\n",
       "\n",
       "    .dataframe tbody tr th {\n",
       "        vertical-align: top;\n",
       "    }\n",
       "\n",
       "    .dataframe thead th {\n",
       "        text-align: right;\n",
       "    }\n",
       "</style>\n",
       "<table border=\"1\" class=\"dataframe\">\n",
       "  <thead>\n",
       "    <tr style=\"text-align: right;\">\n",
       "      <th></th>\n",
       "      <th>Make&amp;Model</th>\n",
       "      <th>Number.of.Engines</th>\n",
       "      <th>Total.Fatal.Injuries</th>\n",
       "    </tr>\n",
       "  </thead>\n",
       "  <tbody>\n",
       "    <tr>\n",
       "      <th>0</th>\n",
       "      <td>107.5 Flying Corporation One Design DR 107</td>\n",
       "      <td>1.0</td>\n",
       "      <td>1.0</td>\n",
       "    </tr>\n",
       "    <tr>\n",
       "      <th>1</th>\n",
       "      <td>177MF LLC PITTS MODEL 12</td>\n",
       "      <td>1.0</td>\n",
       "      <td>0.0</td>\n",
       "    </tr>\n",
       "    <tr>\n",
       "      <th>2</th>\n",
       "      <td>1st Ftr Gp FOCKE-WULF 190</td>\n",
       "      <td>1.0</td>\n",
       "      <td>1.0</td>\n",
       "    </tr>\n",
       "    <tr>\n",
       "      <th>3</th>\n",
       "      <td>2000 Mccoy Genesis</td>\n",
       "      <td>1.0</td>\n",
       "      <td>1.0</td>\n",
       "    </tr>\n",
       "    <tr>\n",
       "      <th>4</th>\n",
       "      <td>2007 Savage Air LLC EPIC LT</td>\n",
       "      <td>1.0</td>\n",
       "      <td>0.0</td>\n",
       "    </tr>\n",
       "    <tr>\n",
       "      <th>...</th>\n",
       "      <td>...</td>\n",
       "      <td>...</td>\n",
       "      <td>...</td>\n",
       "    </tr>\n",
       "    <tr>\n",
       "      <th>18332</th>\n",
       "      <td>de Havilland DHC-2 MK I</td>\n",
       "      <td>1.0</td>\n",
       "      <td>2.0</td>\n",
       "    </tr>\n",
       "    <tr>\n",
       "      <th>18333</th>\n",
       "      <td>de Havilland DHC-3</td>\n",
       "      <td>1.0</td>\n",
       "      <td>0.0</td>\n",
       "    </tr>\n",
       "    <tr>\n",
       "      <th>18334</th>\n",
       "      <td>de Havilland DHC-6-200</td>\n",
       "      <td>2.0</td>\n",
       "      <td>0.0</td>\n",
       "    </tr>\n",
       "    <tr>\n",
       "      <th>18335</th>\n",
       "      <td>de Havilland DHC-8-202</td>\n",
       "      <td>2.0</td>\n",
       "      <td>0.0</td>\n",
       "    </tr>\n",
       "    <tr>\n",
       "      <th>18336</th>\n",
       "      <td>unknown kit</td>\n",
       "      <td>1.0</td>\n",
       "      <td>0.0</td>\n",
       "    </tr>\n",
       "  </tbody>\n",
       "</table>\n",
       "<p>18337 rows × 3 columns</p>\n",
       "</div>"
      ],
      "text/plain": [
       "                                       Make&Model  Number.of.Engines  \\\n",
       "0      107.5 Flying Corporation One Design DR 107                1.0   \n",
       "1                        177MF LLC PITTS MODEL 12                1.0   \n",
       "2                       1st Ftr Gp FOCKE-WULF 190                1.0   \n",
       "3                              2000 Mccoy Genesis                1.0   \n",
       "4                     2007 Savage Air LLC EPIC LT                1.0   \n",
       "...                                           ...                ...   \n",
       "18332                     de Havilland DHC-2 MK I                1.0   \n",
       "18333                          de Havilland DHC-3                1.0   \n",
       "18334                      de Havilland DHC-6-200                2.0   \n",
       "18335                      de Havilland DHC-8-202                2.0   \n",
       "18336                                 unknown kit                1.0   \n",
       "\n",
       "       Total.Fatal.Injuries  \n",
       "0                       1.0  \n",
       "1                       0.0  \n",
       "2                       1.0  \n",
       "3                       1.0  \n",
       "4                       0.0  \n",
       "...                     ...  \n",
       "18332                   2.0  \n",
       "18333                   0.0  \n",
       "18334                   0.0  \n",
       "18335                   0.0  \n",
       "18336                   0.0  \n",
       "\n",
       "[18337 rows x 3 columns]"
      ]
     },
     "execution_count": 48,
     "metadata": {},
     "output_type": "execute_result"
    }
   ],
   "source": [
    "# Group dataframe by make&model and number of engines, then calculate the mean number of fatalities for each. \n",
    "avg_fatalities = df.groupby(['Make&Model', 'Number.of.Engines'])['Total.Fatal.Injuries'].mean()\n",
    "# Reset index to change object back to a dataframe\n",
    "avg_fatalities = avg_fatalities.reset_index()\n",
    "avg_fatalities"
   ]
  },
  {
   "cell_type": "markdown",
   "metadata": {},
   "source": [
    "This piece of code calculates the mean total of injuries per incident for each aircraft."
   ]
  },
  {
   "cell_type": "code",
   "execution_count": 49,
   "metadata": {},
   "outputs": [
    {
     "data": {
      "text/html": [
       "<div>\n",
       "<style scoped>\n",
       "    .dataframe tbody tr th:only-of-type {\n",
       "        vertical-align: middle;\n",
       "    }\n",
       "\n",
       "    .dataframe tbody tr th {\n",
       "        vertical-align: top;\n",
       "    }\n",
       "\n",
       "    .dataframe thead th {\n",
       "        text-align: right;\n",
       "    }\n",
       "</style>\n",
       "<table border=\"1\" class=\"dataframe\">\n",
       "  <thead>\n",
       "    <tr style=\"text-align: right;\">\n",
       "      <th></th>\n",
       "      <th>Make&amp;Model</th>\n",
       "      <th>Number.of.Engines</th>\n",
       "      <th>Total.Injuries</th>\n",
       "    </tr>\n",
       "  </thead>\n",
       "  <tbody>\n",
       "    <tr>\n",
       "      <th>0</th>\n",
       "      <td>107.5 Flying Corporation One Design DR 107</td>\n",
       "      <td>1.0</td>\n",
       "      <td>1.0</td>\n",
       "    </tr>\n",
       "    <tr>\n",
       "      <th>1</th>\n",
       "      <td>177MF LLC PITTS MODEL 12</td>\n",
       "      <td>1.0</td>\n",
       "      <td>2.0</td>\n",
       "    </tr>\n",
       "    <tr>\n",
       "      <th>2</th>\n",
       "      <td>1st Ftr Gp FOCKE-WULF 190</td>\n",
       "      <td>1.0</td>\n",
       "      <td>1.0</td>\n",
       "    </tr>\n",
       "    <tr>\n",
       "      <th>3</th>\n",
       "      <td>2000 Mccoy Genesis</td>\n",
       "      <td>1.0</td>\n",
       "      <td>1.0</td>\n",
       "    </tr>\n",
       "    <tr>\n",
       "      <th>4</th>\n",
       "      <td>2007 Savage Air LLC EPIC LT</td>\n",
       "      <td>1.0</td>\n",
       "      <td>0.0</td>\n",
       "    </tr>\n",
       "    <tr>\n",
       "      <th>...</th>\n",
       "      <td>...</td>\n",
       "      <td>...</td>\n",
       "      <td>...</td>\n",
       "    </tr>\n",
       "    <tr>\n",
       "      <th>18332</th>\n",
       "      <td>de Havilland DHC-2 MK I</td>\n",
       "      <td>1.0</td>\n",
       "      <td>5.0</td>\n",
       "    </tr>\n",
       "    <tr>\n",
       "      <th>18333</th>\n",
       "      <td>de Havilland DHC-3</td>\n",
       "      <td>1.0</td>\n",
       "      <td>0.0</td>\n",
       "    </tr>\n",
       "    <tr>\n",
       "      <th>18334</th>\n",
       "      <td>de Havilland DHC-6-200</td>\n",
       "      <td>2.0</td>\n",
       "      <td>0.0</td>\n",
       "    </tr>\n",
       "    <tr>\n",
       "      <th>18335</th>\n",
       "      <td>de Havilland DHC-8-202</td>\n",
       "      <td>2.0</td>\n",
       "      <td>2.0</td>\n",
       "    </tr>\n",
       "    <tr>\n",
       "      <th>18336</th>\n",
       "      <td>unknown kit</td>\n",
       "      <td>1.0</td>\n",
       "      <td>1.0</td>\n",
       "    </tr>\n",
       "  </tbody>\n",
       "</table>\n",
       "<p>18337 rows × 3 columns</p>\n",
       "</div>"
      ],
      "text/plain": [
       "                                       Make&Model  Number.of.Engines  \\\n",
       "0      107.5 Flying Corporation One Design DR 107                1.0   \n",
       "1                        177MF LLC PITTS MODEL 12                1.0   \n",
       "2                       1st Ftr Gp FOCKE-WULF 190                1.0   \n",
       "3                              2000 Mccoy Genesis                1.0   \n",
       "4                     2007 Savage Air LLC EPIC LT                1.0   \n",
       "...                                           ...                ...   \n",
       "18332                     de Havilland DHC-2 MK I                1.0   \n",
       "18333                          de Havilland DHC-3                1.0   \n",
       "18334                      de Havilland DHC-6-200                2.0   \n",
       "18335                      de Havilland DHC-8-202                2.0   \n",
       "18336                                 unknown kit                1.0   \n",
       "\n",
       "       Total.Injuries  \n",
       "0                 1.0  \n",
       "1                 2.0  \n",
       "2                 1.0  \n",
       "3                 1.0  \n",
       "4                 0.0  \n",
       "...               ...  \n",
       "18332             5.0  \n",
       "18333             0.0  \n",
       "18334             0.0  \n",
       "18335             2.0  \n",
       "18336             1.0  \n",
       "\n",
       "[18337 rows x 3 columns]"
      ]
     },
     "execution_count": 49,
     "metadata": {},
     "output_type": "execute_result"
    }
   ],
   "source": [
    "# Exact same code as above, but for serious injuries instead of fatal injuries\n",
    "avg_total_injuries = df.groupby(['Make&Model', 'Number.of.Engines'])['Total.Injuries'].mean()\n",
    "avg_total_injuries = avg_total_injuries.reset_index()\n",
    "avg_total_injuries"
   ]
  },
  {
   "cell_type": "markdown",
   "metadata": {},
   "source": [
    "This piece of code cacluates the total number of incidents each aircraft has been in."
   ]
  },
  {
   "cell_type": "code",
   "execution_count": 50,
   "metadata": {
    "scrolled": false
   },
   "outputs": [
    {
     "data": {
      "text/html": [
       "<div>\n",
       "<style scoped>\n",
       "    .dataframe tbody tr th:only-of-type {\n",
       "        vertical-align: middle;\n",
       "    }\n",
       "\n",
       "    .dataframe tbody tr th {\n",
       "        vertical-align: top;\n",
       "    }\n",
       "\n",
       "    .dataframe thead th {\n",
       "        text-align: right;\n",
       "    }\n",
       "</style>\n",
       "<table border=\"1\" class=\"dataframe\">\n",
       "  <thead>\n",
       "    <tr style=\"text-align: right;\">\n",
       "      <th></th>\n",
       "      <th>Make&amp;Model</th>\n",
       "      <th>Number.of.Engines</th>\n",
       "      <th>0</th>\n",
       "    </tr>\n",
       "  </thead>\n",
       "  <tbody>\n",
       "    <tr>\n",
       "      <th>0</th>\n",
       "      <td>107.5 Flying Corporation One Design DR 107</td>\n",
       "      <td>1.0</td>\n",
       "      <td>1</td>\n",
       "    </tr>\n",
       "    <tr>\n",
       "      <th>1</th>\n",
       "      <td>177MF LLC PITTS MODEL 12</td>\n",
       "      <td>1.0</td>\n",
       "      <td>1</td>\n",
       "    </tr>\n",
       "    <tr>\n",
       "      <th>2</th>\n",
       "      <td>1st Ftr Gp FOCKE-WULF 190</td>\n",
       "      <td>1.0</td>\n",
       "      <td>1</td>\n",
       "    </tr>\n",
       "    <tr>\n",
       "      <th>3</th>\n",
       "      <td>2000 Mccoy Genesis</td>\n",
       "      <td>1.0</td>\n",
       "      <td>1</td>\n",
       "    </tr>\n",
       "    <tr>\n",
       "      <th>4</th>\n",
       "      <td>2007 Savage Air LLC EPIC LT</td>\n",
       "      <td>1.0</td>\n",
       "      <td>1</td>\n",
       "    </tr>\n",
       "    <tr>\n",
       "      <th>...</th>\n",
       "      <td>...</td>\n",
       "      <td>...</td>\n",
       "      <td>...</td>\n",
       "    </tr>\n",
       "    <tr>\n",
       "      <th>18332</th>\n",
       "      <td>de Havilland DHC-2 MK I</td>\n",
       "      <td>1.0</td>\n",
       "      <td>1</td>\n",
       "    </tr>\n",
       "    <tr>\n",
       "      <th>18333</th>\n",
       "      <td>de Havilland DHC-3</td>\n",
       "      <td>1.0</td>\n",
       "      <td>1</td>\n",
       "    </tr>\n",
       "    <tr>\n",
       "      <th>18334</th>\n",
       "      <td>de Havilland DHC-6-200</td>\n",
       "      <td>2.0</td>\n",
       "      <td>1</td>\n",
       "    </tr>\n",
       "    <tr>\n",
       "      <th>18335</th>\n",
       "      <td>de Havilland DHC-8-202</td>\n",
       "      <td>2.0</td>\n",
       "      <td>1</td>\n",
       "    </tr>\n",
       "    <tr>\n",
       "      <th>18336</th>\n",
       "      <td>unknown kit</td>\n",
       "      <td>1.0</td>\n",
       "      <td>1</td>\n",
       "    </tr>\n",
       "  </tbody>\n",
       "</table>\n",
       "<p>18337 rows × 3 columns</p>\n",
       "</div>"
      ],
      "text/plain": [
       "                                       Make&Model  Number.of.Engines  0\n",
       "0      107.5 Flying Corporation One Design DR 107                1.0  1\n",
       "1                        177MF LLC PITTS MODEL 12                1.0  1\n",
       "2                       1st Ftr Gp FOCKE-WULF 190                1.0  1\n",
       "3                              2000 Mccoy Genesis                1.0  1\n",
       "4                     2007 Savage Air LLC EPIC LT                1.0  1\n",
       "...                                           ...                ... ..\n",
       "18332                     de Havilland DHC-2 MK I                1.0  1\n",
       "18333                          de Havilland DHC-3                1.0  1\n",
       "18334                      de Havilland DHC-6-200                2.0  1\n",
       "18335                      de Havilland DHC-8-202                2.0  1\n",
       "18336                                 unknown kit                1.0  1\n",
       "\n",
       "[18337 rows x 3 columns]"
      ]
     },
     "execution_count": 50,
     "metadata": {},
     "output_type": "execute_result"
    }
   ],
   "source": [
    "# Find the total number of incidents for each make/model and group with the same structure.\n",
    "total_incidents = df.groupby(['Make&Model', 'Number.of.Engines']).size()\n",
    "# return object to df format\n",
    "total_incidents = total_incidents.reset_index()\n",
    "total_incidents"
   ]
  },
  {
   "cell_type": "markdown",
   "metadata": {},
   "source": [
    "Now that we have created the statistics we need to make the first recommendation, it's time to put them all together in a new dataframe and determine which planes have the most favorable statistics."
   ]
  },
  {
   "cell_type": "code",
   "execution_count": 51,
   "metadata": {
    "scrolled": false
   },
   "outputs": [
    {
     "data": {
      "text/html": [
       "<div>\n",
       "<style scoped>\n",
       "    .dataframe tbody tr th:only-of-type {\n",
       "        vertical-align: middle;\n",
       "    }\n",
       "\n",
       "    .dataframe tbody tr th {\n",
       "        vertical-align: top;\n",
       "    }\n",
       "\n",
       "    .dataframe thead th {\n",
       "        text-align: right;\n",
       "    }\n",
       "</style>\n",
       "<table border=\"1\" class=\"dataframe\">\n",
       "  <thead>\n",
       "    <tr style=\"text-align: right;\">\n",
       "      <th></th>\n",
       "      <th>Make&amp;Model</th>\n",
       "      <th>Number.of.Engines</th>\n",
       "      <th>Total.Fatal.Injuries</th>\n",
       "      <th>Fatal.Ratio</th>\n",
       "      <th>Total.Incidents</th>\n",
       "      <th>Total.Injuries</th>\n",
       "    </tr>\n",
       "  </thead>\n",
       "  <tbody>\n",
       "    <tr>\n",
       "      <th>3668</th>\n",
       "      <td>Boeing 727-100</td>\n",
       "      <td>3.0</td>\n",
       "      <td>0.000000</td>\n",
       "      <td>0.000000</td>\n",
       "      <td>10</td>\n",
       "      <td>0.200000</td>\n",
       "    </tr>\n",
       "    <tr>\n",
       "      <th>3847</th>\n",
       "      <td>Boeing 757</td>\n",
       "      <td>2.0</td>\n",
       "      <td>0.000000</td>\n",
       "      <td>0.000000</td>\n",
       "      <td>10</td>\n",
       "      <td>0.300000</td>\n",
       "    </tr>\n",
       "    <tr>\n",
       "      <th>2331</th>\n",
       "      <td>BOMBARDIER INC CL-600-2B19</td>\n",
       "      <td>2.0</td>\n",
       "      <td>0.000000</td>\n",
       "      <td>0.000000</td>\n",
       "      <td>15</td>\n",
       "      <td>0.333333</td>\n",
       "    </tr>\n",
       "    <tr>\n",
       "      <th>2232</th>\n",
       "      <td>BOEING 777</td>\n",
       "      <td>2.0</td>\n",
       "      <td>0.000000</td>\n",
       "      <td>0.000000</td>\n",
       "      <td>11</td>\n",
       "      <td>0.363636</td>\n",
       "    </tr>\n",
       "    <tr>\n",
       "      <th>3856</th>\n",
       "      <td>Boeing 757-232</td>\n",
       "      <td>2.0</td>\n",
       "      <td>0.000000</td>\n",
       "      <td>0.000000</td>\n",
       "      <td>12</td>\n",
       "      <td>0.416667</td>\n",
       "    </tr>\n",
       "    <tr>\n",
       "      <th>4640</th>\n",
       "      <td>CESSNA 402C</td>\n",
       "      <td>2.0</td>\n",
       "      <td>0.000000</td>\n",
       "      <td>0.000000</td>\n",
       "      <td>15</td>\n",
       "      <td>0.466667</td>\n",
       "    </tr>\n",
       "    <tr>\n",
       "      <th>8948</th>\n",
       "      <td>Grumman G-44</td>\n",
       "      <td>2.0</td>\n",
       "      <td>0.000000</td>\n",
       "      <td>0.000000</td>\n",
       "      <td>12</td>\n",
       "      <td>0.500000</td>\n",
       "    </tr>\n",
       "    <tr>\n",
       "      <th>15863</th>\n",
       "      <td>Saab-scania Ab (saab) 340B</td>\n",
       "      <td>2.0</td>\n",
       "      <td>0.000000</td>\n",
       "      <td>0.000000</td>\n",
       "      <td>10</td>\n",
       "      <td>0.500000</td>\n",
       "    </tr>\n",
       "    <tr>\n",
       "      <th>3729</th>\n",
       "      <td>Boeing 737</td>\n",
       "      <td>2.0</td>\n",
       "      <td>0.000000</td>\n",
       "      <td>0.000000</td>\n",
       "      <td>30</td>\n",
       "      <td>0.733333</td>\n",
       "    </tr>\n",
       "    <tr>\n",
       "      <th>2148</th>\n",
       "      <td>BOEING 737-7H4</td>\n",
       "      <td>2.0</td>\n",
       "      <td>0.000000</td>\n",
       "      <td>0.000000</td>\n",
       "      <td>12</td>\n",
       "      <td>0.833333</td>\n",
       "    </tr>\n",
       "    <tr>\n",
       "      <th>7292</th>\n",
       "      <td>EMBRAER EMB-145LR</td>\n",
       "      <td>2.0</td>\n",
       "      <td>0.000000</td>\n",
       "      <td>0.000000</td>\n",
       "      <td>14</td>\n",
       "      <td>1.142857</td>\n",
       "    </tr>\n",
       "    <tr>\n",
       "      <th>3675</th>\n",
       "      <td>Boeing 727-200</td>\n",
       "      <td>3.0</td>\n",
       "      <td>0.000000</td>\n",
       "      <td>0.000000</td>\n",
       "      <td>30</td>\n",
       "      <td>1.766667</td>\n",
       "    </tr>\n",
       "    <tr>\n",
       "      <th>3686</th>\n",
       "      <td>Boeing 727-223</td>\n",
       "      <td>3.0</td>\n",
       "      <td>0.000000</td>\n",
       "      <td>0.000000</td>\n",
       "      <td>16</td>\n",
       "      <td>2.125000</td>\n",
       "    </tr>\n",
       "    <tr>\n",
       "      <th>2205</th>\n",
       "      <td>BOEING 767</td>\n",
       "      <td>2.0</td>\n",
       "      <td>0.000000</td>\n",
       "      <td>0.000000</td>\n",
       "      <td>19</td>\n",
       "      <td>2.526316</td>\n",
       "    </tr>\n",
       "    <tr>\n",
       "      <th>11939</th>\n",
       "      <td>Mcdonnell Douglas MD-80</td>\n",
       "      <td>2.0</td>\n",
       "      <td>0.000000</td>\n",
       "      <td>0.000000</td>\n",
       "      <td>14</td>\n",
       "      <td>3.857143</td>\n",
       "    </tr>\n",
       "    <tr>\n",
       "      <th>13696</th>\n",
       "      <td>Piper PA-23-250</td>\n",
       "      <td>2.0</td>\n",
       "      <td>0.836134</td>\n",
       "      <td>0.003513</td>\n",
       "      <td>238</td>\n",
       "      <td>1.247899</td>\n",
       "    </tr>\n",
       "    <tr>\n",
       "      <th>13903</th>\n",
       "      <td>Piper PA-34-200T</td>\n",
       "      <td>2.0</td>\n",
       "      <td>0.629630</td>\n",
       "      <td>0.003887</td>\n",
       "      <td>162</td>\n",
       "      <td>1.000000</td>\n",
       "    </tr>\n",
       "    <tr>\n",
       "      <th>2130</th>\n",
       "      <td>BOEING 737 7H4</td>\n",
       "      <td>2.0</td>\n",
       "      <td>0.062500</td>\n",
       "      <td>0.003906</td>\n",
       "      <td>16</td>\n",
       "      <td>9.312500</td>\n",
       "    </tr>\n",
       "    <tr>\n",
       "      <th>13828</th>\n",
       "      <td>Piper PA-31-350</td>\n",
       "      <td>2.0</td>\n",
       "      <td>0.808290</td>\n",
       "      <td>0.004188</td>\n",
       "      <td>193</td>\n",
       "      <td>1.269430</td>\n",
       "    </tr>\n",
       "    <tr>\n",
       "      <th>2166</th>\n",
       "      <td>BOEING 747</td>\n",
       "      <td>4.0</td>\n",
       "      <td>0.095238</td>\n",
       "      <td>0.004535</td>\n",
       "      <td>21</td>\n",
       "      <td>2.000000</td>\n",
       "    </tr>\n",
       "  </tbody>\n",
       "</table>\n",
       "</div>"
      ],
      "text/plain": [
       "                       Make&Model  Number.of.Engines  Total.Fatal.Injuries  \\\n",
       "3668               Boeing 727-100                3.0              0.000000   \n",
       "3847                   Boeing 757                2.0              0.000000   \n",
       "2331   BOMBARDIER INC CL-600-2B19                2.0              0.000000   \n",
       "2232                   BOEING 777                2.0              0.000000   \n",
       "3856               Boeing 757-232                2.0              0.000000   \n",
       "4640                  CESSNA 402C                2.0              0.000000   \n",
       "8948                 Grumman G-44                2.0              0.000000   \n",
       "15863  Saab-scania Ab (saab) 340B                2.0              0.000000   \n",
       "3729                   Boeing 737                2.0              0.000000   \n",
       "2148               BOEING 737-7H4                2.0              0.000000   \n",
       "7292            EMBRAER EMB-145LR                2.0              0.000000   \n",
       "3675               Boeing 727-200                3.0              0.000000   \n",
       "3686               Boeing 727-223                3.0              0.000000   \n",
       "2205                   BOEING 767                2.0              0.000000   \n",
       "11939     Mcdonnell Douglas MD-80                2.0              0.000000   \n",
       "13696             Piper PA-23-250                2.0              0.836134   \n",
       "13903            Piper PA-34-200T                2.0              0.629630   \n",
       "2130               BOEING 737 7H4                2.0              0.062500   \n",
       "13828             Piper PA-31-350                2.0              0.808290   \n",
       "2166                   BOEING 747                4.0              0.095238   \n",
       "\n",
       "       Fatal.Ratio  Total.Incidents  Total.Injuries  \n",
       "3668      0.000000               10        0.200000  \n",
       "3847      0.000000               10        0.300000  \n",
       "2331      0.000000               15        0.333333  \n",
       "2232      0.000000               11        0.363636  \n",
       "3856      0.000000               12        0.416667  \n",
       "4640      0.000000               15        0.466667  \n",
       "8948      0.000000               12        0.500000  \n",
       "15863     0.000000               10        0.500000  \n",
       "3729      0.000000               30        0.733333  \n",
       "2148      0.000000               12        0.833333  \n",
       "7292      0.000000               14        1.142857  \n",
       "3675      0.000000               30        1.766667  \n",
       "3686      0.000000               16        2.125000  \n",
       "2205      0.000000               19        2.526316  \n",
       "11939     0.000000               14        3.857143  \n",
       "13696     0.003513              238        1.247899  \n",
       "13903     0.003887              162        1.000000  \n",
       "2130      0.003906               16        9.312500  \n",
       "13828     0.004188              193        1.269430  \n",
       "2166      0.004535               21        2.000000  "
      ]
     },
     "execution_count": 51,
     "metadata": {},
     "output_type": "execute_result"
    }
   ],
   "source": [
    "# Create a new column in one of the dataframes that is the ratio of avg fatal injuries per crash to the total number of incidents\n",
    "# for each make and model.\n",
    "avg_fatalities['Fatal.Ratio'] = avg_fatalities['Total.Fatal.Injuries']/total_incidents[0]\n",
    "\n",
    "# Add the total number of incidents from the other DF to this one as a new column\n",
    "avg_fatalities['Total.Incidents'] = total_incidents[0]\n",
    "\n",
    "# Exclude all records of aircraft with less than two engines\n",
    "avg_fatalities = avg_fatalities[avg_fatalities['Number.of.Engines'] >= 2]\n",
    "\n",
    "# Move the lowest and most favorable ratios to the top of the list so it is easier to grab them\n",
    "avg_fatalities = avg_fatalities.sort_values(by='Fatal.Ratio')\n",
    "\n",
    "# Exclude every make and model combination that has less than 10 total records\n",
    "avg_fatalities = avg_fatalities[avg_fatalities['Total.Incidents'] >= 10]\n",
    "\n",
    "avg_fatalities['Total.Injuries'] = avg_total_injuries['Total.Injuries']\n",
    "\n",
    "# Display the top 20 aircraft that meet all of these criteria \n",
    "\n",
    "avg_fatalities = avg_fatalities.sort_values(by=['Fatal.Ratio', 'Total.Injuries']).head(20)\n",
    "avg_fatalities"
   ]
  },
  {
   "cell_type": "markdown",
   "metadata": {},
   "source": [
    "Great! We've cut out the irrelevant records to this analysis and re-organized them according to which ones are the safest to be in during a crash. As you can see, the safest planes in this dataset do not have any fatalities on record, so we can assume the safest plane will probably have a fatal ratio of 0.0, so we can narrow our frame of attention and decide based on the number of total injuries. Now, let's make a visualization of this result!"
   ]
  },
  {
   "cell_type": "code",
   "execution_count": 52,
   "metadata": {},
   "outputs": [
    {
     "data": {
      "image/png": "[encoded data removed]",
      "text/plain": [
       "<Figure size 1080x720 with 1 Axes>"
      ]
     },
     "metadata": {
      "needs_background": "light"
     },
     "output_type": "display_data"
    }
   ],
   "source": [
    "ax = avg_fatalities.plot.barh(y=['Total.Fatal.Injuries', 'Total.Injuries'], figsize=(15,10), xlabel='Make and Model', ylabel='Quantity')\n",
    "ax.set_yticklabels(avg_fatalities['Make&Model'])\n",
    "ax.set_xlabel('Quantity')\n",
    "ax.set_title('Average Fatal and Total injuries for Large Commercial Airliners')\n",
    "ax.legend(labels=['Avg. Fatal Injuries', 'Avg. Total Injuries']);"
   ]
  },
  {
   "cell_type": "markdown",
   "metadata": {},
   "source": [
    "This graph shows a comparison of average total injuries per incident vs average fatal injuries per incident for the top 20 aircraft with the lowest values for each. We can safely ignore the entries that have a nonzero value for fatalities. Organized by chances of any given passenger sustaining an injury, the top five safest aircraft are:\n",
    "\n",
    "1. Boeing 727-100\n",
    "\n",
    "2. Boeing 757\n",
    "\n",
    "3. Bombardier Challenger 600 series jets\n",
    "\n",
    "4. Boeing 777\n",
    "\n",
    "5. Boeing 757-232\n",
    "\n",
    "\n",
    "These are all excellent choices for investment due to their fatality-free safety record and low average numbers of injury during a crash. This implies that these planes have effective safety features that keep passengers protected in the event of a safety incident."
   ]
  },
  {
   "cell_type": "markdown",
   "metadata": {},
   "source": [
    "### 2. Performance during poor weather conditions\n",
    "\n",
    "For the next two analyses, I will focus in on those top 5 safest planes in an attempt to determine which one is the overall safest by considering other factors. First, I will focus on their performance in poor weather conditions. The outcome of this analysis will show us the efficacy of the instrumental systems of these aircraft. If you are a pilot flying in poor conditions, the last thing you want to be dealing with are failing instruments."
   ]
  },
  {
   "cell_type": "code",
   "execution_count": 54,
   "metadata": {},
   "outputs": [
    {
     "data": {
      "text/html": [
       "<div>\n",
       "<style scoped>\n",
       "    .dataframe tbody tr th:only-of-type {\n",
       "        vertical-align: middle;\n",
       "    }\n",
       "\n",
       "    .dataframe tbody tr th {\n",
       "        vertical-align: top;\n",
       "    }\n",
       "\n",
       "    .dataframe thead th {\n",
       "        text-align: right;\n",
       "    }\n",
       "</style>\n",
       "<table border=\"1\" class=\"dataframe\">\n",
       "  <thead>\n",
       "    <tr style=\"text-align: right;\">\n",
       "      <th></th>\n",
       "      <th>Event.Id</th>\n",
       "      <th>Event.Date</th>\n",
       "      <th>Injury.Severity</th>\n",
       "      <th>Aircraft.damage</th>\n",
       "      <th>Make</th>\n",
       "      <th>Model</th>\n",
       "      <th>Number.of.Engines</th>\n",
       "      <th>Engine.Type</th>\n",
       "      <th>Total.Fatal.Injuries</th>\n",
       "      <th>Total.Serious.Injuries</th>\n",
       "      <th>Total.Minor.Injuries</th>\n",
       "      <th>Total.Uninjured</th>\n",
       "      <th>Weather.Condition</th>\n",
       "      <th>Total.Passengers</th>\n",
       "      <th>Total.Injuries</th>\n",
       "      <th>Make&amp;Model</th>\n",
       "      <th>Fatality.Ratio</th>\n",
       "    </tr>\n",
       "  </thead>\n",
       "  <tbody>\n",
       "    <tr>\n",
       "      <th>4735</th>\n",
       "      <td>20001214X43089</td>\n",
       "      <td>1983-05-20</td>\n",
       "      <td>Non-Fatal</td>\n",
       "      <td>Substantial</td>\n",
       "      <td>Boeing</td>\n",
       "      <td>727-100</td>\n",
       "      <td>3.0</td>\n",
       "      <td>Turbo Fan</td>\n",
       "      <td>0.0</td>\n",
       "      <td>0.0</td>\n",
       "      <td>0.0</td>\n",
       "      <td>52.0</td>\n",
       "      <td>VMC</td>\n",
       "      <td>52.0</td>\n",
       "      <td>0.0</td>\n",
       "      <td>Boeing 727-100</td>\n",
       "      <td>0.0</td>\n",
       "    </tr>\n",
       "    <tr>\n",
       "      <th>11179</th>\n",
       "      <td>20001214X35863</td>\n",
       "      <td>1985-03-24</td>\n",
       "      <td>Non-Fatal</td>\n",
       "      <td>NaN</td>\n",
       "      <td>Boeing</td>\n",
       "      <td>727-100</td>\n",
       "      <td>3.0</td>\n",
       "      <td>Turbo Jet</td>\n",
       "      <td>0.0</td>\n",
       "      <td>0.0</td>\n",
       "      <td>1.0</td>\n",
       "      <td>130.0</td>\n",
       "      <td>VMC</td>\n",
       "      <td>131.0</td>\n",
       "      <td>1.0</td>\n",
       "      <td>Boeing 727-100</td>\n",
       "      <td>0.0</td>\n",
       "    </tr>\n",
       "    <tr>\n",
       "      <th>13113</th>\n",
       "      <td>20001214X37767</td>\n",
       "      <td>1985-09-29</td>\n",
       "      <td>Non-Fatal</td>\n",
       "      <td>Minor</td>\n",
       "      <td>Boeing</td>\n",
       "      <td>727-100</td>\n",
       "      <td>3.0</td>\n",
       "      <td>Turbo Fan</td>\n",
       "      <td>0.0</td>\n",
       "      <td>0.0</td>\n",
       "      <td>0.0</td>\n",
       "      <td>71.0</td>\n",
       "      <td>VMC</td>\n",
       "      <td>71.0</td>\n",
       "      <td>0.0</td>\n",
       "      <td>Boeing 727-100</td>\n",
       "      <td>0.0</td>\n",
       "    </tr>\n",
       "    <tr>\n",
       "      <th>13512</th>\n",
       "      <td>20001214X38220</td>\n",
       "      <td>1985-11-26</td>\n",
       "      <td>Non-Fatal</td>\n",
       "      <td>Minor</td>\n",
       "      <td>Boeing</td>\n",
       "      <td>727-100</td>\n",
       "      <td>3.0</td>\n",
       "      <td>Turbo Jet</td>\n",
       "      <td>0.0</td>\n",
       "      <td>0.0</td>\n",
       "      <td>0.0</td>\n",
       "      <td>111.0</td>\n",
       "      <td>VMC</td>\n",
       "      <td>111.0</td>\n",
       "      <td>0.0</td>\n",
       "      <td>Boeing 727-100</td>\n",
       "      <td>0.0</td>\n",
       "    </tr>\n",
       "    <tr>\n",
       "      <th>19898</th>\n",
       "      <td>20001213X25329</td>\n",
       "      <td>1988-03-22</td>\n",
       "      <td>Non-Fatal</td>\n",
       "      <td>NaN</td>\n",
       "      <td>Boeing</td>\n",
       "      <td>757</td>\n",
       "      <td>2.0</td>\n",
       "      <td>Turbo Fan</td>\n",
       "      <td>0.0</td>\n",
       "      <td>0.0</td>\n",
       "      <td>0.0</td>\n",
       "      <td>99.0</td>\n",
       "      <td>VMC</td>\n",
       "      <td>99.0</td>\n",
       "      <td>0.0</td>\n",
       "      <td>Boeing 757</td>\n",
       "      <td>0.0</td>\n",
       "    </tr>\n",
       "    <tr>\n",
       "      <th>...</th>\n",
       "      <td>...</td>\n",
       "      <td>...</td>\n",
       "      <td>...</td>\n",
       "      <td>...</td>\n",
       "      <td>...</td>\n",
       "      <td>...</td>\n",
       "      <td>...</td>\n",
       "      <td>...</td>\n",
       "      <td>...</td>\n",
       "      <td>...</td>\n",
       "      <td>...</td>\n",
       "      <td>...</td>\n",
       "      <td>...</td>\n",
       "      <td>...</td>\n",
       "      <td>...</td>\n",
       "      <td>...</td>\n",
       "      <td>...</td>\n",
       "    </tr>\n",
       "    <tr>\n",
       "      <th>89364</th>\n",
       "      <td>20220623105316</td>\n",
       "      <td>2022-06-14</td>\n",
       "      <td>Non-Fatal</td>\n",
       "      <td>Minor</td>\n",
       "      <td>BOEING</td>\n",
       "      <td>777</td>\n",
       "      <td>1.0</td>\n",
       "      <td>Reciprocating</td>\n",
       "      <td>0.0</td>\n",
       "      <td>0.0</td>\n",
       "      <td>0.0</td>\n",
       "      <td>183.0</td>\n",
       "      <td>VMC</td>\n",
       "      <td>183.0</td>\n",
       "      <td>0.0</td>\n",
       "      <td>BOEING 777</td>\n",
       "      <td>0.0</td>\n",
       "    </tr>\n",
       "    <tr>\n",
       "      <th>89752</th>\n",
       "      <td>20220808105684</td>\n",
       "      <td>2022-08-06</td>\n",
       "      <td>Non-Fatal</td>\n",
       "      <td>Substantial</td>\n",
       "      <td>BOEING</td>\n",
       "      <td>777</td>\n",
       "      <td>1.0</td>\n",
       "      <td>Reciprocating</td>\n",
       "      <td>0.0</td>\n",
       "      <td>0.0</td>\n",
       "      <td>0.0</td>\n",
       "      <td>2.0</td>\n",
       "      <td>VMC</td>\n",
       "      <td>2.0</td>\n",
       "      <td>0.0</td>\n",
       "      <td>BOEING 777</td>\n",
       "      <td>0.0</td>\n",
       "    </tr>\n",
       "    <tr>\n",
       "      <th>90049</th>\n",
       "      <td>20220929106019</td>\n",
       "      <td>2022-09-28</td>\n",
       "      <td>Non-Fatal</td>\n",
       "      <td>Substantial</td>\n",
       "      <td>BOEING</td>\n",
       "      <td>777</td>\n",
       "      <td>1.0</td>\n",
       "      <td>Reciprocating</td>\n",
       "      <td>0.0</td>\n",
       "      <td>0.0</td>\n",
       "      <td>0.0</td>\n",
       "      <td>2.0</td>\n",
       "      <td>VMC</td>\n",
       "      <td>2.0</td>\n",
       "      <td>0.0</td>\n",
       "      <td>BOEING 777</td>\n",
       "      <td>0.0</td>\n",
       "    </tr>\n",
       "    <tr>\n",
       "      <th>90062</th>\n",
       "      <td>20221003106034</td>\n",
       "      <td>2022-10-01</td>\n",
       "      <td>Non-Fatal</td>\n",
       "      <td>Minor</td>\n",
       "      <td>BOEING</td>\n",
       "      <td>777</td>\n",
       "      <td>1.0</td>\n",
       "      <td>Reciprocating</td>\n",
       "      <td>0.0</td>\n",
       "      <td>0.0</td>\n",
       "      <td>0.0</td>\n",
       "      <td>368.0</td>\n",
       "      <td>VMC</td>\n",
       "      <td>368.0</td>\n",
       "      <td>0.0</td>\n",
       "      <td>BOEING 777</td>\n",
       "      <td>0.0</td>\n",
       "    </tr>\n",
       "    <tr>\n",
       "      <th>90088</th>\n",
       "      <td>20221006106077</td>\n",
       "      <td>2022-10-05</td>\n",
       "      <td>Non-Fatal</td>\n",
       "      <td>NaN</td>\n",
       "      <td>BOMBARDIER INC</td>\n",
       "      <td>CL-600-2B19</td>\n",
       "      <td>1.0</td>\n",
       "      <td>Turbo Fan</td>\n",
       "      <td>0.0</td>\n",
       "      <td>0.0</td>\n",
       "      <td>0.0</td>\n",
       "      <td>45.0</td>\n",
       "      <td>VMC</td>\n",
       "      <td>45.0</td>\n",
       "      <td>0.0</td>\n",
       "      <td>BOMBARDIER INC CL-600-2B19</td>\n",
       "      <td>0.0</td>\n",
       "    </tr>\n",
       "  </tbody>\n",
       "</table>\n",
       "<p>96 rows × 17 columns</p>\n",
       "</div>"
      ],
      "text/plain": [
       "             Event.Id  Event.Date Injury.Severity Aircraft.damage  \\\n",
       "4735   20001214X43089  1983-05-20       Non-Fatal     Substantial   \n",
       "11179  20001214X35863  1985-03-24       Non-Fatal             NaN   \n",
       "13113  20001214X37767  1985-09-29       Non-Fatal           Minor   \n",
       "13512  20001214X38220  1985-11-26       Non-Fatal           Minor   \n",
       "19898  20001213X25329  1988-03-22       Non-Fatal             NaN   \n",
       "...               ...         ...             ...             ...   \n",
       "89364  20220623105316  2022-06-14       Non-Fatal           Minor   \n",
       "89752  20220808105684  2022-08-06       Non-Fatal     Substantial   \n",
       "90049  20220929106019  2022-09-28       Non-Fatal     Substantial   \n",
       "90062  20221003106034  2022-10-01       Non-Fatal           Minor   \n",
       "90088  20221006106077  2022-10-05       Non-Fatal             NaN   \n",
       "\n",
       "                 Make        Model  Number.of.Engines    Engine.Type  \\\n",
       "4735           Boeing      727-100                3.0      Turbo Fan   \n",
       "11179          Boeing      727-100                3.0      Turbo Jet   \n",
       "13113          Boeing      727-100                3.0      Turbo Fan   \n",
       "13512          Boeing      727-100                3.0      Turbo Jet   \n",
       "19898          Boeing          757                2.0      Turbo Fan   \n",
       "...               ...          ...                ...            ...   \n",
       "89364          BOEING          777                1.0  Reciprocating   \n",
       "89752          BOEING          777                1.0  Reciprocating   \n",
       "90049          BOEING          777                1.0  Reciprocating   \n",
       "90062          BOEING          777                1.0  Reciprocating   \n",
       "90088  BOMBARDIER INC  CL-600-2B19                1.0      Turbo Fan   \n",
       "\n",
       "       Total.Fatal.Injuries  Total.Serious.Injuries  Total.Minor.Injuries  \\\n",
       "4735                    0.0                     0.0                   0.0   \n",
       "11179                   0.0                     0.0                   1.0   \n",
       "13113                   0.0                     0.0                   0.0   \n",
       "13512                   0.0                     0.0                   0.0   \n",
       "19898                   0.0                     0.0                   0.0   \n",
       "...                     ...                     ...                   ...   \n",
       "89364                   0.0                     0.0                   0.0   \n",
       "89752                   0.0                     0.0                   0.0   \n",
       "90049                   0.0                     0.0                   0.0   \n",
       "90062                   0.0                     0.0                   0.0   \n",
       "90088                   0.0                     0.0                   0.0   \n",
       "\n",
       "       Total.Uninjured Weather.Condition  Total.Passengers  Total.Injuries  \\\n",
       "4735              52.0               VMC              52.0             0.0   \n",
       "11179            130.0               VMC             131.0             1.0   \n",
       "13113             71.0               VMC              71.0             0.0   \n",
       "13512            111.0               VMC             111.0             0.0   \n",
       "19898             99.0               VMC              99.0             0.0   \n",
       "...                ...               ...               ...             ...   \n",
       "89364            183.0               VMC             183.0             0.0   \n",
       "89752              2.0               VMC               2.0             0.0   \n",
       "90049              2.0               VMC               2.0             0.0   \n",
       "90062            368.0               VMC             368.0             0.0   \n",
       "90088             45.0               VMC              45.0             0.0   \n",
       "\n",
       "                       Make&Model  Fatality.Ratio  \n",
       "4735               Boeing 727-100             0.0  \n",
       "11179              Boeing 727-100             0.0  \n",
       "13113              Boeing 727-100             0.0  \n",
       "13512              Boeing 727-100             0.0  \n",
       "19898                  Boeing 757             0.0  \n",
       "...                           ...             ...  \n",
       "89364                  BOEING 777             0.0  \n",
       "89752                  BOEING 777             0.0  \n",
       "90049                  BOEING 777             0.0  \n",
       "90062                  BOEING 777             0.0  \n",
       "90088  BOMBARDIER INC CL-600-2B19             0.0  \n",
       "\n",
       "[96 rows x 17 columns]"
      ]
     },
     "execution_count": 54,
     "metadata": {},
     "output_type": "execute_result"
    }
   ],
   "source": [
    "# I use the pandas .isin function to slice the dataframe to just the records relating to the planes I already determined were the top 5. Then, I display the new DF to make sure everything is working as intended.\n",
    "top5 = ['Boeing 727-100', 'Boeing 757', 'BOMBARDIER INC CL-600-2B19', 'BOEING 777', 'Boeing 757-232']\n",
    "top5df = df.loc[df['Make&Model'].isin(top5)]\n",
    "top5df"
   ]
  },
  {
   "cell_type": "code",
   "execution_count": 55,
   "metadata": {
    "scrolled": false
   },
   "outputs": [
    {
     "data": {
      "text/html": [
       "<div>\n",
       "<style scoped>\n",
       "    .dataframe tbody tr th:only-of-type {\n",
       "        vertical-align: middle;\n",
       "    }\n",
       "\n",
       "    .dataframe tbody tr th {\n",
       "        vertical-align: top;\n",
       "    }\n",
       "\n",
       "    .dataframe thead th {\n",
       "        text-align: right;\n",
       "    }\n",
       "</style>\n",
       "<table border=\"1\" class=\"dataframe\">\n",
       "  <thead>\n",
       "    <tr style=\"text-align: right;\">\n",
       "      <th>Weather.Condition</th>\n",
       "      <th>IMC</th>\n",
       "      <th>VMC</th>\n",
       "    </tr>\n",
       "    <tr>\n",
       "      <th>Make&amp;Model</th>\n",
       "      <th></th>\n",
       "      <th></th>\n",
       "    </tr>\n",
       "  </thead>\n",
       "  <tbody>\n",
       "    <tr>\n",
       "      <th>BOEING 777</th>\n",
       "      <td>3.0</td>\n",
       "      <td>38.0</td>\n",
       "    </tr>\n",
       "    <tr>\n",
       "      <th>BOMBARDIER INC CL-600-2B19</th>\n",
       "      <td>2.0</td>\n",
       "      <td>3.0</td>\n",
       "    </tr>\n",
       "    <tr>\n",
       "      <th>Boeing 727-100</th>\n",
       "      <td>NaN</td>\n",
       "      <td>2.0</td>\n",
       "    </tr>\n",
       "    <tr>\n",
       "      <th>Boeing 757</th>\n",
       "      <td>0.0</td>\n",
       "      <td>117.0</td>\n",
       "    </tr>\n",
       "    <tr>\n",
       "      <th>Boeing 757-232</th>\n",
       "      <td>2.0</td>\n",
       "      <td>3.0</td>\n",
       "    </tr>\n",
       "  </tbody>\n",
       "</table>\n",
       "</div>"
      ],
      "text/plain": [
       "Weather.Condition           IMC    VMC\n",
       "Make&Model                            \n",
       "BOEING 777                  3.0   38.0\n",
       "BOMBARDIER INC CL-600-2B19  2.0    3.0\n",
       "Boeing 727-100              NaN    2.0\n",
       "Boeing 757                  0.0  117.0\n",
       "Boeing 757-232              2.0    3.0"
      ]
     },
     "execution_count": 55,
     "metadata": {},
     "output_type": "execute_result"
    }
   ],
   "source": [
    "# This code generates a grouped pivot which shows the sum total of injuries sustained under each weather condition. Higher values are worse.\n",
    "top5weather = top5df.groupby(['Make&Model', 'Weather.Condition']).sum()\n",
    "top5weather = top5weather.reset_index()\n",
    "top5weather = top5weather.pivot(index='Make&Model', columns='Weather.Condition', values='Total.Injuries')\n",
    "top5weather"
   ]
  },
  {
   "cell_type": "markdown",
   "metadata": {},
   "source": [
    "Two of these makes and models have not had any safety incidents that resulted in injuries in instrumental meteorological conditions. This does not necessarily make them more safe, it just means I do not have enough data to make a ruling on them one way or the other. Let's visualize these results!"
   ]
  },
  {
   "cell_type": "code",
   "execution_count": 56,
   "metadata": {
    "scrolled": false
   },
   "outputs": [
    {
     "data": {
      "image/png": "[encoded data removed]",
      "text/plain": [
       "<Figure size 720x720 with 1 Axes>"
      ]
     },
     "metadata": {
      "needs_background": "light"
     },
     "output_type": "display_data"
    }
   ],
   "source": [
    "# Create a grouped barplot of the pivot\n",
    "ax = top5weather.plot.barh(figsize = (10,10), color=['red', 'green'])\n",
    "ax.set_xlabel('Total Injuries')\n",
    "ax.set_title('Total Injuries in Manual vs Instrument Based Flight Conditions')\n",
    "ax.legend(labels=['Instrument Meteorological Conditions', 'Visual Meteorological Conditions']);"
   ]
  },
  {
   "cell_type": "markdown",
   "metadata": {},
   "source": [
    "This graph demonstrates the fact that the vast majority of aircraft incidents happen during visual meteorological conditions, where the pilots are able to see outside of the aircraft and are flying the vehicle manually. There is a general trend in the data of these five planes that shows them having more incidents while the plane is under manual control than automatic control. \n",
    "\n",
    "In fact, two of the planes, the 757 and 727-100, do not have any records of incidents in IMC conditions. This data is likely incomplete; there are almost certainly situations where all of these extremely common commerical aircraft have had an incident during poor weather conditions in countries other than America. For this reason, I cannot definitively say that these planes have better instruments than those that have incidents in poor conditions.\n",
    "\n",
    "The Boeing 777 is a large commercial aircraft with high passenger capacity, so it makes sense that it has a high average number of injuries in the event of an accident - there are more people on the plane to get injured. This does not necessarily make it more dangerous. On this graph, I am specifically looking for planes that have a lower rate of injury during IMC conditions than VMC conditions, and the 777 actually has the most favorable ratio!\n",
    "\n",
    "The Bombardier CL-600 and Boeing 757-232 are also standout candidates in this analyis. The data implies that they have instruments which lower the risk of passengers being injured in the event of a crash, although the effect is not as significant as it is in the 777.\n",
    "\n",
    "To summarize, the data supports the conclusion that the Bombardier CL-600, Boeing 757-232, and particularly the Boeing 777 have instruments that effectively reduce the liklihood of injuries in the event of a safety incident in poor weather."
   ]
  },
  {
   "cell_type": "markdown",
   "metadata": {},
   "source": [
    "### 3. Damage Sustained During Crashes\n",
    "\n",
    "In my final analysis, I will look at the totals of different categories of damage sustained by the aircraft in safety incidents and use this information to break the tie between the Boeing 777 and Bombardier CL-600. This analysis will allow us to determine which of the top 5 planes is least likely to be destroyed/need major repairs in the inevitabal event of a safety incident."
   ]
  },
  {
   "cell_type": "code",
   "execution_count": 58,
   "metadata": {
    "scrolled": true
   },
   "outputs": [
    {
     "data": {
      "text/html": [
       "<div>\n",
       "<style scoped>\n",
       "    .dataframe tbody tr th:only-of-type {\n",
       "        vertical-align: middle;\n",
       "    }\n",
       "\n",
       "    .dataframe tbody tr th {\n",
       "        vertical-align: top;\n",
       "    }\n",
       "\n",
       "    .dataframe thead th {\n",
       "        text-align: right;\n",
       "    }\n",
       "</style>\n",
       "<table border=\"1\" class=\"dataframe\">\n",
       "  <thead>\n",
       "    <tr style=\"text-align: right;\">\n",
       "      <th>Aircraft.damage</th>\n",
       "      <th>Destroyed</th>\n",
       "      <th>Minor</th>\n",
       "      <th>Substantial</th>\n",
       "    </tr>\n",
       "    <tr>\n",
       "      <th>Make&amp;Model</th>\n",
       "      <th></th>\n",
       "      <th></th>\n",
       "      <th></th>\n",
       "    </tr>\n",
       "  </thead>\n",
       "  <tbody>\n",
       "    <tr>\n",
       "      <th>BOEING 777</th>\n",
       "      <td>1.0</td>\n",
       "      <td>16.0</td>\n",
       "      <td>6.0</td>\n",
       "    </tr>\n",
       "    <tr>\n",
       "      <th>BOMBARDIER INC CL-600-2B19</th>\n",
       "      <td>NaN</td>\n",
       "      <td>6.0</td>\n",
       "      <td>5.0</td>\n",
       "    </tr>\n",
       "    <tr>\n",
       "      <th>Boeing 727-100</th>\n",
       "      <td>NaN</td>\n",
       "      <td>5.0</td>\n",
       "      <td>2.0</td>\n",
       "    </tr>\n",
       "    <tr>\n",
       "      <th>Boeing 757</th>\n",
       "      <td>2.0</td>\n",
       "      <td>1.0</td>\n",
       "      <td>5.0</td>\n",
       "    </tr>\n",
       "    <tr>\n",
       "      <th>Boeing 757-232</th>\n",
       "      <td>NaN</td>\n",
       "      <td>4.0</td>\n",
       "      <td>3.0</td>\n",
       "    </tr>\n",
       "  </tbody>\n",
       "</table>\n",
       "</div>"
      ],
      "text/plain": [
       "Aircraft.damage             Destroyed  Minor  Substantial\n",
       "Make&Model                                               \n",
       "BOEING 777                        1.0   16.0          6.0\n",
       "BOMBARDIER INC CL-600-2B19        NaN    6.0          5.0\n",
       "Boeing 727-100                    NaN    5.0          2.0\n",
       "Boeing 757                        2.0    1.0          5.0\n",
       "Boeing 757-232                    NaN    4.0          3.0"
      ]
     },
     "execution_count": 58,
     "metadata": {},
     "output_type": "execute_result"
    }
   ],
   "source": [
    "# Create a new grouped pivot table that has a count of how many times each category of aircraft damage appears associated with each make and model.\n",
    "top5damagedf = top5df.groupby(['Make&Model', 'Aircraft.damage']).size()\n",
    "top5damagedf = top5damagedf.reset_index()\n",
    "top5damagedf = top5damagedf.pivot(index='Make&Model', columns='Aircraft.damage', values=0)\n",
    "top5damagedf"
   ]
  },
  {
   "cell_type": "markdown",
   "metadata": {},
   "source": [
    "This looks great, we have a table that shows us the total of each category for each aircraft. Some aircraft have not ever had an incident where they were destroyed, which is interesting and useful to my analysis."
   ]
  },
  {
   "cell_type": "code",
   "execution_count": 59,
   "metadata": {
    "scrolled": false
   },
   "outputs": [
    {
     "data": {
      "image/png": "[encoded data removed]",
      "text/plain": [
       "<Figure size 720x720 with 1 Axes>"
      ]
     },
     "metadata": {
      "needs_background": "light"
     },
     "output_type": "display_data"
    }
   ],
   "source": [
    "ax = top5damagedf.plot.barh(figsize=(10,10))\n",
    "ax.set_xlabel('Number of Incidents')\n",
    "ax.set_ylabel('Make and Model')\n",
    "ax.set_title('Total Number of Incidents per Level of Damage Sustained by Aircraft');"
   ]
  },
  {
   "cell_type": "markdown",
   "metadata": {},
   "source": [
    "There are several things about this chart that immediately need to be acknowledged. These values are not averages; they are sum totals. We are not interested in the absolute size of the bars due to the variable number of records for each make and model, instead, we are interested in the relative size of the bars. Planes that are more common necessarily have more records, and have a higher chance of experiencing at least one destruction. \n",
    "\n",
    "Another fact that must be acknowledged is that the incompleteness of the data. As previously mentioned, this data is only for planes that crashed over international waters or in America - these planes have likely been destroyed in a crash somewhere else. While we cannot make the assumption that they have a 0% chance of being destroyed, we can still assume that these planes are relatively safe.\n",
    "\n",
    "The most interesting analysis we can make is concerned with the Boeing 777. It has a lot of instances where the plane was damaged in a crash, which makes sense. It is one of the most common airplanes in existence, after all. The ratio of times the plane took minor damage in a crash to the times it was destroyed or substantially damaged is huge compared to every other plane on this list, except for the Boeing 727-100. Both of these planes have a small amount of destructions - especially the 727-100, which has experienced none. While this result is promising for this aircraft, we must keep in mind that there are other sub-varieties of 727 in the data that make this result less accurate.\n",
    "\n",
    "Despite some poential stumbling points, I believe that this chart accurately predicts that the Boeing 777 and 727-100 are the least likely to be destroyed in a crash. This effect could potentially be explained by the large size of these planes. Investors that are concerned about the real risk of losing their entire investment in a plane crash should purchase these planes."
   ]
  },
  {
   "cell_type": "markdown",
   "metadata": {},
   "source": [
    "## Conclusion"
   ]
  },
  {
   "cell_type": "markdown",
   "metadata": {},
   "source": [
    "Based on my three statistical analyses, I believe that the Boeing 777 is the best overall choice for aviation investors to consider. It a low chance of being destroyed in the event of a crash, a history with a low total amount of injuries and no fatalities, and has low number of incidents involving instrumental meteorological conditions in its history. This is one of the most common commercial airliners for a very good reason - they have best in class safety, extremely high capacity, high top speeds, and have been trusted by consumers to deliver them safely to their destination for many years. Consumer trust is not a factor which should be underrated, either - after all, consumers are the most important shareholders of all!"
   ]
  },
  {
   "attachments": {
    "boeing-777-800x450.jpeg": {
     "image/jpeg": "[encoded data removed]"
    }
   },
   "cell_type": "markdown",
   "metadata": {},
   "source": [
    "![boeing-777-800x450.jpeg](attachment:boeing-777-800x450.jpeg) [Image source](https://arstechnica.com/tech-policy/2022/01/faa-clears-62-of-us-planes-for-low-visibility-landings-amid-5g-rollout/)"
   ]
  }
 ],
 "metadata": {
  "kernelspec": {
   "display_name": "Python 3",
   "language": "python",
   "name": "python3"
  },
  "language_info": {
   "codemirror_mode": {
    "name": "ipython",
    "version": 3
   },
   "file_extension": ".py",
   "mimetype": "text/x-python",
   "name": "python",
   "nbconvert_exporter": "python",
   "pygments_lexer": "ipython3",
   "version": "3.8.5"
  }
 },
 "nbformat": 4,
 "nbformat_minor": 5
}
