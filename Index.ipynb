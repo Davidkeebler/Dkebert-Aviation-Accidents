{
 "cells": [
  {
   "cell_type": "markdown",
   "metadata": {},
   "source": [
    "# Introduction"
   ]
  },
  {
   "cell_type": "markdown",
   "metadata": {},
   "source": [
    "The purpose of this project is to determine which aircraft make and models are the most likely to suffer safety incidents in order to inform the purchasing decisions of aviation stakeholders. The project will make recommendations about which aircraft are likely to be unsafe, but will also make recommendations about which aircraft are the least likely to suffer a safety incident."
   ]
  },
  {
   "cell_type": "markdown",
   "metadata": {},
   "source": [
    "# Step 1: import packages and read the CSV into memory"
   ]
  },
  {
   "cell_type": "markdown",
   "metadata": {},
   "source": [
    "First things first, let's set the stage for the analysis. We'll need to import all the packages we intend to use, and load our data into the memory of the notebook as a pandas dataframe. I've done all of this and also displayed a preview of the data in the cell below."
   ]
  },
  {
   "cell_type": "code",
   "execution_count": 1,
   "metadata": {
    "scrolled": false
   },
   "outputs": [
    {
     "data": {
      "text/html": [
       "<div>\n",
       "<style scoped>\n",
       "    .dataframe tbody tr th:only-of-type {\n",
       "        vertical-align: middle;\n",
       "    }\n",
       "\n",
       "    .dataframe tbody tr th {\n",
       "        vertical-align: top;\n",
       "    }\n",
       "\n",
       "    .dataframe thead th {\n",
       "        text-align: right;\n",
       "    }\n",
       "</style>\n",
       "<table border=\"1\" class=\"dataframe\">\n",
       "  <thead>\n",
       "    <tr style=\"text-align: right;\">\n",
       "      <th></th>\n",
       "      <th>Event.Id</th>\n",
       "      <th>Investigation.Type</th>\n",
       "      <th>Accident.Number</th>\n",
       "      <th>Event.Date</th>\n",
       "      <th>Location</th>\n",
       "      <th>Country</th>\n",
       "      <th>Latitude</th>\n",
       "      <th>Longitude</th>\n",
       "      <th>Airport.Code</th>\n",
       "      <th>Airport.Name</th>\n",
       "      <th>...</th>\n",
       "      <th>Purpose.of.flight</th>\n",
       "      <th>Air.carrier</th>\n",
       "      <th>Total.Fatal.Injuries</th>\n",
       "      <th>Total.Serious.Injuries</th>\n",
       "      <th>Total.Minor.Injuries</th>\n",
       "      <th>Total.Uninjured</th>\n",
       "      <th>Weather.Condition</th>\n",
       "      <th>Broad.phase.of.flight</th>\n",
       "      <th>Report.Status</th>\n",
       "      <th>Publication.Date</th>\n",
       "    </tr>\n",
       "  </thead>\n",
       "  <tbody>\n",
       "    <tr>\n",
       "      <th>0</th>\n",
       "      <td>20001218X45444</td>\n",
       "      <td>Accident</td>\n",
       "      <td>SEA87LA080</td>\n",
       "      <td>1948-10-24</td>\n",
       "      <td>MOOSE CREEK, ID</td>\n",
       "      <td>United States</td>\n",
       "      <td>NaN</td>\n",
       "      <td>NaN</td>\n",
       "      <td>NaN</td>\n",
       "      <td>NaN</td>\n",
       "      <td>...</td>\n",
       "      <td>Personal</td>\n",
       "      <td>NaN</td>\n",
       "      <td>2.0</td>\n",
       "      <td>0.0</td>\n",
       "      <td>0.0</td>\n",
       "      <td>0.0</td>\n",
       "      <td>UNK</td>\n",
       "      <td>Cruise</td>\n",
       "      <td>Probable Cause</td>\n",
       "      <td>NaN</td>\n",
       "    </tr>\n",
       "    <tr>\n",
       "      <th>1</th>\n",
       "      <td>20001218X45447</td>\n",
       "      <td>Accident</td>\n",
       "      <td>LAX94LA336</td>\n",
       "      <td>1962-07-19</td>\n",
       "      <td>BRIDGEPORT, CA</td>\n",
       "      <td>United States</td>\n",
       "      <td>NaN</td>\n",
       "      <td>NaN</td>\n",
       "      <td>NaN</td>\n",
       "      <td>NaN</td>\n",
       "      <td>...</td>\n",
       "      <td>Personal</td>\n",
       "      <td>NaN</td>\n",
       "      <td>4.0</td>\n",
       "      <td>0.0</td>\n",
       "      <td>0.0</td>\n",
       "      <td>0.0</td>\n",
       "      <td>UNK</td>\n",
       "      <td>Unknown</td>\n",
       "      <td>Probable Cause</td>\n",
       "      <td>19-09-1996</td>\n",
       "    </tr>\n",
       "    <tr>\n",
       "      <th>2</th>\n",
       "      <td>20061025X01555</td>\n",
       "      <td>Accident</td>\n",
       "      <td>NYC07LA005</td>\n",
       "      <td>1974-08-30</td>\n",
       "      <td>Saltville, VA</td>\n",
       "      <td>United States</td>\n",
       "      <td>36.922223</td>\n",
       "      <td>-81.878056</td>\n",
       "      <td>NaN</td>\n",
       "      <td>NaN</td>\n",
       "      <td>...</td>\n",
       "      <td>Personal</td>\n",
       "      <td>NaN</td>\n",
       "      <td>3.0</td>\n",
       "      <td>NaN</td>\n",
       "      <td>NaN</td>\n",
       "      <td>NaN</td>\n",
       "      <td>IMC</td>\n",
       "      <td>Cruise</td>\n",
       "      <td>Probable Cause</td>\n",
       "      <td>26-02-2007</td>\n",
       "    </tr>\n",
       "    <tr>\n",
       "      <th>3</th>\n",
       "      <td>20001218X45448</td>\n",
       "      <td>Accident</td>\n",
       "      <td>LAX96LA321</td>\n",
       "      <td>1977-06-19</td>\n",
       "      <td>EUREKA, CA</td>\n",
       "      <td>United States</td>\n",
       "      <td>NaN</td>\n",
       "      <td>NaN</td>\n",
       "      <td>NaN</td>\n",
       "      <td>NaN</td>\n",
       "      <td>...</td>\n",
       "      <td>Personal</td>\n",
       "      <td>NaN</td>\n",
       "      <td>2.0</td>\n",
       "      <td>0.0</td>\n",
       "      <td>0.0</td>\n",
       "      <td>0.0</td>\n",
       "      <td>IMC</td>\n",
       "      <td>Cruise</td>\n",
       "      <td>Probable Cause</td>\n",
       "      <td>12-09-2000</td>\n",
       "    </tr>\n",
       "    <tr>\n",
       "      <th>4</th>\n",
       "      <td>20041105X01764</td>\n",
       "      <td>Accident</td>\n",
       "      <td>CHI79FA064</td>\n",
       "      <td>1979-08-02</td>\n",
       "      <td>Canton, OH</td>\n",
       "      <td>United States</td>\n",
       "      <td>NaN</td>\n",
       "      <td>NaN</td>\n",
       "      <td>NaN</td>\n",
       "      <td>NaN</td>\n",
       "      <td>...</td>\n",
       "      <td>Personal</td>\n",
       "      <td>NaN</td>\n",
       "      <td>1.0</td>\n",
       "      <td>2.0</td>\n",
       "      <td>NaN</td>\n",
       "      <td>0.0</td>\n",
       "      <td>VMC</td>\n",
       "      <td>Approach</td>\n",
       "      <td>Probable Cause</td>\n",
       "      <td>16-04-1980</td>\n",
       "    </tr>\n",
       "  </tbody>\n",
       "</table>\n",
       "<p>5 rows × 31 columns</p>\n",
       "</div>"
      ],
      "text/plain": [
       "         Event.Id Investigation.Type Accident.Number  Event.Date  \\\n",
       "0  20001218X45444           Accident      SEA87LA080  1948-10-24   \n",
       "1  20001218X45447           Accident      LAX94LA336  1962-07-19   \n",
       "2  20061025X01555           Accident      NYC07LA005  1974-08-30   \n",
       "3  20001218X45448           Accident      LAX96LA321  1977-06-19   \n",
       "4  20041105X01764           Accident      CHI79FA064  1979-08-02   \n",
       "\n",
       "          Location        Country   Latitude   Longitude Airport.Code  \\\n",
       "0  MOOSE CREEK, ID  United States        NaN         NaN          NaN   \n",
       "1   BRIDGEPORT, CA  United States        NaN         NaN          NaN   \n",
       "2    Saltville, VA  United States  36.922223  -81.878056          NaN   \n",
       "3       EUREKA, CA  United States        NaN         NaN          NaN   \n",
       "4       Canton, OH  United States        NaN         NaN          NaN   \n",
       "\n",
       "  Airport.Name  ... Purpose.of.flight Air.carrier Total.Fatal.Injuries  \\\n",
       "0          NaN  ...          Personal         NaN                  2.0   \n",
       "1          NaN  ...          Personal         NaN                  4.0   \n",
       "2          NaN  ...          Personal         NaN                  3.0   \n",
       "3          NaN  ...          Personal         NaN                  2.0   \n",
       "4          NaN  ...          Personal         NaN                  1.0   \n",
       "\n",
       "  Total.Serious.Injuries Total.Minor.Injuries Total.Uninjured  \\\n",
       "0                    0.0                  0.0             0.0   \n",
       "1                    0.0                  0.0             0.0   \n",
       "2                    NaN                  NaN             NaN   \n",
       "3                    0.0                  0.0             0.0   \n",
       "4                    2.0                  NaN             0.0   \n",
       "\n",
       "  Weather.Condition  Broad.phase.of.flight   Report.Status Publication.Date  \n",
       "0               UNK                 Cruise  Probable Cause              NaN  \n",
       "1               UNK                Unknown  Probable Cause       19-09-1996  \n",
       "2               IMC                 Cruise  Probable Cause       26-02-2007  \n",
       "3               IMC                 Cruise  Probable Cause       12-09-2000  \n",
       "4               VMC               Approach  Probable Cause       16-04-1980  \n",
       "\n",
       "[5 rows x 31 columns]"
      ]
     },
     "execution_count": 1,
     "metadata": {},
     "output_type": "execute_result"
    }
   ],
   "source": [
    "#import packages\n",
    "import pandas as pd\n",
    "import seaborn as sns\n",
    "import matplotlib.pyplot as plt\n",
    "import numpy as np\n",
    "%matplotlib inline\n",
    "#load csv as dataframe and display preview\n",
    "df = pd.read_csv('data/Aviation_Data.csv', low_memory=False)\n",
    "df.head()"
   ]
  },
  {
   "cell_type": "markdown",
   "metadata": {},
   "source": [
    "# Step 2: remove as many uncessary columns as possible"
   ]
  },
  {
   "cell_type": "markdown",
   "metadata": {},
   "source": [
    "Next, we need to narrow the scope of our analysis to only what is relevant to the core business question. I did extensive exploration of the data before making a decision about which variables are relevant to my analysis, so it's most efficient for me to just drop the columns I don't plan to use right off the bat."
   ]
  },
  {
   "cell_type": "code",
   "execution_count": 2,
   "metadata": {
    "scrolled": true
   },
   "outputs": [],
   "source": [
    "#drop all of the columns I do not plan to use in my analysis\n",
    "df=df.drop(axis=1, labels=\n",
    "        ['Investigation.Type', 'Accident.Number', 'Amateur.Built', 'Location', 'Country', 'Latitude', 'Longitude', 'Airport.Code', 'Airport.Name', 'Aircraft.Category', 'Registration.Number', 'FAR.Description', 'Schedule', 'Purpose.of.flight', 'Air.carrier', 'Broad.phase.of.flight', 'Publication.Date', 'Report.Status']\n",
    "       )"
   ]
  },
  {
   "cell_type": "markdown",
   "metadata": {},
   "source": [
    "Now, let's get a general summary of the missing and duplicate values in the data."
   ]
  },
  {
   "cell_type": "code",
   "execution_count": 3,
   "metadata": {
    "scrolled": false
   },
   "outputs": [
    {
     "data": {
      "text/plain": [
       "Event.Id                   1459\n",
       "Event.Date                 1459\n",
       "Injury.Severity            2459\n",
       "Aircraft.damage            4653\n",
       "Make                       1522\n",
       "Model                      1551\n",
       "Number.of.Engines          7543\n",
       "Engine.Type                8536\n",
       "Total.Fatal.Injuries      12860\n",
       "Total.Serious.Injuries    13969\n",
       "Total.Minor.Injuries      13392\n",
       "Total.Uninjured            7371\n",
       "Weather.Condition          5951\n",
       "dtype: int64"
      ]
     },
     "execution_count": 3,
     "metadata": {},
     "output_type": "execute_result"
    }
   ],
   "source": [
    "#Display the total number of NaN entires in each column.\n",
    "df.isna().sum()"
   ]
  },
  {
   "cell_type": "code",
   "execution_count": 4,
   "metadata": {
    "scrolled": true
   },
   "outputs": [
    {
     "data": {
      "text/plain": [
       "False    88846\n",
       "True      1502\n",
       "dtype: int64"
      ]
     },
     "execution_count": 4,
     "metadata": {},
     "output_type": "execute_result"
    }
   ],
   "source": [
    "### find total number of duplicate rows\n",
    "df.duplicated().value_counts()"
   ]
  },
  {
   "cell_type": "markdown",
   "metadata": {},
   "source": [
    "# Step 3: Clean the data"
   ]
  },
  {
   "cell_type": "markdown",
   "metadata": {},
   "source": [
    "## Dropping Duplicates\n",
    "First, let's just remove all the duplicated records. This will be nice and easy!"
   ]
  },
  {
   "cell_type": "code",
   "execution_count": 5,
   "metadata": {
    "scrolled": false
   },
   "outputs": [
    {
     "data": {
      "text/plain": [
       "False    88846\n",
       "dtype: int64"
      ]
     },
     "execution_count": 5,
     "metadata": {},
     "output_type": "execute_result"
    }
   ],
   "source": [
    "#drop all duplicate rows and confirm there are no more duplicates\n",
    "df = df.drop_duplicates()\n",
    "df.duplicated().value_counts()"
   ]
  },
  {
   "cell_type": "markdown",
   "metadata": {},
   "source": [
    "## Placeholders and Missing Values"
   ]
  },
  {
   "cell_type": "markdown",
   "metadata": {},
   "source": [
    "### Event ID\n",
    "Now, we need to remove or fill in the missing and placeholder values. I've determined that the best way to do this will be to just go through the relevant columns and decide how to handle them on a case-by-case basis. I don't plan to use Event ID as much other than a unique tracker of each case, so I won't be doing anything fancy with it - instead, I'm just going to drop the missing entries and call this one done."
   ]
  },
  {
   "cell_type": "code",
   "execution_count": 6,
   "metadata": {
    "scrolled": true
   },
   "outputs": [],
   "source": [
    "#Remove all NaNs from Event Id\n",
    "df=df.dropna(subset=['Event.Id'])"
   ]
  },
  {
   "cell_type": "markdown",
   "metadata": {},
   "source": [
    "### Injury Severity\n",
    "Next, I will work with the injury severity column. The data in this column is extremely irregular and redundant with other columns in the dataframe, but I think a simple fatal or non-fatal distinction is useful to me, so I will simplify it to that."
   ]
  },
  {
   "cell_type": "code",
   "execution_count": 7,
   "metadata": {
    "scrolled": false
   },
   "outputs": [
    {
     "data": {
      "text/plain": [
       "Non-Fatal      67336\n",
       "Fatal(1)        6165\n",
       "Fatal           5262\n",
       "Fatal(2)        3705\n",
       "Incident        2211\n",
       "Fatal(3)        1146\n",
       "Fatal(4)         808\n",
       "Fatal(5)         235\n",
       "Minor            217\n",
       "Serious          173\n",
       "Fatal(6)         161\n",
       "Unavailable       96\n",
       "Fatal(7)          56\n",
       "Fatal(8)          51\n",
       "Fatal(10)         32\n",
       "Fatal(9)          18\n",
       "Fatal(14)         11\n",
       "Fatal(11)         10\n",
       "Fatal(13)          9\n",
       "Fatal(12)          8\n",
       "Name: Injury.Severity, dtype: int64"
      ]
     },
     "execution_count": 7,
     "metadata": {},
     "output_type": "execute_result"
    }
   ],
   "source": [
    "#Show the irregular data contained in this column\n",
    "df['Injury.Severity'].value_counts().head(20)"
   ]
  },
  {
   "cell_type": "code",
   "execution_count": 8,
   "metadata": {
    "scrolled": false
   },
   "outputs": [
    {
     "data": {
      "text/plain": [
       "Non-Fatal    69937\n",
       "Fatal(1)      6165\n",
       "Fatal         5262\n",
       "Fatal(2)      3705\n",
       "Fatal(3)      1146\n",
       "Fatal(4)       808\n",
       "Fatal(5)       235\n",
       "Fatal(6)       161\n",
       "Fatal(7)        56\n",
       "Fatal(8)        51\n",
       "Fatal(10)       32\n",
       "Fatal(9)        18\n",
       "Fatal(14)       11\n",
       "Fatal(11)       10\n",
       "Fatal(13)        9\n",
       "Fatal(12)        8\n",
       "Fatal(20)        5\n",
       "Fatal(18)        5\n",
       "Fatal(15)        5\n",
       "Fatal(23)        4\n",
       "Name: Injury.Severity, dtype: int64"
      ]
     },
     "execution_count": 8,
     "metadata": {},
     "output_type": "execute_result"
    }
   ],
   "source": [
    "#This cell standardizes the non-fatal values and drops unkowns/NaNs.\n",
    "df['Injury.Severity'] = df['Injury.Severity'].replace(to_replace=['Incident', 'Minor', 'Serious'], value='Non-Fatal')\n",
    "df = df.drop(df[df['Injury.Severity'] == 'Unavailable'].index)\n",
    "df.dropna(axis=0, subset=['Injury.Severity'], inplace=True)\n",
    "df['Injury.Severity'].value_counts().head(20)"
   ]
  },
  {
   "cell_type": "code",
   "execution_count": 9,
   "metadata": {
    "scrolled": true
   },
   "outputs": [],
   "source": [
    "#This cell standardizes the Fatal entries based on their length. Anything longer than 5 characters is just set to 'Fatal'.\n",
    "df['Injury.Severity'] = df['Injury.Severity'].map(lambda x: 'Fatal' if x[:5]=='Fatal' else x)"
   ]
  },
  {
   "cell_type": "code",
   "execution_count": 10,
   "metadata": {
    "scrolled": true
   },
   "outputs": [
    {
     "data": {
      "text/plain": [
       "Non-Fatal    69937\n",
       "Fatal        17813\n",
       "Name: Injury.Severity, dtype: int64"
      ]
     },
     "execution_count": 10,
     "metadata": {},
     "output_type": "execute_result"
    }
   ],
   "source": [
    "#Display the cleaned column\n",
    "df['Injury.Severity'].value_counts()"
   ]
  },
  {
   "cell_type": "markdown",
   "metadata": {},
   "source": [
    "### Make and Model\n",
    "The next two columns are the most important in the dataset. They will enable my analysis by allowing me to track the individual makes and models of the planes in the data, so that I can determine which ones are the safest."
   ]
  },
  {
   "cell_type": "code",
   "execution_count": 11,
   "metadata": {
    "scrolled": false
   },
   "outputs": [
    {
     "data": {
      "text/plain": [
       "Cessna               22201\n",
       "Piper                12016\n",
       "CESSNA                4841\n",
       "Beech                 4326\n",
       "PIPER                 2814\n",
       "Bell                  2116\n",
       "Boeing                1530\n",
       "Mooney                1092\n",
       "Grumman               1091\n",
       "BEECH                 1025\n",
       "Robinson               941\n",
       "Bellanca               886\n",
       "Hughes                 794\n",
       "BOEING                 720\n",
       "Schweizer              627\n",
       "Air Tractor            595\n",
       "BELL                   570\n",
       "Mcdonnell Douglas      515\n",
       "Aeronca                486\n",
       "Maule                  445\n",
       "Name: Make, dtype: int64"
      ]
     },
     "execution_count": 11,
     "metadata": {},
     "output_type": "execute_result"
    }
   ],
   "source": [
    "#Now I need to handle the make and model columns. They are both categorical, do not have placeholder values, and only have a \n",
    "#small amount of missing values, which it will be convenient for me to just drop.\n",
    "\n",
    "df['Make'].value_counts().head(20)"
   ]
  },
  {
   "cell_type": "code",
   "execution_count": 12,
   "metadata": {
    "scrolled": true
   },
   "outputs": [],
   "source": [
    "df.dropna(axis=0, subset=['Make'], inplace=True)"
   ]
  },
  {
   "cell_type": "code",
   "execution_count": 13,
   "metadata": {
    "scrolled": false
   },
   "outputs": [
    {
     "data": {
      "text/plain": [
       "152          2357\n",
       "172          1742\n",
       "172N         1161\n",
       "PA-28-140     930\n",
       "150           825\n",
       "172M          797\n",
       "172P          685\n",
       "182           656\n",
       "180           622\n",
       "150M          585\n",
       "PA-18         579\n",
       "PA-18-150     578\n",
       "PA-28-180     572\n",
       "PA-28-161     569\n",
       "PA-28-181     530\n",
       "206B          521\n",
       "PA-38-112     467\n",
       "150L          461\n",
       "G-164A        460\n",
       "A36           450\n",
       "Name: Model, dtype: int64"
      ]
     },
     "execution_count": 13,
     "metadata": {},
     "output_type": "execute_result"
    }
   ],
   "source": [
    "df['Model'].value_counts().head(20)"
   ]
  },
  {
   "cell_type": "code",
   "execution_count": 14,
   "metadata": {
    "scrolled": true
   },
   "outputs": [],
   "source": [
    "df.dropna(axis=0, subset=['Model'], inplace=True)"
   ]
  },
  {
   "cell_type": "markdown",
   "metadata": {},
   "source": [
    "### Number of Engines\n",
    "The number of engines will only feature in my analysis as a mechanism to guage the size of the individual airplanes. I do not think it will be a big deal if I cause a change in its summary statistics, so I will just fill with the median value, since the mean would be a decimal and inconsistent with the rest of the data."
   ]
  },
  {
   "cell_type": "code",
   "execution_count": 15,
   "metadata": {
    "scrolled": true
   },
   "outputs": [
    {
     "name": "stdout",
     "output_type": "stream",
     "text": [
      "1.0    69460\n",
      "2.0    10847\n",
      "0.0     1205\n",
      "3.0      482\n",
      "4.0      411\n",
      "8.0        3\n",
      "6.0        1\n",
      "Name: Number.of.Engines, dtype: int64\n",
      "1.143976992804184\n"
     ]
    }
   ],
   "source": [
    "print(df['Number.of.Engines'].value_counts().head(10))\n",
    "print(df['Number.of.Engines'].mean())"
   ]
  },
  {
   "cell_type": "code",
   "execution_count": 16,
   "metadata": {
    "scrolled": false
   },
   "outputs": [],
   "source": [
    "#fillna with the median of the column\n",
    "df['Number.of.Engines'].fillna(df['Number.of.Engines'].median(), inplace=True)"
   ]
  },
  {
   "cell_type": "markdown",
   "metadata": {},
   "source": [
    "Now I need to check to see how that operation affected the data. It looks like it very slightly lowered the mean value by assuming all the NaNs were planes with 1 engine. This should be perfectly fine for my analysis, since I am working under the assumption that my stakeholders want to buy larger planes anyway, and most of these fabricated values will be ignored."
   ]
  },
  {
   "cell_type": "code",
   "execution_count": 17,
   "metadata": {
    "scrolled": true
   },
   "outputs": [
    {
     "name": "stdout",
     "output_type": "stream",
     "text": [
      "1.0    74711\n",
      "2.0    10847\n",
      "0.0     1205\n",
      "3.0      482\n",
      "4.0      411\n",
      "8.0        3\n",
      "6.0        1\n",
      "Name: Number.of.Engines, dtype: int64\n",
      "1.1353524982888432\n"
     ]
    }
   ],
   "source": [
    "#print the value counts and mean of the data\n",
    "print(df['Number.of.Engines'].value_counts().head(10))\n",
    "print(df['Number.of.Engines'].mean())"
   ]
  },
  {
   "cell_type": "markdown",
   "metadata": {},
   "source": [
    "### Engine Type\n",
    "Now it's time for something more difficult. The engine type column is categorical and has several different placeholder values which need to be dealt with. I cannot just drop them or fill with the mean or median, so I'm going to have to do something just a little bit more creative."
   ]
  },
  {
   "cell_type": "code",
   "execution_count": 18,
   "metadata": {
    "scrolled": true
   },
   "outputs": [
    {
     "name": "stdout",
     "output_type": "stream",
     "text": [
      "Reciprocating    0.852199\n",
      "Turbo Shaft      0.044158\n",
      "Turbo Prop       0.041323\n",
      "Turbo Fan        0.028866\n",
      "Unknown          0.024484\n",
      "Turbo Jet        0.008554\n",
      "None             0.000233\n",
      "Electric         0.000098\n",
      "NONE             0.000025\n",
      "LR               0.000025\n",
      "Name: Engine.Type, dtype: float64\n"
     ]
    }
   ],
   "source": [
    "print(df['Engine.Type'].value_counts(normalize=True).head(10))"
   ]
  },
  {
   "cell_type": "code",
   "execution_count": 19,
   "metadata": {
    "scrolled": false
   },
   "outputs": [
    {
     "data": {
      "text/plain": [
       "Reciprocating      69438\n",
       "Turbo Shaft         3598\n",
       "Turbo Prop          3367\n",
       "Turbo Fan           2352\n",
       "Unknown             1995\n",
       "Turbo Jet            697\n",
       "None                  19\n",
       "Electric               8\n",
       "NONE                   2\n",
       "LR                     2\n",
       "UNK                    1\n",
       "Hybrid Rocket          1\n",
       "Geared Turbofan        1\n",
       "Name: Engine.Type, dtype: int64"
      ]
     },
     "execution_count": 19,
     "metadata": {},
     "output_type": "execute_result"
    }
   ],
   "source": [
    "df['Engine.Type'].value_counts()"
   ]
  },
  {
   "cell_type": "markdown",
   "metadata": {},
   "source": [
    "First, I will simply drop the none values, since they are such a small subset of the total. Then, I will fill the NaNs with the 'unknown' placeholder value to simplify the following steps. \n",
    "\n",
    "After filling in the missing values, I plan to employ a trick that I learned from the solution branch of the [DSC dealing missing data lab solution branch](https://github.com/learn-co-curriculum/dsc-dealing-missing-data-lab/tree/solution). The repository has five contributors who are all brilliant people - thank you for making this piece of programming so easy for me to find and use! It has a function that calculates the normal distribution of the values in a column, converts them each into a percentage of the total, and then feeds those percentages to a numpy random choose function in order to assign values randomly to the placeholders according to the normal distribution of the data. \n",
    "\n",
    "I like this method since it tends to have a very small effect on the summary statistics of the data. A major disadvantage of this technique which must be mitigated is its randomness; if I do not set a random seed before using these calls, my analysis will yield a different result every time."
   ]
  },
  {
   "cell_type": "code",
   "execution_count": 20,
   "metadata": {
    "scrolled": false
   },
   "outputs": [
    {
     "data": {
      "text/plain": [
       "Reciprocating      0.792129\n",
       "Unknown            0.093486\n",
       "Turbo Shaft        0.041045\n",
       "Turbo Prop         0.038410\n",
       "Turbo Fan          0.026831\n",
       "Turbo Jet          0.007951\n",
       "Electric           0.000091\n",
       "LR                 0.000023\n",
       "UNK                0.000011\n",
       "Hybrid Rocket      0.000011\n",
       "Geared Turbofan    0.000011\n",
       "Name: Engine.Type, dtype: float64"
      ]
     },
     "execution_count": 20,
     "metadata": {},
     "output_type": "execute_result"
    }
   ],
   "source": [
    "#Standardize placeholder values\n",
    "df['Engine.Type'] = df['Engine.Type'].loc[df['Engine.Type'] != 'NONE']\n",
    "df['Engine.Type'] = df['Engine.Type'].loc[df['Engine.Type'] != 'None']\n",
    "df['Engine.Type'].fillna(value='Unknown', inplace=True)\n",
    "df['Engine.Type'].value_counts(normalize=True) "
   ]
  },
  {
   "cell_type": "markdown",
   "metadata": {},
   "source": [
    "Before anything else, it is highly important to set the numpy random seed for reproducability. I want to make sure the result is exactly the same every time this notebook is run, so I set the random seed in the cell below."
   ]
  },
  {
   "cell_type": "code",
   "execution_count": 21,
   "metadata": {},
   "outputs": [
    {
     "data": {
      "text/plain": [
       "Generator(PCG64) at 0x2086A923400"
      ]
     },
     "execution_count": 21,
     "metadata": {},
     "output_type": "execute_result"
    }
   ],
   "source": [
    "np.random.default_rng(seed=42)"
   ]
  },
  {
   "cell_type": "markdown",
   "metadata": {},
   "source": [
    "Next, I need to start defining functions so that I can easily re-use this process later. The first function needs to take a df and column as input. I also want to optionally be able to include a list of values to ignore/not calculate normals for so that I can exclude placeholders and outliers."
   ]
  },
  {
   "cell_type": "code",
   "execution_count": 22,
   "metadata": {
    "scrolled": true
   },
   "outputs": [],
   "source": [
    "def get_norms(df, column, ignore=[]):\n",
    "    '''\n",
    "    Returns normalized value counts of the specified column in df. Ignore is a list of values to exclude from this calculation.\n",
    "    '''\n",
    "    c = dict(df[column].value_counts(normalize=True))\n",
    "    for key in ignore:\n",
    "        del c[key]\n",
    "    return list(c.values())"
   ]
  },
  {
   "cell_type": "code",
   "execution_count": 23,
   "metadata": {
    "scrolled": true
   },
   "outputs": [
    {
     "data": {
      "text/plain": [
       "[0.7921286789869952,\n",
       " 0.04104494638375542,\n",
       " 0.03840976500114077,\n",
       " 0.026830937713894592,\n",
       " 0.007951174994296144]"
      ]
     },
     "execution_count": 23,
     "metadata": {},
     "output_type": "execute_result"
    }
   ],
   "source": [
    "remove_list = ['Unknown', 'Electric', 'LR', 'UNK', 'Geared Turbofan', 'Hybrid Rocket']\n",
    "norms = get_norms(df, 'Engine.Type', remove_list)\n",
    "norms"
   ]
  },
  {
   "cell_type": "markdown",
   "metadata": {},
   "source": [
    "Perfect, that works exactly how I want it to. I can give my function a dataframe and the column I want the normal distribution of, and it will return a list of the values. I can even give it a list of values I want it to exclude! As a consequence of me using that to exclude the placeholder values I plan to replace, I need to re-normalize these values so they can be used as percentage chances."
   ]
  },
  {
   "cell_type": "code",
   "execution_count": 24,
   "metadata": {
    "scrolled": false
   },
   "outputs": [],
   "source": [
    "def get_probs(normal_list):\n",
    "    '''\n",
    "    Takes a list as an argument and returns normalized values.\n",
    "    '''\n",
    "    probabilities = []\n",
    "    for number in normal_list:\n",
    "        probabilities.append(number/sum(normal_list))\n",
    "    return probabilities"
   ]
  },
  {
   "cell_type": "code",
   "execution_count": 25,
   "metadata": {},
   "outputs": [
    {
     "data": {
      "text/plain": [
       "[0.8739616372149223,\n",
       " 0.04528520364496803,\n",
       " 0.04237778784675024,\n",
       " 0.029602779036399334,\n",
       " 0.008772592256960176]"
      ]
     },
     "execution_count": 25,
     "metadata": {},
     "output_type": "execute_result"
    }
   ],
   "source": [
    "norms = get_probs(norms)\n",
    "norms"
   ]
  },
  {
   "cell_type": "markdown",
   "metadata": {},
   "source": [
    "Now, I need to write the function that fills in the placeholder values according to this distribution. "
   ]
  },
  {
   "cell_type": "code",
   "execution_count": 26,
   "metadata": {},
   "outputs": [],
   "source": [
    "def impute(value, choices, chances):\n",
    "    '''\n",
    "    If a given value is unknown, replace it with one of the choices given according to the probabilities given.\n",
    "    '''\n",
    "    if value == 'Unknown':\n",
    "        return np.random.choice(choices, p=chances)\n",
    "    else:\n",
    "        return value"
   ]
  },
  {
   "cell_type": "markdown",
   "metadata": {},
   "source": [
    "Now, I just need to map this function to each value in the engine type column using a lambda function, while feeding it the list of valid options for it to choose from ordered the same as their probabilities."
   ]
  },
  {
   "cell_type": "code",
   "execution_count": 27,
   "metadata": {},
   "outputs": [],
   "source": [
    "choice_list = ['Reciprocating', 'Turbo Shaft', 'Turbo Prop', 'Turbo Fan', 'Turbo Jet'] #hard-coded list of values\n",
    "\n",
    "df['Engine.Type'] = df['Engine.Type'].map(lambda x: impute(x, choice_list, norms))"
   ]
  },
  {
   "cell_type": "code",
   "execution_count": 28,
   "metadata": {},
   "outputs": [
    {
     "data": {
      "text/plain": [
       "Reciprocating      0.874139\n",
       "Turbo Shaft        0.045311\n",
       "Turbo Prop         0.042094\n",
       "Turbo Fan          0.029614\n",
       "Turbo Jet          0.008693\n",
       "Electric           0.000091\n",
       "LR                 0.000023\n",
       "UNK                0.000011\n",
       "Hybrid Rocket      0.000011\n",
       "Geared Turbofan    0.000011\n",
       "Name: Engine.Type, dtype: float64"
      ]
     },
     "execution_count": 28,
     "metadata": {},
     "output_type": "execute_result"
    }
   ],
   "source": [
    "df['Engine.Type'].value_counts(normalize=True)"
   ]
  },
  {
   "cell_type": "markdown",
   "metadata": {
    "scrolled": true
   },
   "source": [
    "It looks like that worked exactly how I wanted it to! This definitely has a smaller effect on the column than just dropping the 5% of values that are missing would, with the trade-off of being more random. There are definitely records in the data that represent real aircraft which I have filled in with an inaccurate engine type using this method; although this would have been a consequence of any method I used to fill in the blanks. Next, I'll be making heavy usage of those functions I just defined to standardize the next four columns."
   ]
  },
  {
   "cell_type": "markdown",
   "metadata": {},
   "source": [
    "My plan for the injury totals is to fill all NaN values with 'Unknown', and then apply the functions I just wrote to them in the same way to preserve the summary statistics while filling in the missing values. This is likely to have a large effect on the distribution of the data and will probably make some makes and models of planes seem safer or more dangerous than they actually are due to randomness. I am still of the opinion that this is the best method and will just do my best to mitigate the consequences of this decision."
   ]
  },
  {
   "cell_type": "markdown",
   "metadata": {},
   "source": [
    "### Total Fatal Injuries\n",
    "For this column, I am going to ignore everything other than the top 5 most common values to avoid inflating outliers."
   ]
  },
  {
   "cell_type": "code",
   "execution_count": 29,
   "metadata": {},
   "outputs": [
    {
     "name": "stdout",
     "output_type": "stream",
     "text": [
      "4.0    0.014392\n",
      "3.0    0.020743\n",
      "2.0    0.067520\n",
      "1.0    0.116103\n",
      "0.0    0.767335\n",
      "Name: Total.Fatal.Injuries, dtype: float64\n"
     ]
    }
   ],
   "source": [
    "#This cell displays the five most common values in this column. I plan to only fill the NaNs in to these five buckets.\n",
    "print(df['Total.Fatal.Injuries'].value_counts(normalize=True).sort_values().tail())"
   ]
  },
  {
   "cell_type": "code",
   "execution_count": 30,
   "metadata": {},
   "outputs": [
    {
     "data": {
      "text/plain": [
       "[0.7673349658866205,\n",
       " 0.11610334848028496,\n",
       " 0.06751961028246664,\n",
       " 0.02074303000144049,\n",
       " 0.014391786598221651]"
      ]
     },
     "execution_count": 30,
     "metadata": {},
     "output_type": "execute_result"
    }
   ],
   "source": [
    "#I've shot myself in the foot by not also including an option in this function to only keep the first x number of values.\n",
    "#Instead, I will manually delete everything after the first 5.\n",
    "norms = get_norms(df, 'Total.Fatal.Injuries')\n",
    "del norms[5:]\n",
    "norms"
   ]
  },
  {
   "cell_type": "code",
   "execution_count": 31,
   "metadata": {},
   "outputs": [
    {
     "data": {
      "text/plain": [
       "10.0    0.000513\n",
       "8.0     0.000787\n",
       "7.0     0.001152\n",
       "6.0     0.002464\n",
       "5.0     0.003947\n",
       "4.0     0.014545\n",
       "3.0     0.020773\n",
       "2.0     0.067317\n",
       "1.0     0.116655\n",
       "0.0     0.768595\n",
       "Name: Total.Fatal.Injuries, dtype: float64"
      ]
     },
     "execution_count": 31,
     "metadata": {},
     "output_type": "execute_result"
    }
   ],
   "source": [
    "choice_list = [0.0, 1.0, 2.0, 3.0, 4.0]\n",
    "df['Total.Fatal.Injuries'].fillna(value='Unknown', inplace=True)\n",
    "df['Total.Fatal.Injuries'] = df['Total.Fatal.Injuries'].map(lambda x: impute(x, choice_list, get_probs(norms)))\n",
    "df['Total.Fatal.Injuries'].value_counts(normalize=True).sort_values().tail(10)"
   ]
  },
  {
   "cell_type": "markdown",
   "metadata": {},
   "source": [
    "Perfect, it looks like that went off without a hitch, and had a minimal effect on summary statistics! I need to make sure there are not any NaN values left after that, and then I will repeat the same process for the next three columns."
   ]
  },
  {
   "cell_type": "code",
   "execution_count": 32,
   "metadata": {
    "scrolled": true
   },
   "outputs": [
    {
     "data": {
      "text/plain": [
       "False"
      ]
     },
     "execution_count": 32,
     "metadata": {},
     "output_type": "execute_result"
    }
   ],
   "source": [
    "df['Total.Fatal.Injuries'].isna().any()"
   ]
  },
  {
   "cell_type": "markdown",
   "metadata": {},
   "source": [
    "### Total Serious Injuries\n",
    "\n",
    "I will apply the exact same method to this column."
   ]
  },
  {
   "cell_type": "code",
   "execution_count": 33,
   "metadata": {
    "scrolled": true
   },
   "outputs": [
    {
     "name": "stdout",
     "output_type": "stream",
     "text": [
      "4.0    0.003401\n",
      "3.0    0.008344\n",
      "2.0    0.037362\n",
      "1.0    0.121147\n",
      "0.0    0.826278\n",
      "Name: Total.Serious.Injuries, dtype: float64\n"
     ]
    }
   ],
   "source": [
    "print(df['Total.Serious.Injuries'].value_counts(normalize=True).sort_values().tail())"
   ]
  },
  {
   "cell_type": "code",
   "execution_count": 34,
   "metadata": {},
   "outputs": [
    {
     "data": {
      "text/plain": [
       "[0.8262781675170068,\n",
       " 0.1211468962585034,\n",
       " 0.037361819727891155,\n",
       " 0.008343962585034014,\n",
       " 0.003401360544217687]"
      ]
     },
     "execution_count": 34,
     "metadata": {},
     "output_type": "execute_result"
    }
   ],
   "source": [
    "norms = get_norms(df, 'Total.Serious.Injuries')\n",
    "del norms[5:]\n",
    "norms"
   ]
  },
  {
   "cell_type": "code",
   "execution_count": 35,
   "metadata": {},
   "outputs": [
    {
     "data": {
      "text/plain": [
       "10.0    0.000148\n",
       "9.0     0.000171\n",
       "7.0     0.000308\n",
       "6.0     0.000456\n",
       "5.0     0.000890\n",
       "4.0     0.003422\n",
       "3.0     0.008385\n",
       "2.0     0.037782\n",
       "1.0     0.121150\n",
       "0.0     0.826283\n",
       "Name: Total.Serious.Injuries, dtype: float64"
      ]
     },
     "execution_count": 35,
     "metadata": {},
     "output_type": "execute_result"
    }
   ],
   "source": [
    "choice_list = [0.0, 1.0, 2.0, 3.0, 4.0]\n",
    "df['Total.Serious.Injuries'].fillna(value='Unknown', inplace=True)\n",
    "df['Total.Serious.Injuries'] = df['Total.Serious.Injuries'].map(lambda x: impute(x, choice_list, get_probs(norms)))\n",
    "df['Total.Serious.Injuries'].value_counts(normalize=True).sort_values().tail(10)"
   ]
  },
  {
   "cell_type": "markdown",
   "metadata": {},
   "source": [
    "### Total Minor Injuries\n",
    "\n",
    "Same story here, I do not have to change anything about my technique to fix this column, I just need to plug it in to my functions."
   ]
  },
  {
   "cell_type": "code",
   "execution_count": 36,
   "metadata": {},
   "outputs": [
    {
     "name": "stdout",
     "output_type": "stream",
     "text": [
      "4.0    0.004879\n",
      "3.0    0.010338\n",
      "2.0    0.047139\n",
      "1.0    0.135944\n",
      "0.0    0.795807\n",
      "Name: Total.Minor.Injuries, dtype: float64\n"
     ]
    }
   ],
   "source": [
    "print(df['Total.Minor.Injuries'].value_counts(normalize=True).sort_values().tail())"
   ]
  },
  {
   "cell_type": "code",
   "execution_count": 37,
   "metadata": {},
   "outputs": [
    {
     "data": {
      "text/plain": [
       "[0.7958069620253164,\n",
       " 0.13594409282700423,\n",
       " 0.04713871308016877,\n",
       " 0.010337552742616034,\n",
       " 0.004878691983122363]"
      ]
     },
     "execution_count": 37,
     "metadata": {},
     "output_type": "execute_result"
    }
   ],
   "source": [
    "norms = get_norms(df, 'Total.Minor.Injuries')\n",
    "del norms[5:]\n",
    "norms"
   ]
  },
  {
   "cell_type": "code",
   "execution_count": 38,
   "metadata": {},
   "outputs": [
    {
     "data": {
      "text/plain": [
       "8.0    0.000228\n",
       "9.0    0.000251\n",
       "7.0    0.000662\n",
       "6.0    0.000753\n",
       "5.0    0.001460\n",
       "4.0    0.004905\n",
       "3.0    0.010518\n",
       "2.0    0.047456\n",
       "1.0    0.136299\n",
       "0.0    0.795722\n",
       "Name: Total.Minor.Injuries, dtype: float64"
      ]
     },
     "execution_count": 38,
     "metadata": {},
     "output_type": "execute_result"
    }
   ],
   "source": [
    "choice_list = [0.0, 1.0, 2.0, 3.0, 4.0]\n",
    "df['Total.Minor.Injuries'].fillna(value='Unknown', inplace=True)\n",
    "df['Total.Minor.Injuries'] = df['Total.Minor.Injuries'].map(lambda x: impute(x, choice_list, get_probs(norms)))\n",
    "df['Total.Minor.Injuries'].value_counts(normalize=True).sort_values().tail(10)"
   ]
  },
  {
   "cell_type": "markdown",
   "metadata": {},
   "source": [
    "### Total Uninjured\n",
    "\n",
    "I plan to use the same technique on this column again, but I end up finding a difference in the distribution that demands a slightly different treatment."
   ]
  },
  {
   "cell_type": "code",
   "execution_count": 39,
   "metadata": {},
   "outputs": [
    {
     "name": "stdout",
     "output_type": "stream",
     "text": [
      "9.0    0.001564\n",
      "8.0    0.001967\n",
      "7.0    0.003409\n",
      "6.0    0.006109\n",
      "5.0    0.010825\n",
      "4.0    0.032474\n",
      "3.0    0.052620\n",
      "2.0    0.195111\n",
      "1.0    0.306447\n",
      "0.0    0.352103\n",
      "Name: Total.Uninjured, dtype: float64\n"
     ]
    }
   ],
   "source": [
    "print(df['Total.Uninjured'].value_counts(normalize=True).sort_values().tail(10))"
   ]
  },
  {
   "cell_type": "markdown",
   "metadata": {},
   "source": [
    "This column has a wider distribution of values than the previous 3, so I have decided to distribute the NaNs across the top 7 values instead of top 5."
   ]
  },
  {
   "cell_type": "code",
   "execution_count": 40,
   "metadata": {},
   "outputs": [
    {
     "data": {
      "text/plain": [
       "[0.35210321193387983,\n",
       " 0.3064470806709753,\n",
       " 0.19511062784816313,\n",
       " 0.052620004642582256,\n",
       " 0.032473641128391836,\n",
       " 0.010824547042797278,\n",
       " 0.00610866085936641]"
      ]
     },
     "execution_count": 40,
     "metadata": {},
     "output_type": "execute_result"
    }
   ],
   "source": [
    "norms = get_norms(df, 'Total.Uninjured')\n",
    "del norms[7:]\n",
    "norms"
   ]
  },
  {
   "cell_type": "code",
   "execution_count": 41,
   "metadata": {},
   "outputs": [
    {
     "data": {
      "text/plain": [
       "9.0    0.001460\n",
       "8.0    0.001837\n",
       "7.0    0.003183\n",
       "6.0    0.006115\n",
       "5.0    0.010849\n",
       "4.0    0.032386\n",
       "3.0    0.053103\n",
       "2.0    0.195996\n",
       "1.0    0.307655\n",
       "0.0    0.352521\n",
       "Name: Total.Uninjured, dtype: float64"
      ]
     },
     "execution_count": 41,
     "metadata": {},
     "output_type": "execute_result"
    }
   ],
   "source": [
    "choice_list = [0.0, 1.0, 2.0, 3.0, 4.0, 5.0, 6.0]\n",
    "df['Total.Uninjured'].fillna(value='Unknown', inplace=True)\n",
    "df['Total.Uninjured'] = df['Total.Uninjured'].map(lambda x: impute(x, choice_list, get_probs(norms)))\n",
    "df['Total.Uninjured'].value_counts(normalize=True).sort_values().tail(10)"
   ]
  },
  {
   "cell_type": "markdown",
   "metadata": {},
   "source": [
    "This way of doing it is a bit messy and I could make it more efficient by making a fourth function that contains all of the code in the three cells I used for each of these columns. Writing that function would require me to come up with a mathematical way of detecting the 5-7 most common values, which I estimate would have taken me longer than just copy pasting the code and manually handling the exception. For my first attempt at doing something like this without direct guidance, I am quite happy with the result!"
   ]
  },
  {
   "cell_type": "markdown",
   "metadata": {},
   "source": [
    "### Aircraft Damage\n",
    "\n",
    "I need another way of judging the severity of a crash that is not just the number of people injured, so I will also be considering the damage to the airplane. I will do this by re-using the handy random choice function I learned about in that solution branch - thank you again to the contributors!"
   ]
  },
  {
   "cell_type": "code",
   "execution_count": 42,
   "metadata": {},
   "outputs": [],
   "source": [
    "df['Aircraft.damage'].value_counts(normalize=True)\n",
    "df['Aircraft.damage'].fillna(value='Unknown', inplace=True)"
   ]
  },
  {
   "cell_type": "code",
   "execution_count": 43,
   "metadata": {},
   "outputs": [
    {
     "data": {
      "text/plain": [
       "[0.7281998631074607, 0.2109970339949806, 0.029306411133926534]"
      ]
     },
     "execution_count": 43,
     "metadata": {},
     "output_type": "execute_result"
    }
   ],
   "source": [
    "remove_list = ['Unknown']\n",
    "norms = get_norms(df, 'Aircraft.damage', remove_list)\n",
    "norms"
   ]
  },
  {
   "cell_type": "code",
   "execution_count": 44,
   "metadata": {},
   "outputs": [
    {
     "data": {
      "text/plain": [
       "Substantial    0.751825\n",
       "Destroyed      0.217910\n",
       "Minor          0.030265\n",
       "Name: Aircraft.damage, dtype: float64"
      ]
     },
     "execution_count": 44,
     "metadata": {},
     "output_type": "execute_result"
    }
   ],
   "source": [
    "choice_list = ['Substantial', 'Destroyed', 'Minor']\n",
    "df['Aircraft.damage'] = df['Aircraft.damage'].map(lambda x: impute(x, choice_list, get_probs(norms)))\n",
    "df['Aircraft.damage'].value_counts(normalize=True)"
   ]
  },
  {
   "cell_type": "markdown",
   "metadata": {},
   "source": [
    "### Total Passengers Column\n",
    "\n",
    "Now, I want to add a new column to the dataframe to help my analysis: a sum of all the different injury type columns and the uninjured column that represents the total number of passengers on each plane at the time of the incident.\n",
    "\n",
    "This is particularly important for my analysis, because I am working with the assumption that incidents are bound to happen. The safest plane is the one that has the smallest amount of casualties in the event of a safety incident."
   ]
  },
  {
   "cell_type": "code",
   "execution_count": 45,
   "metadata": {},
   "outputs": [],
   "source": [
    "#Simply adding all four columns together on every row\n",
    "df['Total.Passengers'] = df['Total.Fatal.Injuries'] + df['Total.Serious.Injuries'] + df['Total.Minor.Injuries'] + df['Total.Uninjured']"
   ]
  },
  {
   "cell_type": "markdown",
   "metadata": {},
   "source": [
    "### Total Injuries Column\n",
    "\n",
    "I also realized that the total number of injuries of any type would be useful to my analysis, so I create that column here."
   ]
  },
  {
   "cell_type": "code",
   "execution_count": 46,
   "metadata": {},
   "outputs": [],
   "source": [
    "#Exactly the same as above but without uninjured passengers\n",
    "df['Total.Injuries'] = df['Total.Fatal.Injuries'] + df['Total.Serious.Injuries'] + df['Total.Minor.Injuries']"
   ]
  },
  {
   "cell_type": "markdown",
   "metadata": {},
   "source": [
    "### Weather Condition\n",
    "The weather condition column has information I want to include in my visualizations, but it also has placeholder and missing values. I've already invested so much effort in the functions I used above, I think it makes a lot of sense to reuse them here again."
   ]
  },
  {
   "cell_type": "code",
   "execution_count": 47,
   "metadata": {
    "scrolled": false
   },
   "outputs": [
    {
     "data": {
      "text/plain": [
       "VMC    0.916564\n",
       "IMC    0.070780\n",
       "UNK    0.009840\n",
       "Unk    0.002816\n",
       "Name: Weather.Condition, dtype: float64"
      ]
     },
     "execution_count": 47,
     "metadata": {},
     "output_type": "execute_result"
    }
   ],
   "source": [
    "df['Weather.Condition'].value_counts(normalize=True)"
   ]
  },
  {
   "cell_type": "markdown",
   "metadata": {},
   "source": [
    "I plan to use this column in my analysis, so I want to make sure the data is accurate. I will re-distribute the placeholder and NaN values according to the ratio of VMC/IMC in order to preserve the summary statistics as much as possible."
   ]
  },
  {
   "cell_type": "code",
   "execution_count": 48,
   "metadata": {
    "scrolled": true
   },
   "outputs": [
    {
     "data": {
      "text/plain": [
       "VMC        0.879843\n",
       "IMC        0.067944\n",
       "Unknown    0.052213\n",
       "Name: Weather.Condition, dtype: float64"
      ]
     },
     "execution_count": 48,
     "metadata": {},
     "output_type": "execute_result"
    }
   ],
   "source": [
    "df['Weather.Condition'].fillna(value='Unknown', inplace=True)\n",
    "df.loc[df['Weather.Condition'] == 'UNK', 'Weather.Condition'] = 'Unknown'\n",
    "df.loc[df['Weather.Condition'] == 'Unk', 'Weather.Condition'] = 'Unknown'\n",
    "df['Weather.Condition'].value_counts(normalize=True)"
   ]
  },
  {
   "cell_type": "code",
   "execution_count": 49,
   "metadata": {},
   "outputs": [
    {
     "data": {
      "text/plain": [
       "[0.8798425735797399, 0.06794433036732832]"
      ]
     },
     "execution_count": 49,
     "metadata": {},
     "output_type": "execute_result"
    }
   ],
   "source": [
    "norms = get_norms(df, 'Weather.Condition', remove_list)\n",
    "norms"
   ]
  },
  {
   "cell_type": "code",
   "execution_count": 50,
   "metadata": {},
   "outputs": [
    {
     "data": {
      "text/plain": [
       "VMC    0.928417\n",
       "IMC    0.071583\n",
       "Name: Weather.Condition, dtype: float64"
      ]
     },
     "execution_count": 50,
     "metadata": {},
     "output_type": "execute_result"
    }
   ],
   "source": [
    "choice_list = ['VMC', 'IMC']\n",
    "df['Weather.Condition'] = df['Weather.Condition'].map(lambda x: impute(x, choice_list, get_probs(norms)))\n",
    "df['Weather.Condition'].value_counts(normalize=True)"
   ]
  },
  {
   "cell_type": "markdown",
   "metadata": {},
   "source": [
    "Perfect! That was the last column I needed to clean, so all that's left to do before we start the analysis is a little bit of housekeeping. I have two more columns to add which will be very important to my analysis.\n",
    "\n",
    "The first combines the make and model columns to make it easier to sort the dataframe by types of aircraft. We typically think of the individual aircraft as a combination of make and model, so it makes sense for my data to represent that. \n",
    "\n",
    "The second column is simply the total number of fatalities divied by the total number of passengers in each given incident, and it represents the chance that you would sustain a fatal injury if you were a passenger on that given flight. Later in the analysis I will take the average of this value for each aircraft to represent the general likilihood of dying on it based on the limited data in this dataset."
   ]
  },
  {
   "cell_type": "code",
   "execution_count": 51,
   "metadata": {},
   "outputs": [],
   "source": [
    "# Add a new column that combined make and model to simplify the code I will use in my analysis\n",
    "df['Make&Model'] = df['Make'] + ' ' + df['Model']"
   ]
  },
  {
   "cell_type": "code",
   "execution_count": 52,
   "metadata": {},
   "outputs": [
    {
     "data": {
      "text/plain": [
       "0.000000    67276\n",
       "1.000000    12628\n",
       "0.500000     2599\n",
       "0.333333     1206\n",
       "0.666667      768\n",
       "            ...  \n",
       "0.005263        1\n",
       "0.275862        1\n",
       "0.085714        1\n",
       "0.007353        1\n",
       "0.905325        1\n",
       "Name: Fatality.Ratio, Length: 301, dtype: int64"
      ]
     },
     "execution_count": 52,
     "metadata": {},
     "output_type": "execute_result"
    }
   ],
   "source": [
    "# Add a new column that calculates the ratio of the mean of total fatal injuries per make and model to total passengers\n",
    "df['Fatality.Ratio'] = df['Total.Fatal.Injuries']/df['Total.Passengers']\n",
    "df['Fatality.Ratio'].value_counts()"
   ]
  },
  {
   "cell_type": "markdown",
   "metadata": {},
   "source": [
    "## Step 4: statistical analysis\n",
    "\n",
    "My goal in this project is to give three concrete recommendations to stakeholders about which makes/models of plane are the best investment from a safety perspective. One of the biggest issues with investing in planes are the safety risks associated with it; if a plane is destroyed in a crash, you are not only down the money you spent on the plane, but you also have an expensive disaster to clean up. It is in the best interest of the shareholder to purchase only the most safe planes to avoid these hidden costs of the investment, since safety incidents are unfortunately common. In the event that the plane you have invested in is in a crash, you want to make sure that the crash is as minor and harmless as possible to minimize the financial damage. The three questions I will answer to address this issue in my analysis are:\n",
    "1. What are the top 5 commercial-grade aircraft that have the lowest average rates of fatalities and injuries in the event of an accident?\n",
    "2. Of those top 5 aircraft, which one performs the best in IMC (instrument driven only) flight conditions?\n",
    "3. Of those top 5 aircraft, which plane tended to take the least damage during an incident?"
   ]
  },
  {
   "cell_type": "markdown",
   "metadata": {},
   "source": [
    "### 1. Lowest fatality and injury rate among large planes\n",
    "\n",
    "The dataset has two major challenges that I need to address before I can give advice tailored to the specific business needs of the shareholders:\n",
    "1. A large amount of the makes/models in the dataset are consumer grade aircraft that are simply not relevant to the business needs of the shareholders. Some makes/models are actually helicopters, which are completely irrelevant to my analysis.\n",
    "2. Many makes/models in the dataset have only 1-5 records. This may be because they are safer, or it may be because there are less of them. \n",
    "\n",
    "I have come up with a way to address both of these issues that I think is reasonable.\n",
    "1. Commercial aircraft typically have two or more engines; in fact, according to [simpleflying.com](https://simpleflying.com/why-single-jet-commercial-aircraft-arent-just-around-the-corner/#:~:text=One%20smaller%20aircraft%20designer%20has,by%20a%20Williams%20FJ33%20turbofan.), the only single engine commericial passenger aircraft on the market is the The Cirrus Vision SF50, certified in 2016. In addition, there are many records for helicoptors, hot air baloons, and other aircraft which are irrelevant to my analysis that have 0-1 engines in the data. For this reason, it will be easiest for me to just group by number of engines and exclude all makes and models that have less than two.\n",
    "2. To ensure that I am not making assumptions based on a small sample size, I will exclude all makes and models whoose number of records is less than 10. This is an arbitrary limit, and it will have a serious effect on the outcome of the analysis. However, it is my best option - Excluding outliers based on standard deviations or IQR would not be satisfactory for my needs. They would dictate that I include all aircraft with above 4 records, and I do not feel comfortable making recommendations based on a sample size of only 4 crashes. \n",
    "\n",
    "Another important detail to mention is that small number of incidents could mean two things: There are either not many of the aircraft/the aircraft is new and has not had enough airtime to have many incidents on record (I want to exclude these), or the aircraft is extremely safe and does not have many safety incidents (very rare). The second option would also make it very difficult to prove with this data that the aircraft is safe. I am confident that setting this arbitrary limit will allow me to make the best recommendation."
   ]
  },
  {
   "cell_type": "markdown",
   "metadata": {},
   "source": [
    "This piece of code generates the average number of total fatalities for each make and model."
   ]
  },
  {
   "cell_type": "code",
   "execution_count": 53,
   "metadata": {
    "scrolled": false
   },
   "outputs": [
    {
     "data": {
      "text/html": [
       "<div>\n",
       "<style scoped>\n",
       "    .dataframe tbody tr th:only-of-type {\n",
       "        vertical-align: middle;\n",
       "    }\n",
       "\n",
       "    .dataframe tbody tr th {\n",
       "        vertical-align: top;\n",
       "    }\n",
       "\n",
       "    .dataframe thead th {\n",
       "        text-align: right;\n",
       "    }\n",
       "</style>\n",
       "<table border=\"1\" class=\"dataframe\">\n",
       "  <thead>\n",
       "    <tr style=\"text-align: right;\">\n",
       "      <th></th>\n",
       "      <th>Make&amp;Model</th>\n",
       "      <th>Number.of.Engines</th>\n",
       "      <th>Total.Fatal.Injuries</th>\n",
       "    </tr>\n",
       "  </thead>\n",
       "  <tbody>\n",
       "    <tr>\n",
       "      <th>0</th>\n",
       "      <td>107.5 Flying Corporation One Design DR 107</td>\n",
       "      <td>1.0</td>\n",
       "      <td>1.0</td>\n",
       "    </tr>\n",
       "    <tr>\n",
       "      <th>1</th>\n",
       "      <td>1200 G103</td>\n",
       "      <td>0.0</td>\n",
       "      <td>0.0</td>\n",
       "    </tr>\n",
       "    <tr>\n",
       "      <th>2</th>\n",
       "      <td>177MF LLC PITTS MODEL 12</td>\n",
       "      <td>1.0</td>\n",
       "      <td>0.0</td>\n",
       "    </tr>\n",
       "    <tr>\n",
       "      <th>3</th>\n",
       "      <td>1977 Colfer-chan STEEN SKYBOLT</td>\n",
       "      <td>1.0</td>\n",
       "      <td>1.0</td>\n",
       "    </tr>\n",
       "    <tr>\n",
       "      <th>4</th>\n",
       "      <td>1st Ftr Gp FOCKE-WULF 190</td>\n",
       "      <td>1.0</td>\n",
       "      <td>1.0</td>\n",
       "    </tr>\n",
       "    <tr>\n",
       "      <th>...</th>\n",
       "      <td>...</td>\n",
       "      <td>...</td>\n",
       "      <td>...</td>\n",
       "    </tr>\n",
       "    <tr>\n",
       "      <th>20737</th>\n",
       "      <td>de Havilland DHC-2 MK I</td>\n",
       "      <td>1.0</td>\n",
       "      <td>2.0</td>\n",
       "    </tr>\n",
       "    <tr>\n",
       "      <th>20738</th>\n",
       "      <td>de Havilland DHC-3</td>\n",
       "      <td>1.0</td>\n",
       "      <td>0.0</td>\n",
       "    </tr>\n",
       "    <tr>\n",
       "      <th>20739</th>\n",
       "      <td>de Havilland DHC-6-200</td>\n",
       "      <td>2.0</td>\n",
       "      <td>0.0</td>\n",
       "    </tr>\n",
       "    <tr>\n",
       "      <th>20740</th>\n",
       "      <td>de Havilland DHC-8-202</td>\n",
       "      <td>2.0</td>\n",
       "      <td>0.0</td>\n",
       "    </tr>\n",
       "    <tr>\n",
       "      <th>20741</th>\n",
       "      <td>unknown kit</td>\n",
       "      <td>1.0</td>\n",
       "      <td>0.0</td>\n",
       "    </tr>\n",
       "  </tbody>\n",
       "</table>\n",
       "<p>20742 rows × 3 columns</p>\n",
       "</div>"
      ],
      "text/plain": [
       "                                       Make&Model  Number.of.Engines  \\\n",
       "0      107.5 Flying Corporation One Design DR 107                1.0   \n",
       "1                                       1200 G103                0.0   \n",
       "2                        177MF LLC PITTS MODEL 12                1.0   \n",
       "3                  1977 Colfer-chan STEEN SKYBOLT                1.0   \n",
       "4                       1st Ftr Gp FOCKE-WULF 190                1.0   \n",
       "...                                           ...                ...   \n",
       "20737                     de Havilland DHC-2 MK I                1.0   \n",
       "20738                          de Havilland DHC-3                1.0   \n",
       "20739                      de Havilland DHC-6-200                2.0   \n",
       "20740                      de Havilland DHC-8-202                2.0   \n",
       "20741                                 unknown kit                1.0   \n",
       "\n",
       "       Total.Fatal.Injuries  \n",
       "0                       1.0  \n",
       "1                       0.0  \n",
       "2                       0.0  \n",
       "3                       1.0  \n",
       "4                       1.0  \n",
       "...                     ...  \n",
       "20737                   2.0  \n",
       "20738                   0.0  \n",
       "20739                   0.0  \n",
       "20740                   0.0  \n",
       "20741                   0.0  \n",
       "\n",
       "[20742 rows x 3 columns]"
      ]
     },
     "execution_count": 53,
     "metadata": {},
     "output_type": "execute_result"
    }
   ],
   "source": [
    "# Group dataframe by make&model and number of engines, then calculate the mean number of fatalities for each. \n",
    "avg_fatalities = df.groupby(['Make&Model', 'Number.of.Engines'])['Total.Fatal.Injuries'].mean()\n",
    "# Reset index to change object back to a dataframe\n",
    "avg_fatalities = avg_fatalities.reset_index()\n",
    "avg_fatalities"
   ]
  },
  {
   "cell_type": "markdown",
   "metadata": {},
   "source": [
    "This piece of code calculates the mean total of injuries per incident for each aircraft."
   ]
  },
  {
   "cell_type": "code",
   "execution_count": 54,
   "metadata": {},
   "outputs": [
    {
     "data": {
      "text/html": [
       "<div>\n",
       "<style scoped>\n",
       "    .dataframe tbody tr th:only-of-type {\n",
       "        vertical-align: middle;\n",
       "    }\n",
       "\n",
       "    .dataframe tbody tr th {\n",
       "        vertical-align: top;\n",
       "    }\n",
       "\n",
       "    .dataframe thead th {\n",
       "        text-align: right;\n",
       "    }\n",
       "</style>\n",
       "<table border=\"1\" class=\"dataframe\">\n",
       "  <thead>\n",
       "    <tr style=\"text-align: right;\">\n",
       "      <th></th>\n",
       "      <th>Make&amp;Model</th>\n",
       "      <th>Number.of.Engines</th>\n",
       "      <th>Total.Injuries</th>\n",
       "    </tr>\n",
       "  </thead>\n",
       "  <tbody>\n",
       "    <tr>\n",
       "      <th>0</th>\n",
       "      <td>107.5 Flying Corporation One Design DR 107</td>\n",
       "      <td>1.0</td>\n",
       "      <td>1.0</td>\n",
       "    </tr>\n",
       "    <tr>\n",
       "      <th>1</th>\n",
       "      <td>1200 G103</td>\n",
       "      <td>0.0</td>\n",
       "      <td>1.0</td>\n",
       "    </tr>\n",
       "    <tr>\n",
       "      <th>2</th>\n",
       "      <td>177MF LLC PITTS MODEL 12</td>\n",
       "      <td>1.0</td>\n",
       "      <td>2.0</td>\n",
       "    </tr>\n",
       "    <tr>\n",
       "      <th>3</th>\n",
       "      <td>1977 Colfer-chan STEEN SKYBOLT</td>\n",
       "      <td>1.0</td>\n",
       "      <td>2.0</td>\n",
       "    </tr>\n",
       "    <tr>\n",
       "      <th>4</th>\n",
       "      <td>1st Ftr Gp FOCKE-WULF 190</td>\n",
       "      <td>1.0</td>\n",
       "      <td>1.0</td>\n",
       "    </tr>\n",
       "    <tr>\n",
       "      <th>...</th>\n",
       "      <td>...</td>\n",
       "      <td>...</td>\n",
       "      <td>...</td>\n",
       "    </tr>\n",
       "    <tr>\n",
       "      <th>20737</th>\n",
       "      <td>de Havilland DHC-2 MK I</td>\n",
       "      <td>1.0</td>\n",
       "      <td>5.0</td>\n",
       "    </tr>\n",
       "    <tr>\n",
       "      <th>20738</th>\n",
       "      <td>de Havilland DHC-3</td>\n",
       "      <td>1.0</td>\n",
       "      <td>0.0</td>\n",
       "    </tr>\n",
       "    <tr>\n",
       "      <th>20739</th>\n",
       "      <td>de Havilland DHC-6-200</td>\n",
       "      <td>2.0</td>\n",
       "      <td>0.0</td>\n",
       "    </tr>\n",
       "    <tr>\n",
       "      <th>20740</th>\n",
       "      <td>de Havilland DHC-8-202</td>\n",
       "      <td>2.0</td>\n",
       "      <td>2.0</td>\n",
       "    </tr>\n",
       "    <tr>\n",
       "      <th>20741</th>\n",
       "      <td>unknown kit</td>\n",
       "      <td>1.0</td>\n",
       "      <td>1.0</td>\n",
       "    </tr>\n",
       "  </tbody>\n",
       "</table>\n",
       "<p>20742 rows × 3 columns</p>\n",
       "</div>"
      ],
      "text/plain": [
       "                                       Make&Model  Number.of.Engines  \\\n",
       "0      107.5 Flying Corporation One Design DR 107                1.0   \n",
       "1                                       1200 G103                0.0   \n",
       "2                        177MF LLC PITTS MODEL 12                1.0   \n",
       "3                  1977 Colfer-chan STEEN SKYBOLT                1.0   \n",
       "4                       1st Ftr Gp FOCKE-WULF 190                1.0   \n",
       "...                                           ...                ...   \n",
       "20737                     de Havilland DHC-2 MK I                1.0   \n",
       "20738                          de Havilland DHC-3                1.0   \n",
       "20739                      de Havilland DHC-6-200                2.0   \n",
       "20740                      de Havilland DHC-8-202                2.0   \n",
       "20741                                 unknown kit                1.0   \n",
       "\n",
       "       Total.Injuries  \n",
       "0                 1.0  \n",
       "1                 1.0  \n",
       "2                 2.0  \n",
       "3                 2.0  \n",
       "4                 1.0  \n",
       "...               ...  \n",
       "20737             5.0  \n",
       "20738             0.0  \n",
       "20739             0.0  \n",
       "20740             2.0  \n",
       "20741             1.0  \n",
       "\n",
       "[20742 rows x 3 columns]"
      ]
     },
     "execution_count": 54,
     "metadata": {},
     "output_type": "execute_result"
    }
   ],
   "source": [
    "# Exact same code as above, but for serious injuries instead of fatal injuries\n",
    "avg_total_injuries = df.groupby(['Make&Model', 'Number.of.Engines'])['Total.Injuries'].mean()\n",
    "avg_total_injuries = avg_total_injuries.reset_index()\n",
    "avg_total_injuries"
   ]
  },
  {
   "cell_type": "markdown",
   "metadata": {},
   "source": [
    "This piece of code cacluates the total number of incidents each aircraft has been in."
   ]
  },
  {
   "cell_type": "code",
   "execution_count": 55,
   "metadata": {
    "scrolled": false
   },
   "outputs": [
    {
     "data": {
      "text/html": [
       "<div>\n",
       "<style scoped>\n",
       "    .dataframe tbody tr th:only-of-type {\n",
       "        vertical-align: middle;\n",
       "    }\n",
       "\n",
       "    .dataframe tbody tr th {\n",
       "        vertical-align: top;\n",
       "    }\n",
       "\n",
       "    .dataframe thead th {\n",
       "        text-align: right;\n",
       "    }\n",
       "</style>\n",
       "<table border=\"1\" class=\"dataframe\">\n",
       "  <thead>\n",
       "    <tr style=\"text-align: right;\">\n",
       "      <th></th>\n",
       "      <th>Make&amp;Model</th>\n",
       "      <th>Number.of.Engines</th>\n",
       "      <th>0</th>\n",
       "    </tr>\n",
       "  </thead>\n",
       "  <tbody>\n",
       "    <tr>\n",
       "      <th>0</th>\n",
       "      <td>107.5 Flying Corporation One Design DR 107</td>\n",
       "      <td>1.0</td>\n",
       "      <td>1</td>\n",
       "    </tr>\n",
       "    <tr>\n",
       "      <th>1</th>\n",
       "      <td>1200 G103</td>\n",
       "      <td>0.0</td>\n",
       "      <td>1</td>\n",
       "    </tr>\n",
       "    <tr>\n",
       "      <th>2</th>\n",
       "      <td>177MF LLC PITTS MODEL 12</td>\n",
       "      <td>1.0</td>\n",
       "      <td>1</td>\n",
       "    </tr>\n",
       "    <tr>\n",
       "      <th>3</th>\n",
       "      <td>1977 Colfer-chan STEEN SKYBOLT</td>\n",
       "      <td>1.0</td>\n",
       "      <td>1</td>\n",
       "    </tr>\n",
       "    <tr>\n",
       "      <th>4</th>\n",
       "      <td>1st Ftr Gp FOCKE-WULF 190</td>\n",
       "      <td>1.0</td>\n",
       "      <td>1</td>\n",
       "    </tr>\n",
       "    <tr>\n",
       "      <th>...</th>\n",
       "      <td>...</td>\n",
       "      <td>...</td>\n",
       "      <td>...</td>\n",
       "    </tr>\n",
       "    <tr>\n",
       "      <th>20737</th>\n",
       "      <td>de Havilland DHC-2 MK I</td>\n",
       "      <td>1.0</td>\n",
       "      <td>1</td>\n",
       "    </tr>\n",
       "    <tr>\n",
       "      <th>20738</th>\n",
       "      <td>de Havilland DHC-3</td>\n",
       "      <td>1.0</td>\n",
       "      <td>1</td>\n",
       "    </tr>\n",
       "    <tr>\n",
       "      <th>20739</th>\n",
       "      <td>de Havilland DHC-6-200</td>\n",
       "      <td>2.0</td>\n",
       "      <td>1</td>\n",
       "    </tr>\n",
       "    <tr>\n",
       "      <th>20740</th>\n",
       "      <td>de Havilland DHC-8-202</td>\n",
       "      <td>2.0</td>\n",
       "      <td>1</td>\n",
       "    </tr>\n",
       "    <tr>\n",
       "      <th>20741</th>\n",
       "      <td>unknown kit</td>\n",
       "      <td>1.0</td>\n",
       "      <td>1</td>\n",
       "    </tr>\n",
       "  </tbody>\n",
       "</table>\n",
       "<p>20742 rows × 3 columns</p>\n",
       "</div>"
      ],
      "text/plain": [
       "                                       Make&Model  Number.of.Engines  0\n",
       "0      107.5 Flying Corporation One Design DR 107                1.0  1\n",
       "1                                       1200 G103                0.0  1\n",
       "2                        177MF LLC PITTS MODEL 12                1.0  1\n",
       "3                  1977 Colfer-chan STEEN SKYBOLT                1.0  1\n",
       "4                       1st Ftr Gp FOCKE-WULF 190                1.0  1\n",
       "...                                           ...                ... ..\n",
       "20737                     de Havilland DHC-2 MK I                1.0  1\n",
       "20738                          de Havilland DHC-3                1.0  1\n",
       "20739                      de Havilland DHC-6-200                2.0  1\n",
       "20740                      de Havilland DHC-8-202                2.0  1\n",
       "20741                                 unknown kit                1.0  1\n",
       "\n",
       "[20742 rows x 3 columns]"
      ]
     },
     "execution_count": 55,
     "metadata": {},
     "output_type": "execute_result"
    }
   ],
   "source": [
    "# Find the total number of incidents for each make/model and group with the same structure.\n",
    "total_incidents = df.groupby(['Make&Model', 'Number.of.Engines']).size()\n",
    "# return object to df format\n",
    "total_incidents = total_incidents.reset_index()\n",
    "total_incidents"
   ]
  },
  {
   "cell_type": "markdown",
   "metadata": {},
   "source": [
    "Now that we have created the statistics we need to make the first recommendation, it's time to put them all together in a new dataframe and determine which planes have the most favorable statistics."
   ]
  },
  {
   "cell_type": "code",
   "execution_count": 56,
   "metadata": {
    "scrolled": false
   },
   "outputs": [
    {
     "data": {
      "text/html": [
       "<div>\n",
       "<style scoped>\n",
       "    .dataframe tbody tr th:only-of-type {\n",
       "        vertical-align: middle;\n",
       "    }\n",
       "\n",
       "    .dataframe tbody tr th {\n",
       "        vertical-align: top;\n",
       "    }\n",
       "\n",
       "    .dataframe thead th {\n",
       "        text-align: right;\n",
       "    }\n",
       "</style>\n",
       "<table border=\"1\" class=\"dataframe\">\n",
       "  <thead>\n",
       "    <tr style=\"text-align: right;\">\n",
       "      <th></th>\n",
       "      <th>Make&amp;Model</th>\n",
       "      <th>Number.of.Engines</th>\n",
       "      <th>Total.Fatal.Injuries</th>\n",
       "      <th>Fatal.Ratio</th>\n",
       "      <th>Total.Incidents</th>\n",
       "      <th>Total.Injuries</th>\n",
       "    </tr>\n",
       "  </thead>\n",
       "  <tbody>\n",
       "    <tr>\n",
       "      <th>6253</th>\n",
       "      <td>Cessna 310B</td>\n",
       "      <td>2.0</td>\n",
       "      <td>0.000000</td>\n",
       "      <td>0.000000</td>\n",
       "      <td>11</td>\n",
       "      <td>0.000000</td>\n",
       "    </tr>\n",
       "    <tr>\n",
       "      <th>18400</th>\n",
       "      <td>Short Brothers SD3-60</td>\n",
       "      <td>2.0</td>\n",
       "      <td>0.000000</td>\n",
       "      <td>0.000000</td>\n",
       "      <td>10</td>\n",
       "      <td>0.000000</td>\n",
       "    </tr>\n",
       "    <tr>\n",
       "      <th>4046</th>\n",
       "      <td>Boeing 727-100</td>\n",
       "      <td>3.0</td>\n",
       "      <td>0.000000</td>\n",
       "      <td>0.000000</td>\n",
       "      <td>11</td>\n",
       "      <td>0.181818</td>\n",
       "    </tr>\n",
       "    <tr>\n",
       "      <th>2578</th>\n",
       "      <td>BOMBARDIER INC CL-600-2B19</td>\n",
       "      <td>2.0</td>\n",
       "      <td>0.000000</td>\n",
       "      <td>0.000000</td>\n",
       "      <td>15</td>\n",
       "      <td>0.333333</td>\n",
       "    </tr>\n",
       "    <tr>\n",
       "      <th>2479</th>\n",
       "      <td>BOEING 777</td>\n",
       "      <td>2.0</td>\n",
       "      <td>0.000000</td>\n",
       "      <td>0.000000</td>\n",
       "      <td>11</td>\n",
       "      <td>0.363636</td>\n",
       "    </tr>\n",
       "    <tr>\n",
       "      <th>4266</th>\n",
       "      <td>Boeing 757</td>\n",
       "      <td>2.0</td>\n",
       "      <td>0.000000</td>\n",
       "      <td>0.000000</td>\n",
       "      <td>12</td>\n",
       "      <td>0.416667</td>\n",
       "    </tr>\n",
       "    <tr>\n",
       "      <th>6397</th>\n",
       "      <td>Cessna 650</td>\n",
       "      <td>2.0</td>\n",
       "      <td>0.000000</td>\n",
       "      <td>0.000000</td>\n",
       "      <td>11</td>\n",
       "      <td>0.454545</td>\n",
       "    </tr>\n",
       "    <tr>\n",
       "      <th>5250</th>\n",
       "      <td>CESSNA 402C</td>\n",
       "      <td>2.0</td>\n",
       "      <td>0.000000</td>\n",
       "      <td>0.000000</td>\n",
       "      <td>15</td>\n",
       "      <td>0.466667</td>\n",
       "    </tr>\n",
       "    <tr>\n",
       "      <th>17872</th>\n",
       "      <td>Saab-scania Ab (saab) 340B</td>\n",
       "      <td>2.0</td>\n",
       "      <td>0.000000</td>\n",
       "      <td>0.000000</td>\n",
       "      <td>13</td>\n",
       "      <td>0.692308</td>\n",
       "    </tr>\n",
       "    <tr>\n",
       "      <th>13538</th>\n",
       "      <td>Mcdonnell Douglas MD-83</td>\n",
       "      <td>2.0</td>\n",
       "      <td>0.000000</td>\n",
       "      <td>0.000000</td>\n",
       "      <td>11</td>\n",
       "      <td>0.727273</td>\n",
       "    </tr>\n",
       "    <tr>\n",
       "      <th>2395</th>\n",
       "      <td>BOEING 737-7H4</td>\n",
       "      <td>2.0</td>\n",
       "      <td>0.000000</td>\n",
       "      <td>0.000000</td>\n",
       "      <td>12</td>\n",
       "      <td>0.833333</td>\n",
       "    </tr>\n",
       "    <tr>\n",
       "      <th>4196</th>\n",
       "      <td>Boeing 747</td>\n",
       "      <td>4.0</td>\n",
       "      <td>0.000000</td>\n",
       "      <td>0.000000</td>\n",
       "      <td>11</td>\n",
       "      <td>0.909091</td>\n",
       "    </tr>\n",
       "    <tr>\n",
       "      <th>8233</th>\n",
       "      <td>EMBRAER EMB-145LR</td>\n",
       "      <td>2.0</td>\n",
       "      <td>0.000000</td>\n",
       "      <td>0.000000</td>\n",
       "      <td>14</td>\n",
       "      <td>1.142857</td>\n",
       "    </tr>\n",
       "    <tr>\n",
       "      <th>4065</th>\n",
       "      <td>Boeing 727-223</td>\n",
       "      <td>3.0</td>\n",
       "      <td>0.000000</td>\n",
       "      <td>0.000000</td>\n",
       "      <td>16</td>\n",
       "      <td>2.125000</td>\n",
       "    </tr>\n",
       "    <tr>\n",
       "      <th>2452</th>\n",
       "      <td>BOEING 767</td>\n",
       "      <td>2.0</td>\n",
       "      <td>0.000000</td>\n",
       "      <td>0.000000</td>\n",
       "      <td>19</td>\n",
       "      <td>2.526316</td>\n",
       "    </tr>\n",
       "    <tr>\n",
       "      <th>13533</th>\n",
       "      <td>Mcdonnell Douglas MD-80</td>\n",
       "      <td>2.0</td>\n",
       "      <td>0.000000</td>\n",
       "      <td>0.000000</td>\n",
       "      <td>14</td>\n",
       "      <td>3.857143</td>\n",
       "    </tr>\n",
       "    <tr>\n",
       "      <th>4054</th>\n",
       "      <td>Boeing 727-200</td>\n",
       "      <td>3.0</td>\n",
       "      <td>0.028571</td>\n",
       "      <td>0.000816</td>\n",
       "      <td>35</td>\n",
       "      <td>1.714286</td>\n",
       "    </tr>\n",
       "    <tr>\n",
       "      <th>4113</th>\n",
       "      <td>Boeing 737</td>\n",
       "      <td>2.0</td>\n",
       "      <td>0.032258</td>\n",
       "      <td>0.001041</td>\n",
       "      <td>31</td>\n",
       "      <td>0.741935</td>\n",
       "    </tr>\n",
       "    <tr>\n",
       "      <th>15500</th>\n",
       "      <td>Piper PA-23-250</td>\n",
       "      <td>2.0</td>\n",
       "      <td>0.773234</td>\n",
       "      <td>0.002874</td>\n",
       "      <td>269</td>\n",
       "      <td>1.263941</td>\n",
       "    </tr>\n",
       "    <tr>\n",
       "      <th>4278</th>\n",
       "      <td>Boeing 757-232</td>\n",
       "      <td>2.0</td>\n",
       "      <td>0.055556</td>\n",
       "      <td>0.003086</td>\n",
       "      <td>18</td>\n",
       "      <td>2.500000</td>\n",
       "    </tr>\n",
       "  </tbody>\n",
       "</table>\n",
       "</div>"
      ],
      "text/plain": [
       "                       Make&Model  Number.of.Engines  Total.Fatal.Injuries  \\\n",
       "6253                  Cessna 310B                2.0              0.000000   \n",
       "18400       Short Brothers SD3-60                2.0              0.000000   \n",
       "4046               Boeing 727-100                3.0              0.000000   \n",
       "2578   BOMBARDIER INC CL-600-2B19                2.0              0.000000   \n",
       "2479                   BOEING 777                2.0              0.000000   \n",
       "4266                   Boeing 757                2.0              0.000000   \n",
       "6397                   Cessna 650                2.0              0.000000   \n",
       "5250                  CESSNA 402C                2.0              0.000000   \n",
       "17872  Saab-scania Ab (saab) 340B                2.0              0.000000   \n",
       "13538     Mcdonnell Douglas MD-83                2.0              0.000000   \n",
       "2395               BOEING 737-7H4                2.0              0.000000   \n",
       "4196                   Boeing 747                4.0              0.000000   \n",
       "8233            EMBRAER EMB-145LR                2.0              0.000000   \n",
       "4065               Boeing 727-223                3.0              0.000000   \n",
       "2452                   BOEING 767                2.0              0.000000   \n",
       "13533     Mcdonnell Douglas MD-80                2.0              0.000000   \n",
       "4054               Boeing 727-200                3.0              0.028571   \n",
       "4113                   Boeing 737                2.0              0.032258   \n",
       "15500             Piper PA-23-250                2.0              0.773234   \n",
       "4278               Boeing 757-232                2.0              0.055556   \n",
       "\n",
       "       Fatal.Ratio  Total.Incidents  Total.Injuries  \n",
       "6253      0.000000               11        0.000000  \n",
       "18400     0.000000               10        0.000000  \n",
       "4046      0.000000               11        0.181818  \n",
       "2578      0.000000               15        0.333333  \n",
       "2479      0.000000               11        0.363636  \n",
       "4266      0.000000               12        0.416667  \n",
       "6397      0.000000               11        0.454545  \n",
       "5250      0.000000               15        0.466667  \n",
       "17872     0.000000               13        0.692308  \n",
       "13538     0.000000               11        0.727273  \n",
       "2395      0.000000               12        0.833333  \n",
       "4196      0.000000               11        0.909091  \n",
       "8233      0.000000               14        1.142857  \n",
       "4065      0.000000               16        2.125000  \n",
       "2452      0.000000               19        2.526316  \n",
       "13533     0.000000               14        3.857143  \n",
       "4054      0.000816               35        1.714286  \n",
       "4113      0.001041               31        0.741935  \n",
       "15500     0.002874              269        1.263941  \n",
       "4278      0.003086               18        2.500000  "
      ]
     },
     "execution_count": 56,
     "metadata": {},
     "output_type": "execute_result"
    }
   ],
   "source": [
    "# Create a new column in one of the dataframes that is the ratio of avg fatal injuries per crash to the total number of incidents\n",
    "# for each make and model.\n",
    "avg_fatalities['Fatal.Ratio'] = avg_fatalities['Total.Fatal.Injuries']/total_incidents[0]\n",
    "\n",
    "# Add the total number of incidents from the other DF to this one as a new column\n",
    "avg_fatalities['Total.Incidents'] = total_incidents[0]\n",
    "\n",
    "# Exclude all records of aircraft with less than two engines\n",
    "avg_fatalities = avg_fatalities[avg_fatalities['Number.of.Engines'] >= 2]\n",
    "\n",
    "# Move the lowest and most favorable ratios to the top of the list so it is easier to grab them\n",
    "avg_fatalities = avg_fatalities.sort_values(by='Fatal.Ratio')\n",
    "\n",
    "# Exclude every make and model combination that has less than 10 total records\n",
    "avg_fatalities = avg_fatalities[avg_fatalities['Total.Incidents'] >= 10]\n",
    "\n",
    "avg_fatalities['Total.Injuries'] = avg_total_injuries['Total.Injuries']\n",
    "\n",
    "# Display the top 20 aircraft that meet all of these criteria \n",
    "\n",
    "avg_fatalities = avg_fatalities.sort_values(by=['Fatal.Ratio', 'Total.Injuries']).head(20)\n",
    "avg_fatalities"
   ]
  },
  {
   "cell_type": "markdown",
   "metadata": {},
   "source": [
    "Great! We've cut out the irrelevant records to this analysis and re-organized them according to which ones are the safest to be in during a crash. As you can see, the safest planes in this dataset do not have any fatalities on record, so we can assume the safest plane will probably have a fatal ratio of 0.0, so we can narrow our frame of attention and decide based on the number of total injuries. Now, let's make a visualization of this result!"
   ]
  },
  {
   "cell_type": "code",
   "execution_count": 57,
   "metadata": {},
   "outputs": [],
   "source": [
    "avg_fatalities.drop(labels=['Number.of.Engines', 'Total.Incidents'], axis=1, inplace=True)"
   ]
  },
  {
   "cell_type": "code",
   "execution_count": 58,
   "metadata": {},
   "outputs": [
    {
     "data": {
      "image/png": "[encoded data removed]",
      "text/plain": [
       "<Figure size 1080x720 with 1 Axes>"
      ]
     },
     "metadata": {
      "needs_background": "light"
     },
     "output_type": "display_data"
    }
   ],
   "source": [
    "ax = avg_fatalities.plot.barh(y=['Total.Fatal.Injuries', 'Total.Injuries'], figsize=(15,10), xlabel='Make and Model', ylabel='Quantity')\n",
    "ax.set_yticklabels(avg_fatalities['Make&Model'])\n",
    "ax.set_xlabel('Quantity')\n",
    "ax.set_title('Average Fatal and Total injuries for Large Commercial Airliners')\n",
    "ax.legend(labels=['Avg. Fatal Injuries', 'Avg. Total Injuries']);"
   ]
  },
  {
   "cell_type": "markdown",
   "metadata": {},
   "source": [
    "This graph shows a comparison of average total injuries per incident vs average fatal injuries per incident for the top 20 aircraft with the lowest values for each. The Cessna 310B has snuck in as the statistically safest aircraft, but it does not fulfill the business needs of the shareholders and will be excluded. My statistical analysis has determined that the top 5 overall safest commercial aircraft are:\n",
    "\n",
    "1.De Havilland DHC-8-102\n",
    "\n",
    "2.BOMBARDIER INC CL-600-2B19\n",
    "\n",
    "3.BOEING 777\n",
    "\n",
    "4.Boeing 727-100\n",
    "\n",
    "5.CESSNA 402C\n",
    "\n",
    "These are all excellent choices for investment due to their fatality-free safety record and low average numbers of injury during a crash. This implies that these planes have effective safety features that keep passengers protected in the event of a safety incident."
   ]
  },
  {
   "cell_type": "markdown",
   "metadata": {},
   "source": [
    "### 2. Performance during poor weather conditions\n",
    "\n",
    "For the next two analyses, I will focus in on those top 5 safest planes in an attempt to determine which one is the overall safest by considering other factors. First, I will focus on their performance in poor weather conditions. The outcome of this analysis will show us the efficacy of the instrumental systems of these aircraft. If you are flying in poor conditions, the last thing you want to be dealing with as a pilot are failing instruments."
   ]
  },
  {
   "cell_type": "code",
   "execution_count": 59,
   "metadata": {},
   "outputs": [
    {
     "data": {
      "text/html": [
       "<div>\n",
       "<style scoped>\n",
       "    .dataframe tbody tr th:only-of-type {\n",
       "        vertical-align: middle;\n",
       "    }\n",
       "\n",
       "    .dataframe tbody tr th {\n",
       "        vertical-align: top;\n",
       "    }\n",
       "\n",
       "    .dataframe thead th {\n",
       "        text-align: right;\n",
       "    }\n",
       "</style>\n",
       "<table border=\"1\" class=\"dataframe\">\n",
       "  <thead>\n",
       "    <tr style=\"text-align: right;\">\n",
       "      <th></th>\n",
       "      <th>Event.Id</th>\n",
       "      <th>Event.Date</th>\n",
       "      <th>Injury.Severity</th>\n",
       "      <th>Aircraft.damage</th>\n",
       "      <th>Make</th>\n",
       "      <th>Model</th>\n",
       "      <th>Number.of.Engines</th>\n",
       "      <th>Engine.Type</th>\n",
       "      <th>Total.Fatal.Injuries</th>\n",
       "      <th>Total.Serious.Injuries</th>\n",
       "      <th>Total.Minor.Injuries</th>\n",
       "      <th>Total.Uninjured</th>\n",
       "      <th>Weather.Condition</th>\n",
       "      <th>Total.Passengers</th>\n",
       "      <th>Total.Injuries</th>\n",
       "      <th>Make&amp;Model</th>\n",
       "      <th>Fatality.Ratio</th>\n",
       "    </tr>\n",
       "  </thead>\n",
       "  <tbody>\n",
       "    <tr>\n",
       "      <th>28547</th>\n",
       "      <td>20001212X17430</td>\n",
       "      <td>1991-07-16</td>\n",
       "      <td>Non-Fatal</td>\n",
       "      <td>Minor</td>\n",
       "      <td>De Havilland</td>\n",
       "      <td>DHC-8-102</td>\n",
       "      <td>2.0</td>\n",
       "      <td>Turbo Prop</td>\n",
       "      <td>0.0</td>\n",
       "      <td>0.0</td>\n",
       "      <td>0.0</td>\n",
       "      <td>5.0</td>\n",
       "      <td>VMC</td>\n",
       "      <td>5.0</td>\n",
       "      <td>0.0</td>\n",
       "      <td>De Havilland DHC-8-102</td>\n",
       "      <td>0.0</td>\n",
       "    </tr>\n",
       "    <tr>\n",
       "      <th>29720</th>\n",
       "      <td>20001211X13942</td>\n",
       "      <td>1992-01-12</td>\n",
       "      <td>Non-Fatal</td>\n",
       "      <td>Minor</td>\n",
       "      <td>De Havilland</td>\n",
       "      <td>DHC-8-102</td>\n",
       "      <td>2.0</td>\n",
       "      <td>Turbo Prop</td>\n",
       "      <td>0.0</td>\n",
       "      <td>0.0</td>\n",
       "      <td>0.0</td>\n",
       "      <td>33.0</td>\n",
       "      <td>VMC</td>\n",
       "      <td>33.0</td>\n",
       "      <td>0.0</td>\n",
       "      <td>De Havilland DHC-8-102</td>\n",
       "      <td>0.0</td>\n",
       "    </tr>\n",
       "    <tr>\n",
       "      <th>32057</th>\n",
       "      <td>20001211X11664</td>\n",
       "      <td>1993-01-08</td>\n",
       "      <td>Non-Fatal</td>\n",
       "      <td>Substantial</td>\n",
       "      <td>De Havilland</td>\n",
       "      <td>DHC-8-102</td>\n",
       "      <td>2.0</td>\n",
       "      <td>Turbo Prop</td>\n",
       "      <td>0.0</td>\n",
       "      <td>0.0</td>\n",
       "      <td>0.0</td>\n",
       "      <td>9.0</td>\n",
       "      <td>VMC</td>\n",
       "      <td>9.0</td>\n",
       "      <td>0.0</td>\n",
       "      <td>De Havilland DHC-8-102</td>\n",
       "      <td>0.0</td>\n",
       "    </tr>\n",
       "    <tr>\n",
       "      <th>32404</th>\n",
       "      <td>20001211X12029</td>\n",
       "      <td>1993-03-23</td>\n",
       "      <td>Non-Fatal</td>\n",
       "      <td>Substantial</td>\n",
       "      <td>De Havilland</td>\n",
       "      <td>DHC-8-102</td>\n",
       "      <td>2.0</td>\n",
       "      <td>Turbo Prop</td>\n",
       "      <td>0.0</td>\n",
       "      <td>1.0</td>\n",
       "      <td>0.0</td>\n",
       "      <td>21.0</td>\n",
       "      <td>VMC</td>\n",
       "      <td>22.0</td>\n",
       "      <td>1.0</td>\n",
       "      <td>De Havilland DHC-8-102</td>\n",
       "      <td>0.0</td>\n",
       "    </tr>\n",
       "    <tr>\n",
       "      <th>37018</th>\n",
       "      <td>20001207X03251</td>\n",
       "      <td>1995-04-03</td>\n",
       "      <td>Non-Fatal</td>\n",
       "      <td>Destroyed</td>\n",
       "      <td>De Havilland</td>\n",
       "      <td>DHC-8-102</td>\n",
       "      <td>2.0</td>\n",
       "      <td>Turbo Prop</td>\n",
       "      <td>0.0</td>\n",
       "      <td>0.0</td>\n",
       "      <td>0.0</td>\n",
       "      <td>20.0</td>\n",
       "      <td>VMC</td>\n",
       "      <td>20.0</td>\n",
       "      <td>0.0</td>\n",
       "      <td>De Havilland DHC-8-102</td>\n",
       "      <td>0.0</td>\n",
       "    </tr>\n",
       "    <tr>\n",
       "      <th>...</th>\n",
       "      <td>...</td>\n",
       "      <td>...</td>\n",
       "      <td>...</td>\n",
       "      <td>...</td>\n",
       "      <td>...</td>\n",
       "      <td>...</td>\n",
       "      <td>...</td>\n",
       "      <td>...</td>\n",
       "      <td>...</td>\n",
       "      <td>...</td>\n",
       "      <td>...</td>\n",
       "      <td>...</td>\n",
       "      <td>...</td>\n",
       "      <td>...</td>\n",
       "      <td>...</td>\n",
       "      <td>...</td>\n",
       "      <td>...</td>\n",
       "    </tr>\n",
       "    <tr>\n",
       "      <th>76638</th>\n",
       "      <td>20150210X74239</td>\n",
       "      <td>2015-02-10</td>\n",
       "      <td>Non-Fatal</td>\n",
       "      <td>Substantial</td>\n",
       "      <td>CESSNA</td>\n",
       "      <td>402C</td>\n",
       "      <td>2.0</td>\n",
       "      <td>Reciprocating</td>\n",
       "      <td>0.0</td>\n",
       "      <td>0.0</td>\n",
       "      <td>0.0</td>\n",
       "      <td>7.0</td>\n",
       "      <td>VMC</td>\n",
       "      <td>7.0</td>\n",
       "      <td>0.0</td>\n",
       "      <td>CESSNA 402C</td>\n",
       "      <td>0.0</td>\n",
       "    </tr>\n",
       "    <tr>\n",
       "      <th>80046</th>\n",
       "      <td>20170222X25255</td>\n",
       "      <td>2017-02-11</td>\n",
       "      <td>Non-Fatal</td>\n",
       "      <td>Substantial</td>\n",
       "      <td>CESSNA</td>\n",
       "      <td>402C</td>\n",
       "      <td>2.0</td>\n",
       "      <td>Reciprocating</td>\n",
       "      <td>0.0</td>\n",
       "      <td>0.0</td>\n",
       "      <td>0.0</td>\n",
       "      <td>9.0</td>\n",
       "      <td>VMC</td>\n",
       "      <td>9.0</td>\n",
       "      <td>0.0</td>\n",
       "      <td>CESSNA 402C</td>\n",
       "      <td>0.0</td>\n",
       "    </tr>\n",
       "    <tr>\n",
       "      <th>87313</th>\n",
       "      <td>20210430103002</td>\n",
       "      <td>2021-04-22</td>\n",
       "      <td>Non-Fatal</td>\n",
       "      <td>Substantial</td>\n",
       "      <td>CESSNA</td>\n",
       "      <td>402C</td>\n",
       "      <td>2.0</td>\n",
       "      <td>Reciprocating</td>\n",
       "      <td>0.0</td>\n",
       "      <td>0.0</td>\n",
       "      <td>0.0</td>\n",
       "      <td>1.0</td>\n",
       "      <td>VMC</td>\n",
       "      <td>1.0</td>\n",
       "      <td>0.0</td>\n",
       "      <td>CESSNA 402C</td>\n",
       "      <td>0.0</td>\n",
       "    </tr>\n",
       "    <tr>\n",
       "      <th>87337</th>\n",
       "      <td>20210430103000</td>\n",
       "      <td>2021-04-26</td>\n",
       "      <td>Non-Fatal</td>\n",
       "      <td>Substantial</td>\n",
       "      <td>CESSNA</td>\n",
       "      <td>402C</td>\n",
       "      <td>2.0</td>\n",
       "      <td>Reciprocating</td>\n",
       "      <td>0.0</td>\n",
       "      <td>0.0</td>\n",
       "      <td>0.0</td>\n",
       "      <td>2.0</td>\n",
       "      <td>VMC</td>\n",
       "      <td>2.0</td>\n",
       "      <td>0.0</td>\n",
       "      <td>CESSNA 402C</td>\n",
       "      <td>0.0</td>\n",
       "    </tr>\n",
       "    <tr>\n",
       "      <th>88118</th>\n",
       "      <td>20210909103831</td>\n",
       "      <td>2021-09-09</td>\n",
       "      <td>Non-Fatal</td>\n",
       "      <td>Substantial</td>\n",
       "      <td>CESSNA</td>\n",
       "      <td>402C</td>\n",
       "      <td>2.0</td>\n",
       "      <td>Reciprocating</td>\n",
       "      <td>0.0</td>\n",
       "      <td>0.0</td>\n",
       "      <td>7.0</td>\n",
       "      <td>0.0</td>\n",
       "      <td>IMC</td>\n",
       "      <td>7.0</td>\n",
       "      <td>7.0</td>\n",
       "      <td>CESSNA 402C</td>\n",
       "      <td>0.0</td>\n",
       "    </tr>\n",
       "  </tbody>\n",
       "</table>\n",
       "<p>96 rows × 17 columns</p>\n",
       "</div>"
      ],
      "text/plain": [
       "             Event.Id  Event.Date Injury.Severity Aircraft.damage  \\\n",
       "28547  20001212X17430  1991-07-16       Non-Fatal           Minor   \n",
       "29720  20001211X13942  1992-01-12       Non-Fatal           Minor   \n",
       "32057  20001211X11664  1993-01-08       Non-Fatal     Substantial   \n",
       "32404  20001211X12029  1993-03-23       Non-Fatal     Substantial   \n",
       "37018  20001207X03251  1995-04-03       Non-Fatal       Destroyed   \n",
       "...               ...         ...             ...             ...   \n",
       "76638  20150210X74239  2015-02-10       Non-Fatal     Substantial   \n",
       "80046  20170222X25255  2017-02-11       Non-Fatal     Substantial   \n",
       "87313  20210430103002  2021-04-22       Non-Fatal     Substantial   \n",
       "87337  20210430103000  2021-04-26       Non-Fatal     Substantial   \n",
       "88118  20210909103831  2021-09-09       Non-Fatal     Substantial   \n",
       "\n",
       "               Make      Model  Number.of.Engines    Engine.Type  \\\n",
       "28547  De Havilland  DHC-8-102                2.0     Turbo Prop   \n",
       "29720  De Havilland  DHC-8-102                2.0     Turbo Prop   \n",
       "32057  De Havilland  DHC-8-102                2.0     Turbo Prop   \n",
       "32404  De Havilland  DHC-8-102                2.0     Turbo Prop   \n",
       "37018  De Havilland  DHC-8-102                2.0     Turbo Prop   \n",
       "...             ...        ...                ...            ...   \n",
       "76638        CESSNA       402C                2.0  Reciprocating   \n",
       "80046        CESSNA       402C                2.0  Reciprocating   \n",
       "87313        CESSNA       402C                2.0  Reciprocating   \n",
       "87337        CESSNA       402C                2.0  Reciprocating   \n",
       "88118        CESSNA       402C                2.0  Reciprocating   \n",
       "\n",
       "       Total.Fatal.Injuries  Total.Serious.Injuries  Total.Minor.Injuries  \\\n",
       "28547                   0.0                     0.0                   0.0   \n",
       "29720                   0.0                     0.0                   0.0   \n",
       "32057                   0.0                     0.0                   0.0   \n",
       "32404                   0.0                     1.0                   0.0   \n",
       "37018                   0.0                     0.0                   0.0   \n",
       "...                     ...                     ...                   ...   \n",
       "76638                   0.0                     0.0                   0.0   \n",
       "80046                   0.0                     0.0                   0.0   \n",
       "87313                   0.0                     0.0                   0.0   \n",
       "87337                   0.0                     0.0                   0.0   \n",
       "88118                   0.0                     0.0                   7.0   \n",
       "\n",
       "       Total.Uninjured Weather.Condition  Total.Passengers  Total.Injuries  \\\n",
       "28547              5.0               VMC               5.0             0.0   \n",
       "29720             33.0               VMC              33.0             0.0   \n",
       "32057              9.0               VMC               9.0             0.0   \n",
       "32404             21.0               VMC              22.0             1.0   \n",
       "37018             20.0               VMC              20.0             0.0   \n",
       "...                ...               ...               ...             ...   \n",
       "76638              7.0               VMC               7.0             0.0   \n",
       "80046              9.0               VMC               9.0             0.0   \n",
       "87313              1.0               VMC               1.0             0.0   \n",
       "87337              2.0               VMC               2.0             0.0   \n",
       "88118              0.0               IMC               7.0             7.0   \n",
       "\n",
       "                   Make&Model  Fatality.Ratio  \n",
       "28547  De Havilland DHC-8-102             0.0  \n",
       "29720  De Havilland DHC-8-102             0.0  \n",
       "32057  De Havilland DHC-8-102             0.0  \n",
       "32404  De Havilland DHC-8-102             0.0  \n",
       "37018  De Havilland DHC-8-102             0.0  \n",
       "...                       ...             ...  \n",
       "76638             CESSNA 402C             0.0  \n",
       "80046             CESSNA 402C             0.0  \n",
       "87313             CESSNA 402C             0.0  \n",
       "87337             CESSNA 402C             0.0  \n",
       "88118             CESSNA 402C             0.0  \n",
       "\n",
       "[96 rows x 17 columns]"
      ]
     },
     "execution_count": 59,
     "metadata": {},
     "output_type": "execute_result"
    }
   ],
   "source": [
    "# This is absolutely cursed but I couldn't come up with another way of doing this. I want to only keep the rows that belong to\n",
    "# one of my top 5 make and models, while keeping everything else the same.\n",
    "num1 = df.loc[(df['Make&Model'] == 'De Havilland DHC-8-102')]\n",
    "num2 = df.loc[(df['Make&Model'] == 'BOMBARDIER INC CL-600-2B19')]\n",
    "num3 = df.loc[(df['Make&Model'] == 'BOEING 777')]\n",
    "num4 = df.loc[(df['Make&Model'] == 'Boeing 727-100')]\n",
    "num5 = df.loc[(df['Make&Model'] == 'CESSNA 402C')]\n",
    "\n",
    "top5 = num1.append([num2, num3, num4, num5])\n",
    "top5"
   ]
  },
  {
   "cell_type": "code",
   "execution_count": 60,
   "metadata": {
    "scrolled": true
   },
   "outputs": [
    {
     "data": {
      "text/html": [
       "<div>\n",
       "<style scoped>\n",
       "    .dataframe tbody tr th:only-of-type {\n",
       "        vertical-align: middle;\n",
       "    }\n",
       "\n",
       "    .dataframe tbody tr th {\n",
       "        vertical-align: top;\n",
       "    }\n",
       "\n",
       "    .dataframe thead th {\n",
       "        text-align: right;\n",
       "    }\n",
       "</style>\n",
       "<table border=\"1\" class=\"dataframe\">\n",
       "  <thead>\n",
       "    <tr style=\"text-align: right;\">\n",
       "      <th>Weather.Condition</th>\n",
       "      <th>IMC</th>\n",
       "      <th>VMC</th>\n",
       "    </tr>\n",
       "    <tr>\n",
       "      <th>Make&amp;Model</th>\n",
       "      <th></th>\n",
       "      <th></th>\n",
       "    </tr>\n",
       "  </thead>\n",
       "  <tbody>\n",
       "    <tr>\n",
       "      <th>BOEING 777</th>\n",
       "      <td>0.0</td>\n",
       "      <td>41.0</td>\n",
       "    </tr>\n",
       "    <tr>\n",
       "      <th>BOMBARDIER INC CL-600-2B19</th>\n",
       "      <td>2.0</td>\n",
       "      <td>3.0</td>\n",
       "    </tr>\n",
       "    <tr>\n",
       "      <th>Boeing 727-100</th>\n",
       "      <td>NaN</td>\n",
       "      <td>2.0</td>\n",
       "    </tr>\n",
       "    <tr>\n",
       "      <th>CESSNA 402C</th>\n",
       "      <td>7.0</td>\n",
       "      <td>5.0</td>\n",
       "    </tr>\n",
       "    <tr>\n",
       "      <th>De Havilland DHC-8-102</th>\n",
       "      <td>NaN</td>\n",
       "      <td>3.0</td>\n",
       "    </tr>\n",
       "  </tbody>\n",
       "</table>\n",
       "</div>"
      ],
      "text/plain": [
       "Weather.Condition           IMC   VMC\n",
       "Make&Model                           \n",
       "BOEING 777                  0.0  41.0\n",
       "BOMBARDIER INC CL-600-2B19  2.0   3.0\n",
       "Boeing 727-100              NaN   2.0\n",
       "CESSNA 402C                 7.0   5.0\n",
       "De Havilland DHC-8-102      NaN   3.0"
      ]
     },
     "execution_count": 60,
     "metadata": {},
     "output_type": "execute_result"
    }
   ],
   "source": [
    "# This code generates a grouped pivot which shows the sum total of injuries sustained under each weather condition. Higher values are worse.\n",
    "top5weather = top5.groupby(['Make&Model', 'Weather.Condition']).sum()\n",
    "top5weather = top5weather.reset_index()\n",
    "weatherpivot = top5weather.pivot(index='Make&Model', columns='Weather.Condition', values='Total.Injuries')\n",
    "weatherpivot"
   ]
  },
  {
   "cell_type": "markdown",
   "metadata": {},
   "source": [
    "Two of these makes and models have not had any safety incidents that resulted in injuries in instrumental meteorological conditions. This does not necessarily make them more safe, it just means I cannot make a ruling on them one way or the other. Let's visualize these results."
   ]
  },
  {
   "cell_type": "code",
   "execution_count": 61,
   "metadata": {
    "scrolled": false
   },
   "outputs": [
    {
     "data": {
      "image/png": "[encoded data removed]",
      "text/plain": [
       "<Figure size 720x720 with 1 Axes>"
      ]
     },
     "metadata": {
      "needs_background": "light"
     },
     "output_type": "display_data"
    }
   ],
   "source": [
    "# Create a grouped barplot of the pivot\n",
    "ax = weatherpivot.plot.barh(figsize = (10,10), color=['red', 'green'])\n",
    "ax.set_xlabel('Average Total Injuries')\n",
    "ax.set_title('Total Injuries in Manual vs Instrument Based Flight Conditions')\n",
    "ax.legend(labels=['Instrument Meteorological Conditions', 'Visual Meteorological Conditions']);"
   ]
  },
  {
   "cell_type": "markdown",
   "metadata": {},
   "source": [
    "From this graph, the Boeing 777 may immediately jump out as the worst option. However, it must be acknolwedged that it is one of the most widely used commericial airliners, and as a consequence naturally has a high number of total incidents. However, the ratio of injuries in good/bad weather conditions imply that most of the injuries in these incidents are due to human error - they happened when humans were controlling the plane. During poor weather conditions when the instruments are in control of the plane, injuries seem to be much less common. This implies that the Boeing 777 has excellent safety features and instruments.\n",
    "\n",
    "The Bombardier CL-600 is also a standout candidate in this analyis. It also seems to have instruments and safety features that lower the liklihood of being injured in the event of a safety incident. \n",
    "\n",
    "In conclusion, the Boeing 777 and Bombardier CL-600 perform the best in poor weather out of the top 5 least fatal aircraft."
   ]
  },
  {
   "cell_type": "markdown",
   "metadata": {},
   "source": [
    "### 3. Damage Sustained During Crashes\n",
    "\n",
    "In my final analysis, I will look at the totals of different categories of damage sustained by the aircraft in safety incidents and use this information to break the tie between the Boeing 777 and Bombardier CL-600. This analysis will allow us to determine which of the top 5 planes is least likely to be destroyed/need major repairs in the inevitabal event of a safety incident."
   ]
  },
  {
   "cell_type": "code",
   "execution_count": 62,
   "metadata": {
    "scrolled": true
   },
   "outputs": [
    {
     "data": {
      "text/html": [
       "<div>\n",
       "<style scoped>\n",
       "    .dataframe tbody tr th:only-of-type {\n",
       "        vertical-align: middle;\n",
       "    }\n",
       "\n",
       "    .dataframe tbody tr th {\n",
       "        vertical-align: top;\n",
       "    }\n",
       "\n",
       "    .dataframe thead th {\n",
       "        text-align: right;\n",
       "    }\n",
       "</style>\n",
       "<table border=\"1\" class=\"dataframe\">\n",
       "  <thead>\n",
       "    <tr style=\"text-align: right;\">\n",
       "      <th>Aircraft.damage</th>\n",
       "      <th>Destroyed</th>\n",
       "      <th>Minor</th>\n",
       "      <th>Substantial</th>\n",
       "    </tr>\n",
       "    <tr>\n",
       "      <th>Make&amp;Model</th>\n",
       "      <th></th>\n",
       "      <th></th>\n",
       "      <th></th>\n",
       "    </tr>\n",
       "  </thead>\n",
       "  <tbody>\n",
       "    <tr>\n",
       "      <th>BOEING 777</th>\n",
       "      <td>6</td>\n",
       "      <td>17</td>\n",
       "      <td>20</td>\n",
       "    </tr>\n",
       "    <tr>\n",
       "      <th>BOMBARDIER INC CL-600-2B19</th>\n",
       "      <td>1</td>\n",
       "      <td>6</td>\n",
       "      <td>9</td>\n",
       "    </tr>\n",
       "    <tr>\n",
       "      <th>Boeing 727-100</th>\n",
       "      <td>1</td>\n",
       "      <td>5</td>\n",
       "      <td>5</td>\n",
       "    </tr>\n",
       "    <tr>\n",
       "      <th>CESSNA 402C</th>\n",
       "      <td>1</td>\n",
       "      <td>5</td>\n",
       "      <td>10</td>\n",
       "    </tr>\n",
       "    <tr>\n",
       "      <th>De Havilland DHC-8-102</th>\n",
       "      <td>1</td>\n",
       "      <td>2</td>\n",
       "      <td>7</td>\n",
       "    </tr>\n",
       "  </tbody>\n",
       "</table>\n",
       "</div>"
      ],
      "text/plain": [
       "Aircraft.damage             Destroyed  Minor  Substantial\n",
       "Make&Model                                               \n",
       "BOEING 777                          6     17           20\n",
       "BOMBARDIER INC CL-600-2B19          1      6            9\n",
       "Boeing 727-100                      1      5            5\n",
       "CESSNA 402C                         1      5           10\n",
       "De Havilland DHC-8-102              1      2            7"
      ]
     },
     "execution_count": 62,
     "metadata": {},
     "output_type": "execute_result"
    }
   ],
   "source": [
    "# Create a new grouped pivot table that has a count of how many times each category of aircraft damage appears associated with each make and model.\n",
    "top5damage = top5.groupby(['Make&Model', 'Aircraft.damage']).size()\n",
    "top5damage = top5damage.reset_index()\n",
    "top5damage = top5damage.pivot(index='Make&Model', columns='Aircraft.damage', values=0)\n",
    "top5damage"
   ]
  },
  {
   "cell_type": "markdown",
   "metadata": {},
   "source": [
    "This looks great, we have a table that shows us the total of each category for each aircraft. Some aircraft have not ever had an incident where they were destroyed, which is interesting and useful to my analysis."
   ]
  },
  {
   "cell_type": "code",
   "execution_count": 63,
   "metadata": {
    "scrolled": false
   },
   "outputs": [
    {
     "data": {
      "image/png": "[encoded data removed]",
      "text/plain": [
       "<Figure size 720x720 with 1 Axes>"
      ]
     },
     "metadata": {
      "needs_background": "light"
     },
     "output_type": "display_data"
    }
   ],
   "source": [
    "ax = top5damage.plot.barh(figsize=(10,10))\n",
    "ax.set_xlabel('Number of Incidents')\n",
    "ax.set_ylabel('Make and Model')\n",
    "ax.set_title('Total Number of Incidents per Level of Damage Sustained by Aircraft');"
   ]
  },
  {
   "cell_type": "markdown",
   "metadata": {},
   "source": [
    "Looking at this chart, there are several considerations that must be made and several conclusions that can be drawn. \n",
    "\n",
    "The first thing we must do is to acknowledge that these are not averages; they are sum totals. Planes that are more common necessarily have more records, and have a higher chance of experiencing at least one destruction. Just because the Boeing 777 has had a large amount of crashes does not mean it is inherently unsafe. However, the proportion of complete destructions of the plane to total number of incidents is still quite high.\n",
    "\n",
    "According to this graph, it really looks like the 777 is not the best choice for an investor. The Bombardier CL-600 has a small number of incidents despite its long service life, and since it was introduced, it has never experienced an incident that was so severe the aircraft was destroyed. This aircraft continues to come out on top of my analysis, so I am confident in naming it as the best investment in a commercial aircraft from a safety standpoint. This plane is the least likely to be destroyed or need major repairs in the event of a major safety incident, meaning that it is likely to cost investors less money in the long run. "
   ]
  },
  {
   "cell_type": "markdown",
   "metadata": {},
   "source": [
    "## Conclusion"
   ]
  },
  {
   "cell_type": "markdown",
   "metadata": {},
   "source": [
    "In conclusion, my analysis has found that the Bombardier CL-600 has proven itself to be the most safe and reliable aircraft in this dataset, based on its long service life and few incidents. The data shows that its instruments are highly effective at controlling the aircraft in the event of inclimate weather, and it has never experienced a crash that completely destroyed the aircraft - something that cannot be said of the Boeing 777, which has had a similarly long service life. I am confident in recommending this aircraft to investors from a safety perspective, and believe that this analysis is not only a strong selling point for them; but also for their clientele. I believe that their best business model with this plane will be to charter private luxury flights for high-ranking business clients, who are likely to resonate with an advertising message about the safety of the planes."
   ]
  }
 ],
 "metadata": {
  "kernelspec": {
   "display_name": "Python 3",
   "language": "python",
   "name": "python3"
  },
  "language_info": {
   "codemirror_mode": {
    "name": "ipython",
    "version": 3
   },
   "file_extension": ".py",
   "mimetype": "text/x-python",
   "name": "python",
   "nbconvert_exporter": "python",
   "pygments_lexer": "ipython3",
   "version": "3.8.5"
  }
 },
 "nbformat": 4,
 "nbformat_minor": 5
}
